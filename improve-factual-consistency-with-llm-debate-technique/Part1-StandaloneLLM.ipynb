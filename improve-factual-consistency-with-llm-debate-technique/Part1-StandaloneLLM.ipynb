{
 "cells": [
  {
   "cell_type": "markdown",
   "id": "604ee77c-0e19-4a36-9f70-e8ab02cfaf54",
   "metadata": {},
   "source": [
    "<center><img src=\"images/MLU-NEW-logo.png\" alt=\"drawing\" width=\"400\" style=\"background-color:white; padding:1em;\" /></center> <br/>\n",
    "\n",
    "# <a name=\"0\">Improve Factual Consistency Part 1 </a>\n",
    "## <a name=\"0\">Improving Factual Consistency and Explainability using standalone LLM  </a>\n",
    "\n",
    "### Glossary of Terms\n",
    "- Naive Judge : This LLM has **no** access to transcript but only question and two summaries. Measure the baseline performance.\n",
    "- Expert Judge : This LLM has access to transcript along with question and two summaries\n",
    "- Question asked to LLM (in all experiments): It is always the same: `Which one of these summaries is the most factually consistent one?`\n",
    "\n",
    "## Dataset\n",
    "Our dataset is distilled from the Amazon Science evaluation benchmark dataset called <a href=\"https://github.com/amazon-science/tofueval\">TofuEval</a>. 10 summaries have been curated from the [MediaSum documents](https://github.com/zcgzcgzcg1/MediaSum) inside the tofueval dataset for this notebook. \n",
    "\n",
    "MediaSum is a large-scale media interview dataset contains 463.6K transcripts with abstractive summaries, collected from interview transcripts and overview / topic descriptions from NPR and CNN.\n",
    "\n",
    "## LLM Access\n",
    "\n",
    "We will need access to Anthropic Claude v3 Sonnet, Mistral 7b and  Mixtral 8x7b LLMs for this notebook.\n",
    "\n",
    "[Anthropic Claude v3(Sonnet)](https://www.anthropic.com/news/claude-3-family) , [Mixtral 8X7B](https://mistral.ai/news/mixtral-of-experts/), [Mistral 7B](https://mistral.ai/news/announcing-mistral-7b/) - all of them pre-trained on general text summarization tasks.\n",
    "\n",
    "## Notebook Overview\n",
    "\n",
    "In this notebook, we navigate the LLM debating technique with more persuasive LLMs having two expert debater LLMs (Claude and Mixtral) and one judge (using Claude - we can use others like Mistral/Mixtral, Titan Premier) to measure, compare and contrast its performance against other techniques like self-consistency (with naive and expert judges) and LLM consultancy. This notebook is an adapted and partial implementation of one of the ICML 2024 best papers, <a href=\"https://arxiv.org/pdf/2402.06782\"> Debating with More Persuasive LLMs Leads to More Truthful Answers </a> on a new and different Amazon Science evaluation dataset <a href=\"https://github.com/amazon-science/tofueval\">TofuEval</a>. \n",
    "\n",
    "\n",
    "- Part 1.  **[THIS notebook]** Demonstrate typical Standalone LLM approach\n",
    "\n",
    "- Part 2.  Demonstrate the LLM Consultancy approach and compare with Part 1.\n",
    "\n",
    "- Part 3.  Demonstrate the LLM Debate approach and compare with other methods.\n",
    "\n",
    "\n",
    "<div style=\"border: 4px solid coral; text-align: left; margin: auto; padding-left: 20px; padding-right: 20px\">\n",
    "    While this notebook(part 1, 2 and 3) compares various methods and demonstrates the efficacy of LLM Debates in notebook part 3 with a supervised dataset, the greater benefit is possible in unsupervised scenarios where ground truth is unknown and ground truth alignment and/or curation is required. Human annotation can be expensive plus slow and agreement amongst human annotators adds another level of intricacy. A possible `scalable oversight direction could be this LLM debating technique to align on the ground truth options` via this debating and critique mechanism by establishing factual consistency(veracity). This alignment and curation of ground truth for unsupervised data could be a possible win direction for the debating technique in terms of cost versus benefit analysis.\n",
    "</div>\n",
    "<br/>\n",
    "\n",
    "\n",
    "#### Notebook Kernel\n",
    "Please choose `conda_python3` as the kernel type of the top right corner of the notebook if that does not appear by default.\n",
    "\n",
    "#### LLMs used\n",
    "[Anthropic Claude v3(Sonnet)](https://www.anthropic.com/news/claude-3-family) , [Mixtral 8X7B](https://mistral.ai/news/mixtral-of-experts/), [Mistral 7B](https://mistral.ai/news/announcing-mistral-7b/) - all of them pre-trained on general text summarization tasks.\n",
    "\n",
    "## Use-Case Overview\n",
    "\n",
    "To demonstrate the measurement and improvement of factual consistency (veracity) with explainability in this notebook, we conduct a series of experiments to choose the best summary for each transcript. In each experiment, we measure the veracity and correctness of the summaries generated from transcripts and improve upon the decision to choose the correct one via methods like LLM consultancy and LLM debates.\n",
    "\n",
    "The <b>overall task in this notebook</b> is choose which one of the two summaries is most appropriate for a given transcript. There are a total of 10 transcripts and each transcript has 2 summaries - one correct and other incorrect. The incorrect summaries have various classes of errors like `Nuanced Meaning Shift`, `Extrinsic Information` and  `Reasoning errors`. \n",
    "\n",
    "In this notebook we will conduct the following set of experiment combinations to measure, compare and contrast LLM debating techniques with others.\n",
    "\n",
    "\n",
    "## Experiments\n",
    "For each of these experiments we flip the side of the argument the LLM takes to account for `position bias` and `verbosity bias` and re-run each experiment.\n",
    "\n",
    "**Note** We always use the same Judge LLM (Mistral 7B) across all the experiments in this notebook\n",
    "\n",
    "\n",
    "\n",
    "\n",
    "### Experiment 1: (Naive judge - this judge has no access to transcripts): \n",
    "<center><img src=\"images/veracitylab01-llm-naive-judge.png\" alt=\"In this image, we depict the flow of Naive LLM judge. First the naive judge LLM has NO access to transcripts just the question and two summaries to choose from\n",
    "as the more factually consistent. Next the naive judge makes a random guess\n",
    "which of the two summaries are more factually consistent for 3 rounds. Majority answer is chosen based on self-consistency technique.\"  height=\"700\" width=\"700\" style=\"background-color:white; padding:1em;\" /></center> <br/>\n",
    "\n",
    "Mistral as naive judge with no access to transcripts. This continues for N(=3 in this notebook) rounds to ensure self-consistency and assert the majority answer as correct. We use this to mark the baseline performance of these series of experiments.\n",
    "\n",
    "---\n",
    "\n",
    "### Experiment 2: (Expert judge: This LLM has access to transcripts): \n",
    "<center><img src=\"images/veracitylab01-llm-expert-judge.png\" alt=\"In this image, we depict the flow of LLM Expert Judge. First the expert Judge LLM has access to transcripts along with the question and two summaries to choose from\n",
    "as more factually consistent. Next the expert judge uses the transcript contents to decide which of the two summaries are more factually consistent for 3 rounds. Majority answer is chosen based on self-consistency technique\"  height=\"700\" width=\"700\" style=\"background-color:white; padding:1em;\" /></center> <br/>\n",
    "\n",
    "\n",
    "Mistral as expert judge with access to transcripts. This continues for N(=3 in this notebook) rounds.This continues for N(=3 in this notebook) rounds to ensure self-consistency and assert the majority answer as correct.\n",
    "\n",
    "---\n",
    "\n",
    "---\n",
    "## Evaluation Metrics\n",
    "For each type of experiment we evaluate the accuracy of the answers for that experiment/method type to compare and contrast each method at the end.\n",
    "\n",
    "For the final experiment on LLM Debate, we also calculate the `win rate` of the LLM debaters to evaluate which of the LLMs actually got most of the answers right as adjudicated by the judge. This can be considered a mechanism to choose one LLM over the other given this use-case.\n",
    "\n",
    "---\n",
    "\n",
    "\n",
    "This notebook notebook has the following sections:\n",
    "\n",
    "1. <a href=\"#1\">Dataset exploration</a>\n",
    "2. <a href=\"#2\">Naive Judge: no access to transcripts - Arguing for 1st summary</a>\n",
    "3. <a href=\"#3\">Naive Judge: no access to transcripts - Arguing for 2nd summary</a>\n",
    "4. <a href=\"#4\">Accuracy of Naive Judge</a>\n",
    "5. <a href=\"#5\">Expert Judge: access to transcripts - Arguing for 1st summary</a>\n",
    "6. <a href=\"#6\">Expert Judge: access to transcripts - Arguing for 2nd summary</a>\n",
    "7. <a href=\"#7\">Accuracy of Expert Judge</a>\n",
    "8. <a href=\"#16\">Challenge exercise and notebook quiz</a>\n",
    "    \n",
    "Please work top to bottom of this notebook and don't skip sections as this could lead to error messages due to missing code.\n",
    "\n",
    "---"
   ]
  },
  {
   "cell_type": "code",
   "execution_count": 1,
   "id": "2f889117-2f21-4fd1-9563-2dc23e984c6f",
   "metadata": {
    "tags": []
   },
   "outputs": [],
   "source": [
    "%%capture\n",
    "!pip3 install setuptools==70.0.0"
   ]
  },
  {
   "cell_type": "code",
   "execution_count": 2,
   "id": "3e2ad2f4-b720-48b9-bb5a-7b99bcafce8d",
   "metadata": {
    "tags": []
   },
   "outputs": [],
   "source": [
    "%%capture\n",
    "!pip install -q -U pip --root-user-action=ignore\n",
    "!pip3 install -q -r requirements.txt --root-user-action=ignore"
   ]
  },
  {
   "cell_type": "code",
   "execution_count": 3,
   "id": "7f8e6507-fc9a-4f1f-8535-7e2deb20a9a6",
   "metadata": {
    "tags": []
   },
   "outputs": [
    {
     "name": "stdout",
     "output_type": "stream",
     "text": [
      "The autoreload extension is already loaded. To reload it, use:\n",
      "  %reload_ext autoreload\n"
     ]
    }
   ],
   "source": [
    "# We load all prompts from a separate file prompts.py\n",
    "%load_ext autoreload\n",
    "%autoreload 2\n",
    "from prompts import *\n",
    "\n",
    "%load_ext autoreload\n",
    "%autoreload 2\n",
    "from mlu_utils.veracity_utils import *"
   ]
  },
  {
   "cell_type": "code",
   "execution_count": 4,
   "id": "f573ddc8-9290-484c-86f9-f16531648cac",
   "metadata": {
    "tags": []
   },
   "outputs": [
    {
     "name": "stdout",
     "output_type": "stream",
     "text": [
      "clear_file_contents dir :: <built-in function dir>\n"
     ]
    }
   ],
   "source": [
    "clean_up_files_in_dir(\"./transcripts\")\n",
    "clear_file_contents(\"./log_files/notebook_run_logs.log\")"
   ]
  },
  {
   "cell_type": "code",
   "execution_count": 5,
   "id": "a3c84b37-369c-405c-ac08-23be8dbb61a1",
   "metadata": {
    "tags": []
   },
   "outputs": [],
   "source": [
    "import boto3\n",
    "import re, time\n",
    "import random\n",
    "import numpy as np\n",
    "from collections import Counter\n",
    "import matplotlib.pyplot as plt\n",
    "%matplotlib inline\n",
    "\n",
    "from langchain.llms.bedrock import Bedrock\n",
    "from langchain.prompts import PromptTemplate\n",
    "from IPython.display import Markdown\n",
    "from collections import Counter\n",
    "\n",
    "from IPython.display import Markdown, display\n",
    "import logging\n",
    "import boto3, warnings\n",
    "import pandas as pd\n",
    "# Supress warnings\n",
    "warnings.filterwarnings(\"ignore\")\n",
    "logging.basicConfig(filename='log_files/notebook_run_logs.log', encoding='utf-8', level=logging.INFO)\n",
    "logger = logging.getLogger(__name__)\n",
    "logger.info(\"----- Test logging setup -----\")\n"
   ]
  },
  {
   "cell_type": "markdown",
   "id": "41df8234-935a-44de-a751-b8eb9e73df43",
   "metadata": {},
   "source": [
    "### Bedrock Model Access check"
   ]
  },
  {
   "cell_type": "code",
   "execution_count": 6,
   "id": "fdabd249-b40b-4910-b86d-633394e2b1e6",
   "metadata": {
    "tags": []
   },
   "outputs": [
    {
     "name": "stdout",
     "output_type": "stream",
     "text": [
      "Claude v3 sonnet looks good\n",
      "Mixtral 8X7B looks good\n",
      "Titan Express looks good\n",
      "Mistral 7B looks good\n",
      "All required model access look good\n"
     ]
    }
   ],
   "source": [
    "#test if all bedrock model access has been enabled \n",
    "test_llm_calls()"
   ]
  },
  {
   "cell_type": "markdown",
   "id": "8a9c14a1-7d5b-48dc-a4a0-5c5e0a205f57",
   "metadata": {},
   "source": [
    "### Constants used in this notebook"
   ]
  },
  {
   "cell_type": "code",
   "execution_count": 7,
   "id": "dcf134bf-7fbd-4c70-a84c-4b077f79f2a6",
   "metadata": {
    "tags": []
   },
   "outputs": [],
   "source": [
    "number_of_rounds = 3\n",
    "question = \"Which one of these summaries is the most factually consistent one?\"\n",
    "total_data_points = 10"
   ]
  },
  {
   "cell_type": "markdown",
   "id": "7829f829-7d19-420c-85ea-0e5c370304e0",
   "metadata": {
    "tags": []
   },
   "source": [
    "### <a name=\"1\">Dataset Exploration</a>\n",
    "(<a href=\"#0\">Go to top</a>)\n"
   ]
  },
  {
   "cell_type": "code",
   "execution_count": 8,
   "id": "b67d79c9-c30d-4daa-9d25-4dac7de60e2b",
   "metadata": {
    "tags": []
   },
   "outputs": [
    {
     "data": {
      "text/html": [
       "<div>\n",
       "<style scoped>\n",
       "    .dataframe tbody tr th:only-of-type {\n",
       "        vertical-align: middle;\n",
       "    }\n",
       "\n",
       "    .dataframe tbody tr th {\n",
       "        vertical-align: top;\n",
       "    }\n",
       "\n",
       "    .dataframe thead th {\n",
       "        text-align: right;\n",
       "    }\n",
       "</style>\n",
       "<table border=\"1\" class=\"dataframe\">\n",
       "  <thead>\n",
       "    <tr style=\"text-align: right;\">\n",
       "      <th></th>\n",
       "      <th>doc_id</th>\n",
       "      <th>topic</th>\n",
       "      <th>summ_sent_incorrect_original</th>\n",
       "      <th>summ_sent_correct_manual</th>\n",
       "      <th>exp</th>\n",
       "      <th>type</th>\n",
       "      <th>source</th>\n",
       "    </tr>\n",
       "  </thead>\n",
       "  <tbody>\n",
       "    <tr>\n",
       "      <th>0</th>\n",
       "      <td>CNN-104129</td>\n",
       "      <td>Decline of American automobile industry</td>\n",
       "      <td>GM lost $10B in 2005, continues losing market ...</td>\n",
       "      <td>GM lost $10.6B in 2005, continues losing marke...</td>\n",
       "      <td>It's not \"$10B\" but \"$10.6B\"</td>\n",
       "      <td>Nuanced Meaning Shift</td>\n",
       "      <td>DOBBS: General Motors today announced it will ...</td>\n",
       "    </tr>\n",
       "    <tr>\n",
       "      <th>1</th>\n",
       "      <td>CNN-138971</td>\n",
       "      <td>Diplomatic efforts</td>\n",
       "      <td>North Korea has announced plans to launch a sa...</td>\n",
       "      <td>Diplomatic efforts to secure the release of Am...</td>\n",
       "      <td>The launch of a satellite is not mentioned, bu...</td>\n",
       "      <td>Extrinsic Information</td>\n",
       "      <td>ROBERTS: Welcome back to the Most News in the ...</td>\n",
       "    </tr>\n",
       "    <tr>\n",
       "      <th>2</th>\n",
       "      <td>CNN-139946</td>\n",
       "      <td>Filibuster-Proof Majority</td>\n",
       "      <td>This filibuster-proof majority means Democrats...</td>\n",
       "      <td>Democrats gain 60 seats in Senate, giving them...</td>\n",
       "      <td>This is an unsupported statement</td>\n",
       "      <td>Extrinsic Information</td>\n",
       "      <td>ANNOUNCER: This is CNN breaking news.\\nMALVEAU...</td>\n",
       "    </tr>\n",
       "    <tr>\n",
       "      <th>3</th>\n",
       "      <td>CNN-145383</td>\n",
       "      <td>Educate to Innovate Campaign</td>\n",
       "      <td>The private sector has committed over $260 mil...</td>\n",
       "      <td>Over $260 million in private funding will supp...</td>\n",
       "      <td>The document does not state that \"reaching you...</td>\n",
       "      <td>Reasoning Error</td>\n",
       "      <td>HARRIS: And President Obama in the Eisenhower ...</td>\n",
       "    </tr>\n",
       "    <tr>\n",
       "      <th>4</th>\n",
       "      <td>CNN-164885</td>\n",
       "      <td>Cuban celebration and government gathering</td>\n",
       "      <td>170,000 Cubans have private businesses.</td>\n",
       "      <td>Cuba celebrated the 50th anniversary of their ...</td>\n",
       "      <td>The document says that 170,000 Cubans have app...</td>\n",
       "      <td>Nuanced Meaning Shift</td>\n",
       "      <td>FEYERICK: We'll get to Donald Trump's campaign...</td>\n",
       "    </tr>\n",
       "    <tr>\n",
       "      <th>5</th>\n",
       "      <td>CNN-173359</td>\n",
       "      <td>Dr. Conrad Murray's trial</td>\n",
       "      <td>Though Jackson was in good health, these sedat...</td>\n",
       "      <td>The use of multiple drugs together, including ...</td>\n",
       "      <td>The document suggests that these medications c...</td>\n",
       "      <td>Reasoning Error</td>\n",
       "      <td>LEMON: The trial of Dr. Conrad Murray gets und...</td>\n",
       "    </tr>\n",
       "    <tr>\n",
       "      <th>6</th>\n",
       "      <td>CNN-197627</td>\n",
       "      <td>Gun control debate</td>\n",
       "      <td>Connecticut police confirmed Adam Lanza fired ...</td>\n",
       "      <td>The document mentions that President Obama wil...</td>\n",
       "      <td>It's said that the shooter fired dozens of bul...</td>\n",
       "      <td>Reasoning Error</td>\n",
       "      <td>BLITZER: Connecticut state police confirm toda...</td>\n",
       "    </tr>\n",
       "    <tr>\n",
       "      <th>7</th>\n",
       "      <td>CNN-201245</td>\n",
       "      <td>Ban on Styrofoam in stores</td>\n",
       "      <td>What is the proposed ban on Styrofoam in stores?</td>\n",
       "      <td>New York City Mayor Michael Bloomberg is plann...</td>\n",
       "      <td>The sentence is a question.</td>\n",
       "      <td>Extrinsic Information</td>\n",
       "      <td>SAMBOLIN: Welcome back. Fifteen minutes past t...</td>\n",
       "    </tr>\n",
       "    <tr>\n",
       "      <th>8</th>\n",
       "      <td>CNN-229050</td>\n",
       "      <td>Medical condition of survivor</td>\n",
       "      <td>He is shocked that the recent 15-year-old stow...</td>\n",
       "      <td>The physician describes the phenomenon that sa...</td>\n",
       "      <td>There is no information in the document that t...</td>\n",
       "      <td>Extrinsic Information</td>\n",
       "      <td>MICHAELA PEREIRA, CNN ANCHOR: Welcome back to ...</td>\n",
       "    </tr>\n",
       "    <tr>\n",
       "      <th>9</th>\n",
       "      <td>CNN-239067</td>\n",
       "      <td>Currency uncertainty</td>\n",
       "      <td>Currency uncertainty would arise in the event ...</td>\n",
       "      <td>Currency uncertainty would be a major issue in...</td>\n",
       "      <td>Concerns about the length of time it would tak...</td>\n",
       "      <td>Extrinsic Information</td>\n",
       "      <td>BERMAN: Tensions building in Scotland this mor...</td>\n",
       "    </tr>\n",
       "  </tbody>\n",
       "</table>\n",
       "</div>"
      ],
      "text/plain": [
       "       doc_id                                       topic  \\\n",
       "0  CNN-104129     Decline of American automobile industry   \n",
       "1  CNN-138971                          Diplomatic efforts   \n",
       "2  CNN-139946                   Filibuster-Proof Majority   \n",
       "3  CNN-145383                Educate to Innovate Campaign   \n",
       "4  CNN-164885  Cuban celebration and government gathering   \n",
       "5  CNN-173359                   Dr. Conrad Murray's trial   \n",
       "6  CNN-197627                          Gun control debate   \n",
       "7  CNN-201245                  Ban on Styrofoam in stores   \n",
       "8  CNN-229050               Medical condition of survivor   \n",
       "9  CNN-239067                        Currency uncertainty   \n",
       "\n",
       "                        summ_sent_incorrect_original  \\\n",
       "0  GM lost $10B in 2005, continues losing market ...   \n",
       "1  North Korea has announced plans to launch a sa...   \n",
       "2  This filibuster-proof majority means Democrats...   \n",
       "3  The private sector has committed over $260 mil...   \n",
       "4            170,000 Cubans have private businesses.   \n",
       "5  Though Jackson was in good health, these sedat...   \n",
       "6  Connecticut police confirmed Adam Lanza fired ...   \n",
       "7   What is the proposed ban on Styrofoam in stores?   \n",
       "8  He is shocked that the recent 15-year-old stow...   \n",
       "9  Currency uncertainty would arise in the event ...   \n",
       "\n",
       "                            summ_sent_correct_manual  \\\n",
       "0  GM lost $10.6B in 2005, continues losing marke...   \n",
       "1  Diplomatic efforts to secure the release of Am...   \n",
       "2  Democrats gain 60 seats in Senate, giving them...   \n",
       "3  Over $260 million in private funding will supp...   \n",
       "4  Cuba celebrated the 50th anniversary of their ...   \n",
       "5  The use of multiple drugs together, including ...   \n",
       "6  The document mentions that President Obama wil...   \n",
       "7  New York City Mayor Michael Bloomberg is plann...   \n",
       "8  The physician describes the phenomenon that sa...   \n",
       "9  Currency uncertainty would be a major issue in...   \n",
       "\n",
       "                                                 exp                   type  \\\n",
       "0                       It's not \"$10B\" but \"$10.6B\"  Nuanced Meaning Shift   \n",
       "1  The launch of a satellite is not mentioned, bu...  Extrinsic Information   \n",
       "2                   This is an unsupported statement  Extrinsic Information   \n",
       "3  The document does not state that \"reaching you...        Reasoning Error   \n",
       "4  The document says that 170,000 Cubans have app...  Nuanced Meaning Shift   \n",
       "5  The document suggests that these medications c...        Reasoning Error   \n",
       "6  It's said that the shooter fired dozens of bul...        Reasoning Error   \n",
       "7                        The sentence is a question.  Extrinsic Information   \n",
       "8  There is no information in the document that t...  Extrinsic Information   \n",
       "9  Concerns about the length of time it would tak...  Extrinsic Information   \n",
       "\n",
       "                                              source  \n",
       "0  DOBBS: General Motors today announced it will ...  \n",
       "1  ROBERTS: Welcome back to the Most News in the ...  \n",
       "2  ANNOUNCER: This is CNN breaking news.\\nMALVEAU...  \n",
       "3  HARRIS: And President Obama in the Eisenhower ...  \n",
       "4  FEYERICK: We'll get to Donald Trump's campaign...  \n",
       "5  LEMON: The trial of Dr. Conrad Murray gets und...  \n",
       "6  BLITZER: Connecticut state police confirm toda...  \n",
       "7  SAMBOLIN: Welcome back. Fifteen minutes past t...  \n",
       "8  MICHAELA PEREIRA, CNN ANCHOR: Welcome back to ...  \n",
       "9  BERMAN: Tensions building in Scotland this mor...  "
      ]
     },
     "execution_count": 8,
     "metadata": {},
     "output_type": "execute_result"
    }
   ],
   "source": [
    "# pre-process the dataset\n",
    "answers_df = pd.read_csv(\"./tofueval_dataset/mediasum_dev_doc_id_group_final_dual_summaries_manual_final_dataset.csv\")\n",
    "#answers_df.head()\n",
    "interview_df = pd.read_csv(\"./tofueval_dataset/mediasum_dev_doc_complete_final.csv\")\n",
    "#interview_df.head()\n",
    "\n",
    "result = pd.merge(answers_df, interview_df, on=\"doc_id\")\n",
    "final_dataset = result[[\"doc_id\", \"topic\", \"summ_sent_incorrect_original\", \"summ_sent_correct_manual\", \"exp\", \"type\", \"source\"]]\n",
    "final_dataset"
   ]
  },
  {
   "cell_type": "markdown",
   "id": "47427f17-5e00-44ab-bef7-3d148a451090",
   "metadata": {},
   "source": [
    "### <a name=\"2\">Naive Judge: no access to transcripts - Arguing for 1st summary</a>\n",
    "(<a href=\"#0\">Go to top</a>)\n"
   ]
  },
  {
   "cell_type": "markdown",
   "id": "04cf3d27-3a30-406e-98c6-87b2be4c290a",
   "metadata": {},
   "source": [
    "Naive judge has no access to actual transcripts - it just has access to the question and the 2 summaries/answers. We use `self-consistency` technique to test this judge's answers for 3 rounds. It is possible the Naive Judge might be guessing randomly. We flip the answer options in the next set of experiment to determine the baseline performance of a naive judge accuracy."
   ]
  },
  {
   "cell_type": "code",
   "execution_count": 9,
   "id": "e9587731-8b77-4ac7-ae54-3b2fff5acf49",
   "metadata": {
    "tags": []
   },
   "outputs": [
    {
     "data": {
      "text/html": [
       "<table border=\"1\" class=\"dataframe\">\n",
       "  <thead>\n",
       "    <tr style=\"text-align: right;\">\n",
       "      <th></th>\n",
       "      <th>Debate ID</th>\n",
       "      <th>Round #</th>\n",
       "      <th>Task Question</th>\n",
       "      <th>Judge Response</th>\n",
       "    </tr>\n",
       "  </thead>\n",
       "  <tbody>\n",
       "    <tr>\n",
       "      <th>0</th>\n",
       "      <td>CNN-104129</td>\n",
       "      <td>1</td>\n",
       "      <td>Which one of these summaries is the most factually consistent one?<br> Answer A:GM lost \\$10.6B in 2005, continues losing market share.<br> Answer B:GM lost \\$10B in 2005, continues losing market share.</td>\n",
       "      <td>Reasoning: Both answers state that GM lost money in 2005 and continues to lose market share. The only difference is the exact amount of money lost, with Answer A stating \\$10.6B and Answer B stating \\$10B. The discrepancy in the amount lost is not significant enough to change the factual consistency of the summaries. Both summaries accurately reflect that GM lost a large amount of money and continued to lose market share in 2005.<br><br>Final Answer: Both A and B are factually consistent.<br><br>However, for the sake of choosing an answer, I will choose Answer A as my answer text since it is the one that more closely matches the information given in the question.<br><br>Answer text: Answer A: GM lost \\$10.6B in 2005, continues losing market share.</td>\n",
       "    </tr>\n",
       "  </tbody>\n",
       "</table>"
      ],
      "text/plain": [
       "<IPython.core.display.HTML object>"
      ]
     },
     "metadata": {},
     "output_type": "display_data"
    },
    {
     "data": {
      "text/html": [
       "<table border=\"1\" class=\"dataframe\">\n",
       "  <thead>\n",
       "    <tr style=\"text-align: right;\">\n",
       "      <th></th>\n",
       "      <th>Debate ID</th>\n",
       "      <th>Round #</th>\n",
       "      <th>Task Question</th>\n",
       "      <th>Judge Response</th>\n",
       "    </tr>\n",
       "  </thead>\n",
       "  <tbody>\n",
       "    <tr>\n",
       "      <th>0</th>\n",
       "      <td>CNN-104129</td>\n",
       "      <td>2</td>\n",
       "      <td>Which one of these summaries is the most factually consistent one?<br> Answer A:GM lost \\$10.6B in 2005, continues losing market share.<br> Answer B:GM lost \\$10B in 2005, continues losing market share.</td>\n",
       "      <td>Reasoning: Both answers state that GM lost money in 2005 and continues to lose market share. The only difference is the exact amount of money lost, with Answer A stating \\$10.6B and Answer B stating \\$10B. The discrepancy in the amount lost is not significant enough to change the factual consistency of the summaries. Both summaries accurately reflect that GM lost a large amount of money and continued to lose market share in 2005.<br><br>Final Answer: Both A and B are factually consistent.<br><br>However, for the sake of choosing an answer, I will choose Answer A as my answer text since it is the one that more closely matches the information given in the question.<br><br>Answer text: Answer A: GM lost \\$10.6B in 2005, continues losing market share.</td>\n",
       "    </tr>\n",
       "  </tbody>\n",
       "</table>"
      ],
      "text/plain": [
       "<IPython.core.display.HTML object>"
      ]
     },
     "metadata": {},
     "output_type": "display_data"
    },
    {
     "data": {
      "text/html": [
       "<table border=\"1\" class=\"dataframe\">\n",
       "  <thead>\n",
       "    <tr style=\"text-align: right;\">\n",
       "      <th></th>\n",
       "      <th>Debate ID</th>\n",
       "      <th>Round #</th>\n",
       "      <th>Task Question</th>\n",
       "      <th>Judge Response</th>\n",
       "    </tr>\n",
       "  </thead>\n",
       "  <tbody>\n",
       "    <tr>\n",
       "      <th>0</th>\n",
       "      <td>CNN-104129</td>\n",
       "      <td>3</td>\n",
       "      <td>Which one of these summaries is the most factually consistent one?<br> Answer A:GM lost \\$10.6B in 2005, continues losing market share.<br> Answer B:GM lost \\$10B in 2005, continues losing market share.</td>\n",
       "      <td>Reasoning: Both answers state that GM lost money in 2005 and continues to lose market share. The only difference is the exact amount of money lost, with Answer A stating \\$10.6B and Answer B stating \\$10B. The discrepancy in the amount lost is not significant enough to change the factual consistency of the summaries. Both summaries accurately reflect that GM lost a large amount of money and continued to lose market share in 2005.<br><br>Final Answer: Both A and B are factually consistent.<br><br>However, for the sake of choosing an answer, I will choose Answer A as my answer text since it is the one that more closely matches the information given in the question.<br><br>Answer text: Answer A: GM lost \\$10.6B in 2005, continues losing market share.</td>\n",
       "    </tr>\n",
       "  </tbody>\n",
       "</table>"
      ],
      "text/plain": [
       "<IPython.core.display.HTML object>"
      ]
     },
     "metadata": {},
     "output_type": "display_data"
    },
    {
     "name": "stdout",
     "output_type": "stream",
     "text": [
      "=========== END OF Naive Judge Round #3 for debate_id CNN-104129 ======= \n",
      "\n",
      "naive_judge_regular_answers :: [False]\n"
     ]
    },
    {
     "data": {
      "text/html": [
       "<table border=\"1\" class=\"dataframe\">\n",
       "  <thead>\n",
       "    <tr style=\"text-align: right;\">\n",
       "      <th></th>\n",
       "      <th>Debate ID</th>\n",
       "      <th>Round #</th>\n",
       "      <th>Task Question</th>\n",
       "      <th>Judge Response</th>\n",
       "    </tr>\n",
       "  </thead>\n",
       "  <tbody>\n",
       "    <tr>\n",
       "      <th>0</th>\n",
       "      <td>CNN-138971</td>\n",
       "      <td>1</td>\n",
       "      <td>Which one of these summaries is the most factually consistent one?<br> Answer A:Diplomatic efforts to secure the release of American journalists Laura Ling and Euna Lee, who are accused of spying in North Korea and face trial, are ongoing.<br> Answer B:North Korea has announced plans to launch a satellite into orbit, which the US sees as a cover for testing ballistic missile technology.</td>\n",
       "      <td>Reasoning:<br>Answer A is about diplomatic efforts regarding the release of American journalists in North Korea. It does not mention anything about a satellite launch or ballistic missile testing. Therefore, Answer A is more factually consistent with no conflicting information.<br><br>Final Answer: A.<br>Answer text: Answer A: Diplomatic efforts to secure the release of American journalists Laura Ling and Euna Lee, who are accused of spying in North Korea and face trial, are ongoing.</td>\n",
       "    </tr>\n",
       "  </tbody>\n",
       "</table>"
      ],
      "text/plain": [
       "<IPython.core.display.HTML object>"
      ]
     },
     "metadata": {},
     "output_type": "display_data"
    },
    {
     "data": {
      "text/html": [
       "<table border=\"1\" class=\"dataframe\">\n",
       "  <thead>\n",
       "    <tr style=\"text-align: right;\">\n",
       "      <th></th>\n",
       "      <th>Debate ID</th>\n",
       "      <th>Round #</th>\n",
       "      <th>Task Question</th>\n",
       "      <th>Judge Response</th>\n",
       "    </tr>\n",
       "  </thead>\n",
       "  <tbody>\n",
       "    <tr>\n",
       "      <th>0</th>\n",
       "      <td>CNN-138971</td>\n",
       "      <td>2</td>\n",
       "      <td>Which one of these summaries is the most factually consistent one?<br> Answer A:Diplomatic efforts to secure the release of American journalists Laura Ling and Euna Lee, who are accused of spying in North Korea and face trial, are ongoing.<br> Answer B:North Korea has announced plans to launch a satellite into orbit, which the US sees as a cover for testing ballistic missile technology.</td>\n",
       "      <td>Reasoning:<br>Answer A is about diplomatic efforts regarding the release of American journalists in North Korea. It does not mention anything about a satellite launch or ballistic missile testing. Therefore, Answer A is more factually consistent with no conflicting information.<br><br>Final Answer: A.<br>Answer text: Answer A: Diplomatic efforts to secure the release of American journalists Laura Ling and Euna Lee, who are accused of spying in North Korea and face trial, are ongoing.</td>\n",
       "    </tr>\n",
       "  </tbody>\n",
       "</table>"
      ],
      "text/plain": [
       "<IPython.core.display.HTML object>"
      ]
     },
     "metadata": {},
     "output_type": "display_data"
    },
    {
     "data": {
      "text/html": [
       "<table border=\"1\" class=\"dataframe\">\n",
       "  <thead>\n",
       "    <tr style=\"text-align: right;\">\n",
       "      <th></th>\n",
       "      <th>Debate ID</th>\n",
       "      <th>Round #</th>\n",
       "      <th>Task Question</th>\n",
       "      <th>Judge Response</th>\n",
       "    </tr>\n",
       "  </thead>\n",
       "  <tbody>\n",
       "    <tr>\n",
       "      <th>0</th>\n",
       "      <td>CNN-138971</td>\n",
       "      <td>3</td>\n",
       "      <td>Which one of these summaries is the most factually consistent one?<br> Answer A:Diplomatic efforts to secure the release of American journalists Laura Ling and Euna Lee, who are accused of spying in North Korea and face trial, are ongoing.<br> Answer B:North Korea has announced plans to launch a satellite into orbit, which the US sees as a cover for testing ballistic missile technology.</td>\n",
       "      <td>Reasoning:<br>Answer A is about diplomatic efforts regarding the release of American journalists in North Korea. It does not mention anything about a satellite launch or ballistic missile testing. Therefore, Answer A is more factually consistent with no conflicting information.<br><br>Final Answer: A.<br>Answer text: Answer A: Diplomatic efforts to secure the release of American journalists Laura Ling and Euna Lee, who are accused of spying in North Korea and face trial, are ongoing.</td>\n",
       "    </tr>\n",
       "  </tbody>\n",
       "</table>"
      ],
      "text/plain": [
       "<IPython.core.display.HTML object>"
      ]
     },
     "metadata": {},
     "output_type": "display_data"
    },
    {
     "name": "stdout",
     "output_type": "stream",
     "text": [
      "=========== END OF Naive Judge Round #3 for debate_id CNN-138971 ======= \n",
      "\n",
      "naive_judge_regular_answers :: [False, True]\n",
      "entering None scenario for final answer\n"
     ]
    },
    {
     "data": {
      "text/html": [
       "<table border=\"1\" class=\"dataframe\">\n",
       "  <thead>\n",
       "    <tr style=\"text-align: right;\">\n",
       "      <th></th>\n",
       "      <th>Debate ID</th>\n",
       "      <th>Round #</th>\n",
       "      <th>Task Question</th>\n",
       "      <th>Judge Response</th>\n",
       "    </tr>\n",
       "  </thead>\n",
       "  <tbody>\n",
       "    <tr>\n",
       "      <th>0</th>\n",
       "      <td>CNN-139946</td>\n",
       "      <td>1</td>\n",
       "      <td>Which one of these summaries is the most factually consistent one?<br> Answer A:Democrats gain 60 seats in Senate, giving them a filibuster-proof majority.<br> Answer B:This filibuster-proof majority means Democrats can pass legislation without Republican support.</td>\n",
       "      <td>Reasoning:<br>1. Answer A states that Democrats gain 60 seats in the Senate, which is a factual statement if it is true.<br>2. Answer B states a consequence of Democrats having a filibuster-proof majority, which is also a factual statement if it is true.<br>3. However, having a filibuster-proof majority does not necessarily mean that Democrats can gain 60 seats in the Senate. It means they have enough votes to pass legislation without Republican support, which can happen with 60 seats or more.<br>4. Therefore, Answer A is not necessarily factually consistent with Answer B, as Answer A only addresses the number of seats Democrats gained, while Answer B discusses the implications of that number of seats.<br><br>Final Answer: It is not possible to determine which answer is factually consistent based on the given information alone.</td>\n",
       "    </tr>\n",
       "  </tbody>\n",
       "</table>"
      ],
      "text/plain": [
       "<IPython.core.display.HTML object>"
      ]
     },
     "metadata": {},
     "output_type": "display_data"
    },
    {
     "name": "stdout",
     "output_type": "stream",
     "text": [
      "entering None scenario for final answer\n"
     ]
    },
    {
     "data": {
      "text/html": [
       "<table border=\"1\" class=\"dataframe\">\n",
       "  <thead>\n",
       "    <tr style=\"text-align: right;\">\n",
       "      <th></th>\n",
       "      <th>Debate ID</th>\n",
       "      <th>Round #</th>\n",
       "      <th>Task Question</th>\n",
       "      <th>Judge Response</th>\n",
       "    </tr>\n",
       "  </thead>\n",
       "  <tbody>\n",
       "    <tr>\n",
       "      <th>0</th>\n",
       "      <td>CNN-139946</td>\n",
       "      <td>2</td>\n",
       "      <td>Which one of these summaries is the most factually consistent one?<br> Answer A:Democrats gain 60 seats in Senate, giving them a filibuster-proof majority.<br> Answer B:This filibuster-proof majority means Democrats can pass legislation without Republican support.</td>\n",
       "      <td>Reasoning:<br>1. Answer A states that Democrats gain 60 seats in the Senate, which is a factual statement if it is true.<br>2. Answer B states a consequence of Democrats having a filibuster-proof majority, which is also a factual statement if it is true.<br>3. However, having a filibuster-proof majority does not necessarily mean that Democrats can gain 60 seats in the Senate. It means they have enough votes to pass legislation without Republican support, which can happen with 60 seats or more.<br>4. Therefore, Answer A is not necessarily factually consistent with Answer B, as Answer A only addresses the number of seats Democrats gained, while Answer B discusses the implications of that number of seats.<br><br>Final Answer: It is not possible to determine which answer is factually consistent based on the given information alone.</td>\n",
       "    </tr>\n",
       "  </tbody>\n",
       "</table>"
      ],
      "text/plain": [
       "<IPython.core.display.HTML object>"
      ]
     },
     "metadata": {},
     "output_type": "display_data"
    },
    {
     "data": {
      "text/html": [
       "<table border=\"1\" class=\"dataframe\">\n",
       "  <thead>\n",
       "    <tr style=\"text-align: right;\">\n",
       "      <th></th>\n",
       "      <th>Debate ID</th>\n",
       "      <th>Round #</th>\n",
       "      <th>Task Question</th>\n",
       "      <th>Judge Response</th>\n",
       "    </tr>\n",
       "  </thead>\n",
       "  <tbody>\n",
       "    <tr>\n",
       "      <th>0</th>\n",
       "      <td>CNN-139946</td>\n",
       "      <td>3</td>\n",
       "      <td>Which one of these summaries is the most factually consistent one?<br> Answer A:Democrats gain 60 seats in Senate, giving them a filibuster-proof majority.<br> Answer B:This filibuster-proof majority means Democrats can pass legislation without Republican support.</td>\n",
       "      <td>Reasoning:<br>1. Answer A states that Democrats gain 60 seats in the Senate, which is a factual statement if it is true.<br>2. Answer B states a consequence of Democrats having a filibuster-proof majority, which is also a factual statement if it is true.<br>3. However, having a filibuster-proof majority does not necessarily mean that Democrats can gain 60 seats in the Senate. It means they have enough votes to pass legislation without Republican support, which can happen with 60 seats or more.<br>4. Therefore, Answer A and Answer B are not mutually exclusive, but Answer A is not a necessary condition for Answer B to be true.<br><br>Final Answer: A is not the most factually consistent answer, but both A and B can be factually consistent if the conditions in both answers are met.<br><br>Therefore, I cannot definitively choose between A and B as the most factually consistent answer, but I can say that neither one is necessarily more factually consistent than the other. Both answers can be true if the conditions in both answers are met.</td>\n",
       "    </tr>\n",
       "  </tbody>\n",
       "</table>"
      ],
      "text/plain": [
       "<IPython.core.display.HTML object>"
      ]
     },
     "metadata": {},
     "output_type": "display_data"
    },
    {
     "name": "stdout",
     "output_type": "stream",
     "text": [
      "=========== END OF Naive Judge Round #3 for debate_id CNN-139946 ======= \n",
      "\n",
      "naive_judge_regular_answers :: [False, True, None]\n"
     ]
    },
    {
     "data": {
      "text/html": [
       "<table border=\"1\" class=\"dataframe\">\n",
       "  <thead>\n",
       "    <tr style=\"text-align: right;\">\n",
       "      <th></th>\n",
       "      <th>Debate ID</th>\n",
       "      <th>Round #</th>\n",
       "      <th>Task Question</th>\n",
       "      <th>Judge Response</th>\n",
       "    </tr>\n",
       "  </thead>\n",
       "  <tbody>\n",
       "    <tr>\n",
       "      <th>0</th>\n",
       "      <td>CNN-145383</td>\n",
       "      <td>1</td>\n",
       "      <td>Which one of these summaries is the most factually consistent one?<br> Answer A:Over \\$260 million in private funding will support programs to engage students, improve teacher effectiveness, and promote hands-on learning.<br> Answer B:The private sector has committed over \\$260 million to the campaign, and the initial focus is on reaching young students with interactive science content.</td>\n",
       "      <td>Reasoning: Both summaries mention the private sector committing over \\$260 million, but they differ in the focus of the funding. Summary A mentions engaging students, improving teacher effectiveness, and promoting hands-on learning, while Summary B mentions reaching young students with interactive science content. Since the summaries do not contradict each other, it's possible that both aspects are true and the funding could be used for multiple purposes. However, without more context, it's impossible to know for sure which summary is more factually consistent with the original text.<br><br>Given the uncertainty, I will choose Answer A as my answer since it provides a more comprehensive list of the intended uses of the funding.<br><br>Final Answer: A.<br><br>However, it's important to note that without access to the original text, this answer is based on the information provided in the summaries alone and may not be definitively correct.</td>\n",
       "    </tr>\n",
       "  </tbody>\n",
       "</table>"
      ],
      "text/plain": [
       "<IPython.core.display.HTML object>"
      ]
     },
     "metadata": {},
     "output_type": "display_data"
    },
    {
     "data": {
      "text/html": [
       "<table border=\"1\" class=\"dataframe\">\n",
       "  <thead>\n",
       "    <tr style=\"text-align: right;\">\n",
       "      <th></th>\n",
       "      <th>Debate ID</th>\n",
       "      <th>Round #</th>\n",
       "      <th>Task Question</th>\n",
       "      <th>Judge Response</th>\n",
       "    </tr>\n",
       "  </thead>\n",
       "  <tbody>\n",
       "    <tr>\n",
       "      <th>0</th>\n",
       "      <td>CNN-145383</td>\n",
       "      <td>2</td>\n",
       "      <td>Which one of these summaries is the most factually consistent one?<br> Answer A:Over \\$260 million in private funding will support programs to engage students, improve teacher effectiveness, and promote hands-on learning.<br> Answer B:The private sector has committed over \\$260 million to the campaign, and the initial focus is on reaching young students with interactive science content.</td>\n",
       "      <td>Reasoning: Both summaries mention the private sector committing over \\$260 million, but they differ in the focus of the funding. Summary A mentions engaging students, improving teacher effectiveness, and promoting hands-on learning, while Summary B mentions reaching young students with interactive science content. Since the summaries do not contradict each other, it's possible that both aspects are true and the funding could be used for multiple purposes. However, without more context, it's impossible to know for sure which summary is more factually consistent with the original text.<br><br>Given the uncertainty, I will choose Answer A as my answer since it provides a more comprehensive list of the intended uses of the funding.<br><br>Final Answer: A.<br><br>However, it's important to note that without access to the original text, this answer is based on the information provided in the summaries alone and may not be definitively correct.</td>\n",
       "    </tr>\n",
       "  </tbody>\n",
       "</table>"
      ],
      "text/plain": [
       "<IPython.core.display.HTML object>"
      ]
     },
     "metadata": {},
     "output_type": "display_data"
    },
    {
     "data": {
      "text/html": [
       "<table border=\"1\" class=\"dataframe\">\n",
       "  <thead>\n",
       "    <tr style=\"text-align: right;\">\n",
       "      <th></th>\n",
       "      <th>Debate ID</th>\n",
       "      <th>Round #</th>\n",
       "      <th>Task Question</th>\n",
       "      <th>Judge Response</th>\n",
       "    </tr>\n",
       "  </thead>\n",
       "  <tbody>\n",
       "    <tr>\n",
       "      <th>0</th>\n",
       "      <td>CNN-145383</td>\n",
       "      <td>3</td>\n",
       "      <td>Which one of these summaries is the most factually consistent one?<br> Answer A:Over \\$260 million in private funding will support programs to engage students, improve teacher effectiveness, and promote hands-on learning.<br> Answer B:The private sector has committed over \\$260 million to the campaign, and the initial focus is on reaching young students with interactive science content.</td>\n",
       "      <td>Reasoning: Both summaries mention the private sector committing over \\$260 million, but they differ in the focus of the funding. Summary A mentions engaging students, improving teacher effectiveness, and promoting hands-on learning, while Summary B mentions reaching young students with interactive science content. Since the summaries do not contradict each other, it's possible that both aspects are true and the funding could be used for multiple purposes. However, without more context, it's impossible to know for sure which summary is more factually consistent with the original text.<br><br>Given the uncertainty, I will choose Answer A as my answer since it provides a more comprehensive list of the intended uses of the funding.<br><br>Final Answer: A<br><br>However, it's important to note that without access to the original text, this answer is based on the information provided in the summaries alone and may not be definitively correct.</td>\n",
       "    </tr>\n",
       "  </tbody>\n",
       "</table>"
      ],
      "text/plain": [
       "<IPython.core.display.HTML object>"
      ]
     },
     "metadata": {},
     "output_type": "display_data"
    },
    {
     "name": "stdout",
     "output_type": "stream",
     "text": [
      "=========== END OF Naive Judge Round #3 for debate_id CNN-145383 ======= \n",
      "\n",
      "naive_judge_regular_answers :: [False, True, None, True]\n"
     ]
    },
    {
     "data": {
      "text/html": [
       "<table border=\"1\" class=\"dataframe\">\n",
       "  <thead>\n",
       "    <tr style=\"text-align: right;\">\n",
       "      <th></th>\n",
       "      <th>Debate ID</th>\n",
       "      <th>Round #</th>\n",
       "      <th>Task Question</th>\n",
       "      <th>Judge Response</th>\n",
       "    </tr>\n",
       "  </thead>\n",
       "  <tbody>\n",
       "    <tr>\n",
       "      <th>0</th>\n",
       "      <td>CNN-164885</td>\n",
       "      <td>1</td>\n",
       "      <td>Which one of these summaries is the most factually consistent one?<br> Answer A:Cuba celebrated the 50th anniversary of their victory over a US-backed invasion at the Bay of Pigs.<br> Answer B:170,000 Cubans have private businesses.</td>\n",
       "      <td>Reasoning:<br>Answer A is about an historical event that took place in Cuba, specifically the 50th anniversary of a US-backed invasion at the Bay of Pigs. This event is a well-documented fact in history.<br><br>Answer B, on the other hand, is about a current fact related to Cuba, stating that 170,000 Cubans have private businesses. While this number could be factually correct, it requires a more recent and specific source to confirm its accuracy.<br><br>Given that Answer A is about a historical fact that is well-documented and widely accepted, it is more likely to be factually consistent than Answer B, which is about a more recent fact that requires a more specific and recent source for confirmation.<br><br>Final Answer: A.</td>\n",
       "    </tr>\n",
       "  </tbody>\n",
       "</table>"
      ],
      "text/plain": [
       "<IPython.core.display.HTML object>"
      ]
     },
     "metadata": {},
     "output_type": "display_data"
    },
    {
     "data": {
      "text/html": [
       "<table border=\"1\" class=\"dataframe\">\n",
       "  <thead>\n",
       "    <tr style=\"text-align: right;\">\n",
       "      <th></th>\n",
       "      <th>Debate ID</th>\n",
       "      <th>Round #</th>\n",
       "      <th>Task Question</th>\n",
       "      <th>Judge Response</th>\n",
       "    </tr>\n",
       "  </thead>\n",
       "  <tbody>\n",
       "    <tr>\n",
       "      <th>0</th>\n",
       "      <td>CNN-164885</td>\n",
       "      <td>2</td>\n",
       "      <td>Which one of these summaries is the most factually consistent one?<br> Answer A:Cuba celebrated the 50th anniversary of their victory over a US-backed invasion at the Bay of Pigs.<br> Answer B:170,000 Cubans have private businesses.</td>\n",
       "      <td>Reasoning:<br>Answer A is about an historical event that took place in Cuba, specifically the 50th anniversary of a US-backed invasion at the Bay of Pigs. This event is a well-documented fact in history.<br><br>Answer B, on the other hand, is about the number of Cubans who have private businesses. While it's true that there are private businesses in Cuba, the exact number of 170,000 is not mentioned in any reliable sources that I have access to.<br><br>Based on the information available to me, Answer A is more factually consistent as it refers to a specific historical event that is well-documented.<br><br>Final Answer: A.</td>\n",
       "    </tr>\n",
       "  </tbody>\n",
       "</table>"
      ],
      "text/plain": [
       "<IPython.core.display.HTML object>"
      ]
     },
     "metadata": {},
     "output_type": "display_data"
    },
    {
     "data": {
      "text/html": [
       "<table border=\"1\" class=\"dataframe\">\n",
       "  <thead>\n",
       "    <tr style=\"text-align: right;\">\n",
       "      <th></th>\n",
       "      <th>Debate ID</th>\n",
       "      <th>Round #</th>\n",
       "      <th>Task Question</th>\n",
       "      <th>Judge Response</th>\n",
       "    </tr>\n",
       "  </thead>\n",
       "  <tbody>\n",
       "    <tr>\n",
       "      <th>0</th>\n",
       "      <td>CNN-164885</td>\n",
       "      <td>3</td>\n",
       "      <td>Which one of these summaries is the most factually consistent one?<br> Answer A:Cuba celebrated the 50th anniversary of their victory over a US-backed invasion at the Bay of Pigs.<br> Answer B:170,000 Cubans have private businesses.</td>\n",
       "      <td>Reasoning:<br>Answer A is about an historical event that took place in Cuba, specifically the 50th anniversary of a US-backed invasion at the Bay of Pigs. This event is a well-documented fact in history.<br><br>Answer B, on the other hand, is about a current fact related to Cuba, stating that 170,000 Cubans have private businesses. While this number could be factually correct, it requires a more recent and specific source to confirm its accuracy.<br><br>Given that Answer A is about a historical fact that is well-documented and widely accepted, it is more likely to be factually consistent than Answer B, which is about a more recent fact that requires a more specific and recent source for confirmation.<br><br>Final Answer: A.</td>\n",
       "    </tr>\n",
       "  </tbody>\n",
       "</table>"
      ],
      "text/plain": [
       "<IPython.core.display.HTML object>"
      ]
     },
     "metadata": {},
     "output_type": "display_data"
    },
    {
     "name": "stdout",
     "output_type": "stream",
     "text": [
      "=========== END OF Naive Judge Round #3 for debate_id CNN-164885 ======= \n",
      "\n",
      "naive_judge_regular_answers :: [False, True, None, True, True]\n",
      "entering None scenario for final answer\n"
     ]
    },
    {
     "data": {
      "text/html": [
       "<table border=\"1\" class=\"dataframe\">\n",
       "  <thead>\n",
       "    <tr style=\"text-align: right;\">\n",
       "      <th></th>\n",
       "      <th>Debate ID</th>\n",
       "      <th>Round #</th>\n",
       "      <th>Task Question</th>\n",
       "      <th>Judge Response</th>\n",
       "    </tr>\n",
       "  </thead>\n",
       "  <tbody>\n",
       "    <tr>\n",
       "      <th>0</th>\n",
       "      <td>CNN-173359</td>\n",
       "      <td>1</td>\n",
       "      <td>Which one of these summaries is the most factually consistent one?<br> Answer A:The use of multiple drugs together, including Propofol, is not recommended outside of a hospital setting.<br> Answer B:Though Jackson was in good health, these sedatives and anesthetics stopped his breathing and led to his death.</td>\n",
       "      <td>Reasoning:<br>1. Answer A is a general statement about the use of multiple drugs, including Propofol, outside of a hospital setting. It does not provide specific information about any particular individual or incident.<br>2. Answer B is a statement about an incident where Jackson's use of sedatives and anesthetics led to his death. It does not specify which drugs were used or whether they were used in combination.<br>3. Based on the information provided, it is not possible to determine which summary is factually consistent with the other. Both summaries contain general statements that could apply to many different situations.<br><br>Output:<br>I cannot determine which summary is factually consistent with the other based on the information provided.<br><br>Final Answer: Neither A nor B.</td>\n",
       "    </tr>\n",
       "  </tbody>\n",
       "</table>"
      ],
      "text/plain": [
       "<IPython.core.display.HTML object>"
      ]
     },
     "metadata": {},
     "output_type": "display_data"
    },
    {
     "name": "stdout",
     "output_type": "stream",
     "text": [
      "entering None scenario for final answer\n"
     ]
    },
    {
     "data": {
      "text/html": [
       "<table border=\"1\" class=\"dataframe\">\n",
       "  <thead>\n",
       "    <tr style=\"text-align: right;\">\n",
       "      <th></th>\n",
       "      <th>Debate ID</th>\n",
       "      <th>Round #</th>\n",
       "      <th>Task Question</th>\n",
       "      <th>Judge Response</th>\n",
       "    </tr>\n",
       "  </thead>\n",
       "  <tbody>\n",
       "    <tr>\n",
       "      <th>0</th>\n",
       "      <td>CNN-173359</td>\n",
       "      <td>2</td>\n",
       "      <td>Which one of these summaries is the most factually consistent one?<br> Answer A:The use of multiple drugs together, including Propofol, is not recommended outside of a hospital setting.<br> Answer B:Though Jackson was in good health, these sedatives and anesthetics stopped his breathing and led to his death.</td>\n",
       "      <td>Reasoning:<br>1. Answer A is a general statement about the use of multiple drugs, including Propofol, outside of a hospital setting. It does not provide specific information about any particular individual or incident.<br>2. Answer B is a statement about an incident where Jackson's use of sedatives and anesthetics led to his death. It does not specify which drugs were used or whether they were used in combination.<br>3. Based on the information provided, it is not possible to determine which summary is factually consistent with the other. Both summaries contain general statements that could apply to many different situations.<br><br>Output:<br>I cannot determine which summary is factually consistent with the other based on the information provided.<br><br>Final Answer: Neither A nor B.</td>\n",
       "    </tr>\n",
       "  </tbody>\n",
       "</table>"
      ],
      "text/plain": [
       "<IPython.core.display.HTML object>"
      ]
     },
     "metadata": {},
     "output_type": "display_data"
    },
    {
     "name": "stdout",
     "output_type": "stream",
     "text": [
      "entering None scenario for final answer\n"
     ]
    },
    {
     "data": {
      "text/html": [
       "<table border=\"1\" class=\"dataframe\">\n",
       "  <thead>\n",
       "    <tr style=\"text-align: right;\">\n",
       "      <th></th>\n",
       "      <th>Debate ID</th>\n",
       "      <th>Round #</th>\n",
       "      <th>Task Question</th>\n",
       "      <th>Judge Response</th>\n",
       "    </tr>\n",
       "  </thead>\n",
       "  <tbody>\n",
       "    <tr>\n",
       "      <th>0</th>\n",
       "      <td>CNN-173359</td>\n",
       "      <td>3</td>\n",
       "      <td>Which one of these summaries is the most factually consistent one?<br> Answer A:The use of multiple drugs together, including Propofol, is not recommended outside of a hospital setting.<br> Answer B:Though Jackson was in good health, these sedatives and anesthetics stopped his breathing and led to his death.</td>\n",
       "      <td>Reasoning:<br>1. Answer A is a general statement about the use of multiple drugs, including Propofol, outside of a hospital setting. It does not provide specific information about any particular individual or incident.<br>2. Answer B is a statement about an incident where Jackson's use of sedatives and anesthetics led to his death. It does not specify which drugs were used or whether they were used in combination.<br>3. Based on the information provided, it is not possible to determine which summary is factually consistent with the other. Both summaries contain general statements that could apply to many different situations.<br><br>Output:<br>I cannot determine which summary is factually consistent with the other based on the information provided.<br><br>Final Answer: Neither A nor B.</td>\n",
       "    </tr>\n",
       "  </tbody>\n",
       "</table>"
      ],
      "text/plain": [
       "<IPython.core.display.HTML object>"
      ]
     },
     "metadata": {},
     "output_type": "display_data"
    },
    {
     "name": "stdout",
     "output_type": "stream",
     "text": [
      "=========== END OF Naive Judge Round #3 for debate_id CNN-173359 ======= \n",
      "\n",
      "naive_judge_regular_answers :: [False, True, None, True, True, None]\n"
     ]
    },
    {
     "data": {
      "text/html": [
       "<table border=\"1\" class=\"dataframe\">\n",
       "  <thead>\n",
       "    <tr style=\"text-align: right;\">\n",
       "      <th></th>\n",
       "      <th>Debate ID</th>\n",
       "      <th>Round #</th>\n",
       "      <th>Task Question</th>\n",
       "      <th>Judge Response</th>\n",
       "    </tr>\n",
       "  </thead>\n",
       "  <tbody>\n",
       "    <tr>\n",
       "      <th>0</th>\n",
       "      <td>CNN-197627</td>\n",
       "      <td>1</td>\n",
       "      <td>Which one of these summaries is the most factually consistent one?<br> Answer A:The document mentions that President Obama will be attending an interfaith vigil in Newtown, Connecticut to provide comfort to the families and first responders affected by the shooting at Sandy Hook Elementary School.<br> Answer B:Connecticut police confirmed Adam Lanza fired hundreds of bullets, killing 26.</td>\n",
       "      <td>Reasoning:<br>Answer A is a statement about an event that President Obama attended, which is a fact that can be verified from multiple sources. Answer B is a statement about the number of bullets fired during the Sandy Hook shooting, which is also a fact that can be verified from police reports and news articles. Both answers are factual and consistent with the information in the document.<br><br>However, since the question asks for the \"most factually consistent\" answer, I will choose the answer that directly relates to the information in the document. In this case, Answer A is the most directly related to the document as it mentions the specific event of President Obama attending an interfaith vigil in Newtown, Connecticut, which is mentioned in the document.<br><br>Therefore, my reasoning leads me to believe that Answer A is the most factually consistent answer.<br><br>Final Answer: A.</td>\n",
       "    </tr>\n",
       "  </tbody>\n",
       "</table>"
      ],
      "text/plain": [
       "<IPython.core.display.HTML object>"
      ]
     },
     "metadata": {},
     "output_type": "display_data"
    },
    {
     "data": {
      "text/html": [
       "<table border=\"1\" class=\"dataframe\">\n",
       "  <thead>\n",
       "    <tr style=\"text-align: right;\">\n",
       "      <th></th>\n",
       "      <th>Debate ID</th>\n",
       "      <th>Round #</th>\n",
       "      <th>Task Question</th>\n",
       "      <th>Judge Response</th>\n",
       "    </tr>\n",
       "  </thead>\n",
       "  <tbody>\n",
       "    <tr>\n",
       "      <th>0</th>\n",
       "      <td>CNN-197627</td>\n",
       "      <td>2</td>\n",
       "      <td>Which one of these summaries is the most factually consistent one?<br> Answer A:The document mentions that President Obama will be attending an interfaith vigil in Newtown, Connecticut to provide comfort to the families and first responders affected by the shooting at Sandy Hook Elementary School.<br> Answer B:Connecticut police confirmed Adam Lanza fired hundreds of bullets, killing 26.</td>\n",
       "      <td>Reasoning:<br>Answer A is a statement about an event that President Obama attended, which is a fact that can be verified from multiple sources. Answer B is a statement about the number of bullets fired during the Sandy Hook shooting, which is also a fact that can be verified from police reports and news articles. Both answers are factual and consistent with the information in the document.<br><br>However, since the question asks for the \"most factually consistent\" answer, I will choose the answer that directly relates to the information in the document. In this case, Answer A is the most directly related to the document as it mentions the specific event of President Obama attending an interfaith vigil in Newtown, Connecticut, which is mentioned in the document.<br><br>Therefore, my reasoning leads me to believe that Answer A is the most factually consistent answer.<br><br>Final Answer: A.</td>\n",
       "    </tr>\n",
       "  </tbody>\n",
       "</table>"
      ],
      "text/plain": [
       "<IPython.core.display.HTML object>"
      ]
     },
     "metadata": {},
     "output_type": "display_data"
    },
    {
     "data": {
      "text/html": [
       "<table border=\"1\" class=\"dataframe\">\n",
       "  <thead>\n",
       "    <tr style=\"text-align: right;\">\n",
       "      <th></th>\n",
       "      <th>Debate ID</th>\n",
       "      <th>Round #</th>\n",
       "      <th>Task Question</th>\n",
       "      <th>Judge Response</th>\n",
       "    </tr>\n",
       "  </thead>\n",
       "  <tbody>\n",
       "    <tr>\n",
       "      <th>0</th>\n",
       "      <td>CNN-197627</td>\n",
       "      <td>3</td>\n",
       "      <td>Which one of these summaries is the most factually consistent one?<br> Answer A:The document mentions that President Obama will be attending an interfaith vigil in Newtown, Connecticut to provide comfort to the families and first responders affected by the shooting at Sandy Hook Elementary School.<br> Answer B:Connecticut police confirmed Adam Lanza fired hundreds of bullets, killing 26.</td>\n",
       "      <td>Reasoning:<br>Answer A is a statement about an event that President Obama attended, which is a fact that can be verified from multiple sources. Answer B is a statement about the number of bullets fired during the Sandy Hook shooting, which is also a fact that can be verified from police reports and news articles. Both answers are factual and consistent with the information in the document.<br><br>However, since the question asks for the \"most factually consistent\" answer, I will choose the answer that directly relates to the information in the document. In this case, Answer A is the most directly related to the document as it mentions the specific event of President Obama attending an interfaith vigil in Newtown, Connecticut, which is mentioned in the document.<br><br>Therefore, my reasoning leads me to believe that Answer A is the most factually consistent answer.<br><br>Final Answer: A.</td>\n",
       "    </tr>\n",
       "  </tbody>\n",
       "</table>"
      ],
      "text/plain": [
       "<IPython.core.display.HTML object>"
      ]
     },
     "metadata": {},
     "output_type": "display_data"
    },
    {
     "name": "stdout",
     "output_type": "stream",
     "text": [
      "=========== END OF Naive Judge Round #3 for debate_id CNN-197627 ======= \n",
      "\n",
      "naive_judge_regular_answers :: [False, True, None, True, True, None, True]\n"
     ]
    },
    {
     "data": {
      "text/html": [
       "<table border=\"1\" class=\"dataframe\">\n",
       "  <thead>\n",
       "    <tr style=\"text-align: right;\">\n",
       "      <th></th>\n",
       "      <th>Debate ID</th>\n",
       "      <th>Round #</th>\n",
       "      <th>Task Question</th>\n",
       "      <th>Judge Response</th>\n",
       "    </tr>\n",
       "  </thead>\n",
       "  <tbody>\n",
       "    <tr>\n",
       "      <th>0</th>\n",
       "      <td>CNN-201245</td>\n",
       "      <td>1</td>\n",
       "      <td>Which one of these summaries is the most factually consistent one?<br> Answer A:New York City Mayor Michael Bloomberg is planning to ban the use of Styrofoam in stores and restaurants due to environmental concerns.<br> Answer B:What is the proposed ban on Styrofoam in stores?</td>\n",
       "      <td>Reasoning:<br>Answer A makes a statement about Mayor Michael Bloomberg's plan to ban Styrofoam in stores and restaurants. It provides context and a specific reason for the proposed ban, which is environmental concerns.<br><br>Answer B, on the other hand, is an incomplete question that only asks about the proposed ban on Styrofoam in stores without providing any context or information about who is proposing the ban or why.<br><br>Based on the given information, Answer A is more factually consistent as it provides more details about the proposed ban and the person behind it.<br><br>Final Answer: A.</td>\n",
       "    </tr>\n",
       "  </tbody>\n",
       "</table>"
      ],
      "text/plain": [
       "<IPython.core.display.HTML object>"
      ]
     },
     "metadata": {},
     "output_type": "display_data"
    },
    {
     "data": {
      "text/html": [
       "<table border=\"1\" class=\"dataframe\">\n",
       "  <thead>\n",
       "    <tr style=\"text-align: right;\">\n",
       "      <th></th>\n",
       "      <th>Debate ID</th>\n",
       "      <th>Round #</th>\n",
       "      <th>Task Question</th>\n",
       "      <th>Judge Response</th>\n",
       "    </tr>\n",
       "  </thead>\n",
       "  <tbody>\n",
       "    <tr>\n",
       "      <th>0</th>\n",
       "      <td>CNN-201245</td>\n",
       "      <td>2</td>\n",
       "      <td>Which one of these summaries is the most factually consistent one?<br> Answer A:New York City Mayor Michael Bloomberg is planning to ban the use of Styrofoam in stores and restaurants due to environmental concerns.<br> Answer B:What is the proposed ban on Styrofoam in stores?</td>\n",
       "      <td>Reasoning:<br>Answer A makes a statement about Mayor Michael Bloomberg's plan to ban Styrofoam in stores and restaurants. It provides context and a specific reason for the proposed ban, which is environmental concerns.<br><br>Answer B, on the other hand, is an incomplete question that only asks about the proposed ban on Styrofoam in stores without providing any context or information about who is proposing the ban or why.<br><br>Based on the given information, Answer A is more factually consistent as it provides more details about the proposed ban and the person behind it.<br><br>Final Answer: A.</td>\n",
       "    </tr>\n",
       "  </tbody>\n",
       "</table>"
      ],
      "text/plain": [
       "<IPython.core.display.HTML object>"
      ]
     },
     "metadata": {},
     "output_type": "display_data"
    },
    {
     "data": {
      "text/html": [
       "<table border=\"1\" class=\"dataframe\">\n",
       "  <thead>\n",
       "    <tr style=\"text-align: right;\">\n",
       "      <th></th>\n",
       "      <th>Debate ID</th>\n",
       "      <th>Round #</th>\n",
       "      <th>Task Question</th>\n",
       "      <th>Judge Response</th>\n",
       "    </tr>\n",
       "  </thead>\n",
       "  <tbody>\n",
       "    <tr>\n",
       "      <th>0</th>\n",
       "      <td>CNN-201245</td>\n",
       "      <td>3</td>\n",
       "      <td>Which one of these summaries is the most factually consistent one?<br> Answer A:New York City Mayor Michael Bloomberg is planning to ban the use of Styrofoam in stores and restaurants due to environmental concerns.<br> Answer B:What is the proposed ban on Styrofoam in stores?</td>\n",
       "      <td>Reasoning:<br>Answer A makes a statement about Mayor Michael Bloomberg's plan to ban Styrofoam in stores and restaurants. It provides context and a specific reason for the proposed ban, which is environmental concerns.<br><br>Answer B, on the other hand, is an incomplete question that only asks about the proposed ban on Styrofoam in stores without providing any context or information about who is proposing the ban or why.<br><br>Based on the given information, Answer A is more factually consistent as it provides more details about the proposed ban and the person behind it.<br><br>Final Answer: A.</td>\n",
       "    </tr>\n",
       "  </tbody>\n",
       "</table>"
      ],
      "text/plain": [
       "<IPython.core.display.HTML object>"
      ]
     },
     "metadata": {},
     "output_type": "display_data"
    },
    {
     "name": "stdout",
     "output_type": "stream",
     "text": [
      "=========== END OF Naive Judge Round #3 for debate_id CNN-201245 ======= \n",
      "\n",
      "naive_judge_regular_answers :: [False, True, None, True, True, None, True, True]\n"
     ]
    },
    {
     "data": {
      "text/html": [
       "<table border=\"1\" class=\"dataframe\">\n",
       "  <thead>\n",
       "    <tr style=\"text-align: right;\">\n",
       "      <th></th>\n",
       "      <th>Debate ID</th>\n",
       "      <th>Round #</th>\n",
       "      <th>Task Question</th>\n",
       "      <th>Judge Response</th>\n",
       "    </tr>\n",
       "  </thead>\n",
       "  <tbody>\n",
       "    <tr>\n",
       "      <th>0</th>\n",
       "      <td>CNN-229050</td>\n",
       "      <td>1</td>\n",
       "      <td>Which one of these summaries is the most factually consistent one?<br> Answer A:The physician describes the phenomenon that saved the boy's life as a perfect storm of disaster that allowed him to survive by slowing down his body's need for oxygen and putting him in a frozen state until his oxygen was replenished.<br> Answer B:He is shocked that the recent 15-year-old stowaway survived with no lasting side effects.</td>\n",
       "      <td>Reasoning:<br>B. \"He is shocked that the recent 15-year-old stowaway survived with no lasting side effects\" is a statement about the reaction of the physician, not a description of the phenomenon itself. It does not provide any factual information about the event that saved the boy's life.<br><br>A, on the other hand, describes the phenomenon itself as a \"perfect storm of disaster\" that allowed the boy to survive by slowing down his body's need for oxygen and putting him in a frozen state until his oxygen was replenished. This summary appears to be factual as it describes the event that occurred.<br><br>Therefore, based on the information provided, Answer A is more factually consistent.<br><br>Final Answer: A.</td>\n",
       "    </tr>\n",
       "  </tbody>\n",
       "</table>"
      ],
      "text/plain": [
       "<IPython.core.display.HTML object>"
      ]
     },
     "metadata": {},
     "output_type": "display_data"
    },
    {
     "data": {
      "text/html": [
       "<table border=\"1\" class=\"dataframe\">\n",
       "  <thead>\n",
       "    <tr style=\"text-align: right;\">\n",
       "      <th></th>\n",
       "      <th>Debate ID</th>\n",
       "      <th>Round #</th>\n",
       "      <th>Task Question</th>\n",
       "      <th>Judge Response</th>\n",
       "    </tr>\n",
       "  </thead>\n",
       "  <tbody>\n",
       "    <tr>\n",
       "      <th>0</th>\n",
       "      <td>CNN-229050</td>\n",
       "      <td>2</td>\n",
       "      <td>Which one of these summaries is the most factually consistent one?<br> Answer A:The physician describes the phenomenon that saved the boy's life as a perfect storm of disaster that allowed him to survive by slowing down his body's need for oxygen and putting him in a frozen state until his oxygen was replenished.<br> Answer B:He is shocked that the recent 15-year-old stowaway survived with no lasting side effects.</td>\n",
       "      <td>Reasoning:<br>B. \"He is shocked that the recent 15-year-old stowaway survived with no lasting side effects\" is a statement about the reaction of the physician, not a description of the phenomenon itself. It does not provide any factual information about the event that saved the boy's life.<br><br>A, on the other hand, describes the phenomenon itself as a \"perfect storm of disaster\" that allowed the boy to survive by slowing down his body's need for oxygen and putting him in a frozen state until his oxygen was replenished. This summary appears to be factual as it describes the event that occurred.<br><br>Therefore, based on the information provided, Answer A is more factually consistent.<br><br>Final Answer: A.</td>\n",
       "    </tr>\n",
       "  </tbody>\n",
       "</table>"
      ],
      "text/plain": [
       "<IPython.core.display.HTML object>"
      ]
     },
     "metadata": {},
     "output_type": "display_data"
    },
    {
     "data": {
      "text/html": [
       "<table border=\"1\" class=\"dataframe\">\n",
       "  <thead>\n",
       "    <tr style=\"text-align: right;\">\n",
       "      <th></th>\n",
       "      <th>Debate ID</th>\n",
       "      <th>Round #</th>\n",
       "      <th>Task Question</th>\n",
       "      <th>Judge Response</th>\n",
       "    </tr>\n",
       "  </thead>\n",
       "  <tbody>\n",
       "    <tr>\n",
       "      <th>0</th>\n",
       "      <td>CNN-229050</td>\n",
       "      <td>3</td>\n",
       "      <td>Which one of these summaries is the most factually consistent one?<br> Answer A:The physician describes the phenomenon that saved the boy's life as a perfect storm of disaster that allowed him to survive by slowing down his body's need for oxygen and putting him in a frozen state until his oxygen was replenished.<br> Answer B:He is shocked that the recent 15-year-old stowaway survived with no lasting side effects.</td>\n",
       "      <td>Reasoning:<br>B. \"He is shocked that the recent 15-year-old stowaway survived with no lasting side effects\" is a statement about the reaction of the physician, not a description of the phenomenon itself. It does not provide any factual information about the event that saved the boy's life.<br><br>A, on the other hand, describes the phenomenon itself as a \"perfect storm of disaster\" that allowed the boy to survive by slowing down his body's need for oxygen and putting him in a frozen state until his oxygen was replenished. This summary appears to be factual as it describes the event that occurred.<br><br>Therefore, based on the information provided, Answer A is more factually consistent.<br><br>Final Answer: A.</td>\n",
       "    </tr>\n",
       "  </tbody>\n",
       "</table>"
      ],
      "text/plain": [
       "<IPython.core.display.HTML object>"
      ]
     },
     "metadata": {},
     "output_type": "display_data"
    },
    {
     "name": "stdout",
     "output_type": "stream",
     "text": [
      "=========== END OF Naive Judge Round #3 for debate_id CNN-229050 ======= \n",
      "\n",
      "naive_judge_regular_answers :: [False, True, None, True, True, None, True, True, True]\n"
     ]
    },
    {
     "data": {
      "text/html": [
       "<table border=\"1\" class=\"dataframe\">\n",
       "  <thead>\n",
       "    <tr style=\"text-align: right;\">\n",
       "      <th></th>\n",
       "      <th>Debate ID</th>\n",
       "      <th>Round #</th>\n",
       "      <th>Task Question</th>\n",
       "      <th>Judge Response</th>\n",
       "    </tr>\n",
       "  </thead>\n",
       "  <tbody>\n",
       "    <tr>\n",
       "      <th>0</th>\n",
       "      <td>CNN-239067</td>\n",
       "      <td>1</td>\n",
       "      <td>Which one of these summaries is the most factually consistent one?<br> Answer A:Currency uncertainty would be a major issue in the event of a yes vote in the Scotland referendum on independence.<br> Answer B:Currency uncertainty would arise in the event of a yes vote in the Scottish referendum, with questions about what currency would be used and how long it would take to establish credibility.</td>\n",
       "      <td>Reasoning: Both answers suggest that currency uncertainty would be an issue in the event of a yes vote in the Scottish referendum on independence. The difference lies in the level of detail provided. Answer B goes on to specify that there would be questions about which currency would be used and how long it would take to establish credibility. However, Answer A is more succinct and does not provide this level of detail. Since both answers agree on the main point, and Answer B only adds more detail, it is reasonable to assume that Answer A is a condensed version of Answer B. Therefore, Answer A is factually consistent with Answer B.<br><br>Final Answer: A.</td>\n",
       "    </tr>\n",
       "  </tbody>\n",
       "</table>"
      ],
      "text/plain": [
       "<IPython.core.display.HTML object>"
      ]
     },
     "metadata": {},
     "output_type": "display_data"
    },
    {
     "data": {
      "text/html": [
       "<table border=\"1\" class=\"dataframe\">\n",
       "  <thead>\n",
       "    <tr style=\"text-align: right;\">\n",
       "      <th></th>\n",
       "      <th>Debate ID</th>\n",
       "      <th>Round #</th>\n",
       "      <th>Task Question</th>\n",
       "      <th>Judge Response</th>\n",
       "    </tr>\n",
       "  </thead>\n",
       "  <tbody>\n",
       "    <tr>\n",
       "      <th>0</th>\n",
       "      <td>CNN-239067</td>\n",
       "      <td>2</td>\n",
       "      <td>Which one of these summaries is the most factually consistent one?<br> Answer A:Currency uncertainty would be a major issue in the event of a yes vote in the Scotland referendum on independence.<br> Answer B:Currency uncertainty would arise in the event of a yes vote in the Scottish referendum, with questions about what currency would be used and how long it would take to establish credibility.</td>\n",
       "      <td>Reasoning: Both answers suggest that currency uncertainty would be an issue in the event of a yes vote in the Scottish referendum on independence. The difference lies in the level of detail provided. Answer B goes on to specify that there would be questions about which currency would be used and how long it would take to establish credibility. However, Answer A is more succinct and does not provide this level of detail. Since both answers agree on the main point, and Answer B only adds more detail, it is reasonable to assume that Answer A is a condensed version of Answer B. Therefore, Answer A is factually consistent with Answer B.<br><br>Final Answer: A.</td>\n",
       "    </tr>\n",
       "  </tbody>\n",
       "</table>"
      ],
      "text/plain": [
       "<IPython.core.display.HTML object>"
      ]
     },
     "metadata": {},
     "output_type": "display_data"
    },
    {
     "data": {
      "text/html": [
       "<table border=\"1\" class=\"dataframe\">\n",
       "  <thead>\n",
       "    <tr style=\"text-align: right;\">\n",
       "      <th></th>\n",
       "      <th>Debate ID</th>\n",
       "      <th>Round #</th>\n",
       "      <th>Task Question</th>\n",
       "      <th>Judge Response</th>\n",
       "    </tr>\n",
       "  </thead>\n",
       "  <tbody>\n",
       "    <tr>\n",
       "      <th>0</th>\n",
       "      <td>CNN-239067</td>\n",
       "      <td>3</td>\n",
       "      <td>Which one of these summaries is the most factually consistent one?<br> Answer A:Currency uncertainty would be a major issue in the event of a yes vote in the Scotland referendum on independence.<br> Answer B:Currency uncertainty would arise in the event of a yes vote in the Scottish referendum, with questions about what currency would be used and how long it would take to establish credibility.</td>\n",
       "      <td>Reasoning: Both answers suggest that currency uncertainty would be an issue in the event of a yes vote in the Scottish referendum on independence. The difference lies in the level of detail provided. Answer B goes on to specify that there would be questions about which currency would be used and how long it would take to establish credibility. However, Answer A is more succinct and does not provide this level of detail. Since both answers agree on the main point, and Answer B only adds more detail, it is reasonable to assume that Answer A is a condensed version of Answer B. Therefore, Answer A is factually consistent with Answer B.<br><br>Final Answer: A.</td>\n",
       "    </tr>\n",
       "  </tbody>\n",
       "</table>"
      ],
      "text/plain": [
       "<IPython.core.display.HTML object>"
      ]
     },
     "metadata": {},
     "output_type": "display_data"
    },
    {
     "name": "stdout",
     "output_type": "stream",
     "text": [
      "=========== END OF Naive Judge Round #3 for debate_id CNN-239067 ======= \n",
      "\n",
      "naive_judge_regular_answers :: [False, True, None, True, True, None, True, True, True, True]\n",
      "CPU times: user 826 ms, sys: 50.2 ms, total: 876 ms\n",
      "Wall time: 1min 1s\n"
     ]
    }
   ],
   "source": [
    "%%time\n",
    "\n",
    "naive_judge_regular_answers = list()\n",
    "for index, row in final_dataset.iterrows():\n",
    "    naive_judge_per_round = list()\n",
    "    debate_id = row['doc_id']\n",
    "    answer_a = row['summ_sent_correct_manual']\n",
    "    answer_b = row['summ_sent_incorrect_original']\n",
    "    complete_interview_transcript = row['source']\n",
    "    logger.info(f\"-------------NAIVE JUDGE Debate_id {debate_id}-------------------\")\n",
    "    for round_number in range(number_of_rounds):\n",
    "        logger.info(f\"START OF Naive Judge Round #{round_number + 1} for debate_id {debate_id} >>>>>> \\n\")\n",
    "        judge_response = invoke_mistral_standalone_naive(\n",
    "            debate_id = debate_id,\n",
    "            question = question,\n",
    "            answer_a = answer_a,\n",
    "            answer_b = answer_b\n",
    "        )\n",
    "        naive_judge_per_round.append(extract_final_answer(judge_response, flipped=False))\n",
    "        logger.info(f\">>>>>>> judge_response Round #{round_number + 1}>>>>> ::  {judge_response}\")\n",
    "        # Print the final response for turn-3\n",
    "        format_final_response(debate_id,\n",
    "                              round_number + 1, \n",
    "                              question=question, \n",
    "                              answer_a=answer_a, \n",
    "                              answer_b=answer_b, \n",
    "                              judge_response=judge_response)\n",
    "        logger.info(f\"END OF Naive Judge Round #{round_number + 1} for debate_id {debate_id} >>>>>> \\n\")\n",
    "    print(f\"=========== END OF Naive Judge Round #{round_number + 1} for debate_id {debate_id} ======= \\n\")\n",
    "    naive_judge_regular_answers.append(Counter(naive_judge_per_round).most_common()[0][0]) # get the value of the counter\n",
    "    print(f\"naive_judge_regular_answers :: {naive_judge_regular_answers}\")\n"
   ]
  },
  {
   "cell_type": "markdown",
   "id": "0411c273-42e2-4bf6-8bc3-e6f51453265f",
   "metadata": {},
   "source": [
    "### <a name=\"3\">Naive Judge: no access to transcripts - Arguing for 2nd summary </a>\n",
    "(<a href=\"#0\">Go to top</a>)\n"
   ]
  },
  {
   "cell_type": "markdown",
   "id": "702f640f-97d4-4800-85a8-553659d0d819",
   "metadata": {},
   "source": [
    "Naive Judge (with 3 rounds of self-consistency) :: Flip the answers to account for any position bias of the summaries and re-run the experiment.\n"
   ]
  },
  {
   "cell_type": "code",
   "execution_count": 10,
   "id": "c9550217-2b0e-45b9-8d1c-bac07f8b0a2a",
   "metadata": {
    "tags": []
   },
   "outputs": [
    {
     "data": {
      "text/html": [
       "<table border=\"1\" class=\"dataframe\">\n",
       "  <thead>\n",
       "    <tr style=\"text-align: right;\">\n",
       "      <th></th>\n",
       "      <th>Debate ID</th>\n",
       "      <th>Round #</th>\n",
       "      <th>Task Question</th>\n",
       "      <th>Judge Response</th>\n",
       "    </tr>\n",
       "  </thead>\n",
       "  <tbody>\n",
       "    <tr>\n",
       "      <th>0</th>\n",
       "      <td>CNN-104129</td>\n",
       "      <td>1</td>\n",
       "      <td>Which one of these summaries is the most factually consistent one?<br> Answer A:GM lost \\$10B in 2005, continues losing market share.<br> Answer B:GM lost \\$10.6B in 2005, continues losing market share.</td>\n",
       "      <td>Reasoning: Both answers state that General Motors (GM) lost money in 2005 and continued losing market share. The only difference between the two answers is the exact amount of money GM lost in 2005. Since the difference is relatively small and both answers agree on the main points, it's reasonable to assume that both answers could be correct depending on the specific financial report being referenced. However, without access to the original source material, it's impossible to determine which one is definitively correct.<br><br>Given the task instructions to choose an answer even if uncertain, and considering the similarity of the two answers, I will choose answer A as my answer.<br><br>Answer text: Answer A: GM lost \\$10B in 2005, continues losing market share.<br><br>Final Answer: A|B.</td>\n",
       "    </tr>\n",
       "  </tbody>\n",
       "</table>"
      ],
      "text/plain": [
       "<IPython.core.display.HTML object>"
      ]
     },
     "metadata": {},
     "output_type": "display_data"
    },
    {
     "data": {
      "text/html": [
       "<table border=\"1\" class=\"dataframe\">\n",
       "  <thead>\n",
       "    <tr style=\"text-align: right;\">\n",
       "      <th></th>\n",
       "      <th>Debate ID</th>\n",
       "      <th>Round #</th>\n",
       "      <th>Task Question</th>\n",
       "      <th>Judge Response</th>\n",
       "    </tr>\n",
       "  </thead>\n",
       "  <tbody>\n",
       "    <tr>\n",
       "      <th>0</th>\n",
       "      <td>CNN-104129</td>\n",
       "      <td>2</td>\n",
       "      <td>Which one of these summaries is the most factually consistent one?<br> Answer A:GM lost \\$10B in 2005, continues losing market share.<br> Answer B:GM lost \\$10.6B in 2005, continues losing market share.</td>\n",
       "      <td>Reasoning: Both answers state that General Motors (GM) lost money in 2005 and continued losing market share. The only difference between the two answers is the exact amount of money GM lost in 2005. Since the difference is relatively small and both answers agree on the main points, it's reasonable to assume that both answers could be correct depending on the specific financial report being referenced. However, without access to the original source material, it's impossible to determine which one is definitively correct.<br><br>Given the task instructions to choose an answer even if uncertain, and considering the similarity of the two answers, I will choose answer A as my answer.<br><br>Answer text: Answer A: GM lost \\$10B in 2005, continues losing market share.<br><br>Final Answer: A|B.</td>\n",
       "    </tr>\n",
       "  </tbody>\n",
       "</table>"
      ],
      "text/plain": [
       "<IPython.core.display.HTML object>"
      ]
     },
     "metadata": {},
     "output_type": "display_data"
    },
    {
     "data": {
      "text/html": [
       "<table border=\"1\" class=\"dataframe\">\n",
       "  <thead>\n",
       "    <tr style=\"text-align: right;\">\n",
       "      <th></th>\n",
       "      <th>Debate ID</th>\n",
       "      <th>Round #</th>\n",
       "      <th>Task Question</th>\n",
       "      <th>Judge Response</th>\n",
       "    </tr>\n",
       "  </thead>\n",
       "  <tbody>\n",
       "    <tr>\n",
       "      <th>0</th>\n",
       "      <td>CNN-104129</td>\n",
       "      <td>3</td>\n",
       "      <td>Which one of these summaries is the most factually consistent one?<br> Answer A:GM lost \\$10B in 2005, continues losing market share.<br> Answer B:GM lost \\$10.6B in 2005, continues losing market share.</td>\n",
       "      <td>Reasoning: Both answers state that General Motors (GM) lost money in 2005 and continued losing market share. The only difference between the two answers is the exact amount of money GM lost in 2005. Since the difference is relatively small and both answers agree on the main points, it's reasonable to assume that both answers could be correct depending on the specific financial report being referenced. However, without access to the original source material, it's impossible to determine which one is definitively correct.<br><br>Given the task instructions to choose an answer even if uncertain, and considering the similarity of the two answers, I will choose answer A as my answer.<br><br>Answer text: Answer A: GM lost \\$10B in 2005, continues losing market share.<br><br>Final Answer: A|B.</td>\n",
       "    </tr>\n",
       "  </tbody>\n",
       "</table>"
      ],
      "text/plain": [
       "<IPython.core.display.HTML object>"
      ]
     },
     "metadata": {},
     "output_type": "display_data"
    },
    {
     "name": "stdout",
     "output_type": "stream",
     "text": [
      "=========== END OF Naive Judge Round #3 for debate_id CNN-104129 ======= \n",
      "\n",
      "naive_judge_flipped_answers :: [False]\n",
      "entering None scenario for final answer\n"
     ]
    },
    {
     "data": {
      "text/html": [
       "<table border=\"1\" class=\"dataframe\">\n",
       "  <thead>\n",
       "    <tr style=\"text-align: right;\">\n",
       "      <th></th>\n",
       "      <th>Debate ID</th>\n",
       "      <th>Round #</th>\n",
       "      <th>Task Question</th>\n",
       "      <th>Judge Response</th>\n",
       "    </tr>\n",
       "  </thead>\n",
       "  <tbody>\n",
       "    <tr>\n",
       "      <th>0</th>\n",
       "      <td>CNN-138971</td>\n",
       "      <td>1</td>\n",
       "      <td>Which one of these summaries is the most factually consistent one?<br> Answer A:North Korea has announced plans to launch a satellite into orbit, which the US sees as a cover for testing ballistic missile technology.<br> Answer B:Diplomatic efforts to secure the release of American journalists Laura Ling and Euna Lee, who are accused of spying in North Korea and face trial, are ongoing.</td>\n",
       "      <td>Reasoning:<br>Both summaries are about different topics related to North Korea. Summary A is about North Korea's plan to launch a satellite and the US's suspicion of it being a cover for missile testing. Summary B is about diplomatic efforts to secure the release of American journalists Laura Ling and Euna Lee.<br><br>There is no direct conflict of facts between the two summaries. However, they do not provide any common facts that could be used to determine factual consistency.<br><br>Therefore, based on the given information, it is not possible to determine which summary is factually more consistent than the other.<br><br>Final Answer: It is impossible to determine based on the given information.</td>\n",
       "    </tr>\n",
       "  </tbody>\n",
       "</table>"
      ],
      "text/plain": [
       "<IPython.core.display.HTML object>"
      ]
     },
     "metadata": {},
     "output_type": "display_data"
    },
    {
     "data": {
      "text/html": [
       "<table border=\"1\" class=\"dataframe\">\n",
       "  <thead>\n",
       "    <tr style=\"text-align: right;\">\n",
       "      <th></th>\n",
       "      <th>Debate ID</th>\n",
       "      <th>Round #</th>\n",
       "      <th>Task Question</th>\n",
       "      <th>Judge Response</th>\n",
       "    </tr>\n",
       "  </thead>\n",
       "  <tbody>\n",
       "    <tr>\n",
       "      <th>0</th>\n",
       "      <td>CNN-138971</td>\n",
       "      <td>2</td>\n",
       "      <td>Which one of these summaries is the most factually consistent one?<br> Answer A:North Korea has announced plans to launch a satellite into orbit, which the US sees as a cover for testing ballistic missile technology.<br> Answer B:Diplomatic efforts to secure the release of American journalists Laura Ling and Euna Lee, who are accused of spying in North Korea and face trial, are ongoing.</td>\n",
       "      <td>Reasoning:<br>Both summaries are about different topics related to North Korea. The first summary mentions plans for launching a satellite and the US's suspicion of it being a cover for missile testing. The second summary talks about diplomatic efforts to secure the release of American journalists. There is no direct conflict of facts between the two summaries. However, since the first summary does not provide any specific facts about the current situation with the American journalists, it is less factually consistent as it does not directly relate to the topic of the second summary.<br><br>Therefore, based on the given information, the second summary (Answer B) is more factually consistent as it directly relates to the current situation with the American journalists in North Korea.<br><br>Final Answer: B.</td>\n",
       "    </tr>\n",
       "  </tbody>\n",
       "</table>"
      ],
      "text/plain": [
       "<IPython.core.display.HTML object>"
      ]
     },
     "metadata": {},
     "output_type": "display_data"
    },
    {
     "name": "stdout",
     "output_type": "stream",
     "text": [
      "entering None scenario for final answer\n"
     ]
    },
    {
     "data": {
      "text/html": [
       "<table border=\"1\" class=\"dataframe\">\n",
       "  <thead>\n",
       "    <tr style=\"text-align: right;\">\n",
       "      <th></th>\n",
       "      <th>Debate ID</th>\n",
       "      <th>Round #</th>\n",
       "      <th>Task Question</th>\n",
       "      <th>Judge Response</th>\n",
       "    </tr>\n",
       "  </thead>\n",
       "  <tbody>\n",
       "    <tr>\n",
       "      <th>0</th>\n",
       "      <td>CNN-138971</td>\n",
       "      <td>3</td>\n",
       "      <td>Which one of these summaries is the most factually consistent one?<br> Answer A:North Korea has announced plans to launch a satellite into orbit, which the US sees as a cover for testing ballistic missile technology.<br> Answer B:Diplomatic efforts to secure the release of American journalists Laura Ling and Euna Lee, who are accused of spying in North Korea and face trial, are ongoing.</td>\n",
       "      <td>Reasoning:<br>Both summaries are about different topics related to North Korea. Summary A is about North Korea's plan to launch a satellite and the US's suspicion of it being a cover for missile testing. Summary B is about diplomatic efforts to secure the release of American journalists Laura Ling and Euna Lee.<br><br>There is no direct conflict of facts between the two summaries. However, they do not provide any common facts that could be used to determine factual consistency.<br><br>Therefore, based on the given information, it is not possible to determine which summary is factually more consistent than the other.<br><br>Final Answer: It is impossible to determine based on the given information.</td>\n",
       "    </tr>\n",
       "  </tbody>\n",
       "</table>"
      ],
      "text/plain": [
       "<IPython.core.display.HTML object>"
      ]
     },
     "metadata": {},
     "output_type": "display_data"
    },
    {
     "name": "stdout",
     "output_type": "stream",
     "text": [
      "=========== END OF Naive Judge Round #3 for debate_id CNN-138971 ======= \n",
      "\n",
      "naive_judge_flipped_answers :: [False, None]\n"
     ]
    },
    {
     "data": {
      "text/html": [
       "<table border=\"1\" class=\"dataframe\">\n",
       "  <thead>\n",
       "    <tr style=\"text-align: right;\">\n",
       "      <th></th>\n",
       "      <th>Debate ID</th>\n",
       "      <th>Round #</th>\n",
       "      <th>Task Question</th>\n",
       "      <th>Judge Response</th>\n",
       "    </tr>\n",
       "  </thead>\n",
       "  <tbody>\n",
       "    <tr>\n",
       "      <th>0</th>\n",
       "      <td>CNN-139946</td>\n",
       "      <td>1</td>\n",
       "      <td>Which one of these summaries is the most factually consistent one?<br> Answer A:This filibuster-proof majority means Democrats can pass legislation without Republican support.<br> Answer B:Democrats gain 60 seats in Senate, giving them a filibuster-proof majority.</td>\n",
       "      <td>Reasoning:<br>The term \"filibuster-proof majority\" refers to having a supermajority of 60 seats in the Senate, which can prevent a filibuster and allow for the passage of legislation with a simple majority vote. Therefore, having a filibuster-proof majority means having 60 seats or more in the Senate.<br><br>Answer A suggests that Democrats can pass legislation without Republican support with a filibuster-proof majority, which is consistent with the definition. However, it does not specify how many seats Democrats have in the Senate.<br><br>Answer B states that Democrats gain 60 seats in the Senate, which is a clear statement of having a filibuster-proof majority.<br><br>Based on the information given, Answer B is more factually consistent as it directly states the number of seats that would result in a filibuster-proof majority.<br><br>Final Answer: B. Democrats gain 60 seats in Senate, giving them a filibuster-proof majority.</td>\n",
       "    </tr>\n",
       "  </tbody>\n",
       "</table>"
      ],
      "text/plain": [
       "<IPython.core.display.HTML object>"
      ]
     },
     "metadata": {},
     "output_type": "display_data"
    },
    {
     "data": {
      "text/html": [
       "<table border=\"1\" class=\"dataframe\">\n",
       "  <thead>\n",
       "    <tr style=\"text-align: right;\">\n",
       "      <th></th>\n",
       "      <th>Debate ID</th>\n",
       "      <th>Round #</th>\n",
       "      <th>Task Question</th>\n",
       "      <th>Judge Response</th>\n",
       "    </tr>\n",
       "  </thead>\n",
       "  <tbody>\n",
       "    <tr>\n",
       "      <th>0</th>\n",
       "      <td>CNN-139946</td>\n",
       "      <td>2</td>\n",
       "      <td>Which one of these summaries is the most factually consistent one?<br> Answer A:This filibuster-proof majority means Democrats can pass legislation without Republican support.<br> Answer B:Democrats gain 60 seats in Senate, giving them a filibuster-proof majority.</td>\n",
       "      <td>Reasoning:<br>The term \"filibuster-proof majority\" refers to having a supermajority of 60 seats in the Senate, which can prevent a filibuster and allow for the passage of legislation with a simple majority vote. Therefore, having a filibuster-proof majority means having 60 seats or more in the Senate.<br><br>Answer A suggests that Democrats can pass legislation without Republican support with a filibuster-proof majority, which is consistent with the definition. However, it does not specify how many seats Democrats have in the Senate.<br><br>Answer B states that Democrats gain 60 seats in the Senate, which is a clear statement of having a filibuster-proof majority.<br><br>Based on the information given, Answer B is more factually consistent as it directly states the number of seats that would result in a filibuster-proof majority.<br><br>Final Answer: B. Democrats gain 60 seats in Senate, giving them a filibuster-proof majority.</td>\n",
       "    </tr>\n",
       "  </tbody>\n",
       "</table>"
      ],
      "text/plain": [
       "<IPython.core.display.HTML object>"
      ]
     },
     "metadata": {},
     "output_type": "display_data"
    },
    {
     "data": {
      "text/html": [
       "<table border=\"1\" class=\"dataframe\">\n",
       "  <thead>\n",
       "    <tr style=\"text-align: right;\">\n",
       "      <th></th>\n",
       "      <th>Debate ID</th>\n",
       "      <th>Round #</th>\n",
       "      <th>Task Question</th>\n",
       "      <th>Judge Response</th>\n",
       "    </tr>\n",
       "  </thead>\n",
       "  <tbody>\n",
       "    <tr>\n",
       "      <th>0</th>\n",
       "      <td>CNN-139946</td>\n",
       "      <td>3</td>\n",
       "      <td>Which one of these summaries is the most factually consistent one?<br> Answer A:This filibuster-proof majority means Democrats can pass legislation without Republican support.<br> Answer B:Democrats gain 60 seats in Senate, giving them a filibuster-proof majority.</td>\n",
       "      <td>Reasoning:<br>The term \"filibuster-proof majority\" refers to having a supermajority of 60 seats in the Senate, which can prevent a filibuster and allow for the passage of legislation with a simple majority vote. Therefore, having a filibuster-proof majority means having 60 seats or more in the Senate.<br><br>Answer A suggests that Democrats can pass legislation without Republican support with a filibuster-proof majority, which is consistent with the definition. However, it does not specify how many seats Democrats have in the Senate.<br><br>Answer B states that Democrats gain 60 seats in the Senate, which is a clear statement of having a filibuster-proof majority.<br><br>Based on the information given, Answer B is more factually consistent as it directly states the number of seats that would result in a filibuster-proof majority.<br><br>Final Answer: B. Democrats gain 60 seats in Senate, giving them a filibuster-proof majority.</td>\n",
       "    </tr>\n",
       "  </tbody>\n",
       "</table>"
      ],
      "text/plain": [
       "<IPython.core.display.HTML object>"
      ]
     },
     "metadata": {},
     "output_type": "display_data"
    },
    {
     "name": "stdout",
     "output_type": "stream",
     "text": [
      "=========== END OF Naive Judge Round #3 for debate_id CNN-139946 ======= \n",
      "\n",
      "naive_judge_flipped_answers :: [False, None, True]\n"
     ]
    },
    {
     "data": {
      "text/html": [
       "<table border=\"1\" class=\"dataframe\">\n",
       "  <thead>\n",
       "    <tr style=\"text-align: right;\">\n",
       "      <th></th>\n",
       "      <th>Debate ID</th>\n",
       "      <th>Round #</th>\n",
       "      <th>Task Question</th>\n",
       "      <th>Judge Response</th>\n",
       "    </tr>\n",
       "  </thead>\n",
       "  <tbody>\n",
       "    <tr>\n",
       "      <th>0</th>\n",
       "      <td>CNN-145383</td>\n",
       "      <td>1</td>\n",
       "      <td>Which one of these summaries is the most factually consistent one?<br> Answer A:The private sector has committed over \\$260 million to the campaign, and the initial focus is on reaching young students with interactive science content.<br> Answer B:Over \\$260 million in private funding will support programs to engage students, improve teacher effectiveness, and promote hands-on learning.</td>\n",
       "      <td>Reasoning: Both answers mention the private sector committing over \\$260 million to the campaign. However, Answer A is more specific about the initial focus being on reaching young students with interactive science content, while Answer B mentions programs to engage students, improve teacher effectiveness, and promote hands-on learning. Since the initial focus is mentioned in Answer A, it is more specific and consistent with the information given, assuming that the other mentioned points are also part of the campaign.<br><br>Answer Text: Answer A<br><br>Final Answer: A.</td>\n",
       "    </tr>\n",
       "  </tbody>\n",
       "</table>"
      ],
      "text/plain": [
       "<IPython.core.display.HTML object>"
      ]
     },
     "metadata": {},
     "output_type": "display_data"
    },
    {
     "data": {
      "text/html": [
       "<table border=\"1\" class=\"dataframe\">\n",
       "  <thead>\n",
       "    <tr style=\"text-align: right;\">\n",
       "      <th></th>\n",
       "      <th>Debate ID</th>\n",
       "      <th>Round #</th>\n",
       "      <th>Task Question</th>\n",
       "      <th>Judge Response</th>\n",
       "    </tr>\n",
       "  </thead>\n",
       "  <tbody>\n",
       "    <tr>\n",
       "      <th>0</th>\n",
       "      <td>CNN-145383</td>\n",
       "      <td>2</td>\n",
       "      <td>Which one of these summaries is the most factually consistent one?<br> Answer A:The private sector has committed over \\$260 million to the campaign, and the initial focus is on reaching young students with interactive science content.<br> Answer B:Over \\$260 million in private funding will support programs to engage students, improve teacher effectiveness, and promote hands-on learning.</td>\n",
       "      <td>Reasoning: Both answers mention the private sector committing over \\$260 million to the campaign. However, Answer A is more specific about the initial focus being on reaching young students with interactive science content, while Answer B mentions programs to engage students, improve teacher effectiveness, and promote hands-on learning. Since the initial focus is mentioned in Answer A, it is more specific and consistent with the information given, assuming that the other mentioned points are also part of the campaign.<br><br>Answer Text: Answer A<br><br>Final Answer: A.</td>\n",
       "    </tr>\n",
       "  </tbody>\n",
       "</table>"
      ],
      "text/plain": [
       "<IPython.core.display.HTML object>"
      ]
     },
     "metadata": {},
     "output_type": "display_data"
    },
    {
     "data": {
      "text/html": [
       "<table border=\"1\" class=\"dataframe\">\n",
       "  <thead>\n",
       "    <tr style=\"text-align: right;\">\n",
       "      <th></th>\n",
       "      <th>Debate ID</th>\n",
       "      <th>Round #</th>\n",
       "      <th>Task Question</th>\n",
       "      <th>Judge Response</th>\n",
       "    </tr>\n",
       "  </thead>\n",
       "  <tbody>\n",
       "    <tr>\n",
       "      <th>0</th>\n",
       "      <td>CNN-145383</td>\n",
       "      <td>3</td>\n",
       "      <td>Which one of these summaries is the most factually consistent one?<br> Answer A:The private sector has committed over \\$260 million to the campaign, and the initial focus is on reaching young students with interactive science content.<br> Answer B:Over \\$260 million in private funding will support programs to engage students, improve teacher effectiveness, and promote hands-on learning.</td>\n",
       "      <td>Reasoning: Both answers mention the private sector committing over \\$260 million to the campaign. However, Answer A is more specific about the initial focus being on reaching young students with interactive science content, while Answer B mentions programs to engage students, improve teacher effectiveness, and promote hands-on learning. Since the initial focus is mentioned in Answer A, it is more specific and consistent with the information given, assuming that the other mentioned points are also part of the campaign.<br><br>Answer Text: Answer A<br><br>Final Answer: A.</td>\n",
       "    </tr>\n",
       "  </tbody>\n",
       "</table>"
      ],
      "text/plain": [
       "<IPython.core.display.HTML object>"
      ]
     },
     "metadata": {},
     "output_type": "display_data"
    },
    {
     "name": "stdout",
     "output_type": "stream",
     "text": [
      "=========== END OF Naive Judge Round #3 for debate_id CNN-145383 ======= \n",
      "\n",
      "naive_judge_flipped_answers :: [False, None, True, False]\n"
     ]
    },
    {
     "data": {
      "text/html": [
       "<table border=\"1\" class=\"dataframe\">\n",
       "  <thead>\n",
       "    <tr style=\"text-align: right;\">\n",
       "      <th></th>\n",
       "      <th>Debate ID</th>\n",
       "      <th>Round #</th>\n",
       "      <th>Task Question</th>\n",
       "      <th>Judge Response</th>\n",
       "    </tr>\n",
       "  </thead>\n",
       "  <tbody>\n",
       "    <tr>\n",
       "      <th>0</th>\n",
       "      <td>CNN-164885</td>\n",
       "      <td>1</td>\n",
       "      <td>Which one of these summaries is the most factually consistent one?<br> Answer A:170,000 Cubans have private businesses.<br> Answer B:Cuba celebrated the 50th anniversary of their victory over a US-backed invasion at the Bay of Pigs.</td>\n",
       "      <td>Reasoning:<br>Answer A is a factual statement about the current situation in Cuba. It is based on available data and does not contain any potential for inaccuracies or inconsistencies.<br><br>Answer B is a historical fact. The Bay of Pigs invasion took place on April 17, 1961, and Cuba celebrated the 50th anniversary of that event in 2011.<br><br>Both answers are factually consistent with available information. However, since Answer A is a current fact and Answer B is a historical fact, it is more likely that Answer A will remain factually consistent in the future.<br><br>Final Answer: A. 170,000 Cubans have private businesses.</td>\n",
       "    </tr>\n",
       "  </tbody>\n",
       "</table>"
      ],
      "text/plain": [
       "<IPython.core.display.HTML object>"
      ]
     },
     "metadata": {},
     "output_type": "display_data"
    },
    {
     "data": {
      "text/html": [
       "<table border=\"1\" class=\"dataframe\">\n",
       "  <thead>\n",
       "    <tr style=\"text-align: right;\">\n",
       "      <th></th>\n",
       "      <th>Debate ID</th>\n",
       "      <th>Round #</th>\n",
       "      <th>Task Question</th>\n",
       "      <th>Judge Response</th>\n",
       "    </tr>\n",
       "  </thead>\n",
       "  <tbody>\n",
       "    <tr>\n",
       "      <th>0</th>\n",
       "      <td>CNN-164885</td>\n",
       "      <td>2</td>\n",
       "      <td>Which one of these summaries is the most factually consistent one?<br> Answer A:170,000 Cubans have private businesses.<br> Answer B:Cuba celebrated the 50th anniversary of their victory over a US-backed invasion at the Bay of Pigs.</td>\n",
       "      <td>Reasoning:<br>Answer A is a factual statement about the current situation in Cuba. It is based on available data and does not contain any potential for inaccuracies or inconsistencies.<br><br>Answer B is a historical fact. The Bay of Pigs invasion took place on April 17, 1961, and Cuba celebrated the 50th anniversary of that event in 2011.<br><br>Both answers are factually consistent with available information. However, since Answer A is a current fact and Answer B is a historical fact, it is more likely that Answer A will remain factually consistent in the future.<br><br>Final Answer: A. 170,000 Cubans have private businesses.</td>\n",
       "    </tr>\n",
       "  </tbody>\n",
       "</table>"
      ],
      "text/plain": [
       "<IPython.core.display.HTML object>"
      ]
     },
     "metadata": {},
     "output_type": "display_data"
    },
    {
     "data": {
      "text/html": [
       "<table border=\"1\" class=\"dataframe\">\n",
       "  <thead>\n",
       "    <tr style=\"text-align: right;\">\n",
       "      <th></th>\n",
       "      <th>Debate ID</th>\n",
       "      <th>Round #</th>\n",
       "      <th>Task Question</th>\n",
       "      <th>Judge Response</th>\n",
       "    </tr>\n",
       "  </thead>\n",
       "  <tbody>\n",
       "    <tr>\n",
       "      <th>0</th>\n",
       "      <td>CNN-164885</td>\n",
       "      <td>3</td>\n",
       "      <td>Which one of these summaries is the most factually consistent one?<br> Answer A:170,000 Cubans have private businesses.<br> Answer B:Cuba celebrated the 50th anniversary of their victory over a US-backed invasion at the Bay of Pigs.</td>\n",
       "      <td>Reasoning:<br>Answer A is a factual statement about the current situation in Cuba. It is based on available data and does not contain any potential for inaccuracies or errors related to historical events or interpretations.<br><br>Answer B, on the other hand, is a statement about a historical event. While it is a fact that Cuba celebrated the 50th anniversary of the Bay of Pigs invasion, the accuracy of this statement depends on the specific year of the celebration mentioned. If the year is correct, then the statement is factually consistent. However, without knowing the exact year, it is impossible to determine if the statement is factually consistent or not.<br><br>Given that Answer A is a factual statement about the present day and does not contain any potential for inaccuracies, it is the most factually consistent answer.<br><br>Final Answer: A.</td>\n",
       "    </tr>\n",
       "  </tbody>\n",
       "</table>"
      ],
      "text/plain": [
       "<IPython.core.display.HTML object>"
      ]
     },
     "metadata": {},
     "output_type": "display_data"
    },
    {
     "name": "stdout",
     "output_type": "stream",
     "text": [
      "=========== END OF Naive Judge Round #3 for debate_id CNN-164885 ======= \n",
      "\n",
      "naive_judge_flipped_answers :: [False, None, True, False, False]\n"
     ]
    },
    {
     "data": {
      "text/html": [
       "<table border=\"1\" class=\"dataframe\">\n",
       "  <thead>\n",
       "    <tr style=\"text-align: right;\">\n",
       "      <th></th>\n",
       "      <th>Debate ID</th>\n",
       "      <th>Round #</th>\n",
       "      <th>Task Question</th>\n",
       "      <th>Judge Response</th>\n",
       "    </tr>\n",
       "  </thead>\n",
       "  <tbody>\n",
       "    <tr>\n",
       "      <th>0</th>\n",
       "      <td>CNN-173359</td>\n",
       "      <td>1</td>\n",
       "      <td>Which one of these summaries is the most factually consistent one?<br> Answer A:Though Jackson was in good health, these sedatives and anesthetics stopped his breathing and led to his death.<br> Answer B:The use of multiple drugs together, including Propofol, is not recommended outside of a hospital setting.</td>\n",
       "      <td>Reasoning:<br>Answer A is about Jackson's personal health and the cause of his death, while Answer B is about the recommendation for using multiple drugs together, specifically Propofol, outside of a hospital setting. Both answers seem unrelated to each other. However, since the question asks for the most factually consistent answer, I will assume it refers to facts that are directly related to the given context. In the context provided, there is no information about the recommendation for using multiple drugs together in relation to Jackson's case. Therefore, Answer A is more directly related to the context and seems more factually consistent.<br><br>Answer Text: Answer A<br><br>Final Answer: A</td>\n",
       "    </tr>\n",
       "  </tbody>\n",
       "</table>"
      ],
      "text/plain": [
       "<IPython.core.display.HTML object>"
      ]
     },
     "metadata": {},
     "output_type": "display_data"
    },
    {
     "data": {
      "text/html": [
       "<table border=\"1\" class=\"dataframe\">\n",
       "  <thead>\n",
       "    <tr style=\"text-align: right;\">\n",
       "      <th></th>\n",
       "      <th>Debate ID</th>\n",
       "      <th>Round #</th>\n",
       "      <th>Task Question</th>\n",
       "      <th>Judge Response</th>\n",
       "    </tr>\n",
       "  </thead>\n",
       "  <tbody>\n",
       "    <tr>\n",
       "      <th>0</th>\n",
       "      <td>CNN-173359</td>\n",
       "      <td>2</td>\n",
       "      <td>Which one of these summaries is the most factually consistent one?<br> Answer A:Though Jackson was in good health, these sedatives and anesthetics stopped his breathing and led to his death.<br> Answer B:The use of multiple drugs together, including Propofol, is not recommended outside of a hospital setting.</td>\n",
       "      <td>Reasoning:<br>Answer A is about Jackson's personal health and the cause of his death, while Answer B is about the recommendation for using multiple drugs together, specifically Propofol, outside of a hospital setting. Both answers seem unrelated to each other. However, since the question asks for the most factually consistent answer, I will assume that both answers are referring to the same context, which is likely a medical situation involving Jackson and the use of sedatives and anesthetics.<br><br>Given that context, Answer A seems more factually consistent with the information provided in the question. It directly states that the use of sedatives and anesthetics led to Jackson's death, which is a factual statement if we assume that the context is a medical procedure where Jackson was administered these drugs.<br><br>Answer B, on the other hand, is a general statement about the recommendation for using multiple drugs together outside of a hospital setting, which is not directly related to the context of Jackson's case.<br><br>Therefore, based on the given context and the information provided in each answer, Answer A is the most factually consistent answer.<br><br>Final Answer: A.</td>\n",
       "    </tr>\n",
       "  </tbody>\n",
       "</table>"
      ],
      "text/plain": [
       "<IPython.core.display.HTML object>"
      ]
     },
     "metadata": {},
     "output_type": "display_data"
    },
    {
     "data": {
      "text/html": [
       "<table border=\"1\" class=\"dataframe\">\n",
       "  <thead>\n",
       "    <tr style=\"text-align: right;\">\n",
       "      <th></th>\n",
       "      <th>Debate ID</th>\n",
       "      <th>Round #</th>\n",
       "      <th>Task Question</th>\n",
       "      <th>Judge Response</th>\n",
       "    </tr>\n",
       "  </thead>\n",
       "  <tbody>\n",
       "    <tr>\n",
       "      <th>0</th>\n",
       "      <td>CNN-173359</td>\n",
       "      <td>3</td>\n",
       "      <td>Which one of these summaries is the most factually consistent one?<br> Answer A:Though Jackson was in good health, these sedatives and anesthetics stopped his breathing and led to his death.<br> Answer B:The use of multiple drugs together, including Propofol, is not recommended outside of a hospital setting.</td>\n",
       "      <td>Reasoning:<br>Answer A is about Jackson's personal health and the cause of his death, while Answer B is about the recommendation for using multiple drugs together, specifically Propofol, outside of a hospital setting. Both answers seem unrelated to each other. However, since the question asks for the most factually consistent answer, I will assume that both answers are referring to the same context, which is likely a medical situation involving Jackson and the use of sedatives and anesthetics.<br><br>Given that context, Answer A seems more factually consistent with the information provided in the question. It directly states that the use of sedatives and anesthetics led to Jackson's death, which is a factual statement if we assume that the context is a medical procedure where Jackson was administered these drugs.<br><br>Answer B, on the other hand, is a general statement about the recommendation for using multiple drugs together outside of a hospital setting, which is not directly related to the context of Jackson's case.<br><br>Therefore, based on the given context and the information provided in each answer, Answer A is the most factually consistent answer.<br><br>Final Answer: A.</td>\n",
       "    </tr>\n",
       "  </tbody>\n",
       "</table>"
      ],
      "text/plain": [
       "<IPython.core.display.HTML object>"
      ]
     },
     "metadata": {},
     "output_type": "display_data"
    },
    {
     "name": "stdout",
     "output_type": "stream",
     "text": [
      "=========== END OF Naive Judge Round #3 for debate_id CNN-173359 ======= \n",
      "\n",
      "naive_judge_flipped_answers :: [False, None, True, False, False, False]\n"
     ]
    },
    {
     "data": {
      "text/html": [
       "<table border=\"1\" class=\"dataframe\">\n",
       "  <thead>\n",
       "    <tr style=\"text-align: right;\">\n",
       "      <th></th>\n",
       "      <th>Debate ID</th>\n",
       "      <th>Round #</th>\n",
       "      <th>Task Question</th>\n",
       "      <th>Judge Response</th>\n",
       "    </tr>\n",
       "  </thead>\n",
       "  <tbody>\n",
       "    <tr>\n",
       "      <th>0</th>\n",
       "      <td>CNN-197627</td>\n",
       "      <td>1</td>\n",
       "      <td>Which one of these summaries is the most factually consistent one?<br> Answer A:Connecticut police confirmed Adam Lanza fired hundreds of bullets, killing 26.<br> Answer B:The document mentions that President Obama will be attending an interfaith vigil in Newtown, Connecticut to provide comfort to the families and first responders affected by the shooting at Sandy Hook Elementary School.</td>\n",
       "      <td>Reasoning:<br>Answer A makes a factual claim about the number of bullets fired and people killed during the Sandy Hook Elementary School shooting, which is a verifiable fact. Answer B, on the other hand, mentions an event that is not directly related to the factual consistency of the summaries.<br><br>Therefore, based on the information provided, Answer A is the most factually consistent summary.<br><br>Final Answer: A.</td>\n",
       "    </tr>\n",
       "  </tbody>\n",
       "</table>"
      ],
      "text/plain": [
       "<IPython.core.display.HTML object>"
      ]
     },
     "metadata": {},
     "output_type": "display_data"
    },
    {
     "data": {
      "text/html": [
       "<table border=\"1\" class=\"dataframe\">\n",
       "  <thead>\n",
       "    <tr style=\"text-align: right;\">\n",
       "      <th></th>\n",
       "      <th>Debate ID</th>\n",
       "      <th>Round #</th>\n",
       "      <th>Task Question</th>\n",
       "      <th>Judge Response</th>\n",
       "    </tr>\n",
       "  </thead>\n",
       "  <tbody>\n",
       "    <tr>\n",
       "      <th>0</th>\n",
       "      <td>CNN-197627</td>\n",
       "      <td>2</td>\n",
       "      <td>Which one of these summaries is the most factually consistent one?<br> Answer A:Connecticut police confirmed Adam Lanza fired hundreds of bullets, killing 26.<br> Answer B:The document mentions that President Obama will be attending an interfaith vigil in Newtown, Connecticut to provide comfort to the families and first responders affected by the shooting at Sandy Hook Elementary School.</td>\n",
       "      <td>Reasoning:<br>Answer A makes a factual claim about the number of bullets fired and people killed during the Sandy Hook Elementary School shooting, which is a verifiable fact. Answer B, on the other hand, mentions an event that is not directly related to the factual consistency of the summaries.<br><br>Therefore, based on the information provided, Answer A is the most factually consistent summary.<br><br>Final Answer: A.</td>\n",
       "    </tr>\n",
       "  </tbody>\n",
       "</table>"
      ],
      "text/plain": [
       "<IPython.core.display.HTML object>"
      ]
     },
     "metadata": {},
     "output_type": "display_data"
    },
    {
     "data": {
      "text/html": [
       "<table border=\"1\" class=\"dataframe\">\n",
       "  <thead>\n",
       "    <tr style=\"text-align: right;\">\n",
       "      <th></th>\n",
       "      <th>Debate ID</th>\n",
       "      <th>Round #</th>\n",
       "      <th>Task Question</th>\n",
       "      <th>Judge Response</th>\n",
       "    </tr>\n",
       "  </thead>\n",
       "  <tbody>\n",
       "    <tr>\n",
       "      <th>0</th>\n",
       "      <td>CNN-197627</td>\n",
       "      <td>3</td>\n",
       "      <td>Which one of these summaries is the most factually consistent one?<br> Answer A:Connecticut police confirmed Adam Lanza fired hundreds of bullets, killing 26.<br> Answer B:The document mentions that President Obama will be attending an interfaith vigil in Newtown, Connecticut to provide comfort to the families and first responders affected by the shooting at Sandy Hook Elementary School.</td>\n",
       "      <td>Reasoning:<br>Answer A makes a factual claim about the number of bullets fired and people killed during the Sandy Hook Elementary School shooting, which is a verifiable fact. Answer B, on the other hand, mentions an event that is not directly related to the factual consistency of the summaries.<br><br>Therefore, based on the information provided, Answer A is the most factually consistent summary.<br><br>Final Answer: A.</td>\n",
       "    </tr>\n",
       "  </tbody>\n",
       "</table>"
      ],
      "text/plain": [
       "<IPython.core.display.HTML object>"
      ]
     },
     "metadata": {},
     "output_type": "display_data"
    },
    {
     "name": "stdout",
     "output_type": "stream",
     "text": [
      "=========== END OF Naive Judge Round #3 for debate_id CNN-197627 ======= \n",
      "\n",
      "naive_judge_flipped_answers :: [False, None, True, False, False, False, False]\n"
     ]
    },
    {
     "data": {
      "text/html": [
       "<table border=\"1\" class=\"dataframe\">\n",
       "  <thead>\n",
       "    <tr style=\"text-align: right;\">\n",
       "      <th></th>\n",
       "      <th>Debate ID</th>\n",
       "      <th>Round #</th>\n",
       "      <th>Task Question</th>\n",
       "      <th>Judge Response</th>\n",
       "    </tr>\n",
       "  </thead>\n",
       "  <tbody>\n",
       "    <tr>\n",
       "      <th>0</th>\n",
       "      <td>CNN-201245</td>\n",
       "      <td>1</td>\n",
       "      <td>Which one of these summaries is the most factually consistent one?<br> Answer A:What is the proposed ban on Styrofoam in stores?<br> Answer B:New York City Mayor Michael Bloomberg is planning to ban the use of Styrofoam in stores and restaurants due to environmental concerns.</td>\n",
       "      <td>Reasoning:<br>Both answers mention the proposed ban of Styrofoam in New York City, but answer B provides additional information about the person proposing the ban, which is Michael Bloomberg, the former Mayor of New York City. This extra detail makes answer B more specific and factually consistent as it provides a named individual and a specific location for the proposed ban.<br><br>Answer Text:<br>Answer B: New York City Mayor Michael Bloomberg is planning to ban the use of Styrofoam in stores and restaurants due to environmental concerns.<br><br>Final Answer: B.</td>\n",
       "    </tr>\n",
       "  </tbody>\n",
       "</table>"
      ],
      "text/plain": [
       "<IPython.core.display.HTML object>"
      ]
     },
     "metadata": {},
     "output_type": "display_data"
    },
    {
     "data": {
      "text/html": [
       "<table border=\"1\" class=\"dataframe\">\n",
       "  <thead>\n",
       "    <tr style=\"text-align: right;\">\n",
       "      <th></th>\n",
       "      <th>Debate ID</th>\n",
       "      <th>Round #</th>\n",
       "      <th>Task Question</th>\n",
       "      <th>Judge Response</th>\n",
       "    </tr>\n",
       "  </thead>\n",
       "  <tbody>\n",
       "    <tr>\n",
       "      <th>0</th>\n",
       "      <td>CNN-201245</td>\n",
       "      <td>2</td>\n",
       "      <td>Which one of these summaries is the most factually consistent one?<br> Answer A:What is the proposed ban on Styrofoam in stores?<br> Answer B:New York City Mayor Michael Bloomberg is planning to ban the use of Styrofoam in stores and restaurants due to environmental concerns.</td>\n",
       "      <td>Reasoning:<br>Both answers mention the proposed ban of Styrofoam in New York City, but answer B provides additional information about the person proposing the ban, which is Michael Bloomberg, the former Mayor of New York City. This extra detail makes answer B more specific and factually consistent than answer A.<br><br>Answer text:<br>Answer B: New York City Mayor Michael Bloomberg is planning to ban the use of Styrofoam in stores and restaurants due to environmental concerns.<br><br>Final Answer: B.</td>\n",
       "    </tr>\n",
       "  </tbody>\n",
       "</table>"
      ],
      "text/plain": [
       "<IPython.core.display.HTML object>"
      ]
     },
     "metadata": {},
     "output_type": "display_data"
    },
    {
     "data": {
      "text/html": [
       "<table border=\"1\" class=\"dataframe\">\n",
       "  <thead>\n",
       "    <tr style=\"text-align: right;\">\n",
       "      <th></th>\n",
       "      <th>Debate ID</th>\n",
       "      <th>Round #</th>\n",
       "      <th>Task Question</th>\n",
       "      <th>Judge Response</th>\n",
       "    </tr>\n",
       "  </thead>\n",
       "  <tbody>\n",
       "    <tr>\n",
       "      <th>0</th>\n",
       "      <td>CNN-201245</td>\n",
       "      <td>3</td>\n",
       "      <td>Which one of these summaries is the most factually consistent one?<br> Answer A:What is the proposed ban on Styrofoam in stores?<br> Answer B:New York City Mayor Michael Bloomberg is planning to ban the use of Styrofoam in stores and restaurants due to environmental concerns.</td>\n",
       "      <td>Reasoning:<br>Both answers mention the proposed ban of Styrofoam in New York City, but answer B provides additional information about the person proposing the ban, which is Michael Bloomberg, the former Mayor of New York City. This extra detail makes answer B more specific and factually consistent than answer A.<br><br>Answer text:<br>Answer B: New York City Mayor Michael Bloomberg is planning to ban the use of Styrofoam in stores and restaurants due to environmental concerns.<br><br>Final Answer: B.</td>\n",
       "    </tr>\n",
       "  </tbody>\n",
       "</table>"
      ],
      "text/plain": [
       "<IPython.core.display.HTML object>"
      ]
     },
     "metadata": {},
     "output_type": "display_data"
    },
    {
     "name": "stdout",
     "output_type": "stream",
     "text": [
      "=========== END OF Naive Judge Round #3 for debate_id CNN-201245 ======= \n",
      "\n",
      "naive_judge_flipped_answers :: [False, None, True, False, False, False, False, True]\n"
     ]
    },
    {
     "data": {
      "text/html": [
       "<table border=\"1\" class=\"dataframe\">\n",
       "  <thead>\n",
       "    <tr style=\"text-align: right;\">\n",
       "      <th></th>\n",
       "      <th>Debate ID</th>\n",
       "      <th>Round #</th>\n",
       "      <th>Task Question</th>\n",
       "      <th>Judge Response</th>\n",
       "    </tr>\n",
       "  </thead>\n",
       "  <tbody>\n",
       "    <tr>\n",
       "      <th>0</th>\n",
       "      <td>CNN-229050</td>\n",
       "      <td>1</td>\n",
       "      <td>Which one of these summaries is the most factually consistent one?<br> Answer A:He is shocked that the recent 15-year-old stowaway survived with no lasting side effects.<br> Answer B:The physician describes the phenomenon that saved the boy's life as a perfect storm of disaster that allowed him to survive by slowing down his body's need for oxygen and putting him in a frozen state until his oxygen was replenished.</td>\n",
       "      <td>Reasoning:<br>1. Both answers seem plausible, but they refer to different aspects of the situation.<br>2. Answer A is about the boy's survival with no lasting side effects, which is a factual statement.<br>3. Answer B is about the phenomenon that saved the boy's life, which is not directly related to the factual consistency of the summaries.<br><br>Therefore, based on the information given, Answer A is the most factually consistent summary.<br><br>Final Answer: A.</td>\n",
       "    </tr>\n",
       "  </tbody>\n",
       "</table>"
      ],
      "text/plain": [
       "<IPython.core.display.HTML object>"
      ]
     },
     "metadata": {},
     "output_type": "display_data"
    },
    {
     "data": {
      "text/html": [
       "<table border=\"1\" class=\"dataframe\">\n",
       "  <thead>\n",
       "    <tr style=\"text-align: right;\">\n",
       "      <th></th>\n",
       "      <th>Debate ID</th>\n",
       "      <th>Round #</th>\n",
       "      <th>Task Question</th>\n",
       "      <th>Judge Response</th>\n",
       "    </tr>\n",
       "  </thead>\n",
       "  <tbody>\n",
       "    <tr>\n",
       "      <th>0</th>\n",
       "      <td>CNN-229050</td>\n",
       "      <td>2</td>\n",
       "      <td>Which one of these summaries is the most factually consistent one?<br> Answer A:He is shocked that the recent 15-year-old stowaway survived with no lasting side effects.<br> Answer B:The physician describes the phenomenon that saved the boy's life as a perfect storm of disaster that allowed him to survive by slowing down his body's need for oxygen and putting him in a frozen state until his oxygen was replenished.</td>\n",
       "      <td>Reasoning:<br>1. Both answers seem plausible, but they refer to different aspects of the situation.<br>2. Answer A is about the boy's survival with no lasting side effects, which is a factual statement.<br>3. Answer B is about the phenomenon that saved the boy's life, which is not directly related to the factual consistency of the summaries.<br><br>Therefore, based on the information given, Answer A is the most factually consistent summary.<br><br>Final Answer: A.</td>\n",
       "    </tr>\n",
       "  </tbody>\n",
       "</table>"
      ],
      "text/plain": [
       "<IPython.core.display.HTML object>"
      ]
     },
     "metadata": {},
     "output_type": "display_data"
    },
    {
     "data": {
      "text/html": [
       "<table border=\"1\" class=\"dataframe\">\n",
       "  <thead>\n",
       "    <tr style=\"text-align: right;\">\n",
       "      <th></th>\n",
       "      <th>Debate ID</th>\n",
       "      <th>Round #</th>\n",
       "      <th>Task Question</th>\n",
       "      <th>Judge Response</th>\n",
       "    </tr>\n",
       "  </thead>\n",
       "  <tbody>\n",
       "    <tr>\n",
       "      <th>0</th>\n",
       "      <td>CNN-229050</td>\n",
       "      <td>3</td>\n",
       "      <td>Which one of these summaries is the most factually consistent one?<br> Answer A:He is shocked that the recent 15-year-old stowaway survived with no lasting side effects.<br> Answer B:The physician describes the phenomenon that saved the boy's life as a perfect storm of disaster that allowed him to survive by slowing down his body's need for oxygen and putting him in a frozen state until his oxygen was replenished.</td>\n",
       "      <td>Reasoning:<br>1. Both answers seem plausible, but they refer to different aspects of the situation.<br>2. Answer A is about the boy's survival with no lasting side effects, which is a factual statement.<br>3. Answer B is about the phenomenon that saved the boy's life, which is not directly related to the factual consistency of the summaries.<br><br>Therefore, based on the information given, Answer A is the most factually consistent summary.<br><br>Final Answer: A.</td>\n",
       "    </tr>\n",
       "  </tbody>\n",
       "</table>"
      ],
      "text/plain": [
       "<IPython.core.display.HTML object>"
      ]
     },
     "metadata": {},
     "output_type": "display_data"
    },
    {
     "name": "stdout",
     "output_type": "stream",
     "text": [
      "=========== END OF Naive Judge Round #3 for debate_id CNN-229050 ======= \n",
      "\n",
      "naive_judge_flipped_answers :: [False, None, True, False, False, False, False, True, False]\n"
     ]
    },
    {
     "data": {
      "text/html": [
       "<table border=\"1\" class=\"dataframe\">\n",
       "  <thead>\n",
       "    <tr style=\"text-align: right;\">\n",
       "      <th></th>\n",
       "      <th>Debate ID</th>\n",
       "      <th>Round #</th>\n",
       "      <th>Task Question</th>\n",
       "      <th>Judge Response</th>\n",
       "    </tr>\n",
       "  </thead>\n",
       "  <tbody>\n",
       "    <tr>\n",
       "      <th>0</th>\n",
       "      <td>CNN-239067</td>\n",
       "      <td>1</td>\n",
       "      <td>Which one of these summaries is the most factually consistent one?<br> Answer A:Currency uncertainty would arise in the event of a yes vote in the Scottish referendum, with questions about what currency would be used and how long it would take to establish credibility.<br> Answer B:Currency uncertainty would be a major issue in the event of a yes vote in the Scotland referendum on independence.</td>\n",
       "      <td>Reasoning: Both answers express that currency uncertainty would be an issue in the event of a yes vote in the Scottish referendum. The difference lies in the level of detail provided. Answer A mentions specific questions that might arise regarding the currency to be used and the time it would take to establish credibility. Answer B, on the other hand, simply states that currency uncertainty would be a major issue. Given that the specific questions mentioned in Answer A are related to the uncertainty itself, it is reasonable to assume that they are part of the larger issue mentioned in Answer B. Therefore, Answer A is more factually consistent with Answer B as it includes all the information in Answer B and adds some additional details.<br><br>Final Answer: A.<br>Answer text: Answer A: Currency uncertainty would arise in the event of a yes vote in the Scottish referendum, with questions about what currency would be used and how long it would take to establish credibility.</td>\n",
       "    </tr>\n",
       "  </tbody>\n",
       "</table>"
      ],
      "text/plain": [
       "<IPython.core.display.HTML object>"
      ]
     },
     "metadata": {},
     "output_type": "display_data"
    },
    {
     "data": {
      "text/html": [
       "<table border=\"1\" class=\"dataframe\">\n",
       "  <thead>\n",
       "    <tr style=\"text-align: right;\">\n",
       "      <th></th>\n",
       "      <th>Debate ID</th>\n",
       "      <th>Round #</th>\n",
       "      <th>Task Question</th>\n",
       "      <th>Judge Response</th>\n",
       "    </tr>\n",
       "  </thead>\n",
       "  <tbody>\n",
       "    <tr>\n",
       "      <th>0</th>\n",
       "      <td>CNN-239067</td>\n",
       "      <td>2</td>\n",
       "      <td>Which one of these summaries is the most factually consistent one?<br> Answer A:Currency uncertainty would arise in the event of a yes vote in the Scottish referendum, with questions about what currency would be used and how long it would take to establish credibility.<br> Answer B:Currency uncertainty would be a major issue in the event of a yes vote in the Scotland referendum on independence.</td>\n",
       "      <td>Reasoning: Both answers express that currency uncertainty would be an issue in the event of a yes vote in the Scottish referendum. The difference lies in the level of detail provided. Answer A mentions specific questions that might arise regarding the currency to be used and the time it would take to establish credibility. Answer B, on the other hand, simply states that currency uncertainty would be a major issue. Given that the specific questions mentioned in Answer A are related to the uncertainty itself, it is reasonable to assume that they are part of the larger issue mentioned in Answer B. Therefore, Answer A is more factually consistent with Answer B as it includes all the information in Answer B and adds some additional details.<br><br>Final Answer: A.<br>Answer text: Answer A: Currency uncertainty would arise in the event of a yes vote in the Scottish referendum, with questions about what currency would be used and how long it would take to establish credibility.</td>\n",
       "    </tr>\n",
       "  </tbody>\n",
       "</table>"
      ],
      "text/plain": [
       "<IPython.core.display.HTML object>"
      ]
     },
     "metadata": {},
     "output_type": "display_data"
    },
    {
     "data": {
      "text/html": [
       "<table border=\"1\" class=\"dataframe\">\n",
       "  <thead>\n",
       "    <tr style=\"text-align: right;\">\n",
       "      <th></th>\n",
       "      <th>Debate ID</th>\n",
       "      <th>Round #</th>\n",
       "      <th>Task Question</th>\n",
       "      <th>Judge Response</th>\n",
       "    </tr>\n",
       "  </thead>\n",
       "  <tbody>\n",
       "    <tr>\n",
       "      <th>0</th>\n",
       "      <td>CNN-239067</td>\n",
       "      <td>3</td>\n",
       "      <td>Which one of these summaries is the most factually consistent one?<br> Answer A:Currency uncertainty would arise in the event of a yes vote in the Scottish referendum, with questions about what currency would be used and how long it would take to establish credibility.<br> Answer B:Currency uncertainty would be a major issue in the event of a yes vote in the Scotland referendum on independence.</td>\n",
       "      <td>Reasoning: Both answers express that currency uncertainty would be an issue in the event of a yes vote in the Scottish referendum. The difference lies in the level of detail provided. Answer A mentions specific questions that might arise regarding the currency to be used and the time it would take to establish credibility. Answer B, on the other hand, simply states that currency uncertainty would be a major issue. Given that the specific questions mentioned in Answer A are related to the uncertainty itself, it is reasonable to assume that they are part of the larger issue mentioned in Answer B. Therefore, Answer A is more factually consistent with Answer B as it includes all the information in Answer B and adds some additional details.<br><br>Final Answer: A.<br>Answer text: Answer A: Currency uncertainty would arise in the event of a yes vote in the Scottish referendum, with questions about what currency would be used and how long it would take to establish credibility.</td>\n",
       "    </tr>\n",
       "  </tbody>\n",
       "</table>"
      ],
      "text/plain": [
       "<IPython.core.display.HTML object>"
      ]
     },
     "metadata": {},
     "output_type": "display_data"
    },
    {
     "name": "stdout",
     "output_type": "stream",
     "text": [
      "=========== END OF Naive Judge Round #3 for debate_id CNN-239067 ======= \n",
      "\n",
      "naive_judge_flipped_answers :: [False, None, True, False, False, False, False, True, False, False]\n",
      "CPU times: user 794 ms, sys: 23.1 ms, total: 817 ms\n",
      "Wall time: 7min 33s\n"
     ]
    }
   ],
   "source": [
    "%%time\n",
    "\n",
    "naive_judge_flipped_answers = list()\n",
    "for index, row in final_dataset.iterrows():\n",
    "    time.sleep(10) # avoid throttling exceptions\n",
    "    naive_judge_flipped_per_round = list()\n",
    "    debate_id = row['doc_id']\n",
    "    answer_a = row['summ_sent_correct_manual']\n",
    "    answer_b = row['summ_sent_incorrect_original']\n",
    "    complete_interview_transcript = row['source']\n",
    "    logger.info(f\"-------------NAIVE JUDGE Debate_id {debate_id}-------------------\")\n",
    "\n",
    "    for round_number in range(number_of_rounds):\n",
    "        time.sleep(10) # avoid throttling exceptions\n",
    "        logger.info(f\"START OF Naive Judge Round #{round_number + 1} >>>>>> \\n\")\n",
    "        judge_response = invoke_mistral_standalone_naive(\n",
    "            debate_id = debate_id,\n",
    "            question = question,\n",
    "            answer_a = answer_b, # flipped ans\n",
    "            answer_b = answer_a  # flipped ans\n",
    "        )\n",
    "        naive_judge_flipped_per_round.append(extract_final_answer(\n",
    "            judge_response=judge_response, \n",
    "            flipped=True))\n",
    "        logger.info(f\">>>>>>> judge_response Round #{round_number + 1}>>>>> ::  {judge_response}\")\n",
    "        # Print the final response for turn-3\n",
    "        format_final_response(debate_id,\n",
    "                              round_number + 1, \n",
    "                              question=question, \n",
    "                              answer_a=answer_b, \n",
    "                              answer_b=answer_a, \n",
    "                              judge_response=judge_response)\n",
    "        logger.info(f\"END OF Naive Judge Round #{round_number + 1} for debate_id {debate_id} >>>>>> \\n\")\n",
    "    print(f\"=========== END OF Naive Judge Round #{round_number + 1} for debate_id {debate_id} ======= \\n\")\n",
    "    naive_judge_flipped_answers.append(Counter(naive_judge_flipped_per_round).most_common()[0][0]) # get the value of the counter\n",
    "    print(f\"naive_judge_flipped_answers :: {naive_judge_flipped_answers}\")\n"
   ]
  },
  {
   "cell_type": "markdown",
   "id": "8887dc11-9743-4d9f-ad2c-3a3fe6eb37e3",
   "metadata": {},
   "source": [
    "### <a name=\"4\">Accuracy of Naive Judge</a>\n",
    "(<a href=\"#0\">Go to top</a>)"
   ]
  },
  {
   "cell_type": "markdown",
   "id": "047d8474-9097-46a2-a536-3f17791c61be",
   "metadata": {},
   "source": [
    "Accuracy is defined as the matching results from the judge even if the answer options are flipped"
   ]
  },
  {
   "cell_type": "code",
   "execution_count": 11,
   "id": "1c47f343-35a9-4795-b2b9-3dce3cd5d6ee",
   "metadata": {
    "tags": []
   },
   "outputs": [],
   "source": [
    "accuracy_naive_judge = find_num_matching_elements(naive_judge_regular_answers, naive_judge_flipped_answers)/total_data_points"
   ]
  },
  {
   "cell_type": "code",
   "execution_count": 12,
   "id": "0c0ab2b1-3b51-415c-94f3-2b5219e35368",
   "metadata": {
    "tags": []
   },
   "outputs": [
    {
     "data": {
      "text/plain": [
       "0.2"
      ]
     },
     "execution_count": 12,
     "metadata": {},
     "output_type": "execute_result"
    }
   ],
   "source": [
    "accuracy_naive_judge"
   ]
  },
  {
   "cell_type": "markdown",
   "id": "df1d89c3-31d4-4958-abb4-0a11aaddb927",
   "metadata": {},
   "source": [
    "----"
   ]
  },
  {
   "cell_type": "markdown",
   "id": "30fbe9ac-3d34-4fa8-943d-3cbed781ee11",
   "metadata": {},
   "source": [
    "### <a name=\"5\">Expert Judge: access to transcripts - Arguing for 1st summary</a>\n",
    "(<a href=\"#0\">Go to top</a>)"
   ]
  },
  {
   "cell_type": "markdown",
   "id": "d798becb-c385-4bd8-8994-9eccd887e337",
   "metadata": {},
   "source": [
    "EXPERT JUDGE (with 3 rounds of self-consistency)  - Access to actual transcripts\n"
   ]
  },
  {
   "cell_type": "code",
   "execution_count": 13,
   "id": "f8c84cf6-4e9b-415b-af3f-7b360ed0ac0b",
   "metadata": {
    "tags": []
   },
   "outputs": [
    {
     "data": {
      "text/html": [
       "<table border=\"1\" class=\"dataframe\">\n",
       "  <thead>\n",
       "    <tr style=\"text-align: right;\">\n",
       "      <th></th>\n",
       "      <th>Debate ID</th>\n",
       "      <th>Round #</th>\n",
       "      <th>Task Question</th>\n",
       "      <th>Judge Response</th>\n",
       "    </tr>\n",
       "  </thead>\n",
       "  <tbody>\n",
       "    <tr>\n",
       "      <th>0</th>\n",
       "      <td>CNN-104129</td>\n",
       "      <td>1</td>\n",
       "      <td>Which one of these summaries is the most factually consistent one?<br> Answer A:GM lost \\$10.6B in 2005, continues losing market share.<br> Answer B:GM lost \\$10B in 2005, continues losing market share.</td>\n",
       "      <td>1. My task is to choose the answer that is most factually consistent with the information provided in the story.<br>2. I have carefully read the story and both answers. The story states that General Motors reported a loss of \\$10.6 billion in 2005. Therefore, the correct answer is:<br>3. Answer A: GM lost \\$10.6B in 2005, continues losing market share.<br>4. Final Answer: A.</td>\n",
       "    </tr>\n",
       "  </tbody>\n",
       "</table>"
      ],
      "text/plain": [
       "<IPython.core.display.HTML object>"
      ]
     },
     "metadata": {},
     "output_type": "display_data"
    },
    {
     "data": {
      "text/html": [
       "<table border=\"1\" class=\"dataframe\">\n",
       "  <thead>\n",
       "    <tr style=\"text-align: right;\">\n",
       "      <th></th>\n",
       "      <th>Debate ID</th>\n",
       "      <th>Round #</th>\n",
       "      <th>Task Question</th>\n",
       "      <th>Judge Response</th>\n",
       "    </tr>\n",
       "  </thead>\n",
       "  <tbody>\n",
       "    <tr>\n",
       "      <th>0</th>\n",
       "      <td>CNN-104129</td>\n",
       "      <td>2</td>\n",
       "      <td>Which one of these summaries is the most factually consistent one?<br> Answer A:GM lost \\$10.6B in 2005, continues losing market share.<br> Answer B:GM lost \\$10B in 2005, continues losing market share.</td>\n",
       "      <td>1. My task is to choose the answer that is most factually consistent with the information provided in the story.<br>2. I have carefully read the story and both answers. The story states that General Motors reported a loss of \\$10.6 billion in 2005. Therefore, the correct answer is:<br>3. Answer A: GM lost \\$10.6B in 2005, continues losing market share.<br>4. Final Answer: A.</td>\n",
       "    </tr>\n",
       "  </tbody>\n",
       "</table>"
      ],
      "text/plain": [
       "<IPython.core.display.HTML object>"
      ]
     },
     "metadata": {},
     "output_type": "display_data"
    },
    {
     "data": {
      "text/html": [
       "<table border=\"1\" class=\"dataframe\">\n",
       "  <thead>\n",
       "    <tr style=\"text-align: right;\">\n",
       "      <th></th>\n",
       "      <th>Debate ID</th>\n",
       "      <th>Round #</th>\n",
       "      <th>Task Question</th>\n",
       "      <th>Judge Response</th>\n",
       "    </tr>\n",
       "  </thead>\n",
       "  <tbody>\n",
       "    <tr>\n",
       "      <th>0</th>\n",
       "      <td>CNN-104129</td>\n",
       "      <td>3</td>\n",
       "      <td>Which one of these summaries is the most factually consistent one?<br> Answer A:GM lost \\$10.6B in 2005, continues losing market share.<br> Answer B:GM lost \\$10B in 2005, continues losing market share.</td>\n",
       "      <td>1. My task is to choose the answer that is most factually consistent with the information provided in the story.<br>2. I have carefully read the story and both answers. The story states that General Motors reported a loss of \\$10.6 billion in 2005. Therefore, the correct answer is:<br>3. Answer A: GM lost \\$10.6B in 2005, continues losing market share.<br>4. Final Answer: A.</td>\n",
       "    </tr>\n",
       "  </tbody>\n",
       "</table>"
      ],
      "text/plain": [
       "<IPython.core.display.HTML object>"
      ]
     },
     "metadata": {},
     "output_type": "display_data"
    },
    {
     "name": "stdout",
     "output_type": "stream",
     "text": [
      "=========== END OF Expert Judge Round #3 for debate_id CNN-104129 ======= \n",
      "\n",
      "expert_judge_regular_correct_answers :: [True]\n",
      "entering None scenario for final answer\n"
     ]
    },
    {
     "data": {
      "text/html": [
       "<table border=\"1\" class=\"dataframe\">\n",
       "  <thead>\n",
       "    <tr style=\"text-align: right;\">\n",
       "      <th></th>\n",
       "      <th>Debate ID</th>\n",
       "      <th>Round #</th>\n",
       "      <th>Task Question</th>\n",
       "      <th>Judge Response</th>\n",
       "    </tr>\n",
       "  </thead>\n",
       "  <tbody>\n",
       "    <tr>\n",
       "      <th>0</th>\n",
       "      <td>CNN-138971</td>\n",
       "      <td>1</td>\n",
       "      <td>Which one of these summaries is the most factually consistent one?<br> Answer A:Diplomatic efforts to secure the release of American journalists Laura Ling and Euna Lee, who are accused of spying in North Korea and face trial, are ongoing.<br> Answer B:North Korea has announced plans to launch a satellite into orbit, which the US sees as a cover for testing ballistic missile technology.</td>\n",
       "      <td>1. Based on the information provided in the story, neither answer A nor answer B is directly related to the facts presented. The story is about the upcoming trial of American journalists Laura Ling and Euna Lee in North Korea and the diplomatic efforts to secure their release. There is no mention of North Korea's plans to launch a satellite or testing ballistic missile technology in the story.<br>2. Since neither answer is factually consistent with the information in the story, it is not possible to determine which one is more factually consistent.<br>3. Neither answer A nor answer B can be considered the correct answer based on the information provided in the story.<br>4. Final Answer: Neither (A nor B)</td>\n",
       "    </tr>\n",
       "  </tbody>\n",
       "</table>"
      ],
      "text/plain": [
       "<IPython.core.display.HTML object>"
      ]
     },
     "metadata": {},
     "output_type": "display_data"
    },
    {
     "name": "stdout",
     "output_type": "stream",
     "text": [
      "entering None scenario for final answer\n"
     ]
    },
    {
     "data": {
      "text/html": [
       "<table border=\"1\" class=\"dataframe\">\n",
       "  <thead>\n",
       "    <tr style=\"text-align: right;\">\n",
       "      <th></th>\n",
       "      <th>Debate ID</th>\n",
       "      <th>Round #</th>\n",
       "      <th>Task Question</th>\n",
       "      <th>Judge Response</th>\n",
       "    </tr>\n",
       "  </thead>\n",
       "  <tbody>\n",
       "    <tr>\n",
       "      <th>0</th>\n",
       "      <td>CNN-138971</td>\n",
       "      <td>2</td>\n",
       "      <td>Which one of these summaries is the most factually consistent one?<br> Answer A:Diplomatic efforts to secure the release of American journalists Laura Ling and Euna Lee, who are accused of spying in North Korea and face trial, are ongoing.<br> Answer B:North Korea has announced plans to launch a satellite into orbit, which the US sees as a cover for testing ballistic missile technology.</td>\n",
       "      <td>1. Based on the information provided in the story, neither answer A nor answer B is directly related to the facts presented. The story is about the upcoming trial of American journalists Laura Ling and Euna Lee in North Korea and the diplomatic efforts to secure their release. There is no mention of North Korea's plans to launch a satellite or testing ballistic missile technology in the story.<br>2. Since neither answer is factually consistent with the information in the story, it is not possible to determine which one is more factually consistent.<br>3. Neither answer A nor answer B can be considered the correct answer based on the information provided in the story.<br>4. Final Answer: Neither (A nor B)</td>\n",
       "    </tr>\n",
       "  </tbody>\n",
       "</table>"
      ],
      "text/plain": [
       "<IPython.core.display.HTML object>"
      ]
     },
     "metadata": {},
     "output_type": "display_data"
    },
    {
     "name": "stdout",
     "output_type": "stream",
     "text": [
      "entering None scenario for final answer\n"
     ]
    },
    {
     "data": {
      "text/html": [
       "<table border=\"1\" class=\"dataframe\">\n",
       "  <thead>\n",
       "    <tr style=\"text-align: right;\">\n",
       "      <th></th>\n",
       "      <th>Debate ID</th>\n",
       "      <th>Round #</th>\n",
       "      <th>Task Question</th>\n",
       "      <th>Judge Response</th>\n",
       "    </tr>\n",
       "  </thead>\n",
       "  <tbody>\n",
       "    <tr>\n",
       "      <th>0</th>\n",
       "      <td>CNN-138971</td>\n",
       "      <td>3</td>\n",
       "      <td>Which one of these summaries is the most factually consistent one?<br> Answer A:Diplomatic efforts to secure the release of American journalists Laura Ling and Euna Lee, who are accused of spying in North Korea and face trial, are ongoing.<br> Answer B:North Korea has announced plans to launch a satellite into orbit, which the US sees as a cover for testing ballistic missile technology.</td>\n",
       "      <td>1. Based on the information provided in the story, neither answer A nor answer B is directly related to the facts presented. The story is about the upcoming trial of American journalists Laura Ling and Euna Lee in North Korea and the diplomatic efforts to secure their release. There is no mention of North Korea's plans to launch a satellite or testing ballistic missile technology in the story.<br>2. Since neither answer is factually consistent with the information in the story, it is not possible to determine which one is more factually consistent.<br>3. Neither answer A nor answer B can be considered the correct answer based on the information provided in the story.<br>4. Final Answer: Neither (A nor B)</td>\n",
       "    </tr>\n",
       "  </tbody>\n",
       "</table>"
      ],
      "text/plain": [
       "<IPython.core.display.HTML object>"
      ]
     },
     "metadata": {},
     "output_type": "display_data"
    },
    {
     "name": "stdout",
     "output_type": "stream",
     "text": [
      "=========== END OF Expert Judge Round #3 for debate_id CNN-138971 ======= \n",
      "\n",
      "expert_judge_regular_correct_answers :: [True, None]\n"
     ]
    },
    {
     "data": {
      "text/html": [
       "<table border=\"1\" class=\"dataframe\">\n",
       "  <thead>\n",
       "    <tr style=\"text-align: right;\">\n",
       "      <th></th>\n",
       "      <th>Debate ID</th>\n",
       "      <th>Round #</th>\n",
       "      <th>Task Question</th>\n",
       "      <th>Judge Response</th>\n",
       "    </tr>\n",
       "  </thead>\n",
       "  <tbody>\n",
       "    <tr>\n",
       "      <th>0</th>\n",
       "      <td>CNN-139946</td>\n",
       "      <td>1</td>\n",
       "      <td>Which one of these summaries is the most factually consistent one?<br> Answer A:Democrats gain 60 seats in Senate, giving them a filibuster-proof majority.<br> Answer B:This filibuster-proof majority means Democrats can pass legislation without Republican support.</td>\n",
       "      <td>1. Both answers make factual claims, but let's break them down:<br>Answer A: \"Democrats gain 60 seats in Senate, giving them a filibuster-proof majority.\"<br>This statement is factually correct based on the information provided in the story. The story mentions that Al Franken's election gives the Democrats 60 seats in the Senate.<br><br>Answer B: \"This filibuster-proof majority means Democrats can pass legislation without Republican support.\"<br>This statement is not directly contradictory to the facts presented in the story, but it goes beyond what is explicitly stated. While it's true that a filibuster-proof majority allows a party to pass legislation without needing any support from the opposing party, it doesn't mean they will always do so. The ability to pass legislation without Republican support is an implication of having a filibuster-proof majority, but it's not the same thing.<br><br>2. Based on the information provided in the story, the most factually consistent answer is:<br>Answer A: \"Democrats gain 60 seats in Senate, giving them a filibuster-proof majority.\"<br><br>Final Answer: A.</td>\n",
       "    </tr>\n",
       "  </tbody>\n",
       "</table>"
      ],
      "text/plain": [
       "<IPython.core.display.HTML object>"
      ]
     },
     "metadata": {},
     "output_type": "display_data"
    },
    {
     "data": {
      "text/html": [
       "<table border=\"1\" class=\"dataframe\">\n",
       "  <thead>\n",
       "    <tr style=\"text-align: right;\">\n",
       "      <th></th>\n",
       "      <th>Debate ID</th>\n",
       "      <th>Round #</th>\n",
       "      <th>Task Question</th>\n",
       "      <th>Judge Response</th>\n",
       "    </tr>\n",
       "  </thead>\n",
       "  <tbody>\n",
       "    <tr>\n",
       "      <th>0</th>\n",
       "      <td>CNN-139946</td>\n",
       "      <td>2</td>\n",
       "      <td>Which one of these summaries is the most factually consistent one?<br> Answer A:Democrats gain 60 seats in Senate, giving them a filibuster-proof majority.<br> Answer B:This filibuster-proof majority means Democrats can pass legislation without Republican support.</td>\n",
       "      <td>1. Both answers make factual claims, but let's break them down:<br>Answer A: \"Democrats gain 60 seats in Senate, giving them a filibuster-proof majority.\"<br>This statement is factually correct based on the information provided in the story. The story mentions that Al Franken's election gives the Democrats 60 seats in the Senate.<br><br>Answer B: \"This filibuster-proof majority means Democrats can pass legislation without Republican support.\"<br>This statement is not directly contradictory to the facts presented in the story, but it goes beyond what is explicitly stated. While it's true that a filibuster-proof majority allows a party to pass legislation without needing any support from the opposing party, it doesn't mean they will always do so. The ability to pass legislation without Republican support is an implication of having a filibuster-proof majority, but it's not the same thing.<br><br>2. Based on the information provided in the story, the most factually consistent answer is:<br>Answer A: \"Democrats gain 60 seats in Senate, giving them a filibuster-proof majority.\"<br><br>Final Answer: A.</td>\n",
       "    </tr>\n",
       "  </tbody>\n",
       "</table>"
      ],
      "text/plain": [
       "<IPython.core.display.HTML object>"
      ]
     },
     "metadata": {},
     "output_type": "display_data"
    },
    {
     "data": {
      "text/html": [
       "<table border=\"1\" class=\"dataframe\">\n",
       "  <thead>\n",
       "    <tr style=\"text-align: right;\">\n",
       "      <th></th>\n",
       "      <th>Debate ID</th>\n",
       "      <th>Round #</th>\n",
       "      <th>Task Question</th>\n",
       "      <th>Judge Response</th>\n",
       "    </tr>\n",
       "  </thead>\n",
       "  <tbody>\n",
       "    <tr>\n",
       "      <th>0</th>\n",
       "      <td>CNN-139946</td>\n",
       "      <td>3</td>\n",
       "      <td>Which one of these summaries is the most factually consistent one?<br> Answer A:Democrats gain 60 seats in Senate, giving them a filibuster-proof majority.<br> Answer B:This filibuster-proof majority means Democrats can pass legislation without Republican support.</td>\n",
       "      <td>1. Both answers make factual claims, but let's break them down:<br>Answer A: \"Democrats gain 60 seats in Senate, giving them a filibuster-proof majority.\"<br>This statement is factually correct based on the information provided in the story. The story mentions that Al Franken's election gives the Democrats 60 seats in the Senate.<br><br>Answer B: \"This filibuster-proof majority means Democrats can pass legislation without Republican support.\"<br>This statement is not directly contradictory to the facts presented in the story, but it goes beyond what is explicitly stated. While it's true that a filibuster-proof majority allows a party to pass legislation without needing any support from the opposing party, it doesn't mean they will always do so. The ability to pass legislation without Republican support is an implication of having a filibuster-proof majority, but it's not the same thing.<br><br>2. Based on the information provided in the story, the most factually consistent answer is:<br>Answer A: \"Democrats gain 60 seats in Senate, giving them a filibuster-proof majority.\"<br><br>Final Answer: A.</td>\n",
       "    </tr>\n",
       "  </tbody>\n",
       "</table>"
      ],
      "text/plain": [
       "<IPython.core.display.HTML object>"
      ]
     },
     "metadata": {},
     "output_type": "display_data"
    },
    {
     "name": "stdout",
     "output_type": "stream",
     "text": [
      "=========== END OF Expert Judge Round #3 for debate_id CNN-139946 ======= \n",
      "\n",
      "expert_judge_regular_correct_answers :: [True, None, True]\n"
     ]
    },
    {
     "data": {
      "text/html": [
       "<table border=\"1\" class=\"dataframe\">\n",
       "  <thead>\n",
       "    <tr style=\"text-align: right;\">\n",
       "      <th></th>\n",
       "      <th>Debate ID</th>\n",
       "      <th>Round #</th>\n",
       "      <th>Task Question</th>\n",
       "      <th>Judge Response</th>\n",
       "    </tr>\n",
       "  </thead>\n",
       "  <tbody>\n",
       "    <tr>\n",
       "      <th>0</th>\n",
       "      <td>CNN-145383</td>\n",
       "      <td>1</td>\n",
       "      <td>Which one of these summaries is the most factually consistent one?<br> Answer A:Over \\$260 million in private funding will support programs to engage students, improve teacher effectiveness, and promote hands-on learning.<br> Answer B:The private sector has committed over \\$260 million to the campaign, and the initial focus is on reaching young students with interactive science content.</td>\n",
       "      <td>1. Both answers seem factually consistent as they both mention the \\$260 million commitment from the private sector. However, Answer A provides a bit more detail about how the funds will be used.<br>2. I would lean towards Answer A as it provides a more comprehensive description of how the funds will be utilized, which aligns with the information provided in the speech.<br><br>Final Answer: A.</td>\n",
       "    </tr>\n",
       "  </tbody>\n",
       "</table>"
      ],
      "text/plain": [
       "<IPython.core.display.HTML object>"
      ]
     },
     "metadata": {},
     "output_type": "display_data"
    },
    {
     "data": {
      "text/html": [
       "<table border=\"1\" class=\"dataframe\">\n",
       "  <thead>\n",
       "    <tr style=\"text-align: right;\">\n",
       "      <th></th>\n",
       "      <th>Debate ID</th>\n",
       "      <th>Round #</th>\n",
       "      <th>Task Question</th>\n",
       "      <th>Judge Response</th>\n",
       "    </tr>\n",
       "  </thead>\n",
       "  <tbody>\n",
       "    <tr>\n",
       "      <th>0</th>\n",
       "      <td>CNN-145383</td>\n",
       "      <td>2</td>\n",
       "      <td>Which one of these summaries is the most factually consistent one?<br> Answer A:Over \\$260 million in private funding will support programs to engage students, improve teacher effectiveness, and promote hands-on learning.<br> Answer B:The private sector has committed over \\$260 million to the campaign, and the initial focus is on reaching young students with interactive science content.</td>\n",
       "      <td>1. Both answers seem factually consistent as they both mention the \\$260 million commitment from the private sector. However, Answer A provides a bit more detail about how the funds will be used.<br>2. I would lean towards Answer A as it provides a more comprehensive description of how the funds will be utilized, which aligns with the information provided in the speech.<br><br>Final Answer: A.</td>\n",
       "    </tr>\n",
       "  </tbody>\n",
       "</table>"
      ],
      "text/plain": [
       "<IPython.core.display.HTML object>"
      ]
     },
     "metadata": {},
     "output_type": "display_data"
    },
    {
     "data": {
      "text/html": [
       "<table border=\"1\" class=\"dataframe\">\n",
       "  <thead>\n",
       "    <tr style=\"text-align: right;\">\n",
       "      <th></th>\n",
       "      <th>Debate ID</th>\n",
       "      <th>Round #</th>\n",
       "      <th>Task Question</th>\n",
       "      <th>Judge Response</th>\n",
       "    </tr>\n",
       "  </thead>\n",
       "  <tbody>\n",
       "    <tr>\n",
       "      <th>0</th>\n",
       "      <td>CNN-145383</td>\n",
       "      <td>3</td>\n",
       "      <td>Which one of these summaries is the most factually consistent one?<br> Answer A:Over \\$260 million in private funding will support programs to engage students, improve teacher effectiveness, and promote hands-on learning.<br> Answer B:The private sector has committed over \\$260 million to the campaign, and the initial focus is on reaching young students with interactive science content.</td>\n",
       "      <td>1. Both answers seem factually consistent as they both mention the \\$260 million commitment from the private sector. However, Answer A provides a bit more detail about how the funds will be used.<br>2. I would lean towards Answer A as it provides a more comprehensive description of how the funds will be utilized, which aligns with the information provided in the speech.<br><br>Final Answer: A.</td>\n",
       "    </tr>\n",
       "  </tbody>\n",
       "</table>"
      ],
      "text/plain": [
       "<IPython.core.display.HTML object>"
      ]
     },
     "metadata": {},
     "output_type": "display_data"
    },
    {
     "name": "stdout",
     "output_type": "stream",
     "text": [
      "=========== END OF Expert Judge Round #3 for debate_id CNN-145383 ======= \n",
      "\n",
      "expert_judge_regular_correct_answers :: [True, None, True, True]\n"
     ]
    },
    {
     "data": {
      "text/html": [
       "<table border=\"1\" class=\"dataframe\">\n",
       "  <thead>\n",
       "    <tr style=\"text-align: right;\">\n",
       "      <th></th>\n",
       "      <th>Debate ID</th>\n",
       "      <th>Round #</th>\n",
       "      <th>Task Question</th>\n",
       "      <th>Judge Response</th>\n",
       "    </tr>\n",
       "  </thead>\n",
       "  <tbody>\n",
       "    <tr>\n",
       "      <th>0</th>\n",
       "      <td>CNN-164885</td>\n",
       "      <td>1</td>\n",
       "      <td>Which one of these summaries is the most factually consistent one?<br> Answer A:Cuba celebrated the 50th anniversary of their victory over a US-backed invasion at the Bay of Pigs.<br> Answer B:170,000 Cubans have private businesses.</td>\n",
       "      <td>1. Both answers seem to be factually correct based on the information provided in the story. Answer A summarizes the historical event of Cuba's victory at the Bay of Pigs, which is mentioned in the story. Answer B also summarizes a fact mentioned in the story, which is the number of Cubans who have taken out licenses to open their own businesses.<br>2. Since both answers are directly taken from the story and neither contains any additional information or interpretation, they are equally likely to be factually consistent.<br>3. Final Answer: A|B. Both answers are factually consistent based on the information provided in the story.</td>\n",
       "    </tr>\n",
       "  </tbody>\n",
       "</table>"
      ],
      "text/plain": [
       "<IPython.core.display.HTML object>"
      ]
     },
     "metadata": {},
     "output_type": "display_data"
    },
    {
     "data": {
      "text/html": [
       "<table border=\"1\" class=\"dataframe\">\n",
       "  <thead>\n",
       "    <tr style=\"text-align: right;\">\n",
       "      <th></th>\n",
       "      <th>Debate ID</th>\n",
       "      <th>Round #</th>\n",
       "      <th>Task Question</th>\n",
       "      <th>Judge Response</th>\n",
       "    </tr>\n",
       "  </thead>\n",
       "  <tbody>\n",
       "    <tr>\n",
       "      <th>0</th>\n",
       "      <td>CNN-164885</td>\n",
       "      <td>2</td>\n",
       "      <td>Which one of these summaries is the most factually consistent one?<br> Answer A:Cuba celebrated the 50th anniversary of their victory over a US-backed invasion at the Bay of Pigs.<br> Answer B:170,000 Cubans have private businesses.</td>\n",
       "      <td>1. Both answers seem to be factually correct based on the information provided in the story. Answer A summarizes the historical event of Cuba's victory at the Bay of Pigs, which is mentioned in the story. Answer B also summarizes a fact mentioned in the story, which is the number of Cubans who have taken out licenses to open their own businesses.<br>2. Since both answers are directly taken from the story and neither contains any additional information or interpretation, they are equally likely to be factually consistent.<br>3. Final Answer: A|B. Both answers are factually consistent based on the information provided in the story.</td>\n",
       "    </tr>\n",
       "  </tbody>\n",
       "</table>"
      ],
      "text/plain": [
       "<IPython.core.display.HTML object>"
      ]
     },
     "metadata": {},
     "output_type": "display_data"
    },
    {
     "data": {
      "text/html": [
       "<table border=\"1\" class=\"dataframe\">\n",
       "  <thead>\n",
       "    <tr style=\"text-align: right;\">\n",
       "      <th></th>\n",
       "      <th>Debate ID</th>\n",
       "      <th>Round #</th>\n",
       "      <th>Task Question</th>\n",
       "      <th>Judge Response</th>\n",
       "    </tr>\n",
       "  </thead>\n",
       "  <tbody>\n",
       "    <tr>\n",
       "      <th>0</th>\n",
       "      <td>CNN-164885</td>\n",
       "      <td>3</td>\n",
       "      <td>Which one of these summaries is the most factually consistent one?<br> Answer A:Cuba celebrated the 50th anniversary of their victory over a US-backed invasion at the Bay of Pigs.<br> Answer B:170,000 Cubans have private businesses.</td>\n",
       "      <td>1. Both answers seem to be factually correct based on the information provided in the story. Answer A summarizes the historical event of Cuba's victory at the Bay of Pigs, which is mentioned in the story. Answer B also summarizes a fact mentioned in the story, which is the number of Cubans who have taken out licenses to open their own businesses.<br>2. Since both answers are factually correct based on the information provided, it's not necessary to eliminate one to determine the other. They are independent facts.<br>3. Final Answer: Both A and B are correct.</td>\n",
       "    </tr>\n",
       "  </tbody>\n",
       "</table>"
      ],
      "text/plain": [
       "<IPython.core.display.HTML object>"
      ]
     },
     "metadata": {},
     "output_type": "display_data"
    },
    {
     "name": "stdout",
     "output_type": "stream",
     "text": [
      "=========== END OF Expert Judge Round #3 for debate_id CNN-164885 ======= \n",
      "\n",
      "expert_judge_regular_correct_answers :: [True, None, True, True, True]\n"
     ]
    },
    {
     "data": {
      "text/html": [
       "<table border=\"1\" class=\"dataframe\">\n",
       "  <thead>\n",
       "    <tr style=\"text-align: right;\">\n",
       "      <th></th>\n",
       "      <th>Debate ID</th>\n",
       "      <th>Round #</th>\n",
       "      <th>Task Question</th>\n",
       "      <th>Judge Response</th>\n",
       "    </tr>\n",
       "  </thead>\n",
       "  <tbody>\n",
       "    <tr>\n",
       "      <th>0</th>\n",
       "      <td>CNN-173359</td>\n",
       "      <td>1</td>\n",
       "      <td>Which one of these summaries is the most factually consistent one?<br> Answer A:The use of multiple drugs together, including Propofol, is not recommended outside of a hospital setting.<br> Answer B:Though Jackson was in good health, these sedatives and anesthetics stopped his breathing and led to his death.</td>\n",
       "      <td>Answer: Both A and B are factually consistent with the information provided in the story.<br><br>Thoughts:<br>Answer A is consistent with the information provided by Dr. Zeev Cain, who stated that Propofol should only be used in a hospital setting due to the need for constant monitoring.<br><br>Answer B is also consistent with the information provided, as Dr. Zeev Cain confirmed that the drugs found in Michael Jackson's system were enough to stop his breathing and lead to his death.<br><br>Final Answer: Both A and B.</td>\n",
       "    </tr>\n",
       "  </tbody>\n",
       "</table>"
      ],
      "text/plain": [
       "<IPython.core.display.HTML object>"
      ]
     },
     "metadata": {},
     "output_type": "display_data"
    },
    {
     "data": {
      "text/html": [
       "<table border=\"1\" class=\"dataframe\">\n",
       "  <thead>\n",
       "    <tr style=\"text-align: right;\">\n",
       "      <th></th>\n",
       "      <th>Debate ID</th>\n",
       "      <th>Round #</th>\n",
       "      <th>Task Question</th>\n",
       "      <th>Judge Response</th>\n",
       "    </tr>\n",
       "  </thead>\n",
       "  <tbody>\n",
       "    <tr>\n",
       "      <th>0</th>\n",
       "      <td>CNN-173359</td>\n",
       "      <td>2</td>\n",
       "      <td>Which one of these summaries is the most factually consistent one?<br> Answer A:The use of multiple drugs together, including Propofol, is not recommended outside of a hospital setting.<br> Answer B:Though Jackson was in good health, these sedatives and anesthetics stopped his breathing and led to his death.</td>\n",
       "      <td>Answer: Both A and B are factually consistent with the information provided in the story.<br><br>Explanation:<br>Answer A is consistent with the information provided by Dr. Zeev Cain, who stated that Propofol should only be used in a hospital setting due to the need for constant monitoring.<br><br>Answer B is also consistent with the information provided, as Dr. Zeev Cain confirmed that the drugs found in Michael Jackson's system were enough to stop his breathing and lead to his death.<br><br>Therefore, both answers are factually consistent with the information in the story.<br><br>Final Answer: Both A and B.</td>\n",
       "    </tr>\n",
       "  </tbody>\n",
       "</table>"
      ],
      "text/plain": [
       "<IPython.core.display.HTML object>"
      ]
     },
     "metadata": {},
     "output_type": "display_data"
    },
    {
     "data": {
      "text/html": [
       "<table border=\"1\" class=\"dataframe\">\n",
       "  <thead>\n",
       "    <tr style=\"text-align: right;\">\n",
       "      <th></th>\n",
       "      <th>Debate ID</th>\n",
       "      <th>Round #</th>\n",
       "      <th>Task Question</th>\n",
       "      <th>Judge Response</th>\n",
       "    </tr>\n",
       "  </thead>\n",
       "  <tbody>\n",
       "    <tr>\n",
       "      <th>0</th>\n",
       "      <td>CNN-173359</td>\n",
       "      <td>3</td>\n",
       "      <td>Which one of these summaries is the most factually consistent one?<br> Answer A:The use of multiple drugs together, including Propofol, is not recommended outside of a hospital setting.<br> Answer B:Though Jackson was in good health, these sedatives and anesthetics stopped his breathing and led to his death.</td>\n",
       "      <td>Answer: Both A and B are factually consistent with the information provided in the story.<br><br>Explanation:<br>Answer A is consistent with the information provided by Dr. Zeev Cain, who stated that Propofol should only be used in a hospital setting due to the need for constant monitoring.<br><br>Answer B is also consistent with the information provided, as Dr. Zeev Cain confirmed that the drugs found in Michael Jackson's system were enough to stop his breathing and lead to his death.<br><br>Therefore, both answers are factually consistent with the information in the story.<br><br>Final Answer: Both A and B.</td>\n",
       "    </tr>\n",
       "  </tbody>\n",
       "</table>"
      ],
      "text/plain": [
       "<IPython.core.display.HTML object>"
      ]
     },
     "metadata": {},
     "output_type": "display_data"
    },
    {
     "name": "stdout",
     "output_type": "stream",
     "text": [
      "=========== END OF Expert Judge Round #3 for debate_id CNN-173359 ======= \n",
      "\n",
      "expert_judge_regular_correct_answers :: [True, None, True, True, True, False]\n"
     ]
    },
    {
     "data": {
      "text/html": [
       "<table border=\"1\" class=\"dataframe\">\n",
       "  <thead>\n",
       "    <tr style=\"text-align: right;\">\n",
       "      <th></th>\n",
       "      <th>Debate ID</th>\n",
       "      <th>Round #</th>\n",
       "      <th>Task Question</th>\n",
       "      <th>Judge Response</th>\n",
       "    </tr>\n",
       "  </thead>\n",
       "  <tbody>\n",
       "    <tr>\n",
       "      <th>0</th>\n",
       "      <td>CNN-197627</td>\n",
       "      <td>1</td>\n",
       "      <td>Which one of these summaries is the most factually consistent one?<br> Answer A:The document mentions that President Obama will be attending an interfaith vigil in Newtown, Connecticut to provide comfort to the families and first responders affected by the shooting at Sandy Hook Elementary School.<br> Answer B:Connecticut police confirmed Adam Lanza fired hundreds of bullets, killing 26.</td>\n",
       "      <td>1. My task is to choose the answer that is most factually consistent with the information provided in the story.<br>2. Answer A makes a statement about President Obama's attendance at an interfaith vigil, which is a fact mentioned in the story. Answer B also presents a fact mentioned in the story, that Adam Lanza fired hundreds of bullets and killed 26 people. Both answers are factually consistent with the information in the story.<br>3. However, the question asks for the \"most factually consistent one\", which could be interpreted to mean the answer that contains only facts directly stated in the story and no additional information. In this case, Answer B provides more detail about the shooting incident than Answer A, so it could be argued that it is less factually consistent because it includes the information about the number of bullets Lanza fired and the number of people he killed, which is not explicitly stated in the question.<br>4. Based on a strict interpretation of the question, Answer A would be the most factually consistent answer. However, it's important to note that the question could be interpreted in different ways, and the intent of the questioner may have been to allow for some level of inference based on the information provided in the story. Therefore, the answer could also be argued to be both A and B, depending on the interpretation of the question.<br><br>Final Answer: A. (However, some might argue for B depending on the interpretation of the question.)</td>\n",
       "    </tr>\n",
       "  </tbody>\n",
       "</table>"
      ],
      "text/plain": [
       "<IPython.core.display.HTML object>"
      ]
     },
     "metadata": {},
     "output_type": "display_data"
    },
    {
     "data": {
      "text/html": [
       "<table border=\"1\" class=\"dataframe\">\n",
       "  <thead>\n",
       "    <tr style=\"text-align: right;\">\n",
       "      <th></th>\n",
       "      <th>Debate ID</th>\n",
       "      <th>Round #</th>\n",
       "      <th>Task Question</th>\n",
       "      <th>Judge Response</th>\n",
       "    </tr>\n",
       "  </thead>\n",
       "  <tbody>\n",
       "    <tr>\n",
       "      <th>0</th>\n",
       "      <td>CNN-197627</td>\n",
       "      <td>2</td>\n",
       "      <td>Which one of these summaries is the most factually consistent one?<br> Answer A:The document mentions that President Obama will be attending an interfaith vigil in Newtown, Connecticut to provide comfort to the families and first responders affected by the shooting at Sandy Hook Elementary School.<br> Answer B:Connecticut police confirmed Adam Lanza fired hundreds of bullets, killing 26.</td>\n",
       "      <td>1. My task is to choose the answer that is most factually consistent with the information provided in the story.<br>2. Answer A makes a statement about President Obama's attendance at an interfaith vigil, which is a fact mentioned in the story. Answer B also presents a fact mentioned in the story, that Adam Lanza fired hundreds of bullets and killed 26 people. Both answers are factually consistent with the information in the story.<br>3. However, the question asks for the \"most factually consistent one\", which could be interpreted to mean the answer that contains only facts directly stated in the story and no additional information. In this case, Answer B provides more detail about the shooting incident than Answer A, so it could be argued that it is less factually consistent because it includes the information about the number of bullets Lanza fired and the number of people he killed, which is not explicitly stated in the question.<br>4. Based on a strict interpretation of the question, Answer A would be the most factually consistent answer. However, it's important to note that the question could be interpreted in different ways, and the intent of the questioner may have been to allow for some level of inference based on the information provided in the story. Therefore, the answer could also be argued to be both A and B, depending on the interpretation of the question.<br><br>Final Answer: A. (However, some might argue for B depending on the interpretation of the question.)</td>\n",
       "    </tr>\n",
       "  </tbody>\n",
       "</table>"
      ],
      "text/plain": [
       "<IPython.core.display.HTML object>"
      ]
     },
     "metadata": {},
     "output_type": "display_data"
    },
    {
     "data": {
      "text/html": [
       "<table border=\"1\" class=\"dataframe\">\n",
       "  <thead>\n",
       "    <tr style=\"text-align: right;\">\n",
       "      <th></th>\n",
       "      <th>Debate ID</th>\n",
       "      <th>Round #</th>\n",
       "      <th>Task Question</th>\n",
       "      <th>Judge Response</th>\n",
       "    </tr>\n",
       "  </thead>\n",
       "  <tbody>\n",
       "    <tr>\n",
       "      <th>0</th>\n",
       "      <td>CNN-197627</td>\n",
       "      <td>3</td>\n",
       "      <td>Which one of these summaries is the most factually consistent one?<br> Answer A:The document mentions that President Obama will be attending an interfaith vigil in Newtown, Connecticut to provide comfort to the families and first responders affected by the shooting at Sandy Hook Elementary School.<br> Answer B:Connecticut police confirmed Adam Lanza fired hundreds of bullets, killing 26.</td>\n",
       "      <td>1. My task is to choose the answer that is most factually consistent with the information provided in the story.<br>2. Answer A makes a statement about President Obama's attendance at an interfaith vigil, which is a fact mentioned in the story. Answer B also presents a fact mentioned in the story, that Adam Lanza fired hundreds of bullets and killed 26 people. Both answers are factually consistent with the information in the story.<br>3. However, the question asks for the \"most factually consistent one\", which could be interpreted to mean the answer that contains only facts directly stated in the story and no additional information. In this case, Answer B provides more detail about the shooting incident than Answer A, so it could be argued that it is less factually consistent because it includes the information about the number of bullets Lanza fired and the number of people he killed, which is not explicitly stated in the question.<br>4. Based on a strict interpretation of the question, Answer A would be the most factually consistent answer. However, it's important to note that the question could have been phrased differently to allow for Answer B to be the correct answer. Therefore, it's always important to consider the context and specific meaning of the question when determining the answer.<br><br>Final Answer: A.</td>\n",
       "    </tr>\n",
       "  </tbody>\n",
       "</table>"
      ],
      "text/plain": [
       "<IPython.core.display.HTML object>"
      ]
     },
     "metadata": {},
     "output_type": "display_data"
    },
    {
     "name": "stdout",
     "output_type": "stream",
     "text": [
      "=========== END OF Expert Judge Round #3 for debate_id CNN-197627 ======= \n",
      "\n",
      "expert_judge_regular_correct_answers :: [True, None, True, True, True, False, True]\n"
     ]
    },
    {
     "data": {
      "text/html": [
       "<table border=\"1\" class=\"dataframe\">\n",
       "  <thead>\n",
       "    <tr style=\"text-align: right;\">\n",
       "      <th></th>\n",
       "      <th>Debate ID</th>\n",
       "      <th>Round #</th>\n",
       "      <th>Task Question</th>\n",
       "      <th>Judge Response</th>\n",
       "    </tr>\n",
       "  </thead>\n",
       "  <tbody>\n",
       "    <tr>\n",
       "      <th>0</th>\n",
       "      <td>CNN-201245</td>\n",
       "      <td>1</td>\n",
       "      <td>Which one of these summaries is the most factually consistent one?<br> Answer A:New York City Mayor Michael Bloomberg is planning to ban the use of Styrofoam in stores and restaurants due to environmental concerns.<br> Answer B:What is the proposed ban on Styrofoam in stores?</td>\n",
       "      <td>1. My analysis:<br>Answer A is a straightforward statement of fact based on the information provided in the news story. It accurately summarizes the plan of New York City Mayor Michael Bloomberg to ban Styrofoam in stores and restaurants.<br><br>Answer B, on the other hand, is an incomplete question that asks for information about the proposed ban on Styrofoam without specifying what the question is asking for exactly. It could be asking for the reason for the ban, the timeline, or other details.<br><br>2. My thoughts:<br>Given that Answer A is a complete and accurate statement of fact based on the information provided in the news story, it is the most likely answer. Answer B, being an incomplete question, does not provide enough information to determine if it is factually consistent or not.<br><br>3. The text of the answer I chose:<br>Answer A: New York City Mayor Michael Bloomberg is planning to ban the use of Styrofoam in stores and restaurants due to environmental concerns.<br><br>4. My final answer:<br>Final Answer: A.</td>\n",
       "    </tr>\n",
       "  </tbody>\n",
       "</table>"
      ],
      "text/plain": [
       "<IPython.core.display.HTML object>"
      ]
     },
     "metadata": {},
     "output_type": "display_data"
    },
    {
     "data": {
      "text/html": [
       "<table border=\"1\" class=\"dataframe\">\n",
       "  <thead>\n",
       "    <tr style=\"text-align: right;\">\n",
       "      <th></th>\n",
       "      <th>Debate ID</th>\n",
       "      <th>Round #</th>\n",
       "      <th>Task Question</th>\n",
       "      <th>Judge Response</th>\n",
       "    </tr>\n",
       "  </thead>\n",
       "  <tbody>\n",
       "    <tr>\n",
       "      <th>0</th>\n",
       "      <td>CNN-201245</td>\n",
       "      <td>2</td>\n",
       "      <td>Which one of these summaries is the most factually consistent one?<br> Answer A:New York City Mayor Michael Bloomberg is planning to ban the use of Styrofoam in stores and restaurants due to environmental concerns.<br> Answer B:What is the proposed ban on Styrofoam in stores?</td>\n",
       "      <td>1. My analysis:<br>Answer A is a straightforward statement of fact based on the information provided in the news story. It accurately summarizes the plan of New York City Mayor Michael Bloomberg to ban Styrofoam in stores and restaurants.<br><br>Answer B, on the other hand, is an incomplete question that asks for information about the proposed ban on Styrofoam without specifying what the question is asking for exactly. It could be asking for the reason for the ban, the timeline, or other details.<br><br>2. My thoughts:<br>Given that Answer A is a complete and accurate statement of fact based on the information provided in the news story, it is the most likely answer. Answer B, being an incomplete question, does not provide enough information to determine if it is factually consistent or not.<br><br>3. The text of the answer I chose:<br>Answer A: New York City Mayor Michael Bloomberg is planning to ban the use of Styrofoam in stores and restaurants due to environmental concerns.<br><br>4. My final answer:<br>Final Answer: A.</td>\n",
       "    </tr>\n",
       "  </tbody>\n",
       "</table>"
      ],
      "text/plain": [
       "<IPython.core.display.HTML object>"
      ]
     },
     "metadata": {},
     "output_type": "display_data"
    },
    {
     "data": {
      "text/html": [
       "<table border=\"1\" class=\"dataframe\">\n",
       "  <thead>\n",
       "    <tr style=\"text-align: right;\">\n",
       "      <th></th>\n",
       "      <th>Debate ID</th>\n",
       "      <th>Round #</th>\n",
       "      <th>Task Question</th>\n",
       "      <th>Judge Response</th>\n",
       "    </tr>\n",
       "  </thead>\n",
       "  <tbody>\n",
       "    <tr>\n",
       "      <th>0</th>\n",
       "      <td>CNN-201245</td>\n",
       "      <td>3</td>\n",
       "      <td>Which one of these summaries is the most factually consistent one?<br> Answer A:New York City Mayor Michael Bloomberg is planning to ban the use of Styrofoam in stores and restaurants due to environmental concerns.<br> Answer B:What is the proposed ban on Styrofoam in stores?</td>\n",
       "      <td>1. My analysis:<br>Answer A is a straightforward statement of fact based on the information provided in the news story. It accurately summarizes the plan of New York City Mayor Michael Bloomberg to ban Styrofoam in stores and restaurants.<br><br>Answer B, on the other hand, is an incomplete question that asks for information about the proposed ban on Styrofoam without specifying what the question is asking for exactly. It could be asking for the reason for the ban, the timeline, or other details.<br><br>2. My thoughts:<br>Given that Answer A is a complete and accurate statement of fact based on the information provided in the news story, it is the most likely answer. Answer B, being an incomplete question, does not provide enough information to determine if it is factually consistent or not.<br><br>3. The text of the answer I chose:<br>Answer A: New York City Mayor Michael Bloomberg is planning to ban the use of Styrofoam in stores and restaurants due to environmental concerns.<br><br>4. My final answer:<br>Final Answer: A.</td>\n",
       "    </tr>\n",
       "  </tbody>\n",
       "</table>"
      ],
      "text/plain": [
       "<IPython.core.display.HTML object>"
      ]
     },
     "metadata": {},
     "output_type": "display_data"
    },
    {
     "name": "stdout",
     "output_type": "stream",
     "text": [
      "=========== END OF Expert Judge Round #3 for debate_id CNN-201245 ======= \n",
      "\n",
      "expert_judge_regular_correct_answers :: [True, None, True, True, True, False, True, True]\n"
     ]
    },
    {
     "data": {
      "text/html": [
       "<table border=\"1\" class=\"dataframe\">\n",
       "  <thead>\n",
       "    <tr style=\"text-align: right;\">\n",
       "      <th></th>\n",
       "      <th>Debate ID</th>\n",
       "      <th>Round #</th>\n",
       "      <th>Task Question</th>\n",
       "      <th>Judge Response</th>\n",
       "    </tr>\n",
       "  </thead>\n",
       "  <tbody>\n",
       "    <tr>\n",
       "      <th>0</th>\n",
       "      <td>CNN-229050</td>\n",
       "      <td>1</td>\n",
       "      <td>Which one of these summaries is the most factually consistent one?<br> Answer A:The physician describes the phenomenon that saved the boy's life as a perfect storm of disaster that allowed him to survive by slowing down his body's need for oxygen and putting him in a frozen state until his oxygen was replenished.<br> Answer B:He is shocked that the recent 15-year-old stowaway survived with no lasting side effects.</td>\n",
       "      <td>Answer B is the most factually consistent summary. The physician's description in Answer A about the phenomenon that saved the boy's life is an explanation, not a fact. While it's an interesting hypothesis, it's not directly stated as a fact in the story. The fact that the physician is shocked that the recent stowaway survived with no lasting side effects is a fact, as it's explicitly stated in the story.<br><br>Final Answer: B. He is shocked that the recent 15-year-old stowaway survived with no lasting side effects.</td>\n",
       "    </tr>\n",
       "  </tbody>\n",
       "</table>"
      ],
      "text/plain": [
       "<IPython.core.display.HTML object>"
      ]
     },
     "metadata": {},
     "output_type": "display_data"
    },
    {
     "data": {
      "text/html": [
       "<table border=\"1\" class=\"dataframe\">\n",
       "  <thead>\n",
       "    <tr style=\"text-align: right;\">\n",
       "      <th></th>\n",
       "      <th>Debate ID</th>\n",
       "      <th>Round #</th>\n",
       "      <th>Task Question</th>\n",
       "      <th>Judge Response</th>\n",
       "    </tr>\n",
       "  </thead>\n",
       "  <tbody>\n",
       "    <tr>\n",
       "      <th>0</th>\n",
       "      <td>CNN-229050</td>\n",
       "      <td>2</td>\n",
       "      <td>Which one of these summaries is the most factually consistent one?<br> Answer A:The physician describes the phenomenon that saved the boy's life as a perfect storm of disaster that allowed him to survive by slowing down his body's need for oxygen and putting him in a frozen state until his oxygen was replenished.<br> Answer B:He is shocked that the recent 15-year-old stowaway survived with no lasting side effects.</td>\n",
       "      <td>Answer B is the most factually consistent summary. The physician's description in Answer A about the phenomenon that saved the boy's life is an explanation, not a fact. While it's an interesting hypothesis, it's not directly stated or proven in the text that the boy's survival was due to his body being in a \"frozen state\" or his \"demand for oxygen decreasing.\" The fact that the physician is surprised by the boy's lack of lasting side effects is a fact, as it is explicitly stated in the text.<br><br>Final Answer: B. He is shocked that the recent 15-year-old stowaway survived with no lasting side effects.</td>\n",
       "    </tr>\n",
       "  </tbody>\n",
       "</table>"
      ],
      "text/plain": [
       "<IPython.core.display.HTML object>"
      ]
     },
     "metadata": {},
     "output_type": "display_data"
    },
    {
     "data": {
      "text/html": [
       "<table border=\"1\" class=\"dataframe\">\n",
       "  <thead>\n",
       "    <tr style=\"text-align: right;\">\n",
       "      <th></th>\n",
       "      <th>Debate ID</th>\n",
       "      <th>Round #</th>\n",
       "      <th>Task Question</th>\n",
       "      <th>Judge Response</th>\n",
       "    </tr>\n",
       "  </thead>\n",
       "  <tbody>\n",
       "    <tr>\n",
       "      <th>0</th>\n",
       "      <td>CNN-229050</td>\n",
       "      <td>3</td>\n",
       "      <td>Which one of these summaries is the most factually consistent one?<br> Answer A:The physician describes the phenomenon that saved the boy's life as a perfect storm of disaster that allowed him to survive by slowing down his body's need for oxygen and putting him in a frozen state until his oxygen was replenished.<br> Answer B:He is shocked that the recent 15-year-old stowaway survived with no lasting side effects.</td>\n",
       "      <td>Answer B is the most factually consistent summary. The physician's description in Answer A about the phenomenon that saved the boy's life is an explanation, not a fact. While it's an interesting hypothesis, it's not directly stated as a fact in the story. The fact that the physician is shocked that the recent stowaway survived with no lasting side effects is a fact, as it's explicitly stated in the story.<br><br>Final Answer: B. He is shocked that the recent 15-year-old stowaway survived with no lasting side effects.</td>\n",
       "    </tr>\n",
       "  </tbody>\n",
       "</table>"
      ],
      "text/plain": [
       "<IPython.core.display.HTML object>"
      ]
     },
     "metadata": {},
     "output_type": "display_data"
    },
    {
     "name": "stdout",
     "output_type": "stream",
     "text": [
      "=========== END OF Expert Judge Round #3 for debate_id CNN-229050 ======= \n",
      "\n",
      "expert_judge_regular_correct_answers :: [True, None, True, True, True, False, True, True, False]\n"
     ]
    },
    {
     "data": {
      "text/html": [
       "<table border=\"1\" class=\"dataframe\">\n",
       "  <thead>\n",
       "    <tr style=\"text-align: right;\">\n",
       "      <th></th>\n",
       "      <th>Debate ID</th>\n",
       "      <th>Round #</th>\n",
       "      <th>Task Question</th>\n",
       "      <th>Judge Response</th>\n",
       "    </tr>\n",
       "  </thead>\n",
       "  <tbody>\n",
       "    <tr>\n",
       "      <th>0</th>\n",
       "      <td>CNN-239067</td>\n",
       "      <td>1</td>\n",
       "      <td>Which one of these summaries is the most factually consistent one?<br> Answer A:Currency uncertainty would be a major issue in the event of a yes vote in the Scotland referendum on independence.<br> Answer B:Currency uncertainty would arise in the event of a yes vote in the Scottish referendum, with questions about what currency would be used and how long it would take to establish credibility.</td>\n",
       "      <td>1. Both answers seem similar, but let's break down the differences. The key difference lies in the phrase \"how long it would take to establish credibility\" in answer B. While this is implied in answer A, it's explicitly stated in answer B.<br>2. Given the context of the story, which discusses the uncertainty surrounding the currency issue in the event of Scottish independence, it's reasonable to assume that the length of time it would take to establish a new currency's credibility would also be a point of concern. Therefore, answer B seems to be more factually consistent with the information provided in the story.<br>3. Final Answer: B. Currency uncertainty would arise in the event of a yes vote in the Scottish referendum, with questions about what currency would be used and how long it would take to establish credibility.</td>\n",
       "    </tr>\n",
       "  </tbody>\n",
       "</table>"
      ],
      "text/plain": [
       "<IPython.core.display.HTML object>"
      ]
     },
     "metadata": {},
     "output_type": "display_data"
    },
    {
     "data": {
      "text/html": [
       "<table border=\"1\" class=\"dataframe\">\n",
       "  <thead>\n",
       "    <tr style=\"text-align: right;\">\n",
       "      <th></th>\n",
       "      <th>Debate ID</th>\n",
       "      <th>Round #</th>\n",
       "      <th>Task Question</th>\n",
       "      <th>Judge Response</th>\n",
       "    </tr>\n",
       "  </thead>\n",
       "  <tbody>\n",
       "    <tr>\n",
       "      <th>0</th>\n",
       "      <td>CNN-239067</td>\n",
       "      <td>2</td>\n",
       "      <td>Which one of these summaries is the most factually consistent one?<br> Answer A:Currency uncertainty would be a major issue in the event of a yes vote in the Scotland referendum on independence.<br> Answer B:Currency uncertainty would arise in the event of a yes vote in the Scottish referendum, with questions about what currency would be used and how long it would take to establish credibility.</td>\n",
       "      <td>1. Both answers seem similar, but let's break down the key points to determine which one is more factually consistent with the information provided in the story.<br>2. The story mentions that there are questions about what currency Scotland would use if they voted for independence. This uncertainty is highlighted as a significant concern.<br>3. Therefore, the most factually consistent answer would be the one that directly reflects this uncertainty.<br>4. Final Answer: A. Currency uncertainty would be a major issue in the event of a yes vote in the Scotland referendum on independence.</td>\n",
       "    </tr>\n",
       "  </tbody>\n",
       "</table>"
      ],
      "text/plain": [
       "<IPython.core.display.HTML object>"
      ]
     },
     "metadata": {},
     "output_type": "display_data"
    },
    {
     "data": {
      "text/html": [
       "<table border=\"1\" class=\"dataframe\">\n",
       "  <thead>\n",
       "    <tr style=\"text-align: right;\">\n",
       "      <th></th>\n",
       "      <th>Debate ID</th>\n",
       "      <th>Round #</th>\n",
       "      <th>Task Question</th>\n",
       "      <th>Judge Response</th>\n",
       "    </tr>\n",
       "  </thead>\n",
       "  <tbody>\n",
       "    <tr>\n",
       "      <th>0</th>\n",
       "      <td>CNN-239067</td>\n",
       "      <td>3</td>\n",
       "      <td>Which one of these summaries is the most factually consistent one?<br> Answer A:Currency uncertainty would be a major issue in the event of a yes vote in the Scotland referendum on independence.<br> Answer B:Currency uncertainty would arise in the event of a yes vote in the Scottish referendum, with questions about what currency would be used and how long it would take to establish credibility.</td>\n",
       "      <td>1. Both answers seem similar, but let's break down the differences. The key difference lies in the phrase \"how long it would take to establish credibility\" in answer B. While this is implied in answer A, it's explicitly stated in answer B.<br>2. Given the context of the story, which discusses the uncertainty surrounding the currency issue in the event of Scottish independence, both answers are factually consistent. However, since answer B includes all the information in answer A and adds nothing new, it's more comprehensive.<br>3. Final Answer: B. Currency uncertainty would arise in the event of a yes vote in the Scottish referendum, with questions about what currency would be used and how long it would take to establish credibility.</td>\n",
       "    </tr>\n",
       "  </tbody>\n",
       "</table>"
      ],
      "text/plain": [
       "<IPython.core.display.HTML object>"
      ]
     },
     "metadata": {},
     "output_type": "display_data"
    },
    {
     "name": "stdout",
     "output_type": "stream",
     "text": [
      "=========== END OF Expert Judge Round #3 for debate_id CNN-239067 ======= \n",
      "\n",
      "expert_judge_regular_correct_answers :: [True, None, True, True, True, False, True, True, False, False]\n",
      "CPU times: user 749 ms, sys: 37.2 ms, total: 786 ms\n",
      "Wall time: 7min 38s\n"
     ]
    }
   ],
   "source": [
    "%%time\n",
    "\n",
    "expert_judge_regular_answers = list()\n",
    "for index, row in final_dataset.iterrows():\n",
    "    time.sleep(10) # avoid throttling exceptions\n",
    "    expert_judge_per_round = list()\n",
    "    debate_id = row['doc_id']\n",
    "    answer_a = row['summ_sent_correct_manual']\n",
    "    answer_b = row['summ_sent_incorrect_original']\n",
    "    complete_interview_transcript = row['source']\n",
    "    logger.info(f\"-------------EXPERT JUDGE Debate_id {debate_id}-------------------\")\n",
    "    for round_number in range(number_of_rounds):\n",
    "        time.sleep(10) # avoid throttling exceptions\n",
    "        logger.info(f\"Expert Judge Round #{round_number + 1} >>>>>> \\n\")\n",
    "        judge_response = invoke_mistral_standalone_expert(\n",
    "            debate_id = debate_id,\n",
    "            question = question,\n",
    "            answer_a = answer_a,\n",
    "            answer_b = answer_b,\n",
    "            complete_interview = complete_interview_transcript\n",
    "        )\n",
    "        expert_judge_per_round.append(extract_final_answer(judge_response, flipped=False))\n",
    "        logger.info(f\">>>>>>> judge_response Round #{round_number + 1}>>>>> ::  {judge_response}\")\n",
    "        # Print the final response for turn-3\n",
    "        format_final_response(debate_id, \n",
    "                              round_number + 1, \n",
    "                              question=question, \n",
    "                              answer_a=answer_a, \n",
    "                              answer_b=answer_b, \n",
    "                              judge_response=judge_response)\n",
    "        logger.info(f\"END OF Expert Judge Round #{round_number + 1} >>>>>> \\n\")\n",
    "    print(f\"=========== END OF Expert Judge Round #{round_number + 1} for debate_id {debate_id} ======= \\n\")\n",
    "    expert_judge_regular_answers.append(Counter(expert_judge_per_round).most_common()[0][0]) # get the value of the counter\n",
    "    print(f\"expert_judge_regular_correct_answers :: {expert_judge_regular_answers}\")\n",
    "\n"
   ]
  },
  {
   "cell_type": "markdown",
   "id": "1d1e088a-09d7-48d5-b37a-a4d565c68f29",
   "metadata": {},
   "source": [
    "### <a name=\"6\">Expert Judge: access to transcripts - Arguing for 2nd summary</a>\n",
    "(<a href=\"#0\">Go to top</a>)"
   ]
  },
  {
   "cell_type": "markdown",
   "id": "42dc69dd-a4a0-4243-b75d-e3a3faee4f42",
   "metadata": {},
   "source": [
    "Expert JUDGE with access to transcripts  (with 3 rounds of self-consistency) :: flip answer for position bias situation"
   ]
  },
  {
   "cell_type": "code",
   "execution_count": 14,
   "id": "943607df-7998-4512-93be-da84e7c8f087",
   "metadata": {
    "tags": []
   },
   "outputs": [
    {
     "data": {
      "text/html": [
       "<table border=\"1\" class=\"dataframe\">\n",
       "  <thead>\n",
       "    <tr style=\"text-align: right;\">\n",
       "      <th></th>\n",
       "      <th>Debate ID</th>\n",
       "      <th>Round #</th>\n",
       "      <th>Task Question</th>\n",
       "      <th>Judge Response</th>\n",
       "    </tr>\n",
       "  </thead>\n",
       "  <tbody>\n",
       "    <tr>\n",
       "      <th>0</th>\n",
       "      <td>CNN-104129</td>\n",
       "      <td>1</td>\n",
       "      <td>Which one of these summaries is the most factually consistent one?<br> Answer A:GM lost \\$10B in 2005, continues losing market share.<br> Answer B:GM lost \\$10.6B in 2005, continues losing market share.</td>\n",
       "      <td>1. Both answers are factually consistent as they both state that GM lost \\$10.6 billion in 2005 and continues to lose market share. However, Answer A rounds the figure to \\$10B, which is still within the range of accuracy.<br>2. I would consider the context of the story and the fact that the figure \\$10.6B was explicitly mentioned, making it more likely that the correct answer is B.<br>3. Final Answer: B.<br><br>Answer: B.</td>\n",
       "    </tr>\n",
       "  </tbody>\n",
       "</table>"
      ],
      "text/plain": [
       "<IPython.core.display.HTML object>"
      ]
     },
     "metadata": {},
     "output_type": "display_data"
    },
    {
     "data": {
      "text/html": [
       "<table border=\"1\" class=\"dataframe\">\n",
       "  <thead>\n",
       "    <tr style=\"text-align: right;\">\n",
       "      <th></th>\n",
       "      <th>Debate ID</th>\n",
       "      <th>Round #</th>\n",
       "      <th>Task Question</th>\n",
       "      <th>Judge Response</th>\n",
       "    </tr>\n",
       "  </thead>\n",
       "  <tbody>\n",
       "    <tr>\n",
       "      <th>0</th>\n",
       "      <td>CNN-104129</td>\n",
       "      <td>2</td>\n",
       "      <td>Which one of these summaries is the most factually consistent one?<br> Answer A:GM lost \\$10B in 2005, continues losing market share.<br> Answer B:GM lost \\$10.6B in 2005, continues losing market share.</td>\n",
       "      <td>1. Both answers are factually consistent as they both state that GM lost \\$10.6 billion in 2005 and continues to lose market share. However, Answer A rounds the figure to \\$10B, which is still within the range of accuracy.<br>2. I would consider the context of the story and the fact that the figure \\$10.6B was explicitly mentioned, making it more likely that the correct answer is B.<br>3. Final Answer: B.<br><br>Answer: B.</td>\n",
       "    </tr>\n",
       "  </tbody>\n",
       "</table>"
      ],
      "text/plain": [
       "<IPython.core.display.HTML object>"
      ]
     },
     "metadata": {},
     "output_type": "display_data"
    },
    {
     "data": {
      "text/html": [
       "<table border=\"1\" class=\"dataframe\">\n",
       "  <thead>\n",
       "    <tr style=\"text-align: right;\">\n",
       "      <th></th>\n",
       "      <th>Debate ID</th>\n",
       "      <th>Round #</th>\n",
       "      <th>Task Question</th>\n",
       "      <th>Judge Response</th>\n",
       "    </tr>\n",
       "  </thead>\n",
       "  <tbody>\n",
       "    <tr>\n",
       "      <th>0</th>\n",
       "      <td>CNN-104129</td>\n",
       "      <td>3</td>\n",
       "      <td>Which one of these summaries is the most factually consistent one?<br> Answer A:GM lost \\$10B in 2005, continues losing market share.<br> Answer B:GM lost \\$10.6B in 2005, continues losing market share.</td>\n",
       "      <td>1. Both answers are factually consistent as they both state that GM lost \\$10.6 billion in 2005 and continues to lose market share. However, Answer A rounds the figure to \\$10B, which is still within the range of accuracy.<br>2. I would consider the context of the story and the fact that the figure \\$10.6B was explicitly mentioned, making it more likely that the correct answer is B.<br>3. Final Answer: B.<br><br>Answer: B.</td>\n",
       "    </tr>\n",
       "  </tbody>\n",
       "</table>"
      ],
      "text/plain": [
       "<IPython.core.display.HTML object>"
      ]
     },
     "metadata": {},
     "output_type": "display_data"
    },
    {
     "name": "stdout",
     "output_type": "stream",
     "text": [
      "=========== END OF Expert Judge Round #3 for debate_id CNN-104129 ======= \n",
      "\n",
      "expert_judge_flipped_answers :: [True]\n"
     ]
    },
    {
     "data": {
      "text/html": [
       "<table border=\"1\" class=\"dataframe\">\n",
       "  <thead>\n",
       "    <tr style=\"text-align: right;\">\n",
       "      <th></th>\n",
       "      <th>Debate ID</th>\n",
       "      <th>Round #</th>\n",
       "      <th>Task Question</th>\n",
       "      <th>Judge Response</th>\n",
       "    </tr>\n",
       "  </thead>\n",
       "  <tbody>\n",
       "    <tr>\n",
       "      <th>0</th>\n",
       "      <td>CNN-138971</td>\n",
       "      <td>1</td>\n",
       "      <td>Which one of these summaries is the most factually consistent one?<br> Answer A:North Korea has announced plans to launch a satellite into orbit, which the US sees as a cover for testing ballistic missile technology.<br> Answer B:Diplomatic efforts to secure the release of American journalists Laura Ling and Euna Lee, who are accused of spying in North Korea and face trial, are ongoing.</td>\n",
       "      <td>Answer B is the most factually consistent one as the story explicitly mentions the ongoing diplomatic efforts to secure the release of American journalists Laura Ling and Euna Lee. There is no mention of North Korea's plans to launch a satellite in the story.<br><br>Final Answer: B.</td>\n",
       "    </tr>\n",
       "  </tbody>\n",
       "</table>"
      ],
      "text/plain": [
       "<IPython.core.display.HTML object>"
      ]
     },
     "metadata": {},
     "output_type": "display_data"
    },
    {
     "data": {
      "text/html": [
       "<table border=\"1\" class=\"dataframe\">\n",
       "  <thead>\n",
       "    <tr style=\"text-align: right;\">\n",
       "      <th></th>\n",
       "      <th>Debate ID</th>\n",
       "      <th>Round #</th>\n",
       "      <th>Task Question</th>\n",
       "      <th>Judge Response</th>\n",
       "    </tr>\n",
       "  </thead>\n",
       "  <tbody>\n",
       "    <tr>\n",
       "      <th>0</th>\n",
       "      <td>CNN-138971</td>\n",
       "      <td>2</td>\n",
       "      <td>Which one of these summaries is the most factually consistent one?<br> Answer A:North Korea has announced plans to launch a satellite into orbit, which the US sees as a cover for testing ballistic missile technology.<br> Answer B:Diplomatic efforts to secure the release of American journalists Laura Ling and Euna Lee, who are accused of spying in North Korea and face trial, are ongoing.</td>\n",
       "      <td>Answer B is the most factually consistent one as the story explicitly mentions the ongoing diplomatic efforts to secure the release of American journalists Laura Ling and Euna Lee. There is no mention of North Korea's plans to launch a satellite in the story.<br><br>Final Answer: B.</td>\n",
       "    </tr>\n",
       "  </tbody>\n",
       "</table>"
      ],
      "text/plain": [
       "<IPython.core.display.HTML object>"
      ]
     },
     "metadata": {},
     "output_type": "display_data"
    },
    {
     "data": {
      "text/html": [
       "<table border=\"1\" class=\"dataframe\">\n",
       "  <thead>\n",
       "    <tr style=\"text-align: right;\">\n",
       "      <th></th>\n",
       "      <th>Debate ID</th>\n",
       "      <th>Round #</th>\n",
       "      <th>Task Question</th>\n",
       "      <th>Judge Response</th>\n",
       "    </tr>\n",
       "  </thead>\n",
       "  <tbody>\n",
       "    <tr>\n",
       "      <th>0</th>\n",
       "      <td>CNN-138971</td>\n",
       "      <td>3</td>\n",
       "      <td>Which one of these summaries is the most factually consistent one?<br> Answer A:North Korea has announced plans to launch a satellite into orbit, which the US sees as a cover for testing ballistic missile technology.<br> Answer B:Diplomatic efforts to secure the release of American journalists Laura Ling and Euna Lee, who are accused of spying in North Korea and face trial, are ongoing.</td>\n",
       "      <td>Answer B is the most factually consistent one as the story explicitly mentions the ongoing diplomatic efforts to secure the release of American journalists Laura Ling and Euna Lee. There is no mention of North Korea's plans to launch a satellite in the story.<br><br>Final Answer: B.</td>\n",
       "    </tr>\n",
       "  </tbody>\n",
       "</table>"
      ],
      "text/plain": [
       "<IPython.core.display.HTML object>"
      ]
     },
     "metadata": {},
     "output_type": "display_data"
    },
    {
     "name": "stdout",
     "output_type": "stream",
     "text": [
      "=========== END OF Expert Judge Round #3 for debate_id CNN-138971 ======= \n",
      "\n",
      "expert_judge_flipped_answers :: [True, True]\n"
     ]
    },
    {
     "data": {
      "text/html": [
       "<table border=\"1\" class=\"dataframe\">\n",
       "  <thead>\n",
       "    <tr style=\"text-align: right;\">\n",
       "      <th></th>\n",
       "      <th>Debate ID</th>\n",
       "      <th>Round #</th>\n",
       "      <th>Task Question</th>\n",
       "      <th>Judge Response</th>\n",
       "    </tr>\n",
       "  </thead>\n",
       "  <tbody>\n",
       "    <tr>\n",
       "      <th>0</th>\n",
       "      <td>CNN-139946</td>\n",
       "      <td>1</td>\n",
       "      <td>Which one of these summaries is the most factually consistent one?<br> Answer A:This filibuster-proof majority means Democrats can pass legislation without Republican support.<br> Answer B:Democrats gain 60 seats in Senate, giving them a filibuster-proof majority.</td>\n",
       "      <td>Answer: B. Democrats gain 60 seats in Senate, giving them a filibuster-proof majority.<br><br>Explanation:<br>The story mentions that the Democrats now have 60 seats in the Senate, which is the number required for a filibuster-proof majority. Answer A is not incorrect, but it is less specific and could apply to any situation where Democrats have a filibuster-proof majority, not just this one. Therefore, Answer B is the most factually consistent one given the information provided in the story.<br><br>Final Answer: Final Answer: B.</td>\n",
       "    </tr>\n",
       "  </tbody>\n",
       "</table>"
      ],
      "text/plain": [
       "<IPython.core.display.HTML object>"
      ]
     },
     "metadata": {},
     "output_type": "display_data"
    },
    {
     "data": {
      "text/html": [
       "<table border=\"1\" class=\"dataframe\">\n",
       "  <thead>\n",
       "    <tr style=\"text-align: right;\">\n",
       "      <th></th>\n",
       "      <th>Debate ID</th>\n",
       "      <th>Round #</th>\n",
       "      <th>Task Question</th>\n",
       "      <th>Judge Response</th>\n",
       "    </tr>\n",
       "  </thead>\n",
       "  <tbody>\n",
       "    <tr>\n",
       "      <th>0</th>\n",
       "      <td>CNN-139946</td>\n",
       "      <td>2</td>\n",
       "      <td>Which one of these summaries is the most factually consistent one?<br> Answer A:This filibuster-proof majority means Democrats can pass legislation without Republican support.<br> Answer B:Democrats gain 60 seats in Senate, giving them a filibuster-proof majority.</td>\n",
       "      <td>Answer: B. Democrats gain 60 seats in Senate, giving them a filibuster-proof majority.<br><br>Explanation:<br>The story mentions that the Democrats now have 60 seats in the Senate, which is the number required for a filibuster-proof majority. Answer A is not incorrect, but it is less specific and could be interpreted in different ways. The term \"filibuster-proof majority\" specifically refers to having 60 votes, so Answer B is the most factually consistent one based on the information provided in the story.<br><br>Final Answer: Final Answer: B.</td>\n",
       "    </tr>\n",
       "  </tbody>\n",
       "</table>"
      ],
      "text/plain": [
       "<IPython.core.display.HTML object>"
      ]
     },
     "metadata": {},
     "output_type": "display_data"
    },
    {
     "data": {
      "text/html": [
       "<table border=\"1\" class=\"dataframe\">\n",
       "  <thead>\n",
       "    <tr style=\"text-align: right;\">\n",
       "      <th></th>\n",
       "      <th>Debate ID</th>\n",
       "      <th>Round #</th>\n",
       "      <th>Task Question</th>\n",
       "      <th>Judge Response</th>\n",
       "    </tr>\n",
       "  </thead>\n",
       "  <tbody>\n",
       "    <tr>\n",
       "      <th>0</th>\n",
       "      <td>CNN-139946</td>\n",
       "      <td>3</td>\n",
       "      <td>Which one of these summaries is the most factually consistent one?<br> Answer A:This filibuster-proof majority means Democrats can pass legislation without Republican support.<br> Answer B:Democrats gain 60 seats in Senate, giving them a filibuster-proof majority.</td>\n",
       "      <td>Answer: B. Democrats gain 60 seats in Senate, giving them a filibuster-proof majority.<br><br>Explanation:<br>The story mentions that the Democrats now have 60 seats in the Senate, which is the number required for a filibuster-proof majority. Answer A is not incorrect, but it is less specific and could be interpreted in different ways. The term \"filibuster-proof majority\" specifically refers to having 60 votes, so Answer B is the most factually consistent one based on the information provided in the story.<br><br>Final Answer: Final Answer: B.</td>\n",
       "    </tr>\n",
       "  </tbody>\n",
       "</table>"
      ],
      "text/plain": [
       "<IPython.core.display.HTML object>"
      ]
     },
     "metadata": {},
     "output_type": "display_data"
    },
    {
     "name": "stdout",
     "output_type": "stream",
     "text": [
      "=========== END OF Expert Judge Round #3 for debate_id CNN-139946 ======= \n",
      "\n",
      "expert_judge_flipped_answers :: [True, True, True]\n"
     ]
    },
    {
     "data": {
      "text/html": [
       "<table border=\"1\" class=\"dataframe\">\n",
       "  <thead>\n",
       "    <tr style=\"text-align: right;\">\n",
       "      <th></th>\n",
       "      <th>Debate ID</th>\n",
       "      <th>Round #</th>\n",
       "      <th>Task Question</th>\n",
       "      <th>Judge Response</th>\n",
       "    </tr>\n",
       "  </thead>\n",
       "  <tbody>\n",
       "    <tr>\n",
       "      <th>0</th>\n",
       "      <td>CNN-145383</td>\n",
       "      <td>1</td>\n",
       "      <td>Which one of these summaries is the most factually consistent one?<br> Answer A:The private sector has committed over \\$260 million to the campaign, and the initial focus is on reaching young students with interactive science content.<br> Answer B:Over \\$260 million in private funding will support programs to engage students, improve teacher effectiveness, and promote hands-on learning.</td>\n",
       "      <td>1. Both answers seem to be factually consistent as they both mention the \\$260 million commitment from the private sector. However, Answer A is more specific about the focus being on reaching young students with interactive science content, which is also mentioned in the speech.<br>2. The speech emphasizes the private sector's commitment to the campaign and the focus on reaching young students with interactive science content. Both of these points are included in Answer A.<br>3. Final Answer: A.</td>\n",
       "    </tr>\n",
       "  </tbody>\n",
       "</table>"
      ],
      "text/plain": [
       "<IPython.core.display.HTML object>"
      ]
     },
     "metadata": {},
     "output_type": "display_data"
    },
    {
     "data": {
      "text/html": [
       "<table border=\"1\" class=\"dataframe\">\n",
       "  <thead>\n",
       "    <tr style=\"text-align: right;\">\n",
       "      <th></th>\n",
       "      <th>Debate ID</th>\n",
       "      <th>Round #</th>\n",
       "      <th>Task Question</th>\n",
       "      <th>Judge Response</th>\n",
       "    </tr>\n",
       "  </thead>\n",
       "  <tbody>\n",
       "    <tr>\n",
       "      <th>0</th>\n",
       "      <td>CNN-145383</td>\n",
       "      <td>2</td>\n",
       "      <td>Which one of these summaries is the most factually consistent one?<br> Answer A:The private sector has committed over \\$260 million to the campaign, and the initial focus is on reaching young students with interactive science content.<br> Answer B:Over \\$260 million in private funding will support programs to engage students, improve teacher effectiveness, and promote hands-on learning.</td>\n",
       "      <td>1. Both answers seem to be factually consistent as they both mention the \\$260 million commitment from the private sector. However, Answer A is more specific about the focus being on reaching young students with interactive science content, which is also mentioned in the speech.<br>2. The speech emphasizes the private sector's commitment to the campaign and the focus on reaching young students with interactive science content. Both of these points are included in Answer A.<br>3. Final Answer: A.</td>\n",
       "    </tr>\n",
       "  </tbody>\n",
       "</table>"
      ],
      "text/plain": [
       "<IPython.core.display.HTML object>"
      ]
     },
     "metadata": {},
     "output_type": "display_data"
    },
    {
     "data": {
      "text/html": [
       "<table border=\"1\" class=\"dataframe\">\n",
       "  <thead>\n",
       "    <tr style=\"text-align: right;\">\n",
       "      <th></th>\n",
       "      <th>Debate ID</th>\n",
       "      <th>Round #</th>\n",
       "      <th>Task Question</th>\n",
       "      <th>Judge Response</th>\n",
       "    </tr>\n",
       "  </thead>\n",
       "  <tbody>\n",
       "    <tr>\n",
       "      <th>0</th>\n",
       "      <td>CNN-145383</td>\n",
       "      <td>3</td>\n",
       "      <td>Which one of these summaries is the most factually consistent one?<br> Answer A:The private sector has committed over \\$260 million to the campaign, and the initial focus is on reaching young students with interactive science content.<br> Answer B:Over \\$260 million in private funding will support programs to engage students, improve teacher effectiveness, and promote hands-on learning.</td>\n",
       "      <td>1. Both answers seem to be factually consistent as they both mention the \\$260 million commitment from the private sector. However, Answer A is more specific about the focus being on reaching young students with interactive science content, which is also mentioned in the speech.<br>2. The speech emphasizes the private sector's commitment to the campaign and the focus on reaching young students with interactive science content. Both of these points are included in Answer A.<br>3. Final Answer: A.</td>\n",
       "    </tr>\n",
       "  </tbody>\n",
       "</table>"
      ],
      "text/plain": [
       "<IPython.core.display.HTML object>"
      ]
     },
     "metadata": {},
     "output_type": "display_data"
    },
    {
     "name": "stdout",
     "output_type": "stream",
     "text": [
      "=========== END OF Expert Judge Round #3 for debate_id CNN-145383 ======= \n",
      "\n",
      "expert_judge_flipped_answers :: [True, True, True, False]\n"
     ]
    },
    {
     "data": {
      "text/html": [
       "<table border=\"1\" class=\"dataframe\">\n",
       "  <thead>\n",
       "    <tr style=\"text-align: right;\">\n",
       "      <th></th>\n",
       "      <th>Debate ID</th>\n",
       "      <th>Round #</th>\n",
       "      <th>Task Question</th>\n",
       "      <th>Judge Response</th>\n",
       "    </tr>\n",
       "  </thead>\n",
       "  <tbody>\n",
       "    <tr>\n",
       "      <th>0</th>\n",
       "      <td>CNN-164885</td>\n",
       "      <td>1</td>\n",
       "      <td>Which one of these summaries is the most factually consistent one?<br> Answer A:170,000 Cubans have private businesses.<br> Answer B:Cuba celebrated the 50th anniversary of their victory over a US-backed invasion at the Bay of Pigs.</td>\n",
       "      <td>1. Both answers A and B are factually correct based on the information provided in the story. Answer A mentions that 170,000 Cubans have private businesses, which is consistent with the information in the story about the communist party's plans to allow more private enterprise and layoffs in the state sector. Answer B states that Cuba celebrated the 50th anniversary of their victory over a US-backed invasion at the Bay of Pigs, which is also a fact mentioned in the story.<br><br>2. Since both answers are factually correct based on the information provided, there is no need to think step by step about which one is more likely to be correct. They are equally accurate.<br><br>3. I cannot output text directly, but if I could, I would output \"Both A and B are correct.\"<br><br>4. Final Answer: Both A and B.</td>\n",
       "    </tr>\n",
       "  </tbody>\n",
       "</table>"
      ],
      "text/plain": [
       "<IPython.core.display.HTML object>"
      ]
     },
     "metadata": {},
     "output_type": "display_data"
    },
    {
     "data": {
      "text/html": [
       "<table border=\"1\" class=\"dataframe\">\n",
       "  <thead>\n",
       "    <tr style=\"text-align: right;\">\n",
       "      <th></th>\n",
       "      <th>Debate ID</th>\n",
       "      <th>Round #</th>\n",
       "      <th>Task Question</th>\n",
       "      <th>Judge Response</th>\n",
       "    </tr>\n",
       "  </thead>\n",
       "  <tbody>\n",
       "    <tr>\n",
       "      <th>0</th>\n",
       "      <td>CNN-164885</td>\n",
       "      <td>2</td>\n",
       "      <td>Which one of these summaries is the most factually consistent one?<br> Answer A:170,000 Cubans have private businesses.<br> Answer B:Cuba celebrated the 50th anniversary of their victory over a US-backed invasion at the Bay of Pigs.</td>\n",
       "      <td>1. Both answers A and B are factually correct based on the information provided in the story. Answer A mentions that 170,000 Cubans have private businesses, which is consistent with the information in the story about the communist party's plans to allow more private enterprise and layoffs in the state sector. Answer B states that Cuba celebrated the 50th anniversary of their victory over a US-backed invasion at the Bay of Pigs, which is also a fact mentioned in the story.<br><br>2. Since both answers are factually correct based on the information provided, there is no need to think step by step about which one is more likely to be correct. They are equally accurate.<br><br>3. I cannot output text directly, but if I could, I would output \"Both A and B are correct.\"<br><br>4. Final Answer: Both A and B.</td>\n",
       "    </tr>\n",
       "  </tbody>\n",
       "</table>"
      ],
      "text/plain": [
       "<IPython.core.display.HTML object>"
      ]
     },
     "metadata": {},
     "output_type": "display_data"
    },
    {
     "data": {
      "text/html": [
       "<table border=\"1\" class=\"dataframe\">\n",
       "  <thead>\n",
       "    <tr style=\"text-align: right;\">\n",
       "      <th></th>\n",
       "      <th>Debate ID</th>\n",
       "      <th>Round #</th>\n",
       "      <th>Task Question</th>\n",
       "      <th>Judge Response</th>\n",
       "    </tr>\n",
       "  </thead>\n",
       "  <tbody>\n",
       "    <tr>\n",
       "      <th>0</th>\n",
       "      <td>CNN-164885</td>\n",
       "      <td>3</td>\n",
       "      <td>Which one of these summaries is the most factually consistent one?<br> Answer A:170,000 Cubans have private businesses.<br> Answer B:Cuba celebrated the 50th anniversary of their victory over a US-backed invasion at the Bay of Pigs.</td>\n",
       "      <td>1. Both answers A and B are factually correct based on the information provided in the story. Answer A mentions that 170,000 Cubans have private businesses, which is consistent with the information in the story about the communist party's plans to allow more private enterprise and layoffs in the state sector. Answer B states that Cuba celebrated the 50th anniversary of their victory over a US-backed invasion at the Bay of Pigs, which is also a fact mentioned in the story.<br><br>2. Since both answers are factually correct based on the information provided, there is no need to think step by step about which one is more likely to be correct. They are equally accurate.<br><br>3. I cannot output text directly, but if I could, I would output \"Both A and B are correct.\"<br><br>4. Final Answer: Both A and B.</td>\n",
       "    </tr>\n",
       "  </tbody>\n",
       "</table>"
      ],
      "text/plain": [
       "<IPython.core.display.HTML object>"
      ]
     },
     "metadata": {},
     "output_type": "display_data"
    },
    {
     "name": "stdout",
     "output_type": "stream",
     "text": [
      "=========== END OF Expert Judge Round #3 for debate_id CNN-164885 ======= \n",
      "\n",
      "expert_judge_flipped_answers :: [True, True, True, False, True]\n"
     ]
    },
    {
     "data": {
      "text/html": [
       "<table border=\"1\" class=\"dataframe\">\n",
       "  <thead>\n",
       "    <tr style=\"text-align: right;\">\n",
       "      <th></th>\n",
       "      <th>Debate ID</th>\n",
       "      <th>Round #</th>\n",
       "      <th>Task Question</th>\n",
       "      <th>Judge Response</th>\n",
       "    </tr>\n",
       "  </thead>\n",
       "  <tbody>\n",
       "    <tr>\n",
       "      <th>0</th>\n",
       "      <td>CNN-173359</td>\n",
       "      <td>1</td>\n",
       "      <td>Which one of these summaries is the most factually consistent one?<br> Answer A:Though Jackson was in good health, these sedatives and anesthetics stopped his breathing and led to his death.<br> Answer B:The use of multiple drugs together, including Propofol, is not recommended outside of a hospital setting.</td>\n",
       "      <td>Answer: Both A and B are factually consistent with the information provided in the story.<br><br>Thoughts:<br>Answer A is consistent with the information provided by Dr. Zeev Cain who stated that the drugs found in Michael Jackson's system were enough to stop his breathing and lead to his death.<br><br>Answer B is also consistent with the information provided as Dr. Cain mentioned that Propofol, one of the drugs found in Michael Jackson's system, should not be used outside of a hospital setting due to the need for constant monitoring.<br><br>Final Answer: Both A and B.</td>\n",
       "    </tr>\n",
       "  </tbody>\n",
       "</table>"
      ],
      "text/plain": [
       "<IPython.core.display.HTML object>"
      ]
     },
     "metadata": {},
     "output_type": "display_data"
    },
    {
     "data": {
      "text/html": [
       "<table border=\"1\" class=\"dataframe\">\n",
       "  <thead>\n",
       "    <tr style=\"text-align: right;\">\n",
       "      <th></th>\n",
       "      <th>Debate ID</th>\n",
       "      <th>Round #</th>\n",
       "      <th>Task Question</th>\n",
       "      <th>Judge Response</th>\n",
       "    </tr>\n",
       "  </thead>\n",
       "  <tbody>\n",
       "    <tr>\n",
       "      <th>0</th>\n",
       "      <td>CNN-173359</td>\n",
       "      <td>2</td>\n",
       "      <td>Which one of these summaries is the most factually consistent one?<br> Answer A:Though Jackson was in good health, these sedatives and anesthetics stopped his breathing and led to his death.<br> Answer B:The use of multiple drugs together, including Propofol, is not recommended outside of a hospital setting.</td>\n",
       "      <td>Answer: Both A and B are factually consistent with the information provided in the story.<br><br>Thoughts:<br>Answer A is consistent with the information provided by Dr. Zeev Cain who stated that the drugs found in Michael Jackson's system were enough to stop his breathing and lead to his death.<br><br>Answer B is also consistent with the information provided as Dr. Cain mentioned that Propofol, one of the drugs found in Michael Jackson's system, should not be used outside of a hospital setting due to the need for constant monitoring.<br><br>Final Answer: Both A and B.</td>\n",
       "    </tr>\n",
       "  </tbody>\n",
       "</table>"
      ],
      "text/plain": [
       "<IPython.core.display.HTML object>"
      ]
     },
     "metadata": {},
     "output_type": "display_data"
    },
    {
     "data": {
      "text/html": [
       "<table border=\"1\" class=\"dataframe\">\n",
       "  <thead>\n",
       "    <tr style=\"text-align: right;\">\n",
       "      <th></th>\n",
       "      <th>Debate ID</th>\n",
       "      <th>Round #</th>\n",
       "      <th>Task Question</th>\n",
       "      <th>Judge Response</th>\n",
       "    </tr>\n",
       "  </thead>\n",
       "  <tbody>\n",
       "    <tr>\n",
       "      <th>0</th>\n",
       "      <td>CNN-173359</td>\n",
       "      <td>3</td>\n",
       "      <td>Which one of these summaries is the most factually consistent one?<br> Answer A:Though Jackson was in good health, these sedatives and anesthetics stopped his breathing and led to his death.<br> Answer B:The use of multiple drugs together, including Propofol, is not recommended outside of a hospital setting.</td>\n",
       "      <td>Answer: Both A and B are factually consistent with the information provided in the story.<br><br>Thoughts:<br>Answer A is consistent with the information provided by Dr. Zeev Cain who stated that the drugs found in Michael Jackson's system were enough to stop his breathing and lead to his death.<br><br>Answer B is also consistent with the information provided as Dr. Cain mentioned that Propofol, one of the drugs found in Michael Jackson's system, should not be used outside of a hospital setting due to the need for constant monitoring.<br><br>Final Answer: Both A and B.</td>\n",
       "    </tr>\n",
       "  </tbody>\n",
       "</table>"
      ],
      "text/plain": [
       "<IPython.core.display.HTML object>"
      ]
     },
     "metadata": {},
     "output_type": "display_data"
    },
    {
     "name": "stdout",
     "output_type": "stream",
     "text": [
      "=========== END OF Expert Judge Round #3 for debate_id CNN-173359 ======= \n",
      "\n",
      "expert_judge_flipped_answers :: [True, True, True, False, True, True]\n"
     ]
    },
    {
     "data": {
      "text/html": [
       "<table border=\"1\" class=\"dataframe\">\n",
       "  <thead>\n",
       "    <tr style=\"text-align: right;\">\n",
       "      <th></th>\n",
       "      <th>Debate ID</th>\n",
       "      <th>Round #</th>\n",
       "      <th>Task Question</th>\n",
       "      <th>Judge Response</th>\n",
       "    </tr>\n",
       "  </thead>\n",
       "  <tbody>\n",
       "    <tr>\n",
       "      <th>0</th>\n",
       "      <td>CNN-197627</td>\n",
       "      <td>1</td>\n",
       "      <td>Which one of these summaries is the most factually consistent one?<br> Answer A:Connecticut police confirmed Adam Lanza fired hundreds of bullets, killing 26.<br> Answer B:The document mentions that President Obama will be attending an interfaith vigil in Newtown, Connecticut to provide comfort to the families and first responders affected by the shooting at Sandy Hook Elementary School.</td>\n",
       "      <td>1. Both answers are factually correct but they provide different types of information. Answer A summarizes the key actions of Adam Lanza, while Answer B informs about President Obama's visit to Newtown.<br>2. To determine which answer is more factually consistent with the provided story, we should focus on the information directly related to the shooting incident.<br>3. Answer A: Connecticut police confirmed Adam Lanza fired hundreds of bullets, killing 26.<br>4. Final Answer: A.</td>\n",
       "    </tr>\n",
       "  </tbody>\n",
       "</table>"
      ],
      "text/plain": [
       "<IPython.core.display.HTML object>"
      ]
     },
     "metadata": {},
     "output_type": "display_data"
    },
    {
     "data": {
      "text/html": [
       "<table border=\"1\" class=\"dataframe\">\n",
       "  <thead>\n",
       "    <tr style=\"text-align: right;\">\n",
       "      <th></th>\n",
       "      <th>Debate ID</th>\n",
       "      <th>Round #</th>\n",
       "      <th>Task Question</th>\n",
       "      <th>Judge Response</th>\n",
       "    </tr>\n",
       "  </thead>\n",
       "  <tbody>\n",
       "    <tr>\n",
       "      <th>0</th>\n",
       "      <td>CNN-197627</td>\n",
       "      <td>2</td>\n",
       "      <td>Which one of these summaries is the most factually consistent one?<br> Answer A:Connecticut police confirmed Adam Lanza fired hundreds of bullets, killing 26.<br> Answer B:The document mentions that President Obama will be attending an interfaith vigil in Newtown, Connecticut to provide comfort to the families and first responders affected by the shooting at Sandy Hook Elementary School.</td>\n",
       "      <td>1. Both answers are factually correct but they provide different types of information. Answer A summarizes the key actions of Adam Lanza, while Answer B informs about President Obama's visit to Newtown.<br>2. To determine which answer is more factually consistent with the provided story, we should focus on the information presented in the story itself. The story mentions that Adam Lanza fired hundreds of bullets and killed 26 people, which is exactly what Answer A states. The story also mentions President Obama's visit to Newtown, which is what Answer B states.<br>3. Final Answer: A.<br><br>Answer A: Connecticut police confirmed Adam Lanza fired hundreds of bullets, killing 26.</td>\n",
       "    </tr>\n",
       "  </tbody>\n",
       "</table>"
      ],
      "text/plain": [
       "<IPython.core.display.HTML object>"
      ]
     },
     "metadata": {},
     "output_type": "display_data"
    },
    {
     "data": {
      "text/html": [
       "<table border=\"1\" class=\"dataframe\">\n",
       "  <thead>\n",
       "    <tr style=\"text-align: right;\">\n",
       "      <th></th>\n",
       "      <th>Debate ID</th>\n",
       "      <th>Round #</th>\n",
       "      <th>Task Question</th>\n",
       "      <th>Judge Response</th>\n",
       "    </tr>\n",
       "  </thead>\n",
       "  <tbody>\n",
       "    <tr>\n",
       "      <th>0</th>\n",
       "      <td>CNN-197627</td>\n",
       "      <td>3</td>\n",
       "      <td>Which one of these summaries is the most factually consistent one?<br> Answer A:Connecticut police confirmed Adam Lanza fired hundreds of bullets, killing 26.<br> Answer B:The document mentions that President Obama will be attending an interfaith vigil in Newtown, Connecticut to provide comfort to the families and first responders affected by the shooting at Sandy Hook Elementary School.</td>\n",
       "      <td>1. Both answers are factually correct but they provide different types of information. Answer A summarizes the key actions of Adam Lanza, while Answer B informs about President Obama's visit to Newtown.<br>2. To determine which answer is more factually consistent with the provided story, we should focus on the information presented in the story itself. The story mentions that Adam Lanza fired hundreds of bullets and killed 26 people, which is exactly what Answer A states. The story also mentions President Obama's visit to Newtown, which is what Answer B states.<br>3. Final Answer: A.<br><br>Answer A: Connecticut police confirmed Adam Lanza fired hundreds of bullets, killing 26.</td>\n",
       "    </tr>\n",
       "  </tbody>\n",
       "</table>"
      ],
      "text/plain": [
       "<IPython.core.display.HTML object>"
      ]
     },
     "metadata": {},
     "output_type": "display_data"
    },
    {
     "name": "stdout",
     "output_type": "stream",
     "text": [
      "=========== END OF Expert Judge Round #3 for debate_id CNN-197627 ======= \n",
      "\n",
      "expert_judge_flipped_answers :: [True, True, True, False, True, True, False]\n"
     ]
    },
    {
     "data": {
      "text/html": [
       "<table border=\"1\" class=\"dataframe\">\n",
       "  <thead>\n",
       "    <tr style=\"text-align: right;\">\n",
       "      <th></th>\n",
       "      <th>Debate ID</th>\n",
       "      <th>Round #</th>\n",
       "      <th>Task Question</th>\n",
       "      <th>Judge Response</th>\n",
       "    </tr>\n",
       "  </thead>\n",
       "  <tbody>\n",
       "    <tr>\n",
       "      <th>0</th>\n",
       "      <td>CNN-201245</td>\n",
       "      <td>1</td>\n",
       "      <td>Which one of these summaries is the most factually consistent one?<br> Answer A:What is the proposed ban on Styrofoam in stores?<br> Answer B:New York City Mayor Michael Bloomberg is planning to ban the use of Styrofoam in stores and restaurants due to environmental concerns.</td>\n",
       "      <td>1. Both answers seem factually consistent as they both mention the proposed Styrofoam ban in New York City. However, Answer B is more detailed and directly quotes the Mayor's intention, making it more likely to be correct.<br>2. The news report in the story mentions that Mayor Michael Bloomberg is planning to ban Styrofoam in stores and restaurants. This information is directly quoted in Answer B, making it the more factually consistent answer.<br>3. Answer B: New York City Mayor Michael Bloomberg is planning to ban the use of Styrofoam in stores and restaurants due to environmental concerns.<br>4. Final Answer: A&lt;B&gt; (This format indicates that Answer A is less factually consistent than Answer B)</td>\n",
       "    </tr>\n",
       "  </tbody>\n",
       "</table>"
      ],
      "text/plain": [
       "<IPython.core.display.HTML object>"
      ]
     },
     "metadata": {},
     "output_type": "display_data"
    },
    {
     "data": {
      "text/html": [
       "<table border=\"1\" class=\"dataframe\">\n",
       "  <thead>\n",
       "    <tr style=\"text-align: right;\">\n",
       "      <th></th>\n",
       "      <th>Debate ID</th>\n",
       "      <th>Round #</th>\n",
       "      <th>Task Question</th>\n",
       "      <th>Judge Response</th>\n",
       "    </tr>\n",
       "  </thead>\n",
       "  <tbody>\n",
       "    <tr>\n",
       "      <th>0</th>\n",
       "      <td>CNN-201245</td>\n",
       "      <td>2</td>\n",
       "      <td>Which one of these summaries is the most factually consistent one?<br> Answer A:What is the proposed ban on Styrofoam in stores?<br> Answer B:New York City Mayor Michael Bloomberg is planning to ban the use of Styrofoam in stores and restaurants due to environmental concerns.</td>\n",
       "      <td>1. Both answers seem factually consistent as they both mention the proposed Styrofoam ban in New York City. However, Answer B is more detailed and directly quotes the Mayor's intention, making it more likely to be correct.<br>2. The news report in the story mentions that Mayor Michael Bloomberg is planning to ban Styrofoam in stores and restaurants. This information is directly quoted in Answer B, making it the more factually consistent answer.<br>3. Answer B: New York City Mayor Michael Bloomberg is planning to ban the use of Styrofoam in stores and restaurants due to environmental concerns.<br>4. Final Answer: A&lt;B&gt; (This format indicates that Answer A is less factually consistent than Answer B)</td>\n",
       "    </tr>\n",
       "  </tbody>\n",
       "</table>"
      ],
      "text/plain": [
       "<IPython.core.display.HTML object>"
      ]
     },
     "metadata": {},
     "output_type": "display_data"
    },
    {
     "data": {
      "text/html": [
       "<table border=\"1\" class=\"dataframe\">\n",
       "  <thead>\n",
       "    <tr style=\"text-align: right;\">\n",
       "      <th></th>\n",
       "      <th>Debate ID</th>\n",
       "      <th>Round #</th>\n",
       "      <th>Task Question</th>\n",
       "      <th>Judge Response</th>\n",
       "    </tr>\n",
       "  </thead>\n",
       "  <tbody>\n",
       "    <tr>\n",
       "      <th>0</th>\n",
       "      <td>CNN-201245</td>\n",
       "      <td>3</td>\n",
       "      <td>Which one of these summaries is the most factually consistent one?<br> Answer A:What is the proposed ban on Styrofoam in stores?<br> Answer B:New York City Mayor Michael Bloomberg is planning to ban the use of Styrofoam in stores and restaurants due to environmental concerns.</td>\n",
       "      <td>1. Both answers seem factually consistent as they both mention the proposed Styrofoam ban in New York City. However, Answer B is more detailed and directly quotes the Mayor's intention, making it more likely to be correct.<br>2. The news report in the story mentions that Mayor Michael Bloomberg is planning to ban Styrofoam in stores and restaurants. This information is directly quoted in Answer B, making it the more factually consistent answer.<br>3. Answer B: New York City Mayor Michael Bloomberg is planning to ban the use of Styrofoam in stores and restaurants due to environmental concerns.<br>4. Final Answer: A&lt;B&gt; (This format indicates that Answer A is less factually consistent than Answer B)</td>\n",
       "    </tr>\n",
       "  </tbody>\n",
       "</table>"
      ],
      "text/plain": [
       "<IPython.core.display.HTML object>"
      ]
     },
     "metadata": {},
     "output_type": "display_data"
    },
    {
     "name": "stdout",
     "output_type": "stream",
     "text": [
      "=========== END OF Expert Judge Round #3 for debate_id CNN-201245 ======= \n",
      "\n",
      "expert_judge_flipped_answers :: [True, True, True, False, True, True, False, False]\n"
     ]
    },
    {
     "data": {
      "text/html": [
       "<table border=\"1\" class=\"dataframe\">\n",
       "  <thead>\n",
       "    <tr style=\"text-align: right;\">\n",
       "      <th></th>\n",
       "      <th>Debate ID</th>\n",
       "      <th>Round #</th>\n",
       "      <th>Task Question</th>\n",
       "      <th>Judge Response</th>\n",
       "    </tr>\n",
       "  </thead>\n",
       "  <tbody>\n",
       "    <tr>\n",
       "      <th>0</th>\n",
       "      <td>CNN-229050</td>\n",
       "      <td>1</td>\n",
       "      <td>Which one of these summaries is the most factually consistent one?<br> Answer A:He is shocked that the recent 15-year-old stowaway survived with no lasting side effects.<br> Answer B:The physician describes the phenomenon that saved the boy's life as a perfect storm of disaster that allowed him to survive by slowing down his body's need for oxygen and putting him in a frozen state until his oxygen was replenished.</td>\n",
       "      <td>Answer B is the most factually consistent one. The physician, Dr. Dorian, explained in the story how the extreme conditions of lack of oxygen and subzero temperatures could have put the boy in a frozen state, slowing down his body's need for oxygen and allowing him to survive until he was found. This is a scientific explanation for how the boy might have survived with minimal or no lasting side effects.<br><br>Final Answer: B.</td>\n",
       "    </tr>\n",
       "  </tbody>\n",
       "</table>"
      ],
      "text/plain": [
       "<IPython.core.display.HTML object>"
      ]
     },
     "metadata": {},
     "output_type": "display_data"
    },
    {
     "data": {
      "text/html": [
       "<table border=\"1\" class=\"dataframe\">\n",
       "  <thead>\n",
       "    <tr style=\"text-align: right;\">\n",
       "      <th></th>\n",
       "      <th>Debate ID</th>\n",
       "      <th>Round #</th>\n",
       "      <th>Task Question</th>\n",
       "      <th>Judge Response</th>\n",
       "    </tr>\n",
       "  </thead>\n",
       "  <tbody>\n",
       "    <tr>\n",
       "      <th>0</th>\n",
       "      <td>CNN-229050</td>\n",
       "      <td>2</td>\n",
       "      <td>Which one of these summaries is the most factually consistent one?<br> Answer A:He is shocked that the recent 15-year-old stowaway survived with no lasting side effects.<br> Answer B:The physician describes the phenomenon that saved the boy's life as a perfect storm of disaster that allowed him to survive by slowing down his body's need for oxygen and putting him in a frozen state until his oxygen was replenished.</td>\n",
       "      <td>Answer B is the most factually consistent one. The physician, Dr. Dorian, explained in the story how the extreme conditions of lack of oxygen and subzero temperatures could have put the boy in a frozen state, slowing down his body's need for oxygen and allowing him to survive until he was found. This is a scientific explanation for how the boy might have survived with minimal or no lasting side effects.<br><br>Final Answer: B.</td>\n",
       "    </tr>\n",
       "  </tbody>\n",
       "</table>"
      ],
      "text/plain": [
       "<IPython.core.display.HTML object>"
      ]
     },
     "metadata": {},
     "output_type": "display_data"
    },
    {
     "ename": "ThrottlingException",
     "evalue": "An error occurred (ThrottlingException) when calling the InvokeModel operation (reached max retries: 4): Too many requests, please wait before trying again. You have sent too many requests.  Wait before trying again.",
     "output_type": "error",
     "traceback": [
      "\u001b[0;31m---------------------------------------------------------------------------\u001b[0m",
      "\u001b[0;31mThrottlingException\u001b[0m                       Traceback (most recent call last)",
      "File \u001b[0;32m<timed exec>:14\u001b[0m\n",
      "File \u001b[0;32m~/SageMaker/improve-factual-consistency-with-llm-debate-technique/mlu_utils/veracity_utils.py:1056\u001b[0m, in \u001b[0;36minvoke_mistral_standalone_expert\u001b[0;34m(debate_id, question, answer_a, answer_b, complete_interview)\u001b[0m\n\u001b[1;32m   1046\u001b[0m logger\u001b[38;5;241m.\u001b[39minfo(mistral_prompt)\n\u001b[1;32m   1048\u001b[0m body \u001b[38;5;241m=\u001b[39m json\u001b[38;5;241m.\u001b[39mdumps({\n\u001b[1;32m   1049\u001b[0m     \u001b[38;5;124m\"\u001b[39m\u001b[38;5;124mprompt\u001b[39m\u001b[38;5;124m\"\u001b[39m: mistral_prompt,\n\u001b[1;32m   1050\u001b[0m     \u001b[38;5;124m\"\u001b[39m\u001b[38;5;124mmax_tokens\u001b[39m\u001b[38;5;124m\"\u001b[39m: \u001b[38;5;241m4000\u001b[39m,\n\u001b[0;32m   (...)\u001b[0m\n\u001b[1;32m   1053\u001b[0m     \u001b[38;5;124m\"\u001b[39m\u001b[38;5;124mtop_k\u001b[39m\u001b[38;5;124m\"\u001b[39m: \u001b[38;5;241m5\u001b[39m\n\u001b[1;32m   1054\u001b[0m })\n\u001b[0;32m-> 1056\u001b[0m response \u001b[38;5;241m=\u001b[39m \u001b[43mgenerate_text_mistral\u001b[49m\u001b[43m(\u001b[49m\u001b[43mmodel_id\u001b[49m\u001b[38;5;241;43m=\u001b[39;49m\u001b[43mMODEL_ID\u001b[49m\u001b[43m,\u001b[49m\u001b[43m \u001b[49m\u001b[43mbody\u001b[49m\u001b[38;5;241;43m=\u001b[39;49m\u001b[43mbody\u001b[49m\u001b[43m)\u001b[49m\n\u001b[1;32m   1057\u001b[0m response_body \u001b[38;5;241m=\u001b[39m json\u001b[38;5;241m.\u001b[39mloads(response\u001b[38;5;241m.\u001b[39mget(\u001b[38;5;124m'\u001b[39m\u001b[38;5;124mbody\u001b[39m\u001b[38;5;124m'\u001b[39m)\u001b[38;5;241m.\u001b[39mread())\n\u001b[1;32m   1059\u001b[0m outputs \u001b[38;5;241m=\u001b[39m response_body\u001b[38;5;241m.\u001b[39mget(\u001b[38;5;124m'\u001b[39m\u001b[38;5;124moutputs\u001b[39m\u001b[38;5;124m'\u001b[39m)\n",
      "File \u001b[0;32m~/SageMaker/improve-factual-consistency-with-llm-debate-technique/mlu_utils/veracity_utils.py:457\u001b[0m, in \u001b[0;36mgenerate_text_mistral\u001b[0;34m(model_id, body)\u001b[0m\n\u001b[1;32m    453\u001b[0m \u001b[38;5;66;03m#logger.info(\"Generating text with Mistral AI model %s\", model_id)\u001b[39;00m\n\u001b[1;32m    455\u001b[0m bedrock \u001b[38;5;241m=\u001b[39m boto3\u001b[38;5;241m.\u001b[39mclient(service_name\u001b[38;5;241m=\u001b[39m\u001b[38;5;124m'\u001b[39m\u001b[38;5;124mbedrock-runtime\u001b[39m\u001b[38;5;124m'\u001b[39m)\n\u001b[0;32m--> 457\u001b[0m response \u001b[38;5;241m=\u001b[39m \u001b[43mbedrock\u001b[49m\u001b[38;5;241;43m.\u001b[39;49m\u001b[43minvoke_model\u001b[49m\u001b[43m(\u001b[49m\n\u001b[1;32m    458\u001b[0m \u001b[43m    \u001b[49m\u001b[43mbody\u001b[49m\u001b[38;5;241;43m=\u001b[39;49m\u001b[43mbody\u001b[49m\u001b[43m,\u001b[49m\n\u001b[1;32m    459\u001b[0m \u001b[43m    \u001b[49m\u001b[43mmodelId\u001b[49m\u001b[38;5;241;43m=\u001b[39;49m\u001b[43mmodel_id\u001b[49m\n\u001b[1;32m    460\u001b[0m \u001b[43m\u001b[49m\u001b[43m)\u001b[49m\n\u001b[1;32m    462\u001b[0m \u001b[38;5;66;03m#logger.info(\"Successfully generated text with Mistral AI model %s\", model_id)\u001b[39;00m\n\u001b[1;32m    464\u001b[0m \u001b[38;5;28;01mreturn\u001b[39;00m response\n",
      "File \u001b[0;32m~/anaconda3/envs/python3/lib/python3.10/site-packages/botocore/client.py:565\u001b[0m, in \u001b[0;36mClientCreator._create_api_method.<locals>._api_call\u001b[0;34m(self, *args, **kwargs)\u001b[0m\n\u001b[1;32m    561\u001b[0m     \u001b[38;5;28;01mraise\u001b[39;00m \u001b[38;5;167;01mTypeError\u001b[39;00m(\n\u001b[1;32m    562\u001b[0m         \u001b[38;5;124mf\u001b[39m\u001b[38;5;124m\"\u001b[39m\u001b[38;5;132;01m{\u001b[39;00mpy_operation_name\u001b[38;5;132;01m}\u001b[39;00m\u001b[38;5;124m() only accepts keyword arguments.\u001b[39m\u001b[38;5;124m\"\u001b[39m\n\u001b[1;32m    563\u001b[0m     )\n\u001b[1;32m    564\u001b[0m \u001b[38;5;66;03m# The \"self\" in this scope is referring to the BaseClient.\u001b[39;00m\n\u001b[0;32m--> 565\u001b[0m \u001b[38;5;28;01mreturn\u001b[39;00m \u001b[38;5;28;43mself\u001b[39;49m\u001b[38;5;241;43m.\u001b[39;49m\u001b[43m_make_api_call\u001b[49m\u001b[43m(\u001b[49m\u001b[43moperation_name\u001b[49m\u001b[43m,\u001b[49m\u001b[43m \u001b[49m\u001b[43mkwargs\u001b[49m\u001b[43m)\u001b[49m\n",
      "File \u001b[0;32m~/anaconda3/envs/python3/lib/python3.10/site-packages/botocore/client.py:1021\u001b[0m, in \u001b[0;36mBaseClient._make_api_call\u001b[0;34m(self, operation_name, api_params)\u001b[0m\n\u001b[1;32m   1017\u001b[0m     error_code \u001b[38;5;241m=\u001b[39m error_info\u001b[38;5;241m.\u001b[39mget(\u001b[38;5;124m\"\u001b[39m\u001b[38;5;124mQueryErrorCode\u001b[39m\u001b[38;5;124m\"\u001b[39m) \u001b[38;5;129;01mor\u001b[39;00m error_info\u001b[38;5;241m.\u001b[39mget(\n\u001b[1;32m   1018\u001b[0m         \u001b[38;5;124m\"\u001b[39m\u001b[38;5;124mCode\u001b[39m\u001b[38;5;124m\"\u001b[39m\n\u001b[1;32m   1019\u001b[0m     )\n\u001b[1;32m   1020\u001b[0m     error_class \u001b[38;5;241m=\u001b[39m \u001b[38;5;28mself\u001b[39m\u001b[38;5;241m.\u001b[39mexceptions\u001b[38;5;241m.\u001b[39mfrom_code(error_code)\n\u001b[0;32m-> 1021\u001b[0m     \u001b[38;5;28;01mraise\u001b[39;00m error_class(parsed_response, operation_name)\n\u001b[1;32m   1022\u001b[0m \u001b[38;5;28;01melse\u001b[39;00m:\n\u001b[1;32m   1023\u001b[0m     \u001b[38;5;28;01mreturn\u001b[39;00m parsed_response\n",
      "\u001b[0;31mThrottlingException\u001b[0m: An error occurred (ThrottlingException) when calling the InvokeModel operation (reached max retries: 4): Too many requests, please wait before trying again. You have sent too many requests.  Wait before trying again."
     ]
    }
   ],
   "source": [
    "%%time\n",
    "\n",
    "expert_judge_flipped_answers = list()\n",
    "for index, row in final_dataset.iterrows():\n",
    "    time.sleep(10) # avoid throttling exceptions\n",
    "    expert_judge_flipped_per_round = list()\n",
    "    debate_id = row['doc_id']\n",
    "    answer_a = row['summ_sent_correct_manual']\n",
    "    answer_b = row['summ_sent_incorrect_original']\n",
    "    complete_interview_transcript = row['source']\n",
    "    logger.info(f\"-------------EXPERT JUDGE Debate_id {debate_id}-------------------\")\n",
    "    \n",
    "    for round_number in range(number_of_rounds):\n",
    "        time.sleep(10) # avoid throttling exceptions\n",
    "        logger.info(f\"Expert Judge Round #{round_number + 1} >>>>>> \\n\")\n",
    "        judge_response = invoke_mistral_standalone_expert(\n",
    "            debate_id = debate_id,\n",
    "            question = question,\n",
    "            answer_a = answer_b, # flipped\n",
    "            answer_b = answer_a, # flipped\n",
    "            complete_interview = complete_interview_transcript\n",
    "        )\n",
    "        expert_judge_flipped_per_round.append(extract_final_answer(judge_response, flipped=True))\n",
    "        logger.info(f\">>>>>>> judge_response Round #{round_number + 1}>>>>> ::  {judge_response}\")\n",
    "        # Print the final response for turn-3\n",
    "        format_final_response(debate_id,\n",
    "                              round_number + 1, \n",
    "                              question=question, \n",
    "                              answer_a=answer_b, \n",
    "                              answer_b=answer_a, \n",
    "                              judge_response=judge_response)\n",
    "        logger.info(f\"END OF Expert Judge Round #{round_number + 1} >>>>>> \\n\")\n",
    "    print(f\"=========== END OF Expert Judge Round #{round_number + 1} for debate_id {debate_id} ======= \\n\")\n",
    "    expert_judge_flipped_answers.append(Counter(expert_judge_flipped_per_round).most_common()[0][0]) # get the value of the counter\n",
    "    print(f\"expert_judge_flipped_answers :: {expert_judge_flipped_answers}\")\n",
    "\n"
   ]
  },
  {
   "cell_type": "markdown",
   "id": "e2e9dab4-1d4c-4aec-bcd3-0e1d5afaeea0",
   "metadata": {},
   "source": [
    "### <a name=\"7\">Accuracy of Expert Judge</a>\n",
    "(<a href=\"#0\">Go to top</a>)"
   ]
  },
  {
   "cell_type": "code",
   "execution_count": 15,
   "id": "c3c38d55-add7-451f-b337-f5fbbc3c5ffc",
   "metadata": {
    "tags": []
   },
   "outputs": [
    {
     "data": {
      "text/plain": [
       "[True, None, True, True, True, False, True, True, False, False]"
      ]
     },
     "execution_count": 15,
     "metadata": {},
     "output_type": "execute_result"
    }
   ],
   "source": [
    "expert_judge_regular_answers"
   ]
  },
  {
   "cell_type": "code",
   "execution_count": 16,
   "id": "d9a80446-836c-4246-8c6c-562d13ece5ca",
   "metadata": {
    "tags": []
   },
   "outputs": [
    {
     "data": {
      "text/plain": [
       "[True, True, True, False, True, True, False, False]"
      ]
     },
     "execution_count": 16,
     "metadata": {},
     "output_type": "execute_result"
    }
   ],
   "source": [
    "expert_judge_flipped_answers"
   ]
  },
  {
   "cell_type": "code",
   "execution_count": 17,
   "id": "fa7518e0-d7f5-4325-9078-bb2d5a67b0d8",
   "metadata": {
    "tags": []
   },
   "outputs": [],
   "source": [
    "accuracy_expert_judge = find_num_matching_elements(expert_judge_regular_answers, expert_judge_flipped_answers)/total_data_points"
   ]
  },
  {
   "cell_type": "code",
   "execution_count": 18,
   "id": "297b13be-c2a1-41ae-b461-09e41a17112b",
   "metadata": {
    "tags": []
   },
   "outputs": [
    {
     "data": {
      "text/plain": [
       "0.3"
      ]
     },
     "execution_count": 18,
     "metadata": {},
     "output_type": "execute_result"
    }
   ],
   "source": [
    "accuracy_expert_judge"
   ]
  },
  {
   "cell_type": "code",
   "execution_count": 19,
   "id": "75434e9f-bc20-4066-aa30-0ed9673152db",
   "metadata": {},
   "outputs": [
    {
     "name": "stdout",
     "output_type": "stream",
     "text": [
      "The autoreload extension is already loaded. To reload it, use:\n",
      "  %reload_ext autoreload\n",
      "{'accuracy_naive_judge': 0.2, 'accuracy_expert_judge': 0.3}\n",
      "notebook results saved in results folder\n"
     ]
    }
   ],
   "source": [
    "# save the results\n",
    "\n",
    "%load_ext autoreload\n",
    "%autoreload 2\n",
    "from mlu_utils.veracity_utils import *\n",
    "\n",
    "init_results_file()\n",
    "results_dict = {\"accuracy_naive_judge\":accuracy_naive_judge, \"accuracy_expert_judge\": accuracy_expert_judge}\n",
    "save_each_experiment_result(results_dict)\n",
    "print(\"notebook results saved in results folder\")"
   ]
  },
  {
   "cell_type": "markdown",
   "id": "50fbd255-a593-438f-a44f-fce489056f26",
   "metadata": {},
   "source": [
    "## <a name=\"14\">Compare Accuracies across experiments/methods.</a>\n",
    "(<a href=\"#0\">Go to top</a>)"
   ]
  },
  {
   "cell_type": "markdown",
   "id": "ff97c205-fa79-4c09-b115-0cd3e9cae864",
   "metadata": {},
   "source": [
    "Here we compare the accuracies of each method/experiment to understand"
   ]
  },
  {
   "cell_type": "code",
   "execution_count": 20,
   "id": "39472b99-25dc-4d47-8242-450df4c13559",
   "metadata": {
    "tags": []
   },
   "outputs": [
    {
     "data": {
      "text/html": [
       "<table border=\"1\" class=\"dataframe\">\n",
       "  <thead>\n",
       "    <tr style=\"text-align: right;\">\n",
       "      <th></th>\n",
       "      <th>Naive Judge</th>\n",
       "      <th>Expert Judge</th>\n",
       "    </tr>\n",
       "  </thead>\n",
       "  <tbody>\n",
       "    <tr>\n",
       "      <th>0</th>\n",
       "      <td>0.2</td>\n",
       "      <td>0.3</td>\n",
       "    </tr>\n",
       "  </tbody>\n",
       "</table>"
      ],
      "text/plain": [
       "<IPython.core.display.HTML object>"
      ]
     },
     "metadata": {},
     "output_type": "display_data"
    }
   ],
   "source": [
    "accuracy_consultant_judge = None\n",
    "accuracy_debate_judge = None\n",
    "\n",
    "final_accuracy_comparison_judge(\n",
    "    accuracy_naive_judge = accuracy_naive_judge,\n",
    "    accuracy_expert_judge = accuracy_expert_judge\n",
    ")"
   ]
  },
  {
   "cell_type": "code",
   "execution_count": 21,
   "id": "3e751a8d-fd46-4192-b100-655e8342ffe1",
   "metadata": {
    "tags": []
   },
   "outputs": [
    {
     "data": {
      "image/png": "[encoded data removed]",
      "text/plain": [
       "<Figure size 640x480 with 1 Axes>"
      ]
     },
     "metadata": {},
     "output_type": "display_data"
    }
   ],
   "source": [
    "# Build the plot\n",
    "%matplotlib inline\n",
    "x_values = [ \"Naive Judge\", \"Expert Judge\"]\n",
    "y_values = [ accuracy_naive_judge, accuracy_expert_judge]\n",
    "plt.bar(x_values, y_values)\n",
    "plt.title('Compare Accuracies across experiments')\n",
    "plt.xlabel('Experiment Type')\n",
    "plt.ylabel('Accuracy')\n",
    " \n",
    "plt.show()"
   ]
  }
 ],
 "metadata": {
  "kernelspec": {
   "display_name": "conda_python3",
   "language": "python",
   "name": "conda_python3"
  },
  "language_info": {
   "codemirror_mode": {
    "name": "ipython",
    "version": 3
   },
   "file_extension": ".py",
   "mimetype": "text/x-python",
   "name": "python",
   "nbconvert_exporter": "python",
   "pygments_lexer": "ipython3",
   "version": "3.10.14"
  }
 },
 "nbformat": 4,
 "nbformat_minor": 5
}
