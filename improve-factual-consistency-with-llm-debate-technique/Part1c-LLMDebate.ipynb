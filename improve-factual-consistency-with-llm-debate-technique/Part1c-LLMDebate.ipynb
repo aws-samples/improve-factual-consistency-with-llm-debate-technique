{
 "cells": [
  {
   "cell_type": "markdown",
   "id": "604ee77c-0e19-4a36-9f70-e8ab02cfaf54",
   "metadata": {},
   "source": [
    "<center><img src=\"images/MLU-NEW-logo.png\" alt=\"drawing\" width=\"400\" style=\"background-color:white; padding:1em;\" /></center> <br/>\n",
    "\n",
    "\n",
    "# <a name=\"0\">Improve Factual Consistency Part 1c </a>\n",
    "## <a name=\"0\">Improving Factual Consistency and Explainability using LLM Debates </a>\n",
    "\n",
    "### Glossary of Terms\n",
    "- Naive Judge : This LLM has **no** access to transcript but only question and two summaries. Measure the baseline performance.\n",
    "- Expert Judge : This LLM has access to transcript along with question and two summaries\n",
    "- Question asked to LLM (in all experiments): It is always the same: `Which one of these summaries is the most factually consistent one?`\n",
    "\n",
    "## Dataset\n",
    "Our dataset is distilled from the Amazon Science evaluation benchmark dataset called <a href=\"https://github.com/amazon-science/tofueval\">TofuEval</a>. 10 summaries have been curated from the [MediaSum documents](https://github.com/zcgzcgzcg1/MediaSum) inside the tofueval dataset for this notebook. \n",
    "\n",
    "MediaSum is a large-scale media interview dataset contains 463.6K transcripts with abstractive summaries, collected from interview transcripts and overview / topic descriptions from NPR and CNN.\n",
    "\n",
    "\n",
    "## notebook Overview\n",
    "\n",
    "In this notebook, we navigate the LLM debating technique with more persuasive LLMs having two expert debater LLMs (Claude and Mixtral) and one judge (using Claude - we can use others like Mistral/Mixtral, Titan Premier) to measure, compare and contrast its performance against other techniques like self-consistency (with naive and expert judges) and LLM consultancy. This notebook is an adapted and partial implementation of one of the ICML 2024 best papers, <a href=\"https://arxiv.org/pdf/2402.06782\"> Debating with More Persuasive LLMs Leads to More Truthful Answers </a> on a new and different Amazon Science evaluation dataset <a href=\"https://github.com/amazon-science/tofueval\">TofuEval</a>. \n",
    "\n",
    "\n",
    "- Part 1.  Demonstrate typical Standalone LLM approach\n",
    "\n",
    "- Part 2.  Demonstrate the LLM Consultancy approach and compare with Part 1.\n",
    "\n",
    "- Part 3.  **[THIS notebook]**  Demonstrate the LLM Debate approach and compare with other methods.\n",
    "\n",
    "\n",
    "<div style=\"border: 4px solid coral; text-align: left; margin: auto; padding-left: 20px; padding-right: 20px\">\n",
    "    While this notebook(part 1, 2 and 3) compares various methods and demonstrates the efficacy of LLM Debates in notebook part 3 with a supervised dataset, the greater benefit is possible in unsupervised scenarios where ground truth is unknown and ground truth alignment and/or curation is required. Human annotation can be expensive plus slow and agreement amongst human annotators adds another level of intricacy. A possible `scanotebookle oversight direction could be this LLM debating technique to align on the ground truth options` via this debating and critique mechanism by establishing factual consistency(veracity). This alignment and curation of ground truth for unsupervised data could be a possible win direction for the debating technique in terms of cost versus benefit analysis.\n",
    "</div>\n",
    "<br/>\n",
    "\n",
    "\n",
    "#### Notebook Kernel\n",
    "Please choose `conda_python3` as the kernel type of the top right corner of the notebook if that does not appear by default.\n",
    "\n",
    "\n",
    "## LLM Access\n",
    "\n",
    "We will need access to Anthropic Claude v3 Sonnet, Mistral 7b and  Mixtral 8x7b LLMs for this notebook.\n",
    "\n",
    "[Anthropic Claude v3(Sonnet)](https://www.anthropic.com/news/claude-3-family) , [Mixtral 8X7B](https://mistral.ai/news/mixtral-of-experts/), [Mistral 7B](https://mistral.ai/news/announcing-mistral-7b/) - all of them pre-trained on general text summarization tasks.\n",
    "\n",
    "## Use-Case Overview\n",
    "\n",
    "To demonstrate the measurement and improvement of factual consistency (veracity) with explainability in this notebook, we conduct a series of experiments to choose the best summary for each transcript. In each experiment, we measure the veracity and correctness of the summaries generated from transcripts and improve upon the decision to choose the correct one via methods like LLM consultancy and LLM debates.\n",
    "\n",
    "The <b>overall task in this notebook</b> is choose which one of the two summaries is most appropriate for a given transcript. There are a total of 10 transcripts and each transcript has 2 summaries - one correct and other incorrect. The incorrect summaries have various classes of errors like `Nuanced Meaning Shift`, `Extrinsic Information` and  `Reasoning errors`. \n",
    "\n",
    "In this notebook we will conduct the following set of experiment combinations to measure, compare and contrast LLM debating techniques with others.\n",
    "\n",
    "\n",
    "## Experiments\n",
    "For each of these experiments we flip the side of the argument the LLM takes to account for `position bias` and `verbosity bias` and re-run each experiment.\n",
    "\n",
    "**Note** We always use the same Judge LLM (Mistral 7B) across all the experiments in this notebook\n",
    "\n",
    "\n",
    "---\n",
    "\n",
    "### Experiment 4: (LLM Debate) \n",
    "<center><img src=\"images/veracitynotebook01-llm-debate.png\" alt=\"In this image, we depict the flow of LLM Debate. First Debater LLMs like Claude and Mixtral argue their side\n",
    "based on transcript contents. Next each argument is saved to a file and\n",
    "the next debater picks up the entire argument history before posting their next argument. Finally, once all 3 rounds of arguments are over, the Judge LLM reads all the arguments and decides which summary is the most factually consistent answer.\"  height=\"700\" width=\"700\" style=\"background-color:white; padding:1em;\" /></center> <br/>\n",
    "\n",
    "We use Claude 3 as first debater and Mixtral as second debater with Claude as Judge. We let the debater argue their sides and finally let the judge decide which argument is better. This continues for N(=3 in this notebook) rounds. We flip Claude and Mistral argument sides in experiments 4a and 4b and take average of the experiment results as final accuracy. This accounts for errors due to position (choosing an answer due to its order/position) and verbosity bias (one answer longer than the other)\n",
    "\n",
    "##### Experiment 4a: (Claude v3 argues for answer A, Mixtral argues for Answer B): \n",
    "Claude v3(Sonnet) argues for answer A(Ground Truth:False Answer) and generates rationale why that answer is correct. Mixtral 8X7B argues for answer B(Ground Truth:True Answer) and generates rationale why that answer is correct. This continues for N(=3 in this notebook) rounds. At the end of the debate, Claude as a judge adjudicates whether Claude's or Mixtral's rationale is correct and chooses a side to give the final answer.\n",
    "\n",
    "#####  Experiment 4b: (Claude v3 argues for answer B, Mixtral argues for Answer A): \n",
    "Claude v3(Sonnet) argues for answer B(Ground Truth:True Answer) and generates rationale why that answer is correct. Mixtral 8X7B argues for answer A(Ground Truth:False Answer) and generates rationale why that answer is correct. This continues for N(=3 in this notebook) rounds. At the end of the debate, Claude as a judge adjudicates whether Claude's or Mixtral's rationale is correct and chooses a side to give the final answer.\n",
    "\n",
    "---\n",
    "## Evaluation Metrics\n",
    "For each type of experiment we evaluate the accuracy of the answers for that experiment/method type to compare and contrast each method at the end.\n",
    "\n",
    "For the final experiment on LLM Debate, we also calculate the `win rate` of the LLM debaters to evaluate which of the LLMs actually got most of the answers right as adjudicated by the judge. This can be considered a mechanism to choose one LLM over the other given this use-case.\n",
    "\n",
    "---\n",
    "\n",
    "\n",
    "This notebook notebook has the following sections:\n",
    "\n",
    "1. <a href=\"#1\">Dataset exploration</a>\n",
    "2. <a href=\"#2\">Accuracy of LLM Debate</a>\n",
    "3. <a href=\"#3\">Compare Accuracies across experiments</a>\n",
    "4. <a href=\"#4\">Choose expert LLM using Win Rate measured during LLM Debate (Experiment 4) </a>\n",
    "5. <a href=\"#5\">Challenge exercise and notebook quiz</a>\n",
    "    \n",
    "Please work top to bottom of this notebook and don't skip sections as this could lead to error messages due to missing code.\n",
    "\n",
    "---"
   ]
  },
  {
   "cell_type": "code",
   "execution_count": 1,
   "id": "3e2ad2f4-b720-48b9-bb5a-7b99bcafce8d",
   "metadata": {
    "tags": []
   },
   "outputs": [],
   "source": [
    "%%capture\n",
    "!pip install -q -U pip --root-user-action=ignore\n",
    "!pip3 install -q -r requirements.txt --root-user-action=ignore"
   ]
  },
  {
   "cell_type": "code",
   "execution_count": 2,
   "id": "7f8e6507-fc9a-4f1f-8535-7e2deb20a9a6",
   "metadata": {
    "tags": []
   },
   "outputs": [
    {
     "name": "stdout",
     "output_type": "stream",
     "text": [
      "The autoreload extension is already loaded. To reload it, use:\n",
      "  %reload_ext autoreload\n"
     ]
    }
   ],
   "source": [
    "# We load all prompts from a separate file prompts.py\n",
    "%load_ext autoreload\n",
    "%autoreload 2\n",
    "from prompts import *\n",
    "\n",
    "%load_ext autoreload\n",
    "%autoreload 2\n",
    "from mlu_utils.veracity_utils import *"
   ]
  },
  {
   "cell_type": "code",
   "execution_count": 3,
   "id": "f573ddc8-9290-484c-86f9-f16531648cac",
   "metadata": {
    "tags": []
   },
   "outputs": [
    {
     "name": "stdout",
     "output_type": "stream",
     "text": [
      "clear_file_contents dir :: <built-in function dir>\n"
     ]
    }
   ],
   "source": [
    "clean_up_files_in_dir(\"./transcripts\")\n",
    "clear_file_contents(\"./log_files/notebook_run_logs.log\")"
   ]
  },
  {
   "cell_type": "code",
   "execution_count": 4,
   "id": "a3c84b37-369c-405c-ac08-23be8dbb61a1",
   "metadata": {
    "tags": []
   },
   "outputs": [],
   "source": [
    "import boto3\n",
    "import re, time\n",
    "import random\n",
    "import numpy as np\n",
    "from collections import Counter\n",
    "import matplotlib.pyplot as plt\n",
    "%matplotlib inline\n",
    "\n",
    "from langchain.llms.bedrock import Bedrock\n",
    "from langchain.prompts import PromptTemplate\n",
    "from IPython.display import Markdown\n",
    "from collections import Counter\n",
    "\n",
    "from IPython.display import Markdown, display\n",
    "import logging\n",
    "import boto3, warnings\n",
    "import pandas as pd\n",
    "# Supress warnings\n",
    "warnings.filterwarnings(\"ignore\")\n",
    "logging.basicConfig(filename='log_files/notebook_run_logs.log', encoding='utf-8', level=logging.INFO)\n",
    "logger = logging.getLogger(__name__)\n",
    "logger.info(\"----- Test logging setup -----\")\n"
   ]
  },
  {
   "cell_type": "markdown",
   "id": "8a9c14a1-7d5b-48dc-a4a0-5c5e0a205f57",
   "metadata": {},
   "source": [
    "### Constants used in this notebook"
   ]
  },
  {
   "cell_type": "code",
   "execution_count": 5,
   "id": "dcf134bf-7fbd-4c70-a84c-4b077f79f2a6",
   "metadata": {
    "tags": []
   },
   "outputs": [],
   "source": [
    "number_of_rounds = 3\n",
    "question = \"Which one of these summaries is the most factually consistent one?\"\n",
    "total_data_points = 10"
   ]
  },
  {
   "cell_type": "markdown",
   "id": "7829f829-7d19-420c-85ea-0e5c370304e0",
   "metadata": {
    "tags": []
   },
   "source": [
    "### <a name=\"1\">Dataset Exploration</a>\n",
    "(<a href=\"#0\">Go to top</a>)\n"
   ]
  },
  {
   "cell_type": "code",
   "execution_count": 6,
   "id": "b67d79c9-c30d-4daa-9d25-4dac7de60e2b",
   "metadata": {
    "tags": []
   },
   "outputs": [
    {
     "data": {
      "text/html": [
       "<div>\n",
       "<style scoped>\n",
       "    .dataframe tbody tr th:only-of-type {\n",
       "        vertical-align: middle;\n",
       "    }\n",
       "\n",
       "    .dataframe tbody tr th {\n",
       "        vertical-align: top;\n",
       "    }\n",
       "\n",
       "    .dataframe thead th {\n",
       "        text-align: right;\n",
       "    }\n",
       "</style>\n",
       "<table border=\"1\" class=\"dataframe\">\n",
       "  <thead>\n",
       "    <tr style=\"text-align: right;\">\n",
       "      <th></th>\n",
       "      <th>doc_id</th>\n",
       "      <th>topic</th>\n",
       "      <th>summ_sent_incorrect_original</th>\n",
       "      <th>summ_sent_correct_manual</th>\n",
       "      <th>exp</th>\n",
       "      <th>type</th>\n",
       "      <th>source</th>\n",
       "    </tr>\n",
       "  </thead>\n",
       "  <tbody>\n",
       "    <tr>\n",
       "      <th>0</th>\n",
       "      <td>CNN-104129</td>\n",
       "      <td>Decline of American automobile industry</td>\n",
       "      <td>GM lost $10B in 2005, continues losing market ...</td>\n",
       "      <td>GM lost $10.6B in 2005, continues losing marke...</td>\n",
       "      <td>It's not \"$10B\" but \"$10.6B\"</td>\n",
       "      <td>Nuanced Meaning Shift</td>\n",
       "      <td>DOBBS: General Motors today announced it will ...</td>\n",
       "    </tr>\n",
       "    <tr>\n",
       "      <th>1</th>\n",
       "      <td>CNN-138971</td>\n",
       "      <td>Diplomatic efforts</td>\n",
       "      <td>North Korea has announced plans to launch a sa...</td>\n",
       "      <td>Diplomatic efforts to secure the release of Am...</td>\n",
       "      <td>The launch of a satellite is not mentioned, bu...</td>\n",
       "      <td>Extrinsic Information</td>\n",
       "      <td>ROBERTS: Welcome back to the Most News in the ...</td>\n",
       "    </tr>\n",
       "    <tr>\n",
       "      <th>2</th>\n",
       "      <td>CNN-139946</td>\n",
       "      <td>Filibuster-Proof Majority</td>\n",
       "      <td>This filibuster-proof majority means Democrats...</td>\n",
       "      <td>Democrats gain 60 seats in Senate, giving them...</td>\n",
       "      <td>This is an unsupported statement</td>\n",
       "      <td>Extrinsic Information</td>\n",
       "      <td>ANNOUNCER: This is CNN breaking news.\\nMALVEAU...</td>\n",
       "    </tr>\n",
       "    <tr>\n",
       "      <th>3</th>\n",
       "      <td>CNN-145383</td>\n",
       "      <td>Educate to Innovate Campaign</td>\n",
       "      <td>The private sector has committed over $260 mil...</td>\n",
       "      <td>Over $260 million in private funding will supp...</td>\n",
       "      <td>The document does not state that \"reaching you...</td>\n",
       "      <td>Reasoning Error</td>\n",
       "      <td>HARRIS: And President Obama in the Eisenhower ...</td>\n",
       "    </tr>\n",
       "    <tr>\n",
       "      <th>4</th>\n",
       "      <td>CNN-164885</td>\n",
       "      <td>Cuban celebration and government gathering</td>\n",
       "      <td>170,000 Cubans have private businesses.</td>\n",
       "      <td>Cuba celebrated the 50th anniversary of their ...</td>\n",
       "      <td>The document says that 170,000 Cubans have app...</td>\n",
       "      <td>Nuanced Meaning Shift</td>\n",
       "      <td>FEYERICK: We'll get to Donald Trump's campaign...</td>\n",
       "    </tr>\n",
       "  </tbody>\n",
       "</table>\n",
       "</div>"
      ],
      "text/plain": [
       "       doc_id                                       topic  \\\n",
       "0  CNN-104129     Decline of American automobile industry   \n",
       "1  CNN-138971                          Diplomatic efforts   \n",
       "2  CNN-139946                   Filibuster-Proof Majority   \n",
       "3  CNN-145383                Educate to Innovate Campaign   \n",
       "4  CNN-164885  Cuban celebration and government gathering   \n",
       "\n",
       "                        summ_sent_incorrect_original  \\\n",
       "0  GM lost $10B in 2005, continues losing market ...   \n",
       "1  North Korea has announced plans to launch a sa...   \n",
       "2  This filibuster-proof majority means Democrats...   \n",
       "3  The private sector has committed over $260 mil...   \n",
       "4            170,000 Cubans have private businesses.   \n",
       "\n",
       "                            summ_sent_correct_manual  \\\n",
       "0  GM lost $10.6B in 2005, continues losing marke...   \n",
       "1  Diplomatic efforts to secure the release of Am...   \n",
       "2  Democrats gain 60 seats in Senate, giving them...   \n",
       "3  Over $260 million in private funding will supp...   \n",
       "4  Cuba celebrated the 50th anniversary of their ...   \n",
       "\n",
       "                                                 exp                   type  \\\n",
       "0                       It's not \"$10B\" but \"$10.6B\"  Nuanced Meaning Shift   \n",
       "1  The launch of a satellite is not mentioned, bu...  Extrinsic Information   \n",
       "2                   This is an unsupported statement  Extrinsic Information   \n",
       "3  The document does not state that \"reaching you...        Reasoning Error   \n",
       "4  The document says that 170,000 Cubans have app...  Nuanced Meaning Shift   \n",
       "\n",
       "                                              source  \n",
       "0  DOBBS: General Motors today announced it will ...  \n",
       "1  ROBERTS: Welcome back to the Most News in the ...  \n",
       "2  ANNOUNCER: This is CNN breaking news.\\nMALVEAU...  \n",
       "3  HARRIS: And President Obama in the Eisenhower ...  \n",
       "4  FEYERICK: We'll get to Donald Trump's campaign...  "
      ]
     },
     "execution_count": 6,
     "metadata": {},
     "output_type": "execute_result"
    }
   ],
   "source": [
    "# pre-process the dataset\n",
    "answers_df = pd.read_csv(\"./tofueval_dataset/mediasum_dev_doc_id_group_final_dual_summaries_manual_final_dataset.csv\")\n",
    "#answers_df.head()\n",
    "interview_df = pd.read_csv(\"./tofueval_dataset/mediasum_dev_doc_complete_final.csv\")\n",
    "#interview_df.head()\n",
    "\n",
    "result = pd.merge(answers_df, interview_df, on=\"doc_id\")\n",
    "final_dataset = result[[\"doc_id\", \"topic\", \"summ_sent_incorrect_original\", \"summ_sent_correct_manual\", \"exp\", \"type\", \"source\"]]\n",
    "final_dataset.head()"
   ]
  },
  {
   "cell_type": "markdown",
   "id": "a3a89423-9733-498e-807c-ef7c28e3de1a",
   "metadata": {},
   "source": [
    "### <a name=\"2\">LLM Debate: 2 expert LLMs, 1 naive judge - LLM-1 arguing for 1st summary</a>\n",
    "(<a href=\"#0\">Go to top</a>)"
   ]
  },
  {
   "cell_type": "markdown",
   "id": "495f1bc7-1f39-4907-9ea8-4e73c2e97402",
   "metadata": {},
   "source": [
    "In this LLM Debate - Claude(LLM-1) defends incorrect Summary and Mixtral(LLM-2) defends correct summary.\n",
    "\n",
    "Claude v3(Sonnet) argues for answer A(Ground Truth:False Answer) and generates rationale why that answer is correct. Mixtral 8X7B argues for answer B(Ground Truth:True Answer) and generates rationale why that answer is correct. This continues for N(=3 in this notebook) rounds. At the end of the debate, Claude as a judge adjudicates whether Claude's or Mixtral's rationale is correct and chooses a side to give the final answer."
   ]
  },
  {
   "cell_type": "code",
   "execution_count": 7,
   "id": "a70825e3-a6cb-4698-ba8c-4cf4b6bacb8e",
   "metadata": {
    "tags": []
   },
   "outputs": [
    {
     "name": "stdout",
     "output_type": "stream",
     "text": [
      "=========== START OF 2 model DEBATE debate_id CNN-104129 Round #1..1 ======= \n",
      "\n",
      "=========== START OF 2 model DEBATE debate_id CNN-104129 Round #1..2 ======= \n",
      "\n",
      "=========== START OF 2 model DEBATE debate_id CNN-104129 Round #1..3 ======= \n",
      "\n",
      "=========== END OF 2 model DEBATE debate_id CNN-104129 Round #1..3 ======= \n",
      "\n",
      "=========== START OF 2 model DEBATE debate_id CNN-138971 Round #1..1 ======= \n",
      "\n",
      "=========== START OF 2 model DEBATE debate_id CNN-138971 Round #1..2 ======= \n",
      "\n",
      "=========== START OF 2 model DEBATE debate_id CNN-138971 Round #1..3 ======= \n",
      "\n",
      "=========== END OF 2 model DEBATE debate_id CNN-138971 Round #1..3 ======= \n",
      "\n",
      "=========== START OF 2 model DEBATE debate_id CNN-139946 Round #1..1 ======= \n",
      "\n",
      "=========== START OF 2 model DEBATE debate_id CNN-139946 Round #1..2 ======= \n",
      "\n",
      "=========== START OF 2 model DEBATE debate_id CNN-139946 Round #1..3 ======= \n",
      "\n",
      "=========== END OF 2 model DEBATE debate_id CNN-139946 Round #1..3 ======= \n",
      "\n",
      "=========== START OF 2 model DEBATE debate_id CNN-145383 Round #1..1 ======= \n",
      "\n",
      "=========== START OF 2 model DEBATE debate_id CNN-145383 Round #1..2 ======= \n",
      "\n",
      "=========== START OF 2 model DEBATE debate_id CNN-145383 Round #1..3 ======= \n",
      "\n",
      "=========== END OF 2 model DEBATE debate_id CNN-145383 Round #1..3 ======= \n",
      "\n",
      "=========== START OF 2 model DEBATE debate_id CNN-164885 Round #1..1 ======= \n",
      "\n",
      "=========== START OF 2 model DEBATE debate_id CNN-164885 Round #1..2 ======= \n",
      "\n",
      "=========== START OF 2 model DEBATE debate_id CNN-164885 Round #1..3 ======= \n",
      "\n",
      "=========== END OF 2 model DEBATE debate_id CNN-164885 Round #1..3 ======= \n",
      "\n",
      "=========== START OF 2 model DEBATE debate_id CNN-173359 Round #1..1 ======= \n",
      "\n",
      "=========== START OF 2 model DEBATE debate_id CNN-173359 Round #1..2 ======= \n",
      "\n",
      "=========== START OF 2 model DEBATE debate_id CNN-173359 Round #1..3 ======= \n",
      "\n",
      "=========== END OF 2 model DEBATE debate_id CNN-173359 Round #1..3 ======= \n",
      "\n",
      "=========== START OF 2 model DEBATE debate_id CNN-197627 Round #1..1 ======= \n",
      "\n",
      "=========== START OF 2 model DEBATE debate_id CNN-197627 Round #1..2 ======= \n",
      "\n",
      "=========== START OF 2 model DEBATE debate_id CNN-197627 Round #1..3 ======= \n",
      "\n",
      "=========== END OF 2 model DEBATE debate_id CNN-197627 Round #1..3 ======= \n",
      "\n",
      "=========== START OF 2 model DEBATE debate_id CNN-201245 Round #1..1 ======= \n",
      "\n",
      "=========== START OF 2 model DEBATE debate_id CNN-201245 Round #1..2 ======= \n",
      "\n",
      "=========== START OF 2 model DEBATE debate_id CNN-201245 Round #1..3 ======= \n",
      "\n",
      "=========== END OF 2 model DEBATE debate_id CNN-201245 Round #1..3 ======= \n",
      "\n",
      "=========== START OF 2 model DEBATE debate_id CNN-229050 Round #1..1 ======= \n",
      "\n",
      "=========== START OF 2 model DEBATE debate_id CNN-229050 Round #1..2 ======= \n",
      "\n",
      "=========== START OF 2 model DEBATE debate_id CNN-229050 Round #1..3 ======= \n",
      "\n",
      "=========== END OF 2 model DEBATE debate_id CNN-229050 Round #1..3 ======= \n",
      "\n",
      "=========== START OF 2 model DEBATE debate_id CNN-239067 Round #1..1 ======= \n",
      "\n",
      "=========== START OF 2 model DEBATE debate_id CNN-239067 Round #1..2 ======= \n",
      "\n",
      "=========== START OF 2 model DEBATE debate_id CNN-239067 Round #1..3 ======= \n",
      "\n",
      "=========== END OF 2 model DEBATE debate_id CNN-239067 Round #1..3 ======= \n",
      "\n",
      "CPU times: user 730 ms, sys: 78.2 ms, total: 808 ms\n",
      "Wall time: 9min 17s\n"
     ]
    }
   ],
   "source": [
    "%%time\n",
    "\n",
    "for index, row in final_dataset.iterrows():\n",
    "    debate_id = row['doc_id']\n",
    "    answer_a = row['summ_sent_correct_manual']\n",
    "    answer_b = row['summ_sent_incorrect_original']\n",
    "    complete_interview_transcript = row['source']\n",
    "    \n",
    "    #### defending false - Claude\n",
    "    claude_defending_summary=answer_b\n",
    "    claude_opposing_summary=answer_a\n",
    "\n",
    "    #### defending true - Mixtral\n",
    "    mixtral_defending_summary=answer_a\n",
    "    mixtral_opposing_summary=answer_b\n",
    "\n",
    "    logger.info(f\"-------------2 model Debate -> Debate_id {debate_id}-------------------\")\n",
    "\n",
    "    #### Consultancy Claude - defending true - 3 rounds\n",
    "    delete_file(f\"./transcripts/full_transcript_debate_{debate_id}.log\")\n",
    "    for round_number in range(number_of_rounds):\n",
    "        print(f\"=========== START OF 2 model DEBATE debate_id {debate_id} Round #1..{round_number + 1} ======= \\n\")\n",
    "        logger.info(f\"START Debate with Claude Debate_id {debate_id} Round #{round_number + 1} >>>>>> \\n\") \n",
    "        claude_debate_response = invoke_claude_v3(debate_id = debate_id,\n",
    "                         question=question,\n",
    "                         round_number = round_number + 1,\n",
    "                         summary_defending = claude_defending_summary, \n",
    "                         summary_opposing = claude_opposing_summary, \n",
    "                         complete_interview = complete_interview_transcript,\n",
    "                         debate=True\n",
    "                         )\n",
    "\n",
    "        logger.info(f\" >>>>> claude_debate_response Round #{round_number + 1} >>>>> {claude_debate_response}\")\n",
    "        logger.info(f\"END Debate with Claude Round #{round_number + 1} >>>>>> \\n\")\n",
    "\n",
    "        mixtral_debate_response = invoke_mistral(debate_id = debate_id,\n",
    "                     question=question,\n",
    "                     round_number = round_number + 1,\n",
    "                     summary_defending = mixtral_defending_summary, \n",
    "                     summary_opposing = mixtral_opposing_summary, \n",
    "                     complete_interview = complete_interview_transcript, \n",
    "                     )\n",
    "\n",
    "        logger.info(f\" >>>>> mixtral_debate_response Round #{round_number + 1} >>>>> {mixtral_debate_response}\")\n",
    "        logger.info(f\"END Debate with Mixtral Round #{round_number + 1} >>>>>> \\n\")\n",
    "    print(f\"=========== END OF 2 model DEBATE debate_id {debate_id} Round #1..{round_number + 1} ======= \\n\")\n",
    "    "
   ]
  },
  {
   "cell_type": "markdown",
   "id": "1152677e-6d8d-434e-82bb-3db6742b0dc8",
   "metadata": {},
   "source": [
    "## JUDGE for Regular Debate : LLM-Claude arguing for 1st summary, LLM-Mixtral arguing for 2nd summary"
   ]
  },
  {
   "cell_type": "code",
   "execution_count": 8,
   "id": "667b4c7d-eff4-478a-90bf-898bfa490401",
   "metadata": {
    "tags": []
   },
   "outputs": [
    {
     "name": "stdout",
     "output_type": "stream",
     "text": [
      "invoke_claude_judge_debate :: transcript_filename >>>> /home/ec2-user/SageMaker/WKSP-RESAI-Robustness-Veracity/Lab2_Veracity/transcripts/full_transcript_debate_CNN-104129.log\n"
     ]
    },
    {
     "data": {
      "text/html": [
       "<table border=\"1\" class=\"dataframe\">\n",
       "  <thead>\n",
       "    <tr style=\"text-align: right;\">\n",
       "      <th></th>\n",
       "      <th>Debate ID</th>\n",
       "      <th>Round #</th>\n",
       "      <th>Task Question</th>\n",
       "      <th>Judge Response</th>\n",
       "    </tr>\n",
       "  </thead>\n",
       "  <tbody>\n",
       "    <tr>\n",
       "      <th>0</th>\n",
       "      <td>CNN-104129</td>\n",
       "      <td>1</td>\n",
       "      <td>Which one of these summaries is the most factually consistent one?<br> Answer A:GM lost \\$10.6B in 2005, continues losing market share.<br> Answer B:GM lost \\$10B in 2005, continues losing market share.</td>\n",
       "      <td>&lt;thinking&gt;<br>1. Strengths and weaknesses of arguments:<br>- expert_debater_sonnet_v3 argues that rounding large financial figures like \\$10.6B to \\$10B is acceptable for concise summaries, and that their summary \"GM lost \\$10B in 2005, continues losing market share\" captures the key facts of GM's massive loss and declining market share. This is supported by the verified quote showing GM's \\$10.6B loss and the quote about losing market share.<br>- expert_debater_mixtral_8_7B argues that the exact \\$10.6B figure should be used for precision in financial reporting, and that their summary \"GM lost \\$10.6B in 2005, continues losing market share\" is more accurate and complete. This is supported by the verified quote showing the exact \\$10.6B loss figure.<br>- However, expert_debater_mixtral_8_7B's argument about precision contradicts their own summary rounding \\$10.6B to \\$10B, which weakens their stance.<br><br>2. Evaluating which answer is likely correct:<br>- Both summaries capture the key facts of GM's massive loss in 2005 and declining market share, which are supported by verified quotes from the story.<br>- The main difference is whether the exact \\$10.6B loss figure or the rounded \\$10B figure should be used in the summary.<br>- While precision is important in financial reporting, rounding large figures for concise summaries is a common and acceptable practice, as long as the essential information is conveyed accurately.<br>- Therefore, the summary \"GM lost \\$10B in 2005, continues losing market share\" (Answer A) is likely the more appropriate choice, as it captures the key facts concisely while still being reasonably accurate.<br><br>3. Answer chosen as correct: Answer A: \"GM lost \\$10B in 2005, continues losing market share.\"<br><br>4. Final Answer: A<br>&lt;/thinking&gt;</td>\n",
       "    </tr>\n",
       "  </tbody>\n",
       "</table>"
      ],
      "text/plain": [
       "<IPython.core.display.HTML object>"
      ]
     },
     "metadata": {},
     "output_type": "display_data"
    },
    {
     "name": "stdout",
     "output_type": "stream",
     "text": [
      "invoke_claude_judge_debate :: transcript_filename >>>> /home/ec2-user/SageMaker/WKSP-RESAI-Robustness-Veracity/Lab2_Veracity/transcripts/full_transcript_debate_CNN-138971.log\n"
     ]
    },
    {
     "data": {
      "text/html": [
       "<table border=\"1\" class=\"dataframe\">\n",
       "  <thead>\n",
       "    <tr style=\"text-align: right;\">\n",
       "      <th></th>\n",
       "      <th>Debate ID</th>\n",
       "      <th>Round #</th>\n",
       "      <th>Task Question</th>\n",
       "      <th>Judge Response</th>\n",
       "    </tr>\n",
       "  </thead>\n",
       "  <tbody>\n",
       "    <tr>\n",
       "      <th>0</th>\n",
       "      <td>CNN-138971</td>\n",
       "      <td>1</td>\n",
       "      <td>Which one of these summaries is the most factually consistent one?<br> Answer A:Diplomatic efforts to secure the release of American journalists Laura Ling and Euna Lee, who are accused of spying in North Korea and face trial, are ongoing.<br> Answer B:North Korea has announced plans to launch a satellite into orbit, which the US sees as a cover for testing ballistic missile technology.</td>\n",
       "      <td>&lt;thinking&gt;<br>1. Evaluating the debaters' arguments:<br><br>expert_debater_sonnet_v3:<br>- Provides verified quotes supporting the focus on the journalists' trial and diplomatic efforts to secure their release, which aligns with Answer A.<br>- Claims the story prominently features North Korea's missile program and satellite launch, but does not provide verified quotes to support this.<br>- The quote \"&lt;v quote&gt;Complicating diplomacy, North Korea angered the world with recent nuclear test and missile launches.&lt;/v quote&gt;\" is verified but does not directly confirm the US's concerns about the satellite launch being a cover for missile testing.<br><br>expert_debater_mixtral_8_7B:<br>- Provides strong verified evidence supporting Answer A, with quotes highlighting the journalists' trial and diplomatic efforts.<br>- Correctly points out the lack of verified quotes from the story to support expert_debater_sonnet_v3's claims about the satellite launch and US concerns.<br>- Acknowledges the brief mention of the satellite launch plans but does not provide verified quotes to confirm the US's interpretation of it being a cover for missile testing.<br><br>2. Evaluating which answer is likely correct:<br>- Answer A has significantly more verified evidence from the story, with multiple quotes directly supporting the focus on the journalists' trial and diplomatic efforts.<br>- While the story briefly mentions North Korea's satellite launch plans, there are no verified quotes confirming the US's interpretation that it is a cover for missile testing, which is a key part of Answer B.<br>- The verified quote about North Korea's \"nuclear test and missile launches\" is too vague to definitively support Answer B.<br><br>3. Based on the verified evidence presented, Answer A (\"Diplomatic efforts to secure the release of American journalists Laura Ling and Euna Lee, who are accused of spying in North Korea and face trial, are ongoing.\") appears to be the most factually consistent summary of the news story.<br><br>4. Final Answer: A<br>&lt;/thinking&gt;</td>\n",
       "    </tr>\n",
       "  </tbody>\n",
       "</table>"
      ],
      "text/plain": [
       "<IPython.core.display.HTML object>"
      ]
     },
     "metadata": {},
     "output_type": "display_data"
    },
    {
     "name": "stdout",
     "output_type": "stream",
     "text": [
      "invoke_claude_judge_debate :: transcript_filename >>>> /home/ec2-user/SageMaker/WKSP-RESAI-Robustness-Veracity/Lab2_Veracity/transcripts/full_transcript_debate_CNN-139946.log\n"
     ]
    },
    {
     "data": {
      "text/html": [
       "<table border=\"1\" class=\"dataframe\">\n",
       "  <thead>\n",
       "    <tr style=\"text-align: right;\">\n",
       "      <th></th>\n",
       "      <th>Debate ID</th>\n",
       "      <th>Round #</th>\n",
       "      <th>Task Question</th>\n",
       "      <th>Judge Response</th>\n",
       "    </tr>\n",
       "  </thead>\n",
       "  <tbody>\n",
       "    <tr>\n",
       "      <th>0</th>\n",
       "      <td>CNN-139946</td>\n",
       "      <td>1</td>\n",
       "      <td>Which one of these summaries is the most factually consistent one?<br> Answer A:Democrats gain 60 seats in Senate, giving them a filibuster-proof majority.<br> Answer B:This filibuster-proof majority means Democrats can pass legislation without Republican support.</td>\n",
       "      <td>&lt;thinking&gt;<br>1. Evaluating the arguments:<br>- expert_debater_sonnet_v3 provides a verified quote from Gloria Borger stating \"they've got 60 seats, which would give them a filibuster-proof majority.\" This supports Answer B that the 60-seat majority allows Democrats to pass legislation without Republican support.<br>- expert_debater_mixtral_8_7B does not provide any verified quotes to support their argument for Answer A.<br>- The unverified quotes from both debaters cannot be fully trusted as evidence.<br><br>2. Analyzing the answers:<br>- Answer A: \"Democrats gain 60 seats in Senate, giving them a filibuster-proof majority.\" This is not supported by the verified quote, which only states they have 60 seats, not that they gained 60 new seats.<br>- Answer B: \"This filibuster-proof majority means Democrats can pass legislation without Republican support.\" This is directly supported by the verified quote from Gloria Borger explaining the significance of having 60 seats.<br><br>3. Answer B is more likely to be correct based on the verified quote provided as evidence.<br><br>Final Answer: B<br>&lt;/thinking&gt;</td>\n",
       "    </tr>\n",
       "  </tbody>\n",
       "</table>"
      ],
      "text/plain": [
       "<IPython.core.display.HTML object>"
      ]
     },
     "metadata": {},
     "output_type": "display_data"
    },
    {
     "name": "stdout",
     "output_type": "stream",
     "text": [
      "invoke_claude_judge_debate :: transcript_filename >>>> /home/ec2-user/SageMaker/WKSP-RESAI-Robustness-Veracity/Lab2_Veracity/transcripts/full_transcript_debate_CNN-145383.log\n"
     ]
    },
    {
     "data": {
      "text/html": [
       "<table border=\"1\" class=\"dataframe\">\n",
       "  <thead>\n",
       "    <tr style=\"text-align: right;\">\n",
       "      <th></th>\n",
       "      <th>Debate ID</th>\n",
       "      <th>Round #</th>\n",
       "      <th>Task Question</th>\n",
       "      <th>Judge Response</th>\n",
       "    </tr>\n",
       "  </thead>\n",
       "  <tbody>\n",
       "    <tr>\n",
       "      <th>0</th>\n",
       "      <td>CNN-145383</td>\n",
       "      <td>1</td>\n",
       "      <td>Which one of these summaries is the most factually consistent one?<br> Answer A:Over \\$260 million in private funding will support programs to engage students, improve teacher effectiveness, and promote hands-on learning.<br> Answer B:The private sector has committed over \\$260 million to the campaign, and the initial focus is on reaching young students with interactive science content.</td>\n",
       "      <td>&lt;thinking&gt;<br>1. Evaluating the debaters' arguments:<br><br>expert_debater_sonnet_v3:<br>- Relies heavily on unverified quotes, which should not be trusted.<br>- The one verified quote \"&lt;v quote&gt;The initial commitment of the private sector to this campaign is more than \\$260 million, and we only expect the campaign to grow.&lt;/v quote&gt;\" supports Answer B's claim about the private sector committing over \\$260 million, but does not directly support Answer A.<br>- The argument that improving teacher effectiveness is not mentioned as an initial priority is weakened by the lack of verified quotes.<br><br>expert_debater_mixtral_8_7B:<br>- Does not provide any verified quotes to directly support Answer A.<br>- The argument that the private funding will support programs to engage students and promote hands-on learning is reasonable based on the context, but lacks direct evidence from verified quotes.<br>- The claim that teacher effectiveness may indirectly benefit is speculative without verified quotes.<br>- The argument that replicating successful programs implies improving teacher effectiveness is logical, but again lacks direct evidence from verified quotes.<br><br>2. Evaluating which answer is more likely to be correct:<br>- Neither debater provides strong, direct evidence from verified quotes to conclusively support their chosen answer.<br>- However, Answer B seems more consistent with the verified quote about the private sector committing over \\$260 million to the campaign, and the general context of engaging students with interactive science content.<br>- Answer A makes an additional claim about improving teacher effectiveness that is not clearly supported by the verified quote or the debaters' arguments.<br><br>3. Based on the lack of strong evidence for Answer A and the partial support for Answer B from the verified quote and context, Answer B seems more likely to be the correct summary.<br><br>4. Final Answer: B<br>&lt;/thinking&gt;</td>\n",
       "    </tr>\n",
       "  </tbody>\n",
       "</table>"
      ],
      "text/plain": [
       "<IPython.core.display.HTML object>"
      ]
     },
     "metadata": {},
     "output_type": "display_data"
    },
    {
     "name": "stdout",
     "output_type": "stream",
     "text": [
      "invoke_claude_judge_debate :: transcript_filename >>>> /home/ec2-user/SageMaker/WKSP-RESAI-Robustness-Veracity/Lab2_Veracity/transcripts/full_transcript_debate_CNN-164885.log\n"
     ]
    },
    {
     "data": {
      "text/html": [
       "<table border=\"1\" class=\"dataframe\">\n",
       "  <thead>\n",
       "    <tr style=\"text-align: right;\">\n",
       "      <th></th>\n",
       "      <th>Debate ID</th>\n",
       "      <th>Round #</th>\n",
       "      <th>Task Question</th>\n",
       "      <th>Judge Response</th>\n",
       "    </tr>\n",
       "  </thead>\n",
       "  <tbody>\n",
       "    <tr>\n",
       "      <th>0</th>\n",
       "      <td>CNN-164885</td>\n",
       "      <td>1</td>\n",
       "      <td>Which one of these summaries is the most factually consistent one?<br> Answer A:Cuba celebrated the 50th anniversary of their victory over a US-backed invasion at the Bay of Pigs.<br> Answer B:170,000 Cubans have private businesses.</td>\n",
       "      <td>&lt;thinking&gt;<br>1. Evaluating the arguments and verified quotes:<br>- expert_debater_sonnet_v3 provides two verified quotes that directly support Answer B about 170,000 Cubans having private businesses:<br>&lt;v quote&gt;\"President Raul Castro has called for more private enterprise and less of a role from the state.\"&lt;/v quote&gt;<br>&lt;v quote&gt;\"170,000 Cubans have actually taken out licenses to open their own business.\"&lt;/v quote&gt;<br>These quotes provide strong evidence for Answer B.<br>- expert_debater_mixtral_8_7B does not provide any verified quotes to support Answer A about celebrating the Bay of Pigs anniversary. The quotes used are either unverified or do not directly relate to Answer A.<br><br>2. Thinking step-by-step about the correct answer:<br>- The verified quotes provided by expert_debater_sonnet_v3 directly confirm the details in Answer B about private businesses in Cuba.<br>- There is no verified evidence provided to support Answer A about celebrating the Bay of Pigs anniversary.<br>- While the Bay of Pigs anniversary may have been mentioned in the story, the verified quotes indicate that the economic reforms and private businesses were a major focus.<br>- Therefore, based on the evidence presented, Answer B is more likely to be the correct, factually consistent summary.<br><br>3. The answer I choose as correct is Answer B: \"170,000 Cubans have private businesses.\"<br><br>4. Final Answer: B<br>&lt;/thinking&gt;</td>\n",
       "    </tr>\n",
       "  </tbody>\n",
       "</table>"
      ],
      "text/plain": [
       "<IPython.core.display.HTML object>"
      ]
     },
     "metadata": {},
     "output_type": "display_data"
    },
    {
     "name": "stdout",
     "output_type": "stream",
     "text": [
      "invoke_claude_judge_debate :: transcript_filename >>>> /home/ec2-user/SageMaker/WKSP-RESAI-Robustness-Veracity/Lab2_Veracity/transcripts/full_transcript_debate_CNN-173359.log\n"
     ]
    },
    {
     "data": {
      "text/html": [
       "<table border=\"1\" class=\"dataframe\">\n",
       "  <thead>\n",
       "    <tr style=\"text-align: right;\">\n",
       "      <th></th>\n",
       "      <th>Debate ID</th>\n",
       "      <th>Round #</th>\n",
       "      <th>Task Question</th>\n",
       "      <th>Judge Response</th>\n",
       "    </tr>\n",
       "  </thead>\n",
       "  <tbody>\n",
       "    <tr>\n",
       "      <th>0</th>\n",
       "      <td>CNN-173359</td>\n",
       "      <td>1</td>\n",
       "      <td>Which one of these summaries is the most factually consistent one?<br> Answer A:The use of multiple drugs together, including Propofol, is not recommended outside of a hospital setting.<br> Answer B:Though Jackson was in good health, these sedatives and anesthetics stopped his breathing and led to his death.</td>\n",
       "      <td>&lt;thinking&gt;<br>1. Strengths and weaknesses of arguments:<br>- expert_debater_sonnet_v3 relies heavily on the verified quote \"Overall, Michael Jackson was actually in good health. There was no real problems in his internal organs.\" to argue that Jackson's death was caused by the drugs themselves rather than any underlying health issues. This is a strong point.<br>- expert_debater_sonnet_v3 also cites the verified quote \"Propofol should not be used in home settings. It should be used when you want to medically induce coma or sedation in a hospital.\" to argue that the improper use of Propofol outside a hospital setting was a critical factor in Jackson's death. This is another strong point.<br>- expert_debater_mixtral_8_7B relies on the verified quote \"Certainly enough to make sure that he stopped breathing, yes.\" to argue that the combination of drugs, including Propofol, stopped Jackson's breathing and led to his death. This is a valid point.<br>- expert_debater_mixtral_8_7B also cites the verified quotes about the need for monitoring when using Propofol to support the argument that using it outside a hospital setting was dangerous. This is a strong point.<br><br>2. Evaluating which answer is likely correct:<br>- Answer A: \"The use of multiple drugs together, including Propofol, is not recommended outside of a hospital setting.\" This answer is supported by the verified quotes about the dangers of using Propofol outside a hospital setting and the need for monitoring. It is also consistent with the fact that Jackson died from a combination of drugs, including Propofol, in a home setting.<br>- Answer B: \"Though Jackson was in good health, these sedatives and anesthetics stopped his breathing and led to his death.\" This answer is partially supported by the verified quote that Jackson was in good health overall, and the quote that the drugs stopped his breathing. However, it does not directly address the issue of using Propofol outside a hospital setting, which was a critical factor in Jackson's death.<br><br>Based on the verified quotes and the arguments presented, Answer A seems to be the most factually consistent summary, as it directly addresses the improper use of Propofol and other drugs outside a hospital setting, which was a key factor in Jackson's death.<br><br>3. Answer chosen as correct: Answer A<br><br>4. Final Answer: A<br>&lt;/thinking&gt;</td>\n",
       "    </tr>\n",
       "  </tbody>\n",
       "</table>"
      ],
      "text/plain": [
       "<IPython.core.display.HTML object>"
      ]
     },
     "metadata": {},
     "output_type": "display_data"
    },
    {
     "name": "stdout",
     "output_type": "stream",
     "text": [
      "invoke_claude_judge_debate :: transcript_filename >>>> /home/ec2-user/SageMaker/WKSP-RESAI-Robustness-Veracity/Lab2_Veracity/transcripts/full_transcript_debate_CNN-197627.log\n"
     ]
    },
    {
     "data": {
      "text/html": [
       "<table border=\"1\" class=\"dataframe\">\n",
       "  <thead>\n",
       "    <tr style=\"text-align: right;\">\n",
       "      <th></th>\n",
       "      <th>Debate ID</th>\n",
       "      <th>Round #</th>\n",
       "      <th>Task Question</th>\n",
       "      <th>Judge Response</th>\n",
       "    </tr>\n",
       "  </thead>\n",
       "  <tbody>\n",
       "    <tr>\n",
       "      <th>0</th>\n",
       "      <td>CNN-197627</td>\n",
       "      <td>1</td>\n",
       "      <td>Which one of these summaries is the most factually consistent one?<br> Answer A:The document mentions that President Obama will be attending an interfaith vigil in Newtown, Connecticut to provide comfort to the families and first responders affected by the shooting at Sandy Hook Elementary School.<br> Answer B:Connecticut police confirmed Adam Lanza fired hundreds of bullets, killing 26.</td>\n",
       "      <td>&lt;thinking&gt;<br>1. Evaluating the arguments:<br>- expert_debater_sonnet_v3 provides verified quotes that support Answer B, confirming details about Adam Lanza firing hundreds of bullets and killing 26 people. These quotes directly align with Answer B.<br>- expert_debater_mixtral_8_7B argues for Answer A, stating that the story's main focus is on President Obama's visit to provide comfort after the shooting. However, the quotes provided to support this are unverified and should not be fully trusted.<br><br>2. Analyzing the answers:<br>- Answer B: \"Connecticut police confirmed Adam Lanza fired hundreds of bullets, killing 26.\" This is directly supported by the verified quotes from expert_debater_sonnet_v3, which state that Lanza fired hundreds of bullets and killed 26 people at Sandy Hook Elementary School.<br>- Answer A: \"The document mentions that President Obama will be attending an interfaith vigil in Newtown, Connecticut to provide comfort to the families and first responders affected by the shooting at Sandy Hook Elementary School.\" While the story likely mentions this, the lack of verified quotes supporting it as the main focus weakens this argument.<br><br>Based on the verified evidence presented, Answer B appears to be the most factually consistent summary, as it accurately captures the key details about the shooting that are extensively covered in the story.<br><br>3. Answer B is likely to be the correct answer based on the verified quotes provided.<br><br>4. Final Answer: B<br>&lt;/thinking&gt;</td>\n",
       "    </tr>\n",
       "  </tbody>\n",
       "</table>"
      ],
      "text/plain": [
       "<IPython.core.display.HTML object>"
      ]
     },
     "metadata": {},
     "output_type": "display_data"
    },
    {
     "name": "stdout",
     "output_type": "stream",
     "text": [
      "invoke_claude_judge_debate :: transcript_filename >>>> /home/ec2-user/SageMaker/WKSP-RESAI-Robustness-Veracity/Lab2_Veracity/transcripts/full_transcript_debate_CNN-201245.log\n"
     ]
    },
    {
     "data": {
      "text/html": [
       "<table border=\"1\" class=\"dataframe\">\n",
       "  <thead>\n",
       "    <tr style=\"text-align: right;\">\n",
       "      <th></th>\n",
       "      <th>Debate ID</th>\n",
       "      <th>Round #</th>\n",
       "      <th>Task Question</th>\n",
       "      <th>Judge Response</th>\n",
       "    </tr>\n",
       "  </thead>\n",
       "  <tbody>\n",
       "    <tr>\n",
       "      <th>0</th>\n",
       "      <td>CNN-201245</td>\n",
       "      <td>1</td>\n",
       "      <td>Which one of these summaries is the most factually consistent one?<br> Answer A:New York City Mayor Michael Bloomberg is planning to ban the use of Styrofoam in stores and restaurants due to environmental concerns.<br> Answer B:What is the proposed ban on Styrofoam in stores?</td>\n",
       "      <td>&lt;thinking&gt;<br>1. Evaluating the arguments:<br>- expert_debater_sonnet_v3 relies solely on the verified quote: &lt;v quote&gt;Now, Mayor Michael Bloomberg is out to ban Styrofoam food packaging in stores. It's actually not Styrofoam technically, it's plastic foam. He's looking to ban that in stores and food restaurants.&lt;/v quote&gt;<br>This quote supports Answer B (\"What is the proposed ban on Styrofoam in stores?\") as it directly states the proposed ban, but does not mention environmental concerns.<br>- expert_debater_mixtral_8_7B cites an unverified quote: &lt;u quote&gt;We're going to ban it because it's not recyclable and it poses an environmental threat.&lt;/u quote&gt;<br>This quote supports Answer A (\"New York City Mayor Michael Bloomberg is planning to ban the use of Styrofoam in stores and restaurants due to environmental concerns.\"), but since it is unverified, it cannot be fully trusted.<br><br>2. Thinking step-by-step:<br>- The verified quote directly supports Answer B by stating the proposed ban on Styrofoam/plastic foam packaging in stores and restaurants.<br>- While expert_debater_mixtral_8_7B makes a reasonable inference that the ban is motivated by environmental concerns based on Bloomberg's past policies, the story does not provide a verified quote to support this claim for this specific ban.<br>- Without a verified quote explicitly stating the environmental motivation, Answer B is more factually consistent with the evidence provided in the story.<br><br>3. The answer I choose as correct is Answer B: \"What is the proposed ban on Styrofoam in stores?\"<br><br>4. Final Answer: B<br>&lt;/thinking&gt;</td>\n",
       "    </tr>\n",
       "  </tbody>\n",
       "</table>"
      ],
      "text/plain": [
       "<IPython.core.display.HTML object>"
      ]
     },
     "metadata": {},
     "output_type": "display_data"
    },
    {
     "name": "stdout",
     "output_type": "stream",
     "text": [
      "invoke_claude_judge_debate :: transcript_filename >>>> /home/ec2-user/SageMaker/WKSP-RESAI-Robustness-Veracity/Lab2_Veracity/transcripts/full_transcript_debate_CNN-229050.log\n"
     ]
    },
    {
     "data": {
      "text/html": [
       "<table border=\"1\" class=\"dataframe\">\n",
       "  <thead>\n",
       "    <tr style=\"text-align: right;\">\n",
       "      <th></th>\n",
       "      <th>Debate ID</th>\n",
       "      <th>Round #</th>\n",
       "      <th>Task Question</th>\n",
       "      <th>Judge Response</th>\n",
       "    </tr>\n",
       "  </thead>\n",
       "  <tbody>\n",
       "    <tr>\n",
       "      <th>0</th>\n",
       "      <td>CNN-229050</td>\n",
       "      <td>1</td>\n",
       "      <td>Which one of these summaries is the most factually consistent one?<br> Answer A:The physician describes the phenomenon that saved the boy's life as a perfect storm of disaster that allowed him to survive by slowing down his body's need for oxygen and putting him in a frozen state until his oxygen was replenished.<br> Answer B:He is shocked that the recent 15-year-old stowaway survived with no lasting side effects.</td>\n",
       "      <td>&lt;thinking&gt;<br>1. Evaluating the arguments and evidence:<br>- expert_debater_sonnet_v3 argues that the doctor's main reaction was one of shock and disbelief at the 15-year-old's survival, citing quotes like \"I thought in my lifetime I would never even hear of another case like this\" and describing it as \"mind-boggling\" and like \"winning the lottery five times in a row\". These quotes are verified, lending credibility to the argument that the doctor was primarily expressing surprise.<br>- expert_debater_mixtral_8_7B argues that the doctor's explanation of the physiological phenomenon that enabled survival is the most factually consistent summary, citing the verified quote \"This was a perfect storm of disaster that actually probably saved his life because when the airplane ascends, you lose oxygen, the air gets thin... With the temperature dropping it actually starts slowing down your body's need for oxygen.\" This quote does provide a detailed explanation of the survival mechanism.<br><br>2. Evaluating which answer is more likely correct:<br>- Answer A focuses on the doctor describing the phenomenon that saved the boy, which aligns with the verified quote cited by expert_debater_mixtral_8_7B.<br>- Answer B focuses on the doctor's shock at the boy's survival, which aligns with the verified quotes cited by expert_debater_sonnet_v3.<br>- Both answers capture aspects of the doctor's account, but Answer A seems to more directly summarize the key explanation provided by the doctor for how the boy survived.<br>- While the doctor did express shock, as highlighted by expert_debater_sonnet_v3, the detailed explanation of the survival mechanism appears to be the central focus of his account.<br><br>3. Based on the verified evidence presented, Answer A (\"The physician describes the phenomenon that saved the boy's life as a perfect storm of disaster that allowed him to survive by slowing down his body's need for oxygen and putting him in a frozen state until his oxygen was replenished\") appears to be the most factually consistent summary.<br><br>4. Final Answer: A<br>&lt;/thinking&gt;</td>\n",
       "    </tr>\n",
       "  </tbody>\n",
       "</table>"
      ],
      "text/plain": [
       "<IPython.core.display.HTML object>"
      ]
     },
     "metadata": {},
     "output_type": "display_data"
    },
    {
     "name": "stdout",
     "output_type": "stream",
     "text": [
      "invoke_claude_judge_debate :: transcript_filename >>>> /home/ec2-user/SageMaker/WKSP-RESAI-Robustness-Veracity/Lab2_Veracity/transcripts/full_transcript_debate_CNN-239067.log\n"
     ]
    },
    {
     "data": {
      "text/html": [
       "<table border=\"1\" class=\"dataframe\">\n",
       "  <thead>\n",
       "    <tr style=\"text-align: right;\">\n",
       "      <th></th>\n",
       "      <th>Debate ID</th>\n",
       "      <th>Round #</th>\n",
       "      <th>Task Question</th>\n",
       "      <th>Judge Response</th>\n",
       "    </tr>\n",
       "  </thead>\n",
       "  <tbody>\n",
       "    <tr>\n",
       "      <th>0</th>\n",
       "      <td>CNN-239067</td>\n",
       "      <td>1</td>\n",
       "      <td>Which one of these summaries is the most factually consistent one?<br> Answer A:Currency uncertainty would be a major issue in the event of a yes vote in the Scotland referendum on independence.<br> Answer B:Currency uncertainty would arise in the event of a yes vote in the Scottish referendum, with questions about what currency would be used and how long it would take to establish credibility.</td>\n",
       "      <td>&lt;thinking&gt;<br>1. Evaluating the arguments and verified quotes:<br>- Both debaters reference the quote from economist Kenneth Rogoff, which is a verified quote based on the tags.<br>- Rogoff's quote highlights the uncertainty around what currency Scotland would use if it became independent, and the challenges of establishing credibility for a new currency.<br>- Debater expert_debater_sonnet_v3 focuses on capturing the specific details and questions raised in Rogoff's quote, while expert_debater_mixtral_8_7B emphasizes the broader issue of currency uncertainty being a major challenge.<br><br>2. Considering which answer is more likely correct:<br>- Answer A: \"Currency uncertainty would be a major issue in the event of a yes vote in the Scotland referendum on independence.\"<br>  - This answer captures the general idea that currency uncertainty would be a significant problem, which is supported by Rogoff's quote.<br>  - However, it lacks the specific details and questions raised in the quote about what currency Scotland would use and the challenges of establishing credibility.<br>- Answer B: \"Currency uncertainty would arise in the event of a yes vote in the Scottish referendum, with questions about what currency would be used and how long it would take to establish credibility.\"<br>  - This answer more accurately reflects the details in Rogoff's quote about the specific questions and challenges surrounding currency and credibility.<br>  - It captures the essence of the quote and the key issues raised regarding currency uncertainty.<br><br>Based on the verified quote from Rogoff and the analysis of the two answers, Answer B seems to be the more factually consistent summary of the information presented in the transcript.<br><br>3. The answer I choose as correct is Answer B.<br><br>4. Final Answer: B<br>&lt;/thinking&gt;</td>\n",
       "    </tr>\n",
       "  </tbody>\n",
       "</table>"
      ],
      "text/plain": [
       "<IPython.core.display.HTML object>"
      ]
     },
     "metadata": {},
     "output_type": "display_data"
    },
    {
     "name": "stdout",
     "output_type": "stream",
     "text": [
      "[True, True, False, False, False, True, False, False, True, False]\n",
      "CPU times: user 138 ms, sys: 6.78 ms, total: 144 ms\n",
      "Wall time: 2min 16s\n"
     ]
    }
   ],
   "source": [
    "%%time\n",
    "\n",
    "debate_judge_regular_answers = list()\n",
    "for index, row in final_dataset.iterrows():\n",
    "    debate_id = row['doc_id']\n",
    "    answer_a = row['summ_sent_correct_manual']\n",
    "    answer_b = row['summ_sent_incorrect_original']\n",
    "    complete_interview_transcript = row['source']\n",
    "    logger.info(f\"-------------DEBATE  JUDGE Debate_id {debate_id}-------------------\")\n",
    "\n",
    "    judge_response = invoke_claude_judge_debate(debate_id = debate_id,\n",
    "                              question=question,\n",
    "                 answer_a = answer_a,\n",
    "                 answer_b = answer_b)\n",
    "    debate_judge_regular_answers.append(extract_final_answer(judge_response, flipped=False))\n",
    "    logger.info(f\" >>>>> invoke_mistral_judge_debate - judge_response  >>>>> {judge_response}\")\n",
    "    # Print the final response \n",
    "    format_final_response(debate_id, \n",
    "                          round_num=1, \n",
    "                          question=question, \n",
    "                          answer_a=answer_a, \n",
    "                          answer_b=answer_b, \n",
    "                          judge_response=judge_response)\n",
    "print(debate_judge_regular_answers)"
   ]
  },
  {
   "cell_type": "markdown",
   "id": "89a46272-45c5-4e0f-be8e-0a0850e5df8b",
   "metadata": {},
   "source": [
    "### <a name=\"3\">LLM Debate: 2 expert LLMs, 1 naive judge - LLM-1 arguing for 2nd summary</a>\n",
    "(<a href=\"#0\">Go to top</a>)"
   ]
  },
  {
   "cell_type": "markdown",
   "id": "27e7f903-969c-427d-a1aa-732d0db39ba2",
   "metadata": {},
   "source": [
    "In this **flipped LLM Debate** - Claude(LLM-1) defends correct Summary and Mixtral(LLM-2) defends incorrect summary.\n",
    "\n",
    "\n",
    "Claude v3(Sonnet) argues for answer B(Ground Truth:True Answer) and generates rationale why that answer is correct. Mixtral 8X7B argues for answer A(Ground Truth:False Answer) and generates rationale why that answer is correct. This continues for N(=3 in this notebook) rounds. At the end of the debate, Claude as a judge adjudicates whether Claude's or Mixtral's rationale is correct and chooses a side to give the final answer."
   ]
  },
  {
   "cell_type": "code",
   "execution_count": 9,
   "id": "e0cd6c9f-880e-4a70-a625-8c6a964a4947",
   "metadata": {},
   "outputs": [
    {
     "name": "stdout",
     "output_type": "stream",
     "text": [
      "=========== START OF 2 model FLIPPED DEBATE debate_id CNN-104129 Round #1..3 ======= \n",
      "\n",
      "=========== END OF 2 model FLIPPED DEBATE debate_id CNN-104129 Round #1..3 ======= \n",
      "\n",
      "=========== START OF 2 model FLIPPED DEBATE debate_id CNN-138971 Round #1..3 ======= \n",
      "\n",
      "=========== END OF 2 model FLIPPED DEBATE debate_id CNN-138971 Round #1..3 ======= \n",
      "\n",
      "=========== START OF 2 model FLIPPED DEBATE debate_id CNN-139946 Round #1..3 ======= \n",
      "\n",
      "=========== END OF 2 model FLIPPED DEBATE debate_id CNN-139946 Round #1..3 ======= \n",
      "\n",
      "=========== START OF 2 model FLIPPED DEBATE debate_id CNN-145383 Round #1..3 ======= \n",
      "\n",
      "=========== END OF 2 model FLIPPED DEBATE debate_id CNN-145383 Round #1..3 ======= \n",
      "\n",
      "=========== START OF 2 model FLIPPED DEBATE debate_id CNN-164885 Round #1..3 ======= \n",
      "\n",
      "=========== END OF 2 model FLIPPED DEBATE debate_id CNN-164885 Round #1..3 ======= \n",
      "\n",
      "=========== START OF 2 model FLIPPED DEBATE debate_id CNN-173359 Round #1..3 ======= \n",
      "\n",
      "=========== END OF 2 model FLIPPED DEBATE debate_id CNN-173359 Round #1..3 ======= \n",
      "\n",
      "=========== START OF 2 model FLIPPED DEBATE debate_id CNN-197627 Round #1..3 ======= \n",
      "\n",
      "=========== END OF 2 model FLIPPED DEBATE debate_id CNN-197627 Round #1..3 ======= \n",
      "\n",
      "=========== START OF 2 model FLIPPED DEBATE debate_id CNN-201245 Round #1..3 ======= \n",
      "\n",
      "=========== END OF 2 model FLIPPED DEBATE debate_id CNN-201245 Round #1..3 ======= \n",
      "\n",
      "=========== START OF 2 model FLIPPED DEBATE debate_id CNN-229050 Round #1..3 ======= \n",
      "\n",
      "=========== END OF 2 model FLIPPED DEBATE debate_id CNN-229050 Round #1..3 ======= \n",
      "\n",
      "=========== START OF 2 model FLIPPED DEBATE debate_id CNN-239067 Round #1..3 ======= \n",
      "\n",
      "=========== END OF 2 model FLIPPED DEBATE debate_id CNN-239067 Round #1..3 ======= \n",
      "\n",
      "CPU times: user 650 ms, sys: 30.6 ms, total: 680 ms\n",
      "Wall time: 9min 31s\n"
     ]
    }
   ],
   "source": [
    "%%time\n",
    "\n",
    "for index, row in final_dataset.iterrows():\n",
    "    debate_id = row['doc_id']\n",
    "    answer_a = row['summ_sent_correct_manual']\n",
    "    answer_b = row['summ_sent_incorrect_original']\n",
    "    complete_interview_transcript = row['source']\n",
    "    \n",
    "    #### defending True - Claude\n",
    "    claude_defending_summary=answer_a\n",
    "    claude_opposing_summary=answer_b\n",
    "\n",
    "    #### defending False - Mixtral\n",
    "    mixtral_defending_summary=answer_b\n",
    "    mixtral_opposing_summary=answer_a\n",
    "    \n",
    "    delete_file(f\"./transcripts/full_transcript_debate_{debate_id}{FLIPPED_FILE_SUFFIX}.log\")\n",
    "\n",
    "    logger.info(f\"-------------2 model Debate -> Debate_id {debate_id}-------------------\")\n",
    "    print(f\"=========== START OF 2 model FLIPPED DEBATE debate_id {debate_id} Round #1..{round_number + 1} ======= \\n\")\n",
    "    for round_number in range(number_of_rounds):\n",
    "        logger.info(f\"START Debate with Claude Round #{round_number + 1} >>>>>> \\n\") \n",
    "        claude_debate_response = invoke_claude_v3(debate_id = debate_id + FLIPPED_FILE_SUFFIX,\n",
    "                         question=question,\n",
    "                         round_number = round_number + 1,\n",
    "                         summary_defending = claude_defending_summary, \n",
    "                         summary_opposing = claude_opposing_summary, \n",
    "                         complete_interview = complete_interview_transcript,\n",
    "                         debate=True\n",
    "                         )\n",
    "\n",
    "        logger.info(f\" >>>>> claude_debate_response Round #{round_number + 1} >>>>> {claude_debate_response}\")\n",
    "        logger.info(f\"END Debate with Claude Round #{round_number + 1} >>>>>> \\n\")\n",
    "\n",
    "        mixtral_debate_response = invoke_mistral(debate_id = debate_id + FLIPPED_FILE_SUFFIX,\n",
    "                     question=question,\n",
    "                     round_number = round_number + 1,\n",
    "                     summary_defending = mixtral_defending_summary, \n",
    "                     summary_opposing = mixtral_opposing_summary, \n",
    "                     complete_interview = complete_interview_transcript, \n",
    "                     )\n",
    "\n",
    "        logger.info(f\" >>>>> mixtral_debate_response Round #{round_number + 1} >>>>> {mixtral_debate_response}\")\n",
    "        logger.info(f\"END Debate with Mixtral Round #{round_number + 1} >>>>>> \\n\")\n",
    "    print(f\"=========== END OF 2 model FLIPPED DEBATE debate_id {debate_id} Round #1..{round_number + 1} ======= \\n\")\n",
    "    "
   ]
  },
  {
   "cell_type": "markdown",
   "id": "2d73c855-24d5-4893-8b10-afc91936bf04",
   "metadata": {},
   "source": [
    "## JUDGE for flipped LLM Debate:LLM-Claude arguing for 1st summary, LLM-Mixtral arguing for 2nd summary"
   ]
  },
  {
   "cell_type": "code",
   "execution_count": 10,
   "id": "ee103881-33b6-473f-8d9b-ad7a69aa20df",
   "metadata": {},
   "outputs": [
    {
     "name": "stdout",
     "output_type": "stream",
     "text": [
      "invoke_claude_judge_debate :: transcript_filename >>>> /home/ec2-user/SageMaker/WKSP-RESAI-Robustness-Veracity/Lab2_Veracity/transcripts/full_transcript_debate_CNN-104129_flipped_.log\n"
     ]
    },
    {
     "data": {
      "text/html": [
       "<table border=\"1\" class=\"dataframe\">\n",
       "  <thead>\n",
       "    <tr style=\"text-align: right;\">\n",
       "      <th></th>\n",
       "      <th>Debate ID</th>\n",
       "      <th>Round #</th>\n",
       "      <th>Task Question</th>\n",
       "      <th>Judge Response</th>\n",
       "    </tr>\n",
       "  </thead>\n",
       "  <tbody>\n",
       "    <tr>\n",
       "      <th>0</th>\n",
       "      <td>CNN-104129</td>\n",
       "      <td>1</td>\n",
       "      <td>Which one of these summaries is the most factually consistent one?<br> Answer A:GM lost \\$10.6B in 2005, continues losing market share.<br> Answer B:GM lost \\$10B in 2005, continues losing market share.</td>\n",
       "      <td>&lt;thinking&gt;<br>1. Strengths and weaknesses of arguments:<br>- expert_debater_sonnet_v3 correctly points out that the story explicitly states GM's 2005 loss as &lt;v quote&gt;\\$10.6 billion&lt;/v quote&gt;, which is supported by a verified quote. This makes their summary \"GM lost \\$10.6B in 2005, continues losing market share\" more factually consistent with the story.<br>- expert_debater_mixtral_8_7B argues that the \\$600 million difference between \\$10 billion and \\$10.6 billion is relatively small for a large corporation like GM. However, this argument is not supported by any verified quotes from the story and dismisses the factual inaccuracy in their summary.<br>- Both debaters agree that the story mentions GM continuing to lose market share, which is supported by the verified quote &lt;v quote&gt;the company continues to lose market share&lt;/v quote&gt;.<br><br>2. Thinking step by step:<br>- The question asks for the most factually consistent summary with the story.<br>- expert_debater_sonnet_v3's summary accurately reflects the \\$10.6 billion loss figure stated in the verified quote from the story.<br>- expert_debater_mixtral_8_7B's summary contradicts this verified quote by stating a \\$10 billion loss instead.<br>- While expert_debater_mixtral_8_7B argues that the difference is relatively small, the story does not provide any context to support this claim or diminish the importance of the precise loss figure.<br>- Any factual inaccuracy, no matter how small, makes a summary less consistent with the story's facts.<br>- Therefore, expert_debater_sonnet_v3's summary \"GM lost \\$10.6B in 2005, continues losing market share\" is more factually consistent with the story based on the verified quotes.<br><br>3. The answer I choose as correct is Answer A: \"GM lost \\$10.6B in 2005, continues losing market share.\"<br><br>4. Final Answer: A<br>&lt;/thinking&gt;</td>\n",
       "    </tr>\n",
       "  </tbody>\n",
       "</table>"
      ],
      "text/plain": [
       "<IPython.core.display.HTML object>"
      ]
     },
     "metadata": {},
     "output_type": "display_data"
    },
    {
     "name": "stdout",
     "output_type": "stream",
     "text": [
      "invoke_claude_judge_debate :: transcript_filename >>>> /home/ec2-user/SageMaker/WKSP-RESAI-Robustness-Veracity/Lab2_Veracity/transcripts/full_transcript_debate_CNN-138971_flipped_.log\n"
     ]
    },
    {
     "data": {
      "text/html": [
       "<table border=\"1\" class=\"dataframe\">\n",
       "  <thead>\n",
       "    <tr style=\"text-align: right;\">\n",
       "      <th></th>\n",
       "      <th>Debate ID</th>\n",
       "      <th>Round #</th>\n",
       "      <th>Task Question</th>\n",
       "      <th>Judge Response</th>\n",
       "    </tr>\n",
       "  </thead>\n",
       "  <tbody>\n",
       "    <tr>\n",
       "      <th>0</th>\n",
       "      <td>CNN-138971</td>\n",
       "      <td>1</td>\n",
       "      <td>Which one of these summaries is the most factually consistent one?<br> Answer A:Diplomatic efforts to secure the release of American journalists Laura Ling and Euna Lee, who are accused of spying in North Korea and face trial, are ongoing.<br> Answer B:North Korea has announced plans to launch a satellite into orbit, which the US sees as a cover for testing ballistic missile technology.</td>\n",
       "      <td>&lt;thinking&gt;<br>1. Strengths and weaknesses of arguments:<br>- expert_debater_sonnet_v3 provides several verified quotes that directly support Answer A about ongoing diplomatic efforts to secure the journalists' release, such as:<br>&lt;v quote&gt;Representatives from Sweden have been working behind the scenes to try to engage the North Koreans.&lt;/v quote&gt;<br>&lt;v quote&gt;Lisa Ling received a surprise call from her sister last Tuesday saying she was being treated fairly.&lt;/v quote&gt;<br>&lt;v quote&gt;Former Vice President Al Gore, whose media venture the journalists work for, said he would do anything reasonable, including going to North Korea, to help secure their release.&lt;/v quote&gt;<br>These verified quotes provide strong evidence for Answer A.<br><br>- expert_debater_mixtral_8_7B provides some relevant context about North Korea's missile program and legal system, but does not provide any verified quotes that directly contradict the diplomatic efforts mentioned in Answer A. The quotes provided are either unverified or tangential to the specific question being asked.<br><br>2. Evaluating which answer is likely correct:<br>- Answer A is directly supported by multiple verified quotes from the story that mention specific diplomatic efforts underway to secure the journalists' release.<br>- Answer B provides relevant context about North Korea's missile program and legal system, but does not directly answer the question about which summary is most factually consistent with the story.<br>- Based on the verified evidence provided, Answer A appears to be the most factually consistent summary of the story's details regarding the journalists' situation and efforts for their release.<br><br>3. The answer I choose as most likely correct is Answer A: \"Diplomatic efforts to secure the release of American journalists Laura Ling and Euna Lee, who are accused of spying in North Korea and face trial, are ongoing.\"<br><br>4. Final Answer: A<br>&lt;/thinking&gt;</td>\n",
       "    </tr>\n",
       "  </tbody>\n",
       "</table>"
      ],
      "text/plain": [
       "<IPython.core.display.HTML object>"
      ]
     },
     "metadata": {},
     "output_type": "display_data"
    },
    {
     "name": "stdout",
     "output_type": "stream",
     "text": [
      "invoke_claude_judge_debate :: transcript_filename >>>> /home/ec2-user/SageMaker/WKSP-RESAI-Robustness-Veracity/Lab2_Veracity/transcripts/full_transcript_debate_CNN-139946_flipped_.log\n"
     ]
    },
    {
     "data": {
      "text/html": [
       "<table border=\"1\" class=\"dataframe\">\n",
       "  <thead>\n",
       "    <tr style=\"text-align: right;\">\n",
       "      <th></th>\n",
       "      <th>Debate ID</th>\n",
       "      <th>Round #</th>\n",
       "      <th>Task Question</th>\n",
       "      <th>Judge Response</th>\n",
       "    </tr>\n",
       "  </thead>\n",
       "  <tbody>\n",
       "    <tr>\n",
       "      <th>0</th>\n",
       "      <td>CNN-139946</td>\n",
       "      <td>1</td>\n",
       "      <td>Which one of these summaries is the most factually consistent one?<br> Answer A:Democrats gain 60 seats in Senate, giving them a filibuster-proof majority.<br> Answer B:This filibuster-proof majority means Democrats can pass legislation without Republican support.</td>\n",
       "      <td>&lt;thinking&gt;<br>1. Evaluating the debaters' arguments:<br>- expert_debater_sonnet_v3 provides verified quotes that directly support Answer A, stating that Democrats gained 60 seats and a filibuster-proof majority. This is consistent with the story.<br>- expert_debater_mixtral_8_7B argues that the story does not definitively confirm Democrats can pass legislation without Republicans, but this is not what Answer B claims. Answer B only states that the filibuster-proof majority means they can pass legislation without Republican support, which the verified quotes support.<br><br>2. Thinking step-by-step:<br>- The verified quotes confirm that Democrats gained 60 seats, giving them a filibuster-proof majority.<br>- Answer A accurately summarizes this factual outcome from the story.<br>- Answer B also accurately states that this filibuster-proof majority means Democrats can pass legislation without needing Republican support, which is a logical consequence of having a filibuster-proof majority.<br>- While the story mentions uncertainty about Democrats agreeing on everything, this does not negate the factual outcome of gaining a filibuster-proof majority, which both answers capture.<br>- Therefore, both Answer A and Answer B are factually consistent with the verified quotes from the story.<br><br>3. The answer I choose as correct is: Both Answer A and Answer B are correct summaries based on the verified quotes provided.<br><br>4. Final Answer: Both A and B<br>&lt;/thinking&gt;</td>\n",
       "    </tr>\n",
       "  </tbody>\n",
       "</table>"
      ],
      "text/plain": [
       "<IPython.core.display.HTML object>"
      ]
     },
     "metadata": {},
     "output_type": "display_data"
    },
    {
     "name": "stdout",
     "output_type": "stream",
     "text": [
      "invoke_claude_judge_debate :: transcript_filename >>>> /home/ec2-user/SageMaker/WKSP-RESAI-Robustness-Veracity/Lab2_Veracity/transcripts/full_transcript_debate_CNN-145383_flipped_.log\n"
     ]
    },
    {
     "data": {
      "text/html": [
       "<table border=\"1\" class=\"dataframe\">\n",
       "  <thead>\n",
       "    <tr style=\"text-align: right;\">\n",
       "      <th></th>\n",
       "      <th>Debate ID</th>\n",
       "      <th>Round #</th>\n",
       "      <th>Task Question</th>\n",
       "      <th>Judge Response</th>\n",
       "    </tr>\n",
       "  </thead>\n",
       "  <tbody>\n",
       "    <tr>\n",
       "      <th>0</th>\n",
       "      <td>CNN-145383</td>\n",
       "      <td>1</td>\n",
       "      <td>Which one of these summaries is the most factually consistent one?<br> Answer A:Over \\$260 million in private funding will support programs to engage students, improve teacher effectiveness, and promote hands-on learning.<br> Answer B:The private sector has committed over \\$260 million to the campaign, and the initial focus is on reaching young students with interactive science content.</td>\n",
       "      <td>&lt;thinking&gt;<br>1. Evaluating the arguments:<br>- expert_debater_sonnet_v3 provides several verified quotes that support Answer A, such as the campaign aiming to \"engage students\", \"improve teacher effectiveness\", and \"promote hands-on learning\". These quotes align well with Answer A.<br>- expert_debater_mixtral_8_7B provides one verified quote that supports the focus on \"reaching young students with interactive science content\", which aligns with part of Answer B. However, there are no verified quotes specifically stating that the \"initial focus\" is on young students with interactive science content.<br><br>2. Analyzing the answers:<br>- Answer A seems to be a more comprehensive summary of the campaign's objectives based on the verified quotes provided. It covers engaging students, improving teacher effectiveness, and promoting hands-on learning.<br>- Answer B is partially supported by the verified quote about reaching young students with interactive science content, but it lacks evidence for stating that this is the \"initial focus\" of the campaign.<br><br>3. Based on the evidence presented, Answer A appears to be the most factually consistent summary of the campaign's objectives.<br><br>4. Final Answer: A<br>&lt;/thinking&gt;</td>\n",
       "    </tr>\n",
       "  </tbody>\n",
       "</table>"
      ],
      "text/plain": [
       "<IPython.core.display.HTML object>"
      ]
     },
     "metadata": {},
     "output_type": "display_data"
    },
    {
     "name": "stdout",
     "output_type": "stream",
     "text": [
      "invoke_claude_judge_debate :: transcript_filename >>>> /home/ec2-user/SageMaker/WKSP-RESAI-Robustness-Veracity/Lab2_Veracity/transcripts/full_transcript_debate_CNN-164885_flipped_.log\n"
     ]
    },
    {
     "data": {
      "text/html": [
       "<table border=\"1\" class=\"dataframe\">\n",
       "  <thead>\n",
       "    <tr style=\"text-align: right;\">\n",
       "      <th></th>\n",
       "      <th>Debate ID</th>\n",
       "      <th>Round #</th>\n",
       "      <th>Task Question</th>\n",
       "      <th>Judge Response</th>\n",
       "    </tr>\n",
       "  </thead>\n",
       "  <tbody>\n",
       "    <tr>\n",
       "      <th>0</th>\n",
       "      <td>CNN-164885</td>\n",
       "      <td>1</td>\n",
       "      <td>Which one of these summaries is the most factually consistent one?<br> Answer A:Cuba celebrated the 50th anniversary of their victory over a US-backed invasion at the Bay of Pigs.<br> Answer B:170,000 Cubans have private businesses.</td>\n",
       "      <td>&lt;thinking&gt;<br>1. Evaluating the arguments and verified quotes:<br>- expert_debater_sonnet_v3 provides a verified quote mentioning the 50th anniversary of Cuba's victory at the Bay of Pigs, supporting Answer A. However, this quote alone does not necessarily invalidate Answer B about private businesses.<br>- expert_debater_mixtral_8_7B provides verified quotes directly mentioning Cuba's economic reforms, private enterprise, and the statistic of 170,000 Cubans opening private businesses. These quotes strongly support Answer B.<br>- Neither debater provides verified quotes that directly contradict the other answer, so both could potentially be factually consistent with the story.<br><br>2. Considering which answer is more likely to be correct:<br>- The verified quotes provided by expert_debater_mixtral_8_7B directly address the topic of private businesses in Cuba, which is the focus of Answer B. These quotes provide strong evidence that Answer B is factually consistent with the story.<br>- While the Bay of Pigs anniversary is mentioned in the verified quote from expert_debater_sonnet_v3, this quote alone does not necessarily confirm that Answer A is the most factually consistent summary of the story. The anniversary could be mentioned alongside other topics like private businesses.<br>- Based on the evidence presented, Answer B about private businesses seems more likely to be the most factually consistent summary, as it is directly supported by multiple verified quotes.<br><br>3. The answer I choose as most likely to be correct is Answer B: \"170,000 Cubans have private businesses.\"<br><br>4. Final Answer: B<br>&lt;/thinking&gt;</td>\n",
       "    </tr>\n",
       "  </tbody>\n",
       "</table>"
      ],
      "text/plain": [
       "<IPython.core.display.HTML object>"
      ]
     },
     "metadata": {},
     "output_type": "display_data"
    },
    {
     "name": "stdout",
     "output_type": "stream",
     "text": [
      "invoke_claude_judge_debate :: transcript_filename >>>> /home/ec2-user/SageMaker/WKSP-RESAI-Robustness-Veracity/Lab2_Veracity/transcripts/full_transcript_debate_CNN-173359_flipped_.log\n"
     ]
    },
    {
     "data": {
      "text/html": [
       "<table border=\"1\" class=\"dataframe\">\n",
       "  <thead>\n",
       "    <tr style=\"text-align: right;\">\n",
       "      <th></th>\n",
       "      <th>Debate ID</th>\n",
       "      <th>Round #</th>\n",
       "      <th>Task Question</th>\n",
       "      <th>Judge Response</th>\n",
       "    </tr>\n",
       "  </thead>\n",
       "  <tbody>\n",
       "    <tr>\n",
       "      <th>0</th>\n",
       "      <td>CNN-173359</td>\n",
       "      <td>1</td>\n",
       "      <td>Which one of these summaries is the most factually consistent one?<br> Answer A:The use of multiple drugs together, including Propofol, is not recommended outside of a hospital setting.<br> Answer B:Though Jackson was in good health, these sedatives and anesthetics stopped his breathing and led to his death.</td>\n",
       "      <td>&lt;thinking&gt;<br>1. Strengths and weaknesses of arguments:<br>- expert_debater_sonnet_v3 provides verified quotes from the doctor warning against using Propofol outside a hospital setting and the need for monitoring vital signs, which did not occur. This supports Answer A that using multiple drugs including Propofol outside a hospital is not recommended.<br>- expert_debater_mixtral_8_7B provides a verified quote stating that Jackson was in good health overall, but does not provide verified quotes directly supporting that the drugs stopped his breathing and led to his death (Answer B).<br><br>2. Evaluating which answer is likely correct:<br>- Answer A is directly supported by verified quotes from the doctor about the dangers of using Propofol and multiple drugs outside a hospital setting without proper monitoring.<br>- Answer B is not directly supported by verified quotes, as the quote about Jackson's health does not necessarily mean the drugs stopped his breathing and led to his death.<br>- The verified quotes seem to more strongly support Answer A over Answer B.<br><br>3. Answer chosen as correct: Answer A<br><br>4. Final Answer: A<br>&lt;/thinking&gt;</td>\n",
       "    </tr>\n",
       "  </tbody>\n",
       "</table>"
      ],
      "text/plain": [
       "<IPython.core.display.HTML object>"
      ]
     },
     "metadata": {},
     "output_type": "display_data"
    },
    {
     "name": "stdout",
     "output_type": "stream",
     "text": [
      "invoke_claude_judge_debate :: transcript_filename >>>> /home/ec2-user/SageMaker/WKSP-RESAI-Robustness-Veracity/Lab2_Veracity/transcripts/full_transcript_debate_CNN-197627_flipped_.log\n"
     ]
    },
    {
     "data": {
      "text/html": [
       "<table border=\"1\" class=\"dataframe\">\n",
       "  <thead>\n",
       "    <tr style=\"text-align: right;\">\n",
       "      <th></th>\n",
       "      <th>Debate ID</th>\n",
       "      <th>Round #</th>\n",
       "      <th>Task Question</th>\n",
       "      <th>Judge Response</th>\n",
       "    </tr>\n",
       "  </thead>\n",
       "  <tbody>\n",
       "    <tr>\n",
       "      <th>0</th>\n",
       "      <td>CNN-197627</td>\n",
       "      <td>1</td>\n",
       "      <td>Which one of these summaries is the most factually consistent one?<br> Answer A:The document mentions that President Obama will be attending an interfaith vigil in Newtown, Connecticut to provide comfort to the families and first responders affected by the shooting at Sandy Hook Elementary School.<br> Answer B:Connecticut police confirmed Adam Lanza fired hundreds of bullets, killing 26.</td>\n",
       "      <td>&lt;thinking&gt;<br>1. Evaluating the arguments:<br>- expert_debater_sonnet_v3 provides verified quotes that directly support Answer A, mentioning President Obama's visit to Newtown and the interfaith vigil. These quotes are strong evidence for Answer A.<br>- expert_debater_mixtral_8_7B provides verified quotes that confirm Adam Lanza fired hundreds of bullets, supporting Answer B. However, these quotes do not necessarily contradict Answer A, as they focus on different aspects of the story.<br><br>2. Considering which answer is more likely to be correct:<br>- Answer A seems to capture the main focus and emphasis of the story, which is President Obama's visit and the interfaith vigil to provide comfort after the shooting. The verified quotes directly support this.<br>- Answer B is a factual detail about the shooting itself, but it does not necessarily summarize the overall story as accurately as Answer A.<br>- While both answers contain factual information from the story, Answer A appears to be a more comprehensive and accurate summary of the story's primary subject matter.<br><br>3. The answer I choose as most likely to be correct is Answer A: \"The document mentions that President Obama will be attending an interfaith vigil in Newtown, Connecticut to provide comfort to the families and first responders affected by the shooting at Sandy Hook Elementary School.\"<br><br>Final Answer: A<br>&lt;/thinking&gt;</td>\n",
       "    </tr>\n",
       "  </tbody>\n",
       "</table>"
      ],
      "text/plain": [
       "<IPython.core.display.HTML object>"
      ]
     },
     "metadata": {},
     "output_type": "display_data"
    },
    {
     "name": "stdout",
     "output_type": "stream",
     "text": [
      "invoke_claude_judge_debate :: transcript_filename >>>> /home/ec2-user/SageMaker/WKSP-RESAI-Robustness-Veracity/Lab2_Veracity/transcripts/full_transcript_debate_CNN-201245_flipped_.log\n"
     ]
    },
    {
     "data": {
      "text/html": [
       "<table border=\"1\" class=\"dataframe\">\n",
       "  <thead>\n",
       "    <tr style=\"text-align: right;\">\n",
       "      <th></th>\n",
       "      <th>Debate ID</th>\n",
       "      <th>Round #</th>\n",
       "      <th>Task Question</th>\n",
       "      <th>Judge Response</th>\n",
       "    </tr>\n",
       "  </thead>\n",
       "  <tbody>\n",
       "    <tr>\n",
       "      <th>0</th>\n",
       "      <td>CNN-201245</td>\n",
       "      <td>1</td>\n",
       "      <td>Which one of these summaries is the most factually consistent one?<br> Answer A:New York City Mayor Michael Bloomberg is planning to ban the use of Styrofoam in stores and restaurants due to environmental concerns.<br> Answer B:What is the proposed ban on Styrofoam in stores?</td>\n",
       "      <td>&lt;thinking&gt;<br>1. Evaluating the arguments:<br>- expert_debater_sonnet_v3 provides verified quotes that support Answer A, such as &lt;v quote&gt;\"Now, Mayor Michael Bloomberg is out to ban Styrofoam food packaging in stores. It's actually not Styrofoam technically, it's plastic foam. He's looking to ban that in stores and food restaurants.\"&lt;/v quote&gt; and &lt;v quote&gt;\"He's looking to ban that in stores and food restaurants due to environmental concerns.\"&lt;/v quote&gt;. These quotes directly confirm the key details in Answer A.<br>- expert_debater_mixtral_8_7B also provides the same verified quote to support Answer B, but Answer B is phrased as a question rather than a statement of fact, making it less consistent with the factual information given.<br>- Both debaters provide relevant context from verified quotes like &lt;v quote&gt;\"To New York now where first it was calorie counts on menus, then trans fats, then mega soft drinks.\"&lt;/v quote&gt;, suggesting Bloomberg's history of regulating food businesses.<br><br>2. Evaluating which answer is more likely correct:<br>- Answer A is a direct statement summarizing the key facts from the verified quotes: that Bloomberg is planning to ban Styrofoam in stores and restaurants due to environmental concerns.<br>- Answer B, while factually accurate based on the verified quote, is phrased as a question rather than a statement of fact, making it less consistent with the information provided.<br>- The verified quotes and context provided support Answer A as the more factually consistent summary of the story details.<br><br>3. The answer I choose as correct is Answer A: \"New York City Mayor Michael Bloomberg is planning to ban the use of Styrofoam in stores and restaurants due to environmental concerns.\"<br><br>4. Final Answer: A<br>&lt;/thinking&gt;</td>\n",
       "    </tr>\n",
       "  </tbody>\n",
       "</table>"
      ],
      "text/plain": [
       "<IPython.core.display.HTML object>"
      ]
     },
     "metadata": {},
     "output_type": "display_data"
    },
    {
     "name": "stdout",
     "output_type": "stream",
     "text": [
      "invoke_claude_judge_debate :: transcript_filename >>>> /home/ec2-user/SageMaker/WKSP-RESAI-Robustness-Veracity/Lab2_Veracity/transcripts/full_transcript_debate_CNN-229050_flipped_.log\n"
     ]
    },
    {
     "data": {
      "text/html": [
       "<table border=\"1\" class=\"dataframe\">\n",
       "  <thead>\n",
       "    <tr style=\"text-align: right;\">\n",
       "      <th></th>\n",
       "      <th>Debate ID</th>\n",
       "      <th>Round #</th>\n",
       "      <th>Task Question</th>\n",
       "      <th>Judge Response</th>\n",
       "    </tr>\n",
       "  </thead>\n",
       "  <tbody>\n",
       "    <tr>\n",
       "      <th>0</th>\n",
       "      <td>CNN-229050</td>\n",
       "      <td>1</td>\n",
       "      <td>Which one of these summaries is the most factually consistent one?<br> Answer A:The physician describes the phenomenon that saved the boy's life as a perfect storm of disaster that allowed him to survive by slowing down his body's need for oxygen and putting him in a frozen state until his oxygen was replenished.<br> Answer B:He is shocked that the recent 15-year-old stowaway survived with no lasting side effects.</td>\n",
       "      <td>&lt;thinking&gt;<br>1. Evaluating the arguments:<br><br>expert_debater_sonnet_v3's arguments:<br>- Provides a verified quote from the physician explaining the \"perfect storm\" phenomenon that allowed the boy's survival through oxygen deprivation and freezing temperatures: &lt;v quote&gt;\"This was a perfect storm of disaster that actually probably saved his life because when the airplane ascends, you lose oxygen, the air gets thin as we would say in layman's terms. You would pass out in about a minute after being up there. Also, the temperature drops. With the temperature dropping it actually starts slowing down your body's need for oxygen. It puts you in a frozen or some people termed it as a suspended state.\"&lt;/v quote&gt;<br>- This quote directly supports Answer A, which summarizes the phenomenon as a \"perfect storm of disaster\" that slowed the boy's need for oxygen and put him in a frozen state.<br>- The debater also provides another verified quote showing the physician's surprise at the unlikely survival: &lt;v quote&gt;\"I kind of describe it as winning the lottery five times in a row\"&lt;/v quote&gt;<br>- However, the focus is on the physiological explanation rather than just the surprise.<br><br>expert_debater_mixtral_8_7B's arguments:<br>- Claims the physician's shock is the crucial factor, but does not provide any verified quotes to support this claim.<br>- The unverified quotes provided do not directly contradict the physiological explanation given in the verified quotes.<br>- Focuses too much on the physician's surprise rather than the explanation of the survival phenomenon.<br><br>2. Evaluating which answer is more likely correct:<br>- Answer A provides a detailed summary of the physiological phenomenon that allowed the boy's survival, which is directly supported by the verified quote from the physician.<br>- Answer B only focuses on the physician's surprise, which is a secondary reaction to the survival phenomenon rather than the central explanation.<br>- The verified quotes lend more support to Answer A as the most factually consistent summary.<br><br>3. Chosen answer: Answer A is the most likely correct answer based on the evidence from the verified quotes.<br><br>4. Final Answer: A<br>&lt;/thinking&gt;</td>\n",
       "    </tr>\n",
       "  </tbody>\n",
       "</table>"
      ],
      "text/plain": [
       "<IPython.core.display.HTML object>"
      ]
     },
     "metadata": {},
     "output_type": "display_data"
    },
    {
     "name": "stdout",
     "output_type": "stream",
     "text": [
      "invoke_claude_judge_debate :: transcript_filename >>>> /home/ec2-user/SageMaker/WKSP-RESAI-Robustness-Veracity/Lab2_Veracity/transcripts/full_transcript_debate_CNN-239067_flipped_.log\n"
     ]
    },
    {
     "data": {
      "text/html": [
       "<table border=\"1\" class=\"dataframe\">\n",
       "  <thead>\n",
       "    <tr style=\"text-align: right;\">\n",
       "      <th></th>\n",
       "      <th>Debate ID</th>\n",
       "      <th>Round #</th>\n",
       "      <th>Task Question</th>\n",
       "      <th>Judge Response</th>\n",
       "    </tr>\n",
       "  </thead>\n",
       "  <tbody>\n",
       "    <tr>\n",
       "      <th>0</th>\n",
       "      <td>CNN-239067</td>\n",
       "      <td>1</td>\n",
       "      <td>Which one of these summaries is the most factually consistent one?<br> Answer A:Currency uncertainty would be a major issue in the event of a yes vote in the Scotland referendum on independence.<br> Answer B:Currency uncertainty would arise in the event of a yes vote in the Scottish referendum, with questions about what currency would be used and how long it would take to establish credibility.</td>\n",
       "      <td>&lt;thinking&gt;<br>1. Evaluating the debaters' arguments:<br><br>expert_debater_sonnet_v3's arguments:<br>- Relies heavily on the verified quote from Kenneth Rogoff: \"When you got through with this divorce, suddenly you don\\'t have the currency. What currency do you have? That\\'s one of the first questions people will have, it\\'s one of the first questions investors have.\"<br>- This quote supports the claim that currency uncertainty would be a major issue in the event of Scottish independence.<br>- The debater also cites another verified quote highlighting the lack of a clear currency plan and conflicting claims about using the pound, euro, or a new Scottish currency.<br>- The arguments are well-supported by the verified quotes and focus on the magnitude of currency uncertainty as a major issue.<br><br>expert_debater_mixtral_8_7B's arguments:<br>- Also relies on the same verified quotes from Kenneth Rogoff about currency uncertainty and the lack of a clear plan.<br>- However, the summary in Answer B does not explicitly state that currency uncertainty would be a \"major issue\" but rather that it \"would arise\" with questions about the currency and establishing credibility.<br>- The debater attempts to argue that the additional details in Answer B make it more factually consistent, but these details are not necessarily supported by the verified quotes.<br><br>2. Evaluating which answer is more likely to be correct:<br>- Both answers acknowledge that currency uncertainty would exist in the event of Scottish independence, which is supported by the verified quotes.<br>- However, Answer A more directly captures the magnitude of currency uncertainty as a \"major issue,\" which aligns with Rogoff's characterization of it being \"one of the first questions\" and a paramount concern.<br>- While Answer B provides additional context, the verified quotes do not necessarily support the specific details about establishing credibility and the timescale involved.<br>- Therefore, based on the verified quotes, Answer A appears to be the more factually consistent summary of Rogoff's analysis.<br><br>3. Chosen answer: Answer A: \"Currency uncertainty would be a major issue in the event of a yes vote in the Scotland referendum on independence.\"<br><br>Final Answer: A<br>&lt;/thinking&gt;</td>\n",
       "    </tr>\n",
       "  </tbody>\n",
       "</table>"
      ],
      "text/plain": [
       "<IPython.core.display.HTML object>"
      ]
     },
     "metadata": {},
     "output_type": "display_data"
    },
    {
     "name": "stdout",
     "output_type": "stream",
     "text": [
      "[True, True, False, True, False, True, True, True, True, True]\n",
      "CPU times: user 90.5 ms, sys: 8.18 ms, total: 98.7 ms\n",
      "Wall time: 1min 46s\n"
     ]
    }
   ],
   "source": [
    "%%time\n",
    "\n",
    "debate_judge_flipped_answers = list()\n",
    "for index, row in final_dataset.iterrows():\n",
    "    debate_id = row['doc_id']\n",
    "    answer_a = row['summ_sent_correct_manual']\n",
    "    answer_b = row['summ_sent_incorrect_original']\n",
    "    complete_interview_transcript = row['source']\n",
    "    logger.info(f\"-------------DEBATE FLIPPED JUDGE Debate_id {debate_id}-------------------\")\n",
    "\n",
    "    judge_response = invoke_claude_judge_debate(debate_id = debate_id + FLIPPED_FILE_SUFFIX,\n",
    "                              question=question,\n",
    "                              answer_a = answer_a,\n",
    "                              answer_b = answer_b)\n",
    "    debate_judge_flipped_answers.append(extract_final_answer(judge_response, flipped=False))\n",
    "    logger.info(f\" >>>>> Flipped invoke_mistral_judge_debate - judge_response  >>>>> {judge_response}\")\n",
    "    \n",
    "    # Print the final response \n",
    "    format_final_response(debate_id, \n",
    "                          round_num=1, \n",
    "                          question=question, \n",
    "                          answer_a=answer_a, \n",
    "                          answer_b=answer_b, \n",
    "                          judge_response=judge_response)\n",
    "print(debate_judge_flipped_answers)"
   ]
  },
  {
   "cell_type": "markdown",
   "id": "bafd391f-2c5b-4385-84d9-38da4515699f",
   "metadata": {},
   "source": [
    "## <a name=\"4\">Accuracy of LLM Debate</a>\n",
    "(<a href=\"#0\">Go to top</a>)"
   ]
  },
  {
   "cell_type": "code",
   "execution_count": 11,
   "id": "3dee9e72-42c2-4963-a68c-60941c472e29",
   "metadata": {
    "tags": []
   },
   "outputs": [
    {
     "data": {
      "text/plain": [
       "[True, True, False, False, False, True, False, False, True, False]"
      ]
     },
     "execution_count": 11,
     "metadata": {},
     "output_type": "execute_result"
    }
   ],
   "source": [
    "debate_judge_regular_answers"
   ]
  },
  {
   "cell_type": "code",
   "execution_count": 12,
   "id": "26b689ae-7377-41db-afce-c80bf65fc1f9",
   "metadata": {
    "tags": []
   },
   "outputs": [
    {
     "data": {
      "text/plain": [
       "[True, True, False, True, False, True, True, True, True, True]"
      ]
     },
     "execution_count": 12,
     "metadata": {},
     "output_type": "execute_result"
    }
   ],
   "source": [
    "debate_judge_flipped_answers"
   ]
  },
  {
   "cell_type": "code",
   "execution_count": 13,
   "id": "c47c3faa-1ddd-4f7b-864f-efac1c23a155",
   "metadata": {
    "tags": []
   },
   "outputs": [],
   "source": [
    "accuracy_debate_judge = find_num_matching_elements(debate_judge_regular_answers, debate_judge_flipped_answers)/total_data_points"
   ]
  },
  {
   "cell_type": "code",
   "execution_count": 14,
   "id": "6f13e301-ce93-49d5-ab48-430245eff5b2",
   "metadata": {
    "tags": []
   },
   "outputs": [
    {
     "data": {
      "text/plain": [
       "0.6"
      ]
     },
     "execution_count": 14,
     "metadata": {},
     "output_type": "execute_result"
    }
   ],
   "source": [
    "accuracy_debate_judge"
   ]
  },
  {
   "cell_type": "code",
   "execution_count": 15,
   "id": "ab6f33fc-52aa-442a-bc76-ed55f15d560f",
   "metadata": {},
   "outputs": [
    {
     "name": "stdout",
     "output_type": "stream",
     "text": [
      "{'accuracy_naive_judge': 0.2, 'accuracy_expert_judge': 0.4, 'accuracy_debate_judge': 0.6, 'accuracy_consultant_judge': 0.5}\n",
      "notebook results saved in results folder\n"
     ]
    }
   ],
   "source": [
    "# save the results\n",
    "results_dict = {\"accuracy_debate_judge\" : accuracy_debate_judge}\n",
    "save_each_experiment_result(results_dict)\n",
    "print(\"notebook results saved in results folder\")"
   ]
  },
  {
   "cell_type": "markdown",
   "id": "50fbd255-a593-438f-a44f-fce489056f26",
   "metadata": {},
   "source": [
    "## <a name=\"5\">Compare Accuracies across experiments/methods.</a>\n",
    "(<a href=\"#0\">Go to top</a>)"
   ]
  },
  {
   "cell_type": "markdown",
   "id": "ff97c205-fa79-4c09-b115-0cd3e9cae864",
   "metadata": {},
   "source": [
    "Here we compare the accuracies of each method/experiment to understand"
   ]
  },
  {
   "cell_type": "code",
   "execution_count": 16,
   "id": "39472b99-25dc-4d47-8242-450df4c13559",
   "metadata": {
    "tags": []
   },
   "outputs": [
    {
     "name": "stdout",
     "output_type": "stream",
     "text": [
      "{'accuracy_naive_judge': 0.2, 'accuracy_expert_judge': 0.4, 'accuracy_debate_judge': 0.6, 'accuracy_consultant_judge': 0.5}\n",
      "{'accuracy_naive_judge': 0.2, 'accuracy_expert_judge': 0.4, 'accuracy_debate_judge': 0.6, 'accuracy_consultant_judge': 0.5}\n",
      "{'accuracy_naive_judge': 0.2, 'accuracy_expert_judge': 0.4, 'accuracy_debate_judge': 0.6, 'accuracy_consultant_judge': 0.5}\n"
     ]
    },
    {
     "data": {
      "text/html": [
       "<table border=\"1\" class=\"dataframe\">\n",
       "  <thead>\n",
       "    <tr style=\"text-align: right;\">\n",
       "      <th></th>\n",
       "      <th>Naive Judge</th>\n",
       "      <th>Expert Judge</th>\n",
       "      <th>LLM Consultancy</th>\n",
       "      <th>LLM Debate</th>\n",
       "    </tr>\n",
       "  </thead>\n",
       "  <tbody>\n",
       "    <tr>\n",
       "      <th>0</th>\n",
       "      <td>0.2</td>\n",
       "      <td>0.4</td>\n",
       "      <td>0.5</td>\n",
       "      <td>0.6</td>\n",
       "    </tr>\n",
       "  </tbody>\n",
       "</table>"
      ],
      "text/plain": [
       "<IPython.core.display.HTML object>"
      ]
     },
     "metadata": {},
     "output_type": "display_data"
    }
   ],
   "source": [
    "accuracy_naive_judge = get_each_experiment_result(\"accuracy_naive_judge\")\n",
    "accuracy_expert_judge = get_each_experiment_result(\"accuracy_expert_judge\")\n",
    "accuracy_consultant_judge = get_each_experiment_result(\"accuracy_consultant_judge\")\n",
    "\n",
    "final_accuracy_comparison(\n",
    "    accuracy_naive_judge = accuracy_naive_judge,\n",
    "    accuracy_expert_judge = accuracy_expert_judge,\n",
    "    accuracy_consultant_judge = accuracy_consultant_judge,\n",
    "    accuracy_debate_judge = accuracy_debate_judge\n",
    ")"
   ]
  },
  {
   "cell_type": "code",
   "execution_count": 17,
   "id": "3e751a8d-fd46-4192-b100-655e8342ffe1",
   "metadata": {
    "tags": []
   },
   "outputs": [
    {
     "data": {
      "image/png": "[encoded data removed]",
      "text/plain": [
       "<Figure size 640x480 with 1 Axes>"
      ]
     },
     "metadata": {},
     "output_type": "display_data"
    }
   ],
   "source": [
    "# Build the plot\n",
    "x_values = [ \"Naive Judge\", \"Expert Judge\", \"LLM Consultant\", \"LLM Debate\"]\n",
    "y_values = [ accuracy_naive_judge, accuracy_expert_judge, accuracy_consultant_judge, accuracy_debate_judge]\n",
    "plt.bar(x_values, y_values)\n",
    "plt.title('Compare Accuracies across experiments')\n",
    "plt.xnotebookel('Experiment Type')\n",
    "plt.ynotebookel('Accuracy')\n",
    " \n",
    "plt.show()"
   ]
  },
  {
   "cell_type": "markdown",
   "id": "19b11eae-cb6b-4196-a91e-56b2f3c4b076",
   "metadata": {},
   "source": [
    "### <a name=\"6\">Choose expert LLM using Win Rate measured during LLM Debate (Experiment 4) </a>\n",
    "(<a href=\"#0\">Go to top</a>)"
   ]
  },
  {
   "cell_type": "markdown",
   "id": "e0682b92-dcda-4949-b9ac-49c027e18226",
   "metadata": {},
   "source": [
    "With this win rate of expert models, we emprically understand which LLM as a debater is more successful than the other."
   ]
  },
  {
   "cell_type": "code",
   "execution_count": 18,
   "id": "2cc2b8aa-0335-4d8a-811d-9da60dd69826",
   "metadata": {
    "tags": []
   },
   "outputs": [
    {
     "name": "stdout",
     "output_type": "stream",
     "text": [
      "most_common_regular_value =False , regular_count = 6\n",
      "most_common_flipped_value =True , flipped_count = 8\n",
      "\n",
      " claude_regular_win_rate :: 0.6 \n",
      "                \n",
      " mistral_regular_win_rate :: 0.4 \n",
      "                \n",
      " claude_flipped_win_rate :: 0.8\n",
      "                \n",
      " mistral_flipped_win_rate :: 0.19999999999999996 \n"
     ]
    }
   ],
   "source": [
    "claude_avg_win_rate, mixtral_avg_win_rate = get_win_rate_per_model(\n",
    "    debate_judge_regular_answers, \n",
    "    debate_judge_flipped_answers)"
   ]
  },
  {
   "cell_type": "code",
   "execution_count": 19,
   "id": "d719aa86-ca8b-436a-8b6d-9ca1a3ba08db",
   "metadata": {
    "tags": []
   },
   "outputs": [
    {
     "data": {
      "text/html": [
       "<table border=\"1\" class=\"dataframe\">\n",
       "  <thead>\n",
       "    <tr style=\"text-align: right;\">\n",
       "      <th></th>\n",
       "      <th>Claude Win Rate</th>\n",
       "      <th>Mixtral Win Rate</th>\n",
       "    </tr>\n",
       "  </thead>\n",
       "  <tbody>\n",
       "    <tr>\n",
       "      <th>0</th>\n",
       "      <td>0.7</td>\n",
       "      <td>0.3</td>\n",
       "    </tr>\n",
       "  </tbody>\n",
       "</table>"
      ],
      "text/plain": [
       "<IPython.core.display.HTML object>"
      ]
     },
     "metadata": {},
     "output_type": "display_data"
    }
   ],
   "source": [
    "win_rate_comparison(claude_avg_win_rate, mixtral_avg_win_rate)"
   ]
  },
  {
   "cell_type": "code",
   "execution_count": 20,
   "id": "cc1319a9-e85c-4d29-92d7-60acd1a21e51",
   "metadata": {
    "tags": []
   },
   "outputs": [
    {
     "data": {
      "image/png": "[encoded data removed]",
      "text/plain": [
       "<Figure size 640x480 with 1 Axes>"
      ]
     },
     "metadata": {},
     "output_type": "display_data"
    }
   ],
   "source": [
    "# Build the plot\n",
    "x_values = [ \"Claude v3 Sonnet\", \"Mixtral\"]\n",
    "y_values = [claude_avg_win_rate, mixtral_avg_win_rate]\n",
    "plt.bar(x_values, y_values)\n",
    "plt.title('Compare average win-rate across expert LLMs')\n",
    "plt.xnotebookel('average win-rate')\n",
    "plt.ynotebookel('win-rate')\n",
    " \n",
    "plt.show()"
   ]
  }
 ],
 "metadata": {
  "kernelspec": {
   "display_name": "conda_python3",
   "language": "python",
   "name": "conda_python3"
  },
  "language_info": {
   "codemirror_mode": {
    "name": "ipython",
    "version": 3
   },
   "file_extension": ".py",
   "mimetype": "text/x-python",
   "name": "python",
   "nbconvert_exporter": "python",
   "pygments_lexer": "ipython3",
   "version": "3.10.14"
  }
 },
 "nbformat": 4,
 "nbformat_minor": 5
}
