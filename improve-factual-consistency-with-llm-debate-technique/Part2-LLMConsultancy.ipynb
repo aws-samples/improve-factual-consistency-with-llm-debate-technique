{
 "cells": [
  {
   "cell_type": "markdown",
   "id": "604ee77c-0e19-4a36-9f70-e8ab02cfaf54",
   "metadata": {},
   "source": [
    "<center><img src=\"images/MLU-NEW-logo.png\" alt=\"drawing\" width=\"400\" style=\"background-color:white; padding:1em;\" /></center> <br/>\n",
    "\n",
    "\n",
    "# <a name=\"0\">Improve Factual Consistency Part 2 </a>\n",
    "## <a name=\"0\">Improving Factual Consistency and Explainability using reasoning via LLM Consultancy </a>\n",
    "\n",
    "### Glossary of Terms\n",
    "- Naive Judge : This LLM has **no** access to transcript but only question and two summaries. Measure the baseline performance.\n",
    "- Expert Judge : This LLM has access to transcript along with question and two summaries\n",
    "- Question asked to LLM (in all experiments): It is always the same: `Which one of these summaries is the most factually consistent one?`\n",
    "\n",
    "## Dataset\n",
    "Our dataset is distilled from the Amazon Science evaluation benchmark dataset called <a href=\"https://github.com/amazon-science/tofueval\">TofuEval</a>. 10 summaries have been curated from the [MediaSum documents](https://github.com/zcgzcgzcg1/MediaSum) inside the tofueval dataset for this notebook. \n",
    "\n",
    "MediaSum is a large-scale media interview dataset contains 463.6K transcripts with abstractive summaries, collected from interview transcripts and overview / topic descriptions from NPR and CNN.\n",
    "\n",
    "## LLM Access\n",
    "\n",
    "We will need access to Anthropic Claude v3 Sonnet, Mistral 7b and  Mixtral 8x7b LLMs for this notebook.\n",
    "\n",
    "[Anthropic Claude v3(Sonnet)](https://www.anthropic.com/news/claude-3-family) , [Mixtral 8X7B](https://mistral.ai/news/mixtral-of-experts/), [Mistral 7B](https://mistral.ai/news/announcing-mistral-7b/) - all of them pre-trained on general text summarization tasks.\n",
    "\n",
    "## Notebook Overview\n",
    "\n",
    "In this notebook, we navigate the LLM debating technique with more persuasive LLMs having two expert debater LLMs (Claude and Mixtral) and one judge (using Claude - we can use others like Mistral/Mixtral, Titan Premier) to measure, compare and contrast its performance against other techniques like self-consistency (with naive and expert judges) and LLM consultancy. This notebook is an adapted and partial implementation of one of the ICML 2024 best papers, <a href=\"https://arxiv.org/pdf/2402.06782\"> Debating with More Persuasive LLMs Leads to More Truthful Answers </a> on a new and different Amazon Science evaluation dataset <a href=\"https://github.com/amazon-science/tofueval\">TofuEval</a>. \n",
    "\n",
    "\n",
    "- Part 1.  Demonstrate typical Standalone LLM approach\n",
    "\n",
    "- Part 2.  **[THIS notebook]** Demonstrate the LLM Consultancy approach and compare with Part 1.\n",
    "\n",
    "- Part 3.  Demonstrate the LLM Debate approach and compare with other methods.\n",
    "\n",
    "\n",
    "\n",
    "<div style=\"border: 4px solid coral; text-align: left; margin: auto; padding-left: 20px; padding-right: 20px\">\n",
    "    While this notebook(part 1,2 and 3) compares various methods and demonstrates the efficacy of LLM Debates in notebook part 3 with a supervised dataset, the greater benefit is possible in unsupervised scenarios where ground truth is unknown and ground truth alignment and/or curation is required. Human annotation can be expensive plus slow and agreement amongst human annotators adds another level of intricacy. A possible `scalable oversight direction could be this LLM debating technique to align on the ground truth options` via this debating and critique mechanism by establishing factual consistency(veracity). This alignment and curation of ground truth for unsupervised data could be a possible win direction for the debating technique in terms of cost versus benefit analysis.\n",
    "</div>\n",
    "<br/>\n",
    "\n",
    "\n",
    "#### Notebook Kernel\n",
    "Please choose `conda_python3` as the kernel type of the top right corner of the notebook if that does not appear by default.\n",
    "\n",
    "#### LLMs used\n",
    "[Anthropic Claude v3(Sonnet)](https://www.anthropic.com/news/claude-3-family) , [Mixtral 8X7B](https://mistral.ai/news/mixtral-of-experts/), [Mistral 7B](https://mistral.ai/news/announcing-mistral-7b/) - all of them pre-trained on general text summarization tasks.\n",
    "\n",
    "## Use-Case Overview\n",
    "\n",
    "To demonstrate the measurement and improvement of factual consistency (veracity) with explainability in this notebook, we conduct a series of experiments to choose the best summary for each transcript. In each experiment, we measure the veracity and correctness of the summaries generated from transcripts and improve upon the decision to choose the correct one via methods like LLM consultancy and LLM debates.\n",
    "\n",
    "The <b>overall task in this notebook</b> is choose which one of the two summaries is most appropriate for a given transcript. There are a total of 10 transcripts and each transcript has 2 summaries - one correct and other incorrect. The incorrect summaries have various classes of errors like `Nuanced Meaning Shift`, `Extrinsic Information` and  `Reasoning errors`. \n",
    "\n",
    "In this notebook we will conduct the following set of experiment combinations to measure, compare and contrast LLM debating techniques with others.\n",
    "\n",
    "\n",
    "## Experiments\n",
    "For each of these experiments we flip the side of the argument the LLM takes to account for `position bias` and `verbosity bias` and re-run each experiment.\n",
    "\n",
    "**Note** We always use the same Judge LLM (Mistral 7B) across all the experiments in this notebook\n",
    "\n",
    "\n",
    "\n",
    "---\n",
    "\n",
    "### Experiment 3: (LLM consultancy) \n",
    "<center><img src=\"images/veracitylab01-llm-consultancy.png\" alt=\"In this image, we depict the flow of LLM Consulancy. First a consultant LLMs is assigned a side to defend.They persuade the judge why their choice of summary is correct\n",
    "based on transcript contents. Next each consultation from the LLM is saved to a file and the consultant picks up the entire rationale history before posting their next thought. Finally, Once all 3 rounds of consultancy are over, the Judge LLM reads all the content and decides whether to agree or disagree with the consultant.\"  height=\"700\" width=\"700\" style=\"background-color:white; padding:1em;\" /></center> <br/>\n",
    "We use Claude as consultancy for both sides of the answers separately and then take the average of both the experiments 3a and 3b as final accuracy. This continues for N(=3 in this notebook) rounds. This accounts for errors due to position (choosing an answer due to its order/position) and verbosity bias (one answer longer than the other)\n",
    "\n",
    "##### Experiment 3a: (LLM consultancy for Answer A): \n",
    "Claude v3(Sonnet) acting as a consultant always picks Answer A(Ground Truth:False Answer) and shares rationale why that answer is correct. This continues for N(=3 in this notebook) rounds. At the end of these rounds, Claude as a judge adjudicates whether Claude as a debater's rationale is correct and if answer A is correct or not.\n",
    "##### Experiment 3b: (LLM consultancy for Answer B): \n",
    "Claude v3(Sonnet) acting as a consultant always picks Answer B(Ground Truth:True Answer) and generates rationale why that answer is correct. This continues for N(=3 in this notebook) rounds. At the end of these rounds, Claude  as a judge adjudicates whether Claude as a debater rationale is correct and if answer B is correct or not.\n",
    "\n",
    "---\n",
    "\n",
    "---\n",
    "## Evaluation Metrics\n",
    "For each type of experiment we evaluate the accuracy of the answers for that experiment/method type to compare and contrast each method at the end.\n",
    "\n",
    "For the final experiment on LLM Debate, we also calculate the `win rate` of the LLM debaters to evaluate which of the LLMs actually got most of the answers right as adjudicated by the judge. This can be considered a mechanism to choose one LLM over the other given this use-case.\n",
    "\n",
    "---\n",
    "\n",
    "\n",
    "This notebook notebook has the following sections:\n",
    "\n",
    "1. <a href=\"#1\">Dataset exploration</a>\n",
    "8. <a href=\"#8\">LLM Consultancy: 1 expert LLM consulting for 2nd summary , 1 naive judge</a>\n",
    "9. <a href=\"#9\">LLM Consultancy: 1 expert LLM consulting for 1st summary, 1 naive judge</a>\n",
    "10. <a href=\"#10\">Accuracy of LLM Consultancy</a>\n",
    "14. <a href=\"#14\">Compare Accuracies across experiments</a>\n",
    "16. <a href=\"#16\">Challenge exercise</a>\n",
    "    \n",
    "Please work top to bottom of this notebook and don't skip sections as this could lead to error messages due to missing code.\n",
    "\n",
    "---"
   ]
  },
  {
   "cell_type": "code",
   "execution_count": 1,
   "id": "3b05d1f2-f629-4982-81a5-d7cbc3133e19",
   "metadata": {},
   "outputs": [],
   "source": [
    "%%capture\n",
    "!pip3 install setuptools==70.0.0"
   ]
  },
  {
   "cell_type": "code",
   "execution_count": 2,
   "id": "3e2ad2f4-b720-48b9-bb5a-7b99bcafce8d",
   "metadata": {
    "tags": []
   },
   "outputs": [],
   "source": [
    "%%capture\n",
    "!pip3 install -q -U pip --root-user-action=ignore\n",
    "!pip3 install -q -r requirements.txt --root-user-action=ignore"
   ]
  },
  {
   "cell_type": "code",
   "execution_count": 3,
   "id": "7f8e6507-fc9a-4f1f-8535-7e2deb20a9a6",
   "metadata": {
    "tags": []
   },
   "outputs": [
    {
     "name": "stdout",
     "output_type": "stream",
     "text": [
      "The autoreload extension is already loaded. To reload it, use:\n",
      "  %reload_ext autoreload\n"
     ]
    }
   ],
   "source": [
    "# We load all prompts from a separate file prompts.py\n",
    "%load_ext autoreload\n",
    "%autoreload 2\n",
    "from prompts import *\n",
    "\n",
    "%load_ext autoreload\n",
    "%autoreload 2\n",
    "from mlu_utils.veracity_utils import *"
   ]
  },
  {
   "cell_type": "code",
   "execution_count": 4,
   "id": "f573ddc8-9290-484c-86f9-f16531648cac",
   "metadata": {
    "tags": []
   },
   "outputs": [
    {
     "name": "stdout",
     "output_type": "stream",
     "text": [
      "clear_file_contents dir :: <built-in function dir>\n"
     ]
    }
   ],
   "source": [
    "clean_up_files_in_dir(\"./transcripts\")\n",
    "clear_file_contents(\"./log_files/notebook_run_logs.log\")"
   ]
  },
  {
   "cell_type": "code",
   "execution_count": 5,
   "id": "a3c84b37-369c-405c-ac08-23be8dbb61a1",
   "metadata": {
    "tags": []
   },
   "outputs": [],
   "source": [
    "import boto3\n",
    "import re, time\n",
    "import random\n",
    "import numpy as np\n",
    "from collections import Counter\n",
    "import matplotlib.pyplot as plt\n",
    "%matplotlib inline\n",
    "\n",
    "from langchain.llms.bedrock import Bedrock\n",
    "from langchain.prompts import PromptTemplate\n",
    "from IPython.display import Markdown\n",
    "from collections import Counter\n",
    "\n",
    "from IPython.display import Markdown, display\n",
    "import logging\n",
    "import boto3, warnings\n",
    "import pandas as pd\n",
    "# Supress warnings\n",
    "warnings.filterwarnings(\"ignore\")\n",
    "logging.basicConfig(filename='log_files/notebook_run_logs.log', encoding='utf-8', level=logging.INFO)\n",
    "logger = logging.getLogger(__name__)\n",
    "logger.info(\"----- Test logging setup -----\")\n"
   ]
  },
  {
   "cell_type": "markdown",
   "id": "55085434-912c-4d24-b257-0136851ec650",
   "metadata": {},
   "source": [
    "### Bedrock Model Access check"
   ]
  },
  {
   "cell_type": "code",
   "execution_count": null,
   "id": "2e35bd98-f987-4c3e-98f7-372fc1f113df",
   "metadata": {},
   "outputs": [],
   "source": [
    "#test if all bedrock model access has been enabled \n",
    "test_llm_calls()"
   ]
  },
  {
   "cell_type": "markdown",
   "id": "8a9c14a1-7d5b-48dc-a4a0-5c5e0a205f57",
   "metadata": {},
   "source": [
    "### Constants used in this notebook"
   ]
  },
  {
   "cell_type": "code",
   "execution_count": 6,
   "id": "dcf134bf-7fbd-4c70-a84c-4b077f79f2a6",
   "metadata": {
    "tags": []
   },
   "outputs": [],
   "source": [
    "number_of_rounds = 3\n",
    "question = \"Which one of these summaries is the most factually consistent one?\"\n",
    "total_data_points = 10"
   ]
  },
  {
   "cell_type": "markdown",
   "id": "7829f829-7d19-420c-85ea-0e5c370304e0",
   "metadata": {
    "tags": []
   },
   "source": [
    "### <a name=\"1\">Dataset Exploration</a>\n",
    "(<a href=\"#0\">Go to top</a>)\n"
   ]
  },
  {
   "cell_type": "code",
   "execution_count": 7,
   "id": "b67d79c9-c30d-4daa-9d25-4dac7de60e2b",
   "metadata": {
    "tags": []
   },
   "outputs": [
    {
     "data": {
      "text/html": [
       "<div>\n",
       "<style scoped>\n",
       "    .dataframe tbody tr th:only-of-type {\n",
       "        vertical-align: middle;\n",
       "    }\n",
       "\n",
       "    .dataframe tbody tr th {\n",
       "        vertical-align: top;\n",
       "    }\n",
       "\n",
       "    .dataframe thead th {\n",
       "        text-align: right;\n",
       "    }\n",
       "</style>\n",
       "<table border=\"1\" class=\"dataframe\">\n",
       "  <thead>\n",
       "    <tr style=\"text-align: right;\">\n",
       "      <th></th>\n",
       "      <th>doc_id</th>\n",
       "      <th>topic</th>\n",
       "      <th>summ_sent_incorrect_original</th>\n",
       "      <th>summ_sent_correct_manual</th>\n",
       "      <th>exp</th>\n",
       "      <th>type</th>\n",
       "      <th>source</th>\n",
       "    </tr>\n",
       "  </thead>\n",
       "  <tbody>\n",
       "    <tr>\n",
       "      <th>0</th>\n",
       "      <td>CNN-104129</td>\n",
       "      <td>Decline of American automobile industry</td>\n",
       "      <td>GM lost $10B in 2005, continues losing market ...</td>\n",
       "      <td>GM lost $10.6B in 2005, continues losing marke...</td>\n",
       "      <td>It's not \"$10B\" but \"$10.6B\"</td>\n",
       "      <td>Nuanced Meaning Shift</td>\n",
       "      <td>DOBBS: General Motors today announced it will ...</td>\n",
       "    </tr>\n",
       "    <tr>\n",
       "      <th>1</th>\n",
       "      <td>CNN-138971</td>\n",
       "      <td>Diplomatic efforts</td>\n",
       "      <td>North Korea has announced plans to launch a sa...</td>\n",
       "      <td>Diplomatic efforts to secure the release of Am...</td>\n",
       "      <td>The launch of a satellite is not mentioned, bu...</td>\n",
       "      <td>Extrinsic Information</td>\n",
       "      <td>ROBERTS: Welcome back to the Most News in the ...</td>\n",
       "    </tr>\n",
       "    <tr>\n",
       "      <th>2</th>\n",
       "      <td>CNN-139946</td>\n",
       "      <td>Filibuster-Proof Majority</td>\n",
       "      <td>This filibuster-proof majority means Democrats...</td>\n",
       "      <td>Democrats gain 60 seats in Senate, giving them...</td>\n",
       "      <td>This is an unsupported statement</td>\n",
       "      <td>Extrinsic Information</td>\n",
       "      <td>ANNOUNCER: This is CNN breaking news.\\nMALVEAU...</td>\n",
       "    </tr>\n",
       "    <tr>\n",
       "      <th>3</th>\n",
       "      <td>CNN-145383</td>\n",
       "      <td>Educate to Innovate Campaign</td>\n",
       "      <td>The private sector has committed over $260 mil...</td>\n",
       "      <td>Over $260 million in private funding will supp...</td>\n",
       "      <td>The document does not state that \"reaching you...</td>\n",
       "      <td>Reasoning Error</td>\n",
       "      <td>HARRIS: And President Obama in the Eisenhower ...</td>\n",
       "    </tr>\n",
       "    <tr>\n",
       "      <th>4</th>\n",
       "      <td>CNN-164885</td>\n",
       "      <td>Cuban celebration and government gathering</td>\n",
       "      <td>170,000 Cubans have private businesses.</td>\n",
       "      <td>Cuba celebrated the 50th anniversary of their ...</td>\n",
       "      <td>The document says that 170,000 Cubans have app...</td>\n",
       "      <td>Nuanced Meaning Shift</td>\n",
       "      <td>FEYERICK: We'll get to Donald Trump's campaign...</td>\n",
       "    </tr>\n",
       "    <tr>\n",
       "      <th>5</th>\n",
       "      <td>CNN-173359</td>\n",
       "      <td>Dr. Conrad Murray's trial</td>\n",
       "      <td>Though Jackson was in good health, these sedat...</td>\n",
       "      <td>The use of multiple drugs together, including ...</td>\n",
       "      <td>The document suggests that these medications c...</td>\n",
       "      <td>Reasoning Error</td>\n",
       "      <td>LEMON: The trial of Dr. Conrad Murray gets und...</td>\n",
       "    </tr>\n",
       "    <tr>\n",
       "      <th>6</th>\n",
       "      <td>CNN-197627</td>\n",
       "      <td>Gun control debate</td>\n",
       "      <td>Connecticut police confirmed Adam Lanza fired ...</td>\n",
       "      <td>The document mentions that President Obama wil...</td>\n",
       "      <td>It's said that the shooter fired dozens of bul...</td>\n",
       "      <td>Reasoning Error</td>\n",
       "      <td>BLITZER: Connecticut state police confirm toda...</td>\n",
       "    </tr>\n",
       "    <tr>\n",
       "      <th>7</th>\n",
       "      <td>CNN-201245</td>\n",
       "      <td>Ban on Styrofoam in stores</td>\n",
       "      <td>What is the proposed ban on Styrofoam in stores?</td>\n",
       "      <td>New York City Mayor Michael Bloomberg is plann...</td>\n",
       "      <td>The sentence is a question.</td>\n",
       "      <td>Extrinsic Information</td>\n",
       "      <td>SAMBOLIN: Welcome back. Fifteen minutes past t...</td>\n",
       "    </tr>\n",
       "    <tr>\n",
       "      <th>8</th>\n",
       "      <td>CNN-229050</td>\n",
       "      <td>Medical condition of survivor</td>\n",
       "      <td>He is shocked that the recent 15-year-old stow...</td>\n",
       "      <td>The physician describes the phenomenon that sa...</td>\n",
       "      <td>There is no information in the document that t...</td>\n",
       "      <td>Extrinsic Information</td>\n",
       "      <td>MICHAELA PEREIRA, CNN ANCHOR: Welcome back to ...</td>\n",
       "    </tr>\n",
       "    <tr>\n",
       "      <th>9</th>\n",
       "      <td>CNN-239067</td>\n",
       "      <td>Currency uncertainty</td>\n",
       "      <td>Currency uncertainty would arise in the event ...</td>\n",
       "      <td>Currency uncertainty would be a major issue in...</td>\n",
       "      <td>Concerns about the length of time it would tak...</td>\n",
       "      <td>Extrinsic Information</td>\n",
       "      <td>BERMAN: Tensions building in Scotland this mor...</td>\n",
       "    </tr>\n",
       "  </tbody>\n",
       "</table>\n",
       "</div>"
      ],
      "text/plain": [
       "       doc_id                                       topic  \\\n",
       "0  CNN-104129     Decline of American automobile industry   \n",
       "1  CNN-138971                          Diplomatic efforts   \n",
       "2  CNN-139946                   Filibuster-Proof Majority   \n",
       "3  CNN-145383                Educate to Innovate Campaign   \n",
       "4  CNN-164885  Cuban celebration and government gathering   \n",
       "5  CNN-173359                   Dr. Conrad Murray's trial   \n",
       "6  CNN-197627                          Gun control debate   \n",
       "7  CNN-201245                  Ban on Styrofoam in stores   \n",
       "8  CNN-229050               Medical condition of survivor   \n",
       "9  CNN-239067                        Currency uncertainty   \n",
       "\n",
       "                        summ_sent_incorrect_original  \\\n",
       "0  GM lost $10B in 2005, continues losing market ...   \n",
       "1  North Korea has announced plans to launch a sa...   \n",
       "2  This filibuster-proof majority means Democrats...   \n",
       "3  The private sector has committed over $260 mil...   \n",
       "4            170,000 Cubans have private businesses.   \n",
       "5  Though Jackson was in good health, these sedat...   \n",
       "6  Connecticut police confirmed Adam Lanza fired ...   \n",
       "7   What is the proposed ban on Styrofoam in stores?   \n",
       "8  He is shocked that the recent 15-year-old stow...   \n",
       "9  Currency uncertainty would arise in the event ...   \n",
       "\n",
       "                            summ_sent_correct_manual  \\\n",
       "0  GM lost $10.6B in 2005, continues losing marke...   \n",
       "1  Diplomatic efforts to secure the release of Am...   \n",
       "2  Democrats gain 60 seats in Senate, giving them...   \n",
       "3  Over $260 million in private funding will supp...   \n",
       "4  Cuba celebrated the 50th anniversary of their ...   \n",
       "5  The use of multiple drugs together, including ...   \n",
       "6  The document mentions that President Obama wil...   \n",
       "7  New York City Mayor Michael Bloomberg is plann...   \n",
       "8  The physician describes the phenomenon that sa...   \n",
       "9  Currency uncertainty would be a major issue in...   \n",
       "\n",
       "                                                 exp                   type  \\\n",
       "0                       It's not \"$10B\" but \"$10.6B\"  Nuanced Meaning Shift   \n",
       "1  The launch of a satellite is not mentioned, bu...  Extrinsic Information   \n",
       "2                   This is an unsupported statement  Extrinsic Information   \n",
       "3  The document does not state that \"reaching you...        Reasoning Error   \n",
       "4  The document says that 170,000 Cubans have app...  Nuanced Meaning Shift   \n",
       "5  The document suggests that these medications c...        Reasoning Error   \n",
       "6  It's said that the shooter fired dozens of bul...        Reasoning Error   \n",
       "7                        The sentence is a question.  Extrinsic Information   \n",
       "8  There is no information in the document that t...  Extrinsic Information   \n",
       "9  Concerns about the length of time it would tak...  Extrinsic Information   \n",
       "\n",
       "                                              source  \n",
       "0  DOBBS: General Motors today announced it will ...  \n",
       "1  ROBERTS: Welcome back to the Most News in the ...  \n",
       "2  ANNOUNCER: This is CNN breaking news.\\nMALVEAU...  \n",
       "3  HARRIS: And President Obama in the Eisenhower ...  \n",
       "4  FEYERICK: We'll get to Donald Trump's campaign...  \n",
       "5  LEMON: The trial of Dr. Conrad Murray gets und...  \n",
       "6  BLITZER: Connecticut state police confirm toda...  \n",
       "7  SAMBOLIN: Welcome back. Fifteen minutes past t...  \n",
       "8  MICHAELA PEREIRA, CNN ANCHOR: Welcome back to ...  \n",
       "9  BERMAN: Tensions building in Scotland this mor...  "
      ]
     },
     "execution_count": 7,
     "metadata": {},
     "output_type": "execute_result"
    }
   ],
   "source": [
    "# pre-process the dataset\n",
    "answers_df = pd.read_csv(\"./tofueval_dataset/mediasum_dev_doc_id_group_final_dual_summaries_manual_final_dataset.csv\")\n",
    "#answers_df.head()\n",
    "interview_df = pd.read_csv(\"./tofueval_dataset/mediasum_dev_doc_complete_final.csv\")\n",
    "#interview_df.head()\n",
    "\n",
    "result = pd.merge(answers_df, interview_df, on=\"doc_id\")\n",
    "final_dataset = result[[\"doc_id\", \"topic\", \"summ_sent_incorrect_original\", \"summ_sent_correct_manual\", \"exp\", \"type\", \"source\"]]\n",
    "final_dataset"
   ]
  },
  {
   "cell_type": "markdown",
   "id": "cb3ffe9b-db2b-4022-aa27-f7b15fd03b79",
   "metadata": {},
   "source": [
    "### <a name=\"8\">LLM Consultancy: 1 expert LLM consulting for 2nd summary , 1 naive judge</a>\n",
    "(<a href=\"#0\">Go to top</a>)"
   ]
  },
  {
   "cell_type": "markdown",
   "id": "7018a5d1-42bb-473b-9e22-57ceeb2c2cce",
   "metadata": {},
   "source": [
    "LLM Consultancy with Claude (defending False) as Consultant for Answer B (incorrect) and Claude as Judge for 3 rounds.\n",
    "\n",
    "In this experiment we choose Claude v3(Sonnet) to act as a LLM consultant always picking Answer B(Ground Truth:False Answer). Claude also outputs its rationale why that answer is correct. This continues for N(=3 in this notebook) rounds. At the end of these rounds, Claude as a judge adjudicates whether Claude's rationale is correct and if answer A is correct or not."
   ]
  },
  {
   "cell_type": "code",
   "execution_count": 8,
   "id": "e17f2429-9027-4f1d-ba56-dd7587d90dcc",
   "metadata": {
    "tags": []
   },
   "outputs": [
    {
     "name": "stdout",
     "output_type": "stream",
     "text": [
      "=========== Consultancy debate_id CNN-104129 Round #1..3 ======= saved in ./transcripts/full_transcript_consultancy_CNN-104129.log\n",
      "=========== Consultancy debate_id CNN-138971 Round #1..3 ======= saved in ./transcripts/full_transcript_consultancy_CNN-138971.log\n",
      "=========== Consultancy debate_id CNN-139946 Round #1..3 ======= saved in ./transcripts/full_transcript_consultancy_CNN-139946.log\n",
      "=========== Consultancy debate_id CNN-145383 Round #1..3 ======= saved in ./transcripts/full_transcript_consultancy_CNN-145383.log\n",
      "=========== Consultancy debate_id CNN-164885 Round #1..3 ======= saved in ./transcripts/full_transcript_consultancy_CNN-164885.log\n",
      "=========== Consultancy debate_id CNN-173359 Round #1..3 ======= saved in ./transcripts/full_transcript_consultancy_CNN-173359.log\n",
      "=========== Consultancy debate_id CNN-197627 Round #1..3 ======= saved in ./transcripts/full_transcript_consultancy_CNN-197627.log\n",
      "=========== Consultancy debate_id CNN-201245 Round #1..3 ======= saved in ./transcripts/full_transcript_consultancy_CNN-201245.log\n",
      "=========== Consultancy debate_id CNN-229050 Round #1..3 ======= saved in ./transcripts/full_transcript_consultancy_CNN-229050.log\n",
      "=========== Consultancy debate_id CNN-239067 Round #1..3 ======= saved in ./transcripts/full_transcript_consultancy_CNN-239067.log\n",
      "CPU times: user 301 ms, sys: 35.9 ms, total: 337 ms\n",
      "Wall time: 15min 39s\n"
     ]
    }
   ],
   "source": [
    "%%time\n",
    "\n",
    "for index, row in final_dataset.iterrows():\n",
    "    time.sleep(10) # avoid throttling exceptions\n",
    "    debate_id = row['doc_id']\n",
    "    answer_a = row['summ_sent_correct_manual']\n",
    "    answer_b = row['summ_sent_incorrect_original']\n",
    "    complete_interview_transcript = row['source']\n",
    "    claude_defending_summary=answer_b\n",
    "    claude_opposing_summary=answer_a\n",
    "    delete_file(f\"./transcripts/full_transcript_consultancy_{debate_id}.log\")\n",
    "\n",
    "    logger.info(f\"-------------Consultancy Debate_id {debate_id}-------------------\")\n",
    "    for round_number in range(number_of_rounds):\n",
    "        time.sleep(10) # avoid throttling exceptions\n",
    "        logger.info(f\"START Consultancy with Claude Debate_id {debate_id} Round #{round_number + 1} >>>>>> \\n\")\n",
    "\n",
    "        consultancy_response = invoke_claude_v3(debate_id = debate_id, \n",
    "                         round_number = round_number + 1,\n",
    "                         question=question,\n",
    "                         summary_defending = claude_defending_summary, \n",
    "                         summary_opposing = claude_opposing_summary, \n",
    "                         complete_interview = complete_interview_transcript,\n",
    "                         debate=False\n",
    "                         )\n",
    "        logger.info(f\"END Consultancy with Claude Debate_id {debate_id} Round #{round_number + 1} >>>>>> \\n\")\n",
    "    print(f\"=========== Consultancy debate_id {debate_id} Round #1..{round_number + 1} ======= saved in ./transcripts/full_transcript_consultancy_{debate_id}.log\")\n",
    "    \n"
   ]
  },
  {
   "cell_type": "markdown",
   "id": "d65d255d-37a5-4129-9f55-392235ddc318",
   "metadata": {},
   "source": [
    "### Judge decision for LLM Consulting on 2nd summary"
   ]
  },
  {
   "cell_type": "code",
   "execution_count": 9,
   "id": "090b8240-d797-4f7b-8573-5b260f6c5a93",
   "metadata": {
    "tags": []
   },
   "outputs": [
    {
     "name": "stdout",
     "output_type": "stream",
     "text": [
      "invoke_claude_judge_consultant :: transcript_filename >>>> /home/ec2-user/SageMaker/improve-factual-consistency-with-llm-debate-technique/transcripts/full_transcript_consultancy_CNN-104129.log\n"
     ]
    },
    {
     "data": {
      "text/html": [
       "<table border=\"1\" class=\"dataframe\">\n",
       "  <thead>\n",
       "    <tr style=\"text-align: right;\">\n",
       "      <th></th>\n",
       "      <th>Debate ID</th>\n",
       "      <th>Round #</th>\n",
       "      <th>Task Question</th>\n",
       "      <th>Judge Response</th>\n",
       "    </tr>\n",
       "  </thead>\n",
       "  <tbody>\n",
       "    <tr>\n",
       "      <th>0</th>\n",
       "      <td>CNN-104129</td>\n",
       "      <td>1</td>\n",
       "      <td>Which one of these summaries is the most factually consistent one?<br> Answer A:GM lost \\$10.6B in 2005, continues losing market share.<br> Answer B:GM lost \\$10B in 2005, continues losing market share.</td>\n",
       "      <td>&lt;thinking&gt;<br>1. The consultant's arguments rely heavily on two key quotes:<br>&lt;quote&gt;\"General Motors reporting a \\$10.6 billion loss in 2005.\"&lt;/quote&gt;<br>&lt;quote&gt;\"The company continues to lose market share.\"&lt;/quote&gt;<br><br>However, these quotes are not enclosed in &lt;v quote&gt;&lt;/v quote&gt; tags, so they are unverified and cannot be fully trusted as direct quotes from the story.<br><br>2. Given the lack of verified quotes, I cannot definitively determine which summary is more factually consistent with the story. However, I can evaluate the logic and reasonableness of the consultant's arguments:<br><br>- The consultant argues that rounding \\$10.6B down to \\$10B is an acceptable approximation when summarizing. This seems like a reasonable argument.<br>- The consultant also argues that including the detail about GM losing market share provides more comprehensive context. This is a fair point, as market share is an important factor in assessing a company's performance.<br><br>3. Between the two answer choices:<br>Answer A: \"GM lost \\$10.6B in 2005, continues losing market share.\"<br>Answer B: \"GM lost \\$10B in 2005, continues losing market share.\"<br><br>Answer B is closer to the consultant's summary, which rounds down the loss figure and includes the market share detail. While not fully verifiable without direct quotes, Answer B seems more plausible based on the consultant's reasoning.<br><br>4. Final Answer: &lt;B&gt;<br>&lt;/thinking&gt;</td>\n",
       "    </tr>\n",
       "  </tbody>\n",
       "</table>"
      ],
      "text/plain": [
       "<IPython.core.display.HTML object>"
      ]
     },
     "metadata": {},
     "output_type": "display_data"
    },
    {
     "name": "stdout",
     "output_type": "stream",
     "text": [
      "invoke_claude_judge_consultant :: transcript_filename >>>> /home/ec2-user/SageMaker/improve-factual-consistency-with-llm-debate-technique/transcripts/full_transcript_consultancy_CNN-138971.log\n"
     ]
    },
    {
     "data": {
      "text/html": [
       "<table border=\"1\" class=\"dataframe\">\n",
       "  <thead>\n",
       "    <tr style=\"text-align: right;\">\n",
       "      <th></th>\n",
       "      <th>Debate ID</th>\n",
       "      <th>Round #</th>\n",
       "      <th>Task Question</th>\n",
       "      <th>Judge Response</th>\n",
       "    </tr>\n",
       "  </thead>\n",
       "  <tbody>\n",
       "    <tr>\n",
       "      <th>0</th>\n",
       "      <td>CNN-138971</td>\n",
       "      <td>1</td>\n",
       "      <td>Which one of these summaries is the most factually consistent one?<br> Answer A:Diplomatic efforts to secure the release of American journalists Laura Ling and Euna Lee, who are accused of spying in North Korea and face trial, are ongoing.<br> Answer B:North Korea has announced plans to launch a satellite into orbit, which the US sees as a cover for testing ballistic missile technology.</td>\n",
       "      <td>&lt;thinking&gt;<br>1. The consultant's arguments for Answer B (\"North Korea has announced plans to launch a satellite into orbit, which the US sees as a cover for testing ballistic missile technology\") are based on the following verified quote from the story:<br><br>&lt;v quote&gt;\"Complicating diplomacy, North Korea angered the world with recent nuclear test and missile launches.\"&lt;/v quote&gt;<br><br>This quote does provide evidence that North Korea has conducted recent missile launches, which could be seen by the US as covers for testing ballistic missile technology under the guise of satellite launches, as stated in Answer B.<br><br>However, the consultant's arguments do not directly address or refute Answer A (\"Diplomatic efforts to secure the release of American journalists Laura Ling and Euna Lee, who are accused of spying in North Korea and face trial, are ongoing\"), which seems to be the main focus of the story based on the unverified quotes provided.<br><br>2. Given the verified quote about North Korea's missile launches, Answer B appears to be factually consistent with the story, at least to some degree. However, the story's primary focus seems to be on the detained American journalists and diplomatic efforts for their release, as described in Answer A.<br><br>Both answers could potentially be correct, but Answer A appears to be more directly aligned with the main topic and details presented in the story based on the evidence provided.<br><br>3. Answer A: \"Diplomatic efforts to secure the release of American journalists Laura Ling and Euna Lee, who are accused of spying in North Korea and face trial, are ongoing.\"<br><br>4. Final Answer: &lt;A&gt;<br>&lt;/thinking&gt;</td>\n",
       "    </tr>\n",
       "  </tbody>\n",
       "</table>"
      ],
      "text/plain": [
       "<IPython.core.display.HTML object>"
      ]
     },
     "metadata": {},
     "output_type": "display_data"
    },
    {
     "name": "stdout",
     "output_type": "stream",
     "text": [
      "invoke_claude_judge_consultant :: transcript_filename >>>> /home/ec2-user/SageMaker/improve-factual-consistency-with-llm-debate-technique/transcripts/full_transcript_consultancy_CNN-139946.log\n"
     ]
    },
    {
     "data": {
      "text/html": [
       "<table border=\"1\" class=\"dataframe\">\n",
       "  <thead>\n",
       "    <tr style=\"text-align: right;\">\n",
       "      <th></th>\n",
       "      <th>Debate ID</th>\n",
       "      <th>Round #</th>\n",
       "      <th>Task Question</th>\n",
       "      <th>Judge Response</th>\n",
       "    </tr>\n",
       "  </thead>\n",
       "  <tbody>\n",
       "    <tr>\n",
       "      <th>0</th>\n",
       "      <td>CNN-139946</td>\n",
       "      <td>1</td>\n",
       "      <td>Which one of these summaries is the most factually consistent one?<br> Answer A:Democrats gain 60 seats in Senate, giving them a filibuster-proof majority.<br> Answer B:This filibuster-proof majority means Democrats can pass legislation without Republican support.</td>\n",
       "      <td>&lt;thinking&gt;<br>1. The consultant's arguments rely heavily on quotes from Gloria Borger, but none of these quotes are verified as being direct matches from the story text. Therefore, I cannot fully trust the accuracy of these quotes.<br><br>2. However, the consultant makes some logical points:<br>- Answer B (\"This filibuster-proof majority means Democrats can pass legislation without Republican support\") seems more nuanced and accurate than Answer A. It acknowledges that while the 60-seat majority gives Democrats the ability to pass legislation without Republicans if united, it does not guarantee they will always do so without any Republican support.<br>- The consultant argues that Answer A (\"Democrats gain 60 seats in Senate, giving them a filibuster-proof majority\") is factually inaccurate because the Democrats already had a majority before reaching the 60-seat threshold with Franken's addition. This seems like a reasonable critique of Answer A.<br><br>3. Based on the logical analysis of the arguments, even without being able to fully trust the quotes, Answer B seems more likely to be the correct, more factually consistent summary.<br><br>4. Final Answer: B<br>&lt;/thinking&gt;<br><br>Final Answer: &lt;B&gt;</td>\n",
       "    </tr>\n",
       "  </tbody>\n",
       "</table>"
      ],
      "text/plain": [
       "<IPython.core.display.HTML object>"
      ]
     },
     "metadata": {},
     "output_type": "display_data"
    },
    {
     "name": "stdout",
     "output_type": "stream",
     "text": [
      "invoke_claude_judge_consultant :: transcript_filename >>>> /home/ec2-user/SageMaker/improve-factual-consistency-with-llm-debate-technique/transcripts/full_transcript_consultancy_CNN-145383.log\n"
     ]
    },
    {
     "data": {
      "text/html": [
       "<table border=\"1\" class=\"dataframe\">\n",
       "  <thead>\n",
       "    <tr style=\"text-align: right;\">\n",
       "      <th></th>\n",
       "      <th>Debate ID</th>\n",
       "      <th>Round #</th>\n",
       "      <th>Task Question</th>\n",
       "      <th>Judge Response</th>\n",
       "    </tr>\n",
       "  </thead>\n",
       "  <tbody>\n",
       "    <tr>\n",
       "      <th>0</th>\n",
       "      <td>CNN-145383</td>\n",
       "      <td>1</td>\n",
       "      <td>Which one of these summaries is the most factually consistent one?<br> Answer A:Over \\$260 million in private funding will support programs to engage students, improve teacher effectiveness, and promote hands-on learning.<br> Answer B:The private sector has committed over \\$260 million to the campaign, and the initial focus is on reaching young students with interactive science content.</td>\n",
       "      <td>&lt;thinking&gt;<br>1. The consultant's arguments rely heavily on quotes to support their position that Answer B is the most factually consistent summary. However, none of the quotes are verified, so I cannot fully trust them as direct evidence from the story.<br><br>2. That said, the consultant makes a compelling case that Answer B accurately captures the key points mentioned in the unverified quotes:<br>- The private sector committed over \\$260 million to the \"Educate to Innovate\" campaign, as stated by President Obama.<br>- The initial focus of the campaign is on engaging young students with interactive science content and activities, as evidenced by the initiatives mentioned (Sesame Street, Discovery Communications, Time Warner Cable partnerships).<br><br>While I cannot verify the quotes, the overall logic and flow of the consultant's arguments seem reasonable and consistent. Answer A is more general and does not specifically mention the focus on young students and interactive content that the consultant emphasizes.<br><br>3. Based on the evidence presented by the consultant, even though the quotes are unverified, Answer B seems more likely to be the correct, most factually consistent summary: \"The private sector has committed over \\$260 million to the campaign, and the initial focus is on reaching young students with interactive science content.\"<br><br>4. Final Answer: B<br>&lt;/thinking&gt;</td>\n",
       "    </tr>\n",
       "  </tbody>\n",
       "</table>"
      ],
      "text/plain": [
       "<IPython.core.display.HTML object>"
      ]
     },
     "metadata": {},
     "output_type": "display_data"
    },
    {
     "name": "stdout",
     "output_type": "stream",
     "text": [
      "invoke_claude_judge_consultant :: transcript_filename >>>> /home/ec2-user/SageMaker/improve-factual-consistency-with-llm-debate-technique/transcripts/full_transcript_consultancy_CNN-164885.log\n"
     ]
    },
    {
     "data": {
      "text/html": [
       "<table border=\"1\" class=\"dataframe\">\n",
       "  <thead>\n",
       "    <tr style=\"text-align: right;\">\n",
       "      <th></th>\n",
       "      <th>Debate ID</th>\n",
       "      <th>Round #</th>\n",
       "      <th>Task Question</th>\n",
       "      <th>Judge Response</th>\n",
       "    </tr>\n",
       "  </thead>\n",
       "  <tbody>\n",
       "    <tr>\n",
       "      <th>0</th>\n",
       "      <td>CNN-164885</td>\n",
       "      <td>1</td>\n",
       "      <td>Which one of these summaries is the most factually consistent one?<br> Answer A:Cuba celebrated the 50th anniversary of their victory over a US-backed invasion at the Bay of Pigs.<br> Answer B:170,000 Cubans have private businesses.</td>\n",
       "      <td>&lt;thinking&gt;<br>1. The consultant's arguments focus heavily on the economic reforms in Cuba, particularly the move towards allowing more private businesses and reducing the role of the state-controlled economy. This is supported by verified quotes like:<br>&lt;v quote&gt;\"President Raul Castro has called for more private enterprise and less of a role from the state.\"&lt;/v quote&gt;<br>&lt;v quote&gt;\"They want to do major layoffs in the state sector and allow more people to get into business for themselves in things like plumbing, gardening, opening up restaurants.\"&lt;/v quote&gt;<br>The consultant also cites a direct quote from the anchor confirming the summary \"170,000 Cubans have private businesses\":<br>&lt;v quote&gt;\"FEYERICK: Shasta, I read something like 170,000 Cubans have actually taken out licenses to open their own business.\"&lt;/v quote&gt;<br>This quote provides strong evidence in favor of Answer B.<br><br>2. While the Bay of Pigs invasion is mentioned briefly for historical context, the consultant correctly notes that it is not the primary focus of the story. The extensive coverage is on the current economic reforms, making Answer B (\"170,000 Cubans have private businesses\") more consistent with the overall factual details presented.<br><br>3. Based on the verified quotes and the consultant's evidence-based analysis, Answer B (\"170,000 Cubans have private businesses\") appears to be the most factually consistent summary with the story content.<br><br>4. Final Answer: B<br>&lt;/thinking&gt;</td>\n",
       "    </tr>\n",
       "  </tbody>\n",
       "</table>"
      ],
      "text/plain": [
       "<IPython.core.display.HTML object>"
      ]
     },
     "metadata": {},
     "output_type": "display_data"
    },
    {
     "name": "stdout",
     "output_type": "stream",
     "text": [
      "invoke_claude_judge_consultant :: transcript_filename >>>> /home/ec2-user/SageMaker/improve-factual-consistency-with-llm-debate-technique/transcripts/full_transcript_consultancy_CNN-173359.log\n"
     ]
    },
    {
     "data": {
      "text/html": [
       "<table border=\"1\" class=\"dataframe\">\n",
       "  <thead>\n",
       "    <tr style=\"text-align: right;\">\n",
       "      <th></th>\n",
       "      <th>Debate ID</th>\n",
       "      <th>Round #</th>\n",
       "      <th>Task Question</th>\n",
       "      <th>Judge Response</th>\n",
       "    </tr>\n",
       "  </thead>\n",
       "  <tbody>\n",
       "    <tr>\n",
       "      <th>0</th>\n",
       "      <td>CNN-173359</td>\n",
       "      <td>1</td>\n",
       "      <td>Which one of these summaries is the most factually consistent one?<br> Answer A:The use of multiple drugs together, including Propofol, is not recommended outside of a hospital setting.<br> Answer B:Though Jackson was in good health, these sedatives and anesthetics stopped his breathing and led to his death.</td>\n",
       "      <td>&lt;thinking&gt;<br>1. The consultant's arguments rely heavily on quotes from Dr. Zeev Cain, an expert anesthesiologist who reviewed the autopsy report. The quotes attributed to Dr. Cain that are enclosed in &lt;quote&gt;&lt;/quote&gt; tags are unverified, so I cannot fully trust them as direct evidence from the story.<br><br>2. However, the consultant makes a compelling case for Answer B being the most factually consistent summary:<br>- The unverified quotes suggest that Jackson was in good overall health, with no major organ problems or signs of chronic illness/addiction, despite the presence of multiple drugs in his system.<br>- The unverified quotes also suggest that the specific combination of sedatives and anesthetics, including Propofol, was enough to stop Jackson's breathing and lead to his death, despite his good health.<br>- While I cannot fully trust the unverified quotes, the consultant's overall argument aligns with Answer B, which states that the sedatives and anesthetics stopped Jackson's breathing and led to his death, even though he was in good health.<br>- Answer A, on the other hand, is too broad and does not accurately capture the nuance that Jackson was in good health, but the specific drug combination caused his death.<br><br>3. \"Though Jackson was in good health, these sedatives and anesthetics stopped his breathing and led to his death.\"<br><br>4. Final Answer: &lt;B&gt;<br>&lt;/thinking&gt;</td>\n",
       "    </tr>\n",
       "  </tbody>\n",
       "</table>"
      ],
      "text/plain": [
       "<IPython.core.display.HTML object>"
      ]
     },
     "metadata": {},
     "output_type": "display_data"
    },
    {
     "name": "stdout",
     "output_type": "stream",
     "text": [
      "invoke_claude_judge_consultant :: transcript_filename >>>> /home/ec2-user/SageMaker/improve-factual-consistency-with-llm-debate-technique/transcripts/full_transcript_consultancy_CNN-197627.log\n",
      "entering None scenario for final answer\n"
     ]
    },
    {
     "data": {
      "text/html": [
       "<table border=\"1\" class=\"dataframe\">\n",
       "  <thead>\n",
       "    <tr style=\"text-align: right;\">\n",
       "      <th></th>\n",
       "      <th>Debate ID</th>\n",
       "      <th>Round #</th>\n",
       "      <th>Task Question</th>\n",
       "      <th>Judge Response</th>\n",
       "    </tr>\n",
       "  </thead>\n",
       "  <tbody>\n",
       "    <tr>\n",
       "      <th>0</th>\n",
       "      <td>CNN-197627</td>\n",
       "      <td>1</td>\n",
       "      <td>Which one of these summaries is the most factually consistent one?<br> Answer A:The document mentions that President Obama will be attending an interfaith vigil in Newtown, Connecticut to provide comfort to the families and first responders affected by the shooting at Sandy Hook Elementary School.<br> Answer B:Connecticut police confirmed Adam Lanza fired hundreds of bullets, killing 26.</td>\n",
       "      <td>&lt;thinking&gt;<br>1. The consultant's arguments rely heavily on two key quotes:<br>&lt;quote&gt;\"Adam Lanza fired what they call hundreds of bullet, hundreds, at the Sandy Hook Elementary school on Friday\"&lt;/quote&gt;<br>&lt;quote&gt;\"Lanza mostly used a semiautomatic weapon called a Bushmaster inside the school to kill those 26 people inside the school.\"&lt;/quote&gt;<br>However, these quotes are not enclosed in &lt;v quote&gt;&lt;/v quote&gt; tags, meaning they are unverified and cannot be trusted as direct quotes from the story.<br><br>2. Without verified quotes to support the consultant's arguments, there is no strong evidence to conclude that Answer B (\"Connecticut police confirmed Adam Lanza fired hundreds of bullets, killing 26\") is the most factually consistent summary.<br><br>The consultant dismisses Answer A about President Obama attending an interfaith vigil, but there is no evidence provided to rule out this summary either.<br><br>With no verified quotes to rely on, I cannot definitively determine which summary is more factually consistent based on the evidence presented.<br><br>3. Answer text: Neither summary can be conclusively judged as more factually consistent based on the lack of verified quotes provided.<br><br>4. Final Answer: Neither A nor B<br>&lt;/thinking&gt;</td>\n",
       "    </tr>\n",
       "  </tbody>\n",
       "</table>"
      ],
      "text/plain": [
       "<IPython.core.display.HTML object>"
      ]
     },
     "metadata": {},
     "output_type": "display_data"
    },
    {
     "name": "stdout",
     "output_type": "stream",
     "text": [
      "invoke_claude_judge_consultant :: transcript_filename >>>> /home/ec2-user/SageMaker/improve-factual-consistency-with-llm-debate-technique/transcripts/full_transcript_consultancy_CNN-201245.log\n"
     ]
    },
    {
     "data": {
      "text/html": [
       "<table border=\"1\" class=\"dataframe\">\n",
       "  <thead>\n",
       "    <tr style=\"text-align: right;\">\n",
       "      <th></th>\n",
       "      <th>Debate ID</th>\n",
       "      <th>Round #</th>\n",
       "      <th>Task Question</th>\n",
       "      <th>Judge Response</th>\n",
       "    </tr>\n",
       "  </thead>\n",
       "  <tbody>\n",
       "    <tr>\n",
       "      <th>0</th>\n",
       "      <td>CNN-201245</td>\n",
       "      <td>1</td>\n",
       "      <td>Which one of these summaries is the most factually consistent one?<br> Answer A:New York City Mayor Michael Bloomberg is planning to ban the use of Styrofoam in stores and restaurants due to environmental concerns.<br> Answer B:What is the proposed ban on Styrofoam in stores?</td>\n",
       "      <td>&lt;thinking&gt;<br>1. The consultant's arguments are based on a verified quote from the story that clearly states Mayor Bloomberg's plan is to ban \"plastic foam\" packaging \"in stores\". This quote directly contradicts the claim in Answer A that the ban would apply to \"stores and restaurants\". The consultant rightly points out that the quote \"He's looking to ban that in stores and food restaurants\" is unverified and should not be trusted.<br><br>2. Based on the verified quote, Answer A stating the ban would apply to \"stores and restaurants\" is factually inconsistent with the story. Answer B, which simply asks \"What is the proposed ban on Styrofoam in stores?\", is more consistent with the verified quote mentioning a ban \"in stores\" without making any unsupported claims about restaurants.<br><br>3. \"What is the proposed ban on Styrofoam in stores?\"<br><br>4. Final Answer: B<br>&lt;/thinking&gt;</td>\n",
       "    </tr>\n",
       "  </tbody>\n",
       "</table>"
      ],
      "text/plain": [
       "<IPython.core.display.HTML object>"
      ]
     },
     "metadata": {},
     "output_type": "display_data"
    },
    {
     "name": "stdout",
     "output_type": "stream",
     "text": [
      "invoke_claude_judge_consultant :: transcript_filename >>>> /home/ec2-user/SageMaker/improve-factual-consistency-with-llm-debate-technique/transcripts/full_transcript_consultancy_CNN-229050.log\n"
     ]
    },
    {
     "data": {
      "text/html": [
       "<table border=\"1\" class=\"dataframe\">\n",
       "  <thead>\n",
       "    <tr style=\"text-align: right;\">\n",
       "      <th></th>\n",
       "      <th>Debate ID</th>\n",
       "      <th>Round #</th>\n",
       "      <th>Task Question</th>\n",
       "      <th>Judge Response</th>\n",
       "    </tr>\n",
       "  </thead>\n",
       "  <tbody>\n",
       "    <tr>\n",
       "      <th>0</th>\n",
       "      <td>CNN-229050</td>\n",
       "      <td>1</td>\n",
       "      <td>Which one of these summaries is the most factually consistent one?<br> Answer A:The physician describes the phenomenon that saved the boy's life as a perfect storm of disaster that allowed him to survive by slowing down his body's need for oxygen and putting him in a frozen state until his oxygen was replenished.<br> Answer B:He is shocked that the recent 15-year-old stowaway survived with no lasting side effects.</td>\n",
       "      <td>&lt;thinking&gt;<br>1. The consultant's arguments rely heavily on quotes from the story to support their claim that Answer B (\"He is shocked that the recent 15-year-old stowaway survived with no lasting side effects\") is the most factually consistent summary. Some of the quotes are verified (&lt;v quote&gt;&lt;/v quote&gt;) and directly express shock and disbelief at the boy's survival, lending credibility to the consultant's position.<br><br>However, the consultant also uses some unverified quotes (enclosed in regular quotation marks or &lt;u quote&gt;&lt;/u quote&gt; tags), which should not be fully trusted according to the instructions. These unverified quotes include the consultant's interpretation of Dr. Dorian's statements as mere speculation about the phenomenon that allowed the boy's survival, rather than a definitive explanation.<br><br>2. To determine which answer is more likely to be correct, I need to carefully consider the verified quotes provided:<br><br>&lt;v quote&gt;Medical professionals remain shocked that a 15-year-old boy can survive a 5- 1/2 hour flight from California all the way to Hawaii in the wheel well of a Boeing 767.&lt;/v quote&gt;<br>This quote directly supports Answer B by expressing shock at the boy's survival.<br><br>&lt;v quote&gt;I thought in my lifetime I would never even hear of another case like this, let alone hear of a case where the gentleman who was a stowaway walks away from the incident.&lt;/v quote&gt;<br>This quote from Dr. Dorian also supports Answer B by conveying disbelief at the boy's survival and lack of lasting effects.<br><br>The consultant's arguments and use of verified quotes provide strong evidence that Answer B is the most factually consistent summary, as it accurately captures the story's tone of shock and amazement at the boy's inexplicable survival.<br><br>In contrast, Answer A (\"The physician describes the phenomenon that saved the boy's life as a perfect storm of disaster that allowed him to survive by slowing down his body's need for oxygen and putting him in a frozen state until his oxygen was replenished\") is not well-supported by the verified quotes. While Dr. Dorian speculates about potential factors like lack of oxygen and freezing temperatures, he does not definitively describe or confirm a phenomenon that allowed the boy's survival, as Answer A claims.<br><br>3. Answer text chosen as correct: \"He is shocked that the recent 15-year-old stowaway survived with no lasting side effects.\"<br><br>4. Final Answer: B<br>&lt;/thinking&gt;</td>\n",
       "    </tr>\n",
       "  </tbody>\n",
       "</table>"
      ],
      "text/plain": [
       "<IPython.core.display.HTML object>"
      ]
     },
     "metadata": {},
     "output_type": "display_data"
    },
    {
     "name": "stdout",
     "output_type": "stream",
     "text": [
      "invoke_claude_judge_consultant :: transcript_filename >>>> /home/ec2-user/SageMaker/improve-factual-consistency-with-llm-debate-technique/transcripts/full_transcript_consultancy_CNN-239067.log\n"
     ]
    },
    {
     "data": {
      "text/html": [
       "<table border=\"1\" class=\"dataframe\">\n",
       "  <thead>\n",
       "    <tr style=\"text-align: right;\">\n",
       "      <th></th>\n",
       "      <th>Debate ID</th>\n",
       "      <th>Round #</th>\n",
       "      <th>Task Question</th>\n",
       "      <th>Judge Response</th>\n",
       "    </tr>\n",
       "  </thead>\n",
       "  <tbody>\n",
       "    <tr>\n",
       "      <th>0</th>\n",
       "      <td>CNN-239067</td>\n",
       "      <td>1</td>\n",
       "      <td>Which one of these summaries is the most factually consistent one?<br> Answer A:Currency uncertainty would be a major issue in the event of a yes vote in the Scotland referendum on independence.<br> Answer B:Currency uncertainty would arise in the event of a yes vote in the Scottish referendum, with questions about what currency would be used and how long it would take to establish credibility.</td>\n",
       "      <td>&lt;thinking&gt;<br>1. The consultant's arguments rely heavily on quotes attributed to economist Kenneth Rogoff to support Answer B. However, none of these quotes are verified with &lt;v quote&gt;&lt;/v quote&gt; tags, so I cannot fully trust them as direct evidence from the story.<br><br>2. That said, the consultant makes a compelling case that Answer B captures more nuanced details about the specific currency uncertainties and credibility challenges that would arise from Scottish independence, compared to the more vague wording of Answer A.<br><br>3. Without verified quotes to directly confirm the details in Answer B, I cannot be fully certain it is the most factually consistent summary. However, based on the consultant's reasoned arguments, Answer B seems more likely to be correct than the overly broad Answer A.<br><br>4. Answer B: \"Currency uncertainty would arise in the event of a yes vote in the Scottish referendum, with questions about what currency would be used and how long it would take to establish credibility.\"<br><br>Final Answer: &lt;B&gt;<br>&lt;/thinking&gt;</td>\n",
       "    </tr>\n",
       "  </tbody>\n",
       "</table>"
      ],
      "text/plain": [
       "<IPython.core.display.HTML object>"
      ]
     },
     "metadata": {},
     "output_type": "display_data"
    },
    {
     "name": "stdout",
     "output_type": "stream",
     "text": [
      "CPU times: user 161 ms, sys: 12.9 ms, total: 174 ms\n",
      "Wall time: 3min 10s\n"
     ]
    }
   ],
   "source": [
    "%%time\n",
    "consultancy_judge_regular_answers = list()\n",
    "for index, row in final_dataset.iterrows():\n",
    "    time.sleep(10) # avoid throttling exceptions\n",
    "    debate_id = row['doc_id']\n",
    "    answer_a = row['summ_sent_correct_manual']\n",
    "    answer_b = row['summ_sent_incorrect_original']\n",
    "    complete_interview_transcript = row['source']\n",
    "    logger.info(f\"-------------CONSULTANCY JUDGE Debate_id {debate_id}-------------------\")\n",
    "\n",
    "\n",
    "    judge_response = invoke_claude_judge_consultant(debate_id = debate_id,\n",
    "                                  question = question, \n",
    "                                  answer_a = answer_a,\n",
    "                                  answer_b = answer_b)\n",
    "    consultancy_judge_regular_answers.append(extract_final_answer(judge_response, flipped=False))\n",
    "    logger.info(f\" >>>>> invoke_titan_judge_consultant - judge_response  >>>>> {judge_response}\")\n",
    "    # Print the final response \n",
    "    format_final_response(debate_id, \n",
    "                          round_num=1, \n",
    "                          question=question, \n",
    "                          answer_a=answer_a, \n",
    "                          answer_b=answer_b, \n",
    "                          judge_response=judge_response)\n",
    "    \n"
   ]
  },
  {
   "cell_type": "markdown",
   "id": "50f1ca2a-51a0-454b-b582-bfa6a9153b6e",
   "metadata": {},
   "source": [
    "### <a name=\"9\">LLM Consultancy: 1 expert LLM consulting for 1st summary, 1 naive judge</a>\n",
    "(<a href=\"#0\">Go to top</a>)"
   ]
  },
  {
   "cell_type": "markdown",
   "id": "16c8ef50-b9b6-4daf-b9f7-cc814fb2e004",
   "metadata": {},
   "source": [
    "**FLIPPED LLM CONSULTANCY** with Claude (defending True) as Consultant and Titan as Judge:\n",
    "\n",
    "\n",
    "In this experiment we choose Claude v3(Sonnet) to act as a LLM consultant always picking Answer A(Ground Truth:True Answer). Claude also outputs its rationale why that answer is correct. This continues for N(=3 in this notebook) rounds. At the end of these rounds, Claude as a judge adjudicates whether Claude's rationale is correct and if answer A is correct or not."
   ]
  },
  {
   "cell_type": "code",
   "execution_count": 10,
   "id": "69a583ba-fb01-4fa3-83cc-3e6754cd6280",
   "metadata": {
    "tags": []
   },
   "outputs": [
    {
     "name": "stdout",
     "output_type": "stream",
     "text": [
      "=========== END OF Flipped Consultancy debate_id CNN-104129 Round #1..3 ======= \n",
      "\n",
      "=========== END OF Flipped Consultancy debate_id CNN-138971 Round #1..3 ======= \n",
      "\n",
      "=========== END OF Flipped Consultancy debate_id CNN-139946 Round #1..3 ======= \n",
      "\n",
      "=========== END OF Flipped Consultancy debate_id CNN-145383 Round #1..3 ======= \n",
      "\n",
      "=========== END OF Flipped Consultancy debate_id CNN-164885 Round #1..3 ======= \n",
      "\n",
      "=========== END OF Flipped Consultancy debate_id CNN-173359 Round #1..3 ======= \n",
      "\n",
      "=========== END OF Flipped Consultancy debate_id CNN-197627 Round #1..3 ======= \n",
      "\n",
      "=========== END OF Flipped Consultancy debate_id CNN-201245 Round #1..3 ======= \n",
      "\n",
      "=========== END OF Flipped Consultancy debate_id CNN-229050 Round #1..3 ======= \n",
      "\n",
      "=========== END OF Flipped Consultancy debate_id CNN-239067 Round #1..3 ======= \n",
      "\n",
      "CPU times: user 200 ms, sys: 8.22 ms, total: 208 ms\n",
      "Wall time: 15min 57s\n"
     ]
    }
   ],
   "source": [
    "%%time\n",
    "\n",
    "for index, row in final_dataset.iterrows():\n",
    "    time.sleep(10) # avoid throttling exceptions\n",
    "    debate_id = row['doc_id']\n",
    "    answer_a = row['summ_sent_correct_manual']\n",
    "    answer_b = row['summ_sent_incorrect_original']\n",
    "    complete_interview_transcript = row['source']\n",
    "    claude_defending_summary=answer_a\n",
    "    claude_opposing_summary=answer_b\n",
    "    \n",
    "    logger.info(f\"-------------Consultancy Flipped Debate_id {debate_id}-------------------\")\n",
    "\n",
    "    #### Consultancy Claude - defending true - 3 rounds\n",
    "    delete_file(f\"./transcripts/full_transcript_consultancy_{debate_id}{FLIPPED_FILE_SUFFIX}.log\")\n",
    "    \n",
    "    for round_number in range(number_of_rounds):\n",
    "        time.sleep(10) # avoid throttling exceptions\n",
    "        logger.info(f\"START Flipped Consultancy with Claude Round #{round_number + 1} >>>>>> \\n\")\n",
    "\n",
    "        consultancy_response = invoke_claude_v3(debate_id = debate_id + FLIPPED_FILE_SUFFIX, \n",
    "                         round_number = round_number + 1,\n",
    "                         question=question,\n",
    "                         summary_defending = claude_defending_summary, \n",
    "                         summary_opposing = claude_opposing_summary, \n",
    "                         complete_interview = complete_interview_transcript,\n",
    "                         debate=False\n",
    "                         )\n",
    "        logger.info(f\" >>>>> consultancy_response Round #{round_number + 1} >>>>> {consultancy_response}\")\n",
    "        logger.info(f\"END Flipped Consultancy with Claude debate_id {debate_id}  Round #{round_number + 1} >>>>>> \\n\")\n",
    "    print(f\"=========== END OF Flipped Consultancy debate_id {debate_id} Round #1..{round_number + 1} ======= \\n\")\n",
    "    "
   ]
  },
  {
   "cell_type": "code",
   "execution_count": null,
   "id": "b47aae2f-46bd-4f7b-a569-d7a5c0061518",
   "metadata": {
    "tags": []
   },
   "outputs": [
    {
     "name": "stdout",
     "output_type": "stream",
     "text": [
      "invoke_claude_judge_consultant :: transcript_filename >>>> /home/ec2-user/SageMaker/improve-factual-consistency-with-llm-debate-technique/transcripts/full_transcript_consultancy_CNN-104129_flipped_.log\n"
     ]
    },
    {
     "data": {
      "text/html": [
       "<table border=\"1\" class=\"dataframe\">\n",
       "  <thead>\n",
       "    <tr style=\"text-align: right;\">\n",
       "      <th></th>\n",
       "      <th>Debate ID</th>\n",
       "      <th>Round #</th>\n",
       "      <th>Task Question</th>\n",
       "      <th>Judge Response</th>\n",
       "    </tr>\n",
       "  </thead>\n",
       "  <tbody>\n",
       "    <tr>\n",
       "      <th>0</th>\n",
       "      <td>CNN-104129</td>\n",
       "      <td>1</td>\n",
       "      <td>Which one of these summaries is the most factually consistent one?<br> Answer A:GM lost \\$10.6B in 2005, continues losing market share.<br> Answer B:GM lost \\$10B in 2005, continues losing market share.</td>\n",
       "      <td>&lt;thinking&gt;<br>1. The consultant's arguments rely heavily on two key quotes:<br>&lt;quote&gt;\"General Motors reporting a \\$10.6 billion loss in 2005.\"&lt;/quote&gt;<br>&lt;quote&gt;\"The company continues to lose market share.\"&lt;/quote&gt;<br><br>However, these quotes are not enclosed in &lt;v quote&gt;&lt;/v quote&gt; tags, which means they are unverified and cannot be trusted as direct quotes from the story. The consultant's arguments are therefore weakened by the lack of verified evidence to support the claims.<br><br>2. To determine the most factually consistent answer, I need to consider the information provided in the question itself:<br>- Answer A states \"GM lost \\$10.6B in 2005, continues losing market share.\"<br>- Answer B states \"GM lost \\$10B in 2005, continues losing market share.\"<br><br>Since there are no verified quotes to confirm the precise loss amount, I cannot definitively say whether \\$10.6B or \\$10B is correct. However, both answers agree that GM continued losing market share, which is a key detail.<br><br>Given the lack of verified evidence to confirm the loss amount, the most factually consistent answer is likely the one that aligns with the shared detail about losing market share.<br><br>3. Answer B: \"GM lost \\$10B in 2005, continues losing market share.\"<br><br>4. Final Answer: B<br>&lt;/thinking&gt;</td>\n",
       "    </tr>\n",
       "  </tbody>\n",
       "</table>"
      ],
      "text/plain": [
       "<IPython.core.display.HTML object>"
      ]
     },
     "metadata": {},
     "output_type": "display_data"
    },
    {
     "name": "stdout",
     "output_type": "stream",
     "text": [
      "invoke_claude_judge_consultant :: transcript_filename >>>> /home/ec2-user/SageMaker/improve-factual-consistency-with-llm-debate-technique/transcripts/full_transcript_consultancy_CNN-139946_flipped_.log\n"
     ]
    },
    {
     "data": {
      "text/html": [
       "<table border=\"1\" class=\"dataframe\">\n",
       "  <thead>\n",
       "    <tr style=\"text-align: right;\">\n",
       "      <th></th>\n",
       "      <th>Debate ID</th>\n",
       "      <th>Round #</th>\n",
       "      <th>Task Question</th>\n",
       "      <th>Judge Response</th>\n",
       "    </tr>\n",
       "  </thead>\n",
       "  <tbody>\n",
       "    <tr>\n",
       "      <th>0</th>\n",
       "      <td>CNN-139946</td>\n",
       "      <td>1</td>\n",
       "      <td>Which one of these summaries is the most factually consistent one?<br> Answer A:Democrats gain 60 seats in Senate, giving them a filibuster-proof majority.<br> Answer B:This filibuster-proof majority means Democrats can pass legislation without Republican support.</td>\n",
       "      <td>&lt;thinking&gt;<br>1. The consultant's arguments rely heavily on a single quote from Gloria Borger, which is presented as a verified quote. This quote confirms that Democrats gained 60 seats in the Senate, giving them a filibuster-proof majority. However, the quote does not support the claim that this majority allows Democrats to pass legislation without any Republican support.<br><br>2. The consultant correctly points out that the story does not explicitly state or suggest that the filibuster-proof majority means Democrats can bypass Republicans entirely. The story portrays the majority as an advantage for advancing Democratic priorities like healthcare and climate change, but does not overstate their power or remove the need for bipartisan support on major legislation.<br><br>3. Based on the verified quote and the consultant's analysis, the summary \"Democrats gain 60 seats in Senate, giving them a filibuster-proof majority\" is more factually consistent with the story's contents. The other summary, \"This filibuster-proof majority means Democrats can pass legislation without Republican support,\" goes too far and is not supported by the verified quote or the consultant's arguments.<br><br>4. Final Answer: A<br>&lt;/thinking&gt;</td>\n",
       "    </tr>\n",
       "  </tbody>\n",
       "</table>"
      ],
      "text/plain": [
       "<IPython.core.display.HTML object>"
      ]
     },
     "metadata": {},
     "output_type": "display_data"
    },
    {
     "name": "stdout",
     "output_type": "stream",
     "text": [
      "invoke_claude_judge_consultant :: transcript_filename >>>> /home/ec2-user/SageMaker/improve-factual-consistency-with-llm-debate-technique/transcripts/full_transcript_consultancy_CNN-145383_flipped_.log\n"
     ]
    },
    {
     "data": {
      "text/html": [
       "<table border=\"1\" class=\"dataframe\">\n",
       "  <thead>\n",
       "    <tr style=\"text-align: right;\">\n",
       "      <th></th>\n",
       "      <th>Debate ID</th>\n",
       "      <th>Round #</th>\n",
       "      <th>Task Question</th>\n",
       "      <th>Judge Response</th>\n",
       "    </tr>\n",
       "  </thead>\n",
       "  <tbody>\n",
       "    <tr>\n",
       "      <th>0</th>\n",
       "      <td>CNN-145383</td>\n",
       "      <td>1</td>\n",
       "      <td>Which one of these summaries is the most factually consistent one?<br> Answer A:Over \\$260 million in private funding will support programs to engage students, improve teacher effectiveness, and promote hands-on learning.<br> Answer B:The private sector has committed over \\$260 million to the campaign, and the initial focus is on reaching young students with interactive science content.</td>\n",
       "      <td>&lt;thinking&gt;<br>1. The consultant's arguments are well-supported by verified quotes from the story, which provide evidence that the private funding will target the key areas of engaging students in STEM, improving teacher effectiveness, and promoting hands-on learning experiences. The quotes directly align with the details mentioned in Answer A.<br><br>2. Answer A states: \"Over \\$260 million in private funding will support programs to engage students, improve teacher effectiveness, and promote hands-on learning.\" This summary accurately captures the key areas that the private funding will target, as evidenced by the verified quotes provided by the consultant.<br><br>Answer B states: \"The private sector has committed over \\$260 million to the campaign, and the initial focus is on reaching young students with interactive science content.\" While the first part about the private sector's funding commitment is correct, the second part about the \"initial focus\" being on reaching young students with interactive science content is not fully supported by the verified quotes. The quotes suggest a broader focus on engaging students of all ages, improving teacher effectiveness, and promoting hands-on learning experiences, not just an initial focus on young students and interactive science content.<br><br>3. Based on the evidence presented, Answer A is the most factually consistent summary of how the private funding will be used according to the story.<br><br>4. Final Answer: A<br>&lt;/thinking&gt;</td>\n",
       "    </tr>\n",
       "  </tbody>\n",
       "</table>"
      ],
      "text/plain": [
       "<IPython.core.display.HTML object>"
      ]
     },
     "metadata": {},
     "output_type": "display_data"
    },
    {
     "name": "stdout",
     "output_type": "stream",
     "text": [
      "invoke_claude_judge_consultant :: transcript_filename >>>> /home/ec2-user/SageMaker/improve-factual-consistency-with-llm-debate-technique/transcripts/full_transcript_consultancy_CNN-164885_flipped_.log\n"
     ]
    },
    {
     "data": {
      "text/html": [
       "<table border=\"1\" class=\"dataframe\">\n",
       "  <thead>\n",
       "    <tr style=\"text-align: right;\">\n",
       "      <th></th>\n",
       "      <th>Debate ID</th>\n",
       "      <th>Round #</th>\n",
       "      <th>Task Question</th>\n",
       "      <th>Judge Response</th>\n",
       "    </tr>\n",
       "  </thead>\n",
       "  <tbody>\n",
       "    <tr>\n",
       "      <th>0</th>\n",
       "      <td>CNN-164885</td>\n",
       "      <td>1</td>\n",
       "      <td>Which one of these summaries is the most factually consistent one?<br> Answer A:Cuba celebrated the 50th anniversary of their victory over a US-backed invasion at the Bay of Pigs.<br> Answer B:170,000 Cubans have private businesses.</td>\n",
       "      <td>&lt;thinking&gt;<br>1. The consultant's arguments are focused on supporting Answer A (\"Cuba celebrated the 50th anniversary of their victory over a US-backed invasion at the Bay of Pigs\") as the most factually consistent summary of the story. The consultant provides several verified quotes that directly support this claim, such as:<br>&lt;v quote&gt;This was a massive celebration of Cuba's past victories. We saw tanks rumbling through revolution plaza, tighter jets flying overhead. Thousands of troops and civilians, people from the neighborhoods coming out and marching in support of their revolution and in celebration of these major victories.&lt;/v quote&gt;<br>&lt;v quote&gt;It was 50 years ago this small Caribbean island defeated a U.S.-backed invasion of the Bay of Pigs...A major victory, of course, for Cuba.&lt;/v quote&gt;<br>These verified quotes clearly indicate that the story's central focus was on the large celebrations commemorating Cuba's victory over the US-backed invasion at the Bay of Pigs 50 years ago. The consultant also correctly points out that while the detail about 170,000 Cubans having private businesses is mentioned, it is not presented as the main summarizing point of the story.<br><br>2. Based on the verified quotes provided, Answer A (\"Cuba celebrated the 50th anniversary of their victory over a US-backed invasion at the Bay of Pigs\") is likely to be the correct summary that is most factually consistent with the story's content. The verified quotes directly support this summary, emphasizing the large celebrations and the historical significance of Cuba's victory over the US-backed invasion 50 years ago.<br><br>3. Answer A: \"Cuba celebrated the 50th anniversary of their victory over a US-backed invasion at the Bay of Pigs.\"<br><br>4. Final Answer: &lt;A&gt;<br>&lt;/thinking&gt;</td>\n",
       "    </tr>\n",
       "  </tbody>\n",
       "</table>"
      ],
      "text/plain": [
       "<IPython.core.display.HTML object>"
      ]
     },
     "metadata": {},
     "output_type": "display_data"
    },
    {
     "name": "stdout",
     "output_type": "stream",
     "text": [
      "invoke_claude_judge_consultant :: transcript_filename >>>> /home/ec2-user/SageMaker/improve-factual-consistency-with-llm-debate-technique/transcripts/full_transcript_consultancy_CNN-173359_flipped_.log\n"
     ]
    },
    {
     "data": {
      "text/html": [
       "<table border=\"1\" class=\"dataframe\">\n",
       "  <thead>\n",
       "    <tr style=\"text-align: right;\">\n",
       "      <th></th>\n",
       "      <th>Debate ID</th>\n",
       "      <th>Round #</th>\n",
       "      <th>Task Question</th>\n",
       "      <th>Judge Response</th>\n",
       "    </tr>\n",
       "  </thead>\n",
       "  <tbody>\n",
       "    <tr>\n",
       "      <th>0</th>\n",
       "      <td>CNN-173359</td>\n",
       "      <td>1</td>\n",
       "      <td>Which one of these summaries is the most factually consistent one?<br> Answer A:The use of multiple drugs together, including Propofol, is not recommended outside of a hospital setting.<br> Answer B:Though Jackson was in good health, these sedatives and anesthetics stopped his breathing and led to his death.</td>\n",
       "      <td>&lt;thinking&gt;<br>1. The consultant's arguments focus on the dangers of using the combination of sedatives and anesthetics found in Michael Jackson's system, especially Propofol, outside of a hospital setting. The arguments are supported by verified quotes from an anesthesiology expert, Dr. Zeev Cain, who states that Propofol \"should not be used in home settings\" and requires monitoring of vital signs. The consultant also cites the large quantity of Propofol found, which suggests it was intended for hospital use. These arguments seem credible and well-supported by the verified quotes.<br><br>2. Considering the two answer choices:<br>Answer A: \"The use of multiple drugs together, including Propofol, is not recommended outside of a hospital setting.\"<br>This answer is consistent with the consultant's arguments and the verified quotes provided. The consultant has presented evidence that using Propofol and other sedatives together outside a hospital setting is extremely dangerous and inadvisable.<br><br>Answer B: \"Though Jackson was in good health, these sedatives and anesthetics stopped his breathing and led to his death.\"<br>While the consultant has argued that the combination of drugs found in Jackson's system was potentially lethal, there is no verified evidence presented about Jackson's health condition or the specific cause of death. This answer makes an unsupported claim about Jackson's health and the direct cause of death.<br><br>Based on the evidence presented, Answer A is more likely to be correct as it aligns with the consultant's arguments and the verified quotes.<br><br>3. Answer A: \"The use of multiple drugs together, including Propofol, is not recommended outside of a hospital setting.\"<br><br>4. Final Answer: &lt;A&gt;<br>&lt;/thinking&gt;</td>\n",
       "    </tr>\n",
       "  </tbody>\n",
       "</table>"
      ],
      "text/plain": [
       "<IPython.core.display.HTML object>"
      ]
     },
     "metadata": {},
     "output_type": "display_data"
    },
    {
     "name": "stdout",
     "output_type": "stream",
     "text": [
      "invoke_claude_judge_consultant :: transcript_filename >>>> /home/ec2-user/SageMaker/improve-factual-consistency-with-llm-debate-technique/transcripts/full_transcript_consultancy_CNN-197627_flipped_.log\n"
     ]
    },
    {
     "data": {
      "text/html": [
       "<table border=\"1\" class=\"dataframe\">\n",
       "  <thead>\n",
       "    <tr style=\"text-align: right;\">\n",
       "      <th></th>\n",
       "      <th>Debate ID</th>\n",
       "      <th>Round #</th>\n",
       "      <th>Task Question</th>\n",
       "      <th>Judge Response</th>\n",
       "    </tr>\n",
       "  </thead>\n",
       "  <tbody>\n",
       "    <tr>\n",
       "      <th>0</th>\n",
       "      <td>CNN-197627</td>\n",
       "      <td>1</td>\n",
       "      <td>Which one of these summaries is the most factually consistent one?<br> Answer A:The document mentions that President Obama will be attending an interfaith vigil in Newtown, Connecticut to provide comfort to the families and first responders affected by the shooting at Sandy Hook Elementary School.<br> Answer B:Connecticut police confirmed Adam Lanza fired hundreds of bullets, killing 26.</td>\n",
       "      <td>&lt;thinking&gt;<br>1. The consultant's arguments in favor of Answer A (that President Obama will attend an interfaith vigil in Newtown after the Sandy Hook shooting) are strong and supported by verified quotes from the story:<br>- &lt;v quote&gt;\"Also, we are awaiting the arrival of President Obama. He is due here in Newtown shortly. He is going to speak with the families of the 26 people, most of them elementary school children who were shot dead Friday morning.\"&lt;/v quote&gt;<br>- &lt;v quote&gt;\"And of course, that interfaith vigil, the entirety, all of it we will bring it to you live.\"&lt;/v quote&gt;<br>These quotes directly confirm the details mentioned in Answer A.<br><br>2. The consultant's arguments against Answer B (that Adam Lanza fired hundreds of bullets and killed 26 people) are also reasonable. While the story mentions Lanza used a semiautomatic weapon and had hundreds of unused ammunition, there are no verified quotes that explicitly state the number of bullets fired or people killed by Lanza. The lack of verified evidence for these specific details weakens the case for Answer B.<br><br>3. Based on the verified quotes provided and the consultant's evidence-based analysis, Answer A appears to be the most factually consistent summary according to the information presented in the story transcript.<br><br>Answer A: The document mentions that President Obama will be attending an interfaith vigil in Newtown, Connecticut to provide comfort to the families and first responders affected by the shooting at Sandy Hook Elementary School.<br><br>Final Answer: &lt;A&gt;<br>&lt;/thinking&gt;</td>\n",
       "    </tr>\n",
       "  </tbody>\n",
       "</table>"
      ],
      "text/plain": [
       "<IPython.core.display.HTML object>"
      ]
     },
     "metadata": {},
     "output_type": "display_data"
    },
    {
     "name": "stdout",
     "output_type": "stream",
     "text": [
      "invoke_claude_judge_consultant :: transcript_filename >>>> /home/ec2-user/SageMaker/improve-factual-consistency-with-llm-debate-technique/transcripts/full_transcript_consultancy_CNN-201245_flipped_.log\n"
     ]
    },
    {
     "data": {
      "text/html": [
       "<table border=\"1\" class=\"dataframe\">\n",
       "  <thead>\n",
       "    <tr style=\"text-align: right;\">\n",
       "      <th></th>\n",
       "      <th>Debate ID</th>\n",
       "      <th>Round #</th>\n",
       "      <th>Task Question</th>\n",
       "      <th>Judge Response</th>\n",
       "    </tr>\n",
       "  </thead>\n",
       "  <tbody>\n",
       "    <tr>\n",
       "      <th>0</th>\n",
       "      <td>CNN-201245</td>\n",
       "      <td>1</td>\n",
       "      <td>Which one of these summaries is the most factually consistent one?<br> Answer A:New York City Mayor Michael Bloomberg is planning to ban the use of Styrofoam in stores and restaurants due to environmental concerns.<br> Answer B:What is the proposed ban on Styrofoam in stores?</td>\n",
       "      <td>&lt;thinking&gt;<br>1. The consultant's arguments rely heavily on quotes from the story, some of which are verified with &lt;v quote&gt;&lt;/v quote&gt; tags and some of which are unverified with &lt;u quote&gt;&lt;/u quote&gt; tags or just regular quotation marks. I should only trust the verified quotes as direct evidence from the story.<br><br>The verified quotes are:<br>&lt;v quote&gt;\"To New York now where first it was calorie counts on menus, then trans fats, then mega soft drinks.\"&lt;/v quote&gt;<br>This quote establishes that Mayor Bloomberg has a history of regulating food packaging and ingredients in New York City for health and environmental reasons.<br><br>&lt;v quote&gt;\"Now, Mayor Michael Bloomberg is out to ban Styrofoam food packaging in stores.\"&lt;/v quote&gt;<br>This quote directly states that Bloomberg plans to ban Styrofoam food packaging in stores.<br><br>&lt;v quote&gt;\"Bloomberg will unveil the plan today in his final State of the City speech.\"&lt;/v quote&gt;<br>This quote confirms that Bloomberg will announce the Styrofoam ban plan in his State of the City speech.<br><br>2. Based on these verified quotes, it is clear that Answer A: \"New York City Mayor Michael Bloomberg is planning to ban the use of Styrofoam in stores and restaurants due to environmental concerns\" is the most factually consistent summary. The quotes verify that Bloomberg plans to ban Styrofoam food packaging in stores, and his history suggests this is likely motivated by environmental concerns.<br><br>Answer B: \"What is the proposed ban on Styrofoam in stores?\" is too vague and does not accurately summarize the key details about Bloomberg's plan and motivations.<br><br>3. The answer text I choose as correct is: Answer A: New York City Mayor Michael Bloomberg is planning to ban the use of Styrofoam in stores and restaurants due to environmental concerns.<br><br>4. Final Answer: &lt;A&gt;<br>&lt;/thinking&gt;</td>\n",
       "    </tr>\n",
       "  </tbody>\n",
       "</table>"
      ],
      "text/plain": [
       "<IPython.core.display.HTML object>"
      ]
     },
     "metadata": {},
     "output_type": "display_data"
    },
    {
     "name": "stdout",
     "output_type": "stream",
     "text": [
      "invoke_claude_judge_consultant :: transcript_filename >>>> /home/ec2-user/SageMaker/improve-factual-consistency-with-llm-debate-technique/transcripts/full_transcript_consultancy_CNN-229050_flipped_.log\n"
     ]
    },
    {
     "data": {
      "text/html": [
       "<table border=\"1\" class=\"dataframe\">\n",
       "  <thead>\n",
       "    <tr style=\"text-align: right;\">\n",
       "      <th></th>\n",
       "      <th>Debate ID</th>\n",
       "      <th>Round #</th>\n",
       "      <th>Task Question</th>\n",
       "      <th>Judge Response</th>\n",
       "    </tr>\n",
       "  </thead>\n",
       "  <tbody>\n",
       "    <tr>\n",
       "      <th>0</th>\n",
       "      <td>CNN-229050</td>\n",
       "      <td>1</td>\n",
       "      <td>Which one of these summaries is the most factually consistent one?<br> Answer A:The physician describes the phenomenon that saved the boy's life as a perfect storm of disaster that allowed him to survive by slowing down his body's need for oxygen and putting him in a frozen state until his oxygen was replenished.<br> Answer B:He is shocked that the recent 15-year-old stowaway survived with no lasting side effects.</td>\n",
       "      <td>&lt;thinking&gt;<br>1. The consultant's arguments are based on the medical expertise and analysis of Dr. Armand Dorian, who has previously treated a stowaway survivor. The consultant provides several direct quotes from Dr. Dorian to support the explanation of how the boy could have survived the extreme conditions at high altitude. These quotes are presented as verified, so I can consider them as evidence.<br><br>2. Dr. Dorian describes the conditions at high altitude as a \"perfect storm of disaster\" where the lack of oxygen and freezing temperatures allowed the boy's body to enter a frozen, preserved state, drastically reducing his need for oxygen until he could be revived upon landing. This detailed medical explanation is consistent with Answer A: \"The physician describes the phenomenon that saved the boy's life as a perfect storm of disaster that allowed him to survive by slowing down his body's need for oxygen and putting him in a frozen state until his oxygen was replenished.\"<br><br>In contrast, Answer B simply states that the physician was \"shocked\" at the boy's survival, which does not provide any substantive explanation for how he could have endured the extreme conditions. The consultant also notes that Dr. Dorian himself acknowledged the implausibility of this case, further supporting that Answer B is not the most factually consistent summary.<br><br>3. Based on the verified quotes and Dr. Dorian's medical expertise, Answer A appears to be the most factually consistent summary of how the boy survived according to the physician's analysis.<br><br>4. Final Answer: &lt;A&gt;<br>&lt;/thinking&gt;</td>\n",
       "    </tr>\n",
       "  </tbody>\n",
       "</table>"
      ],
      "text/plain": [
       "<IPython.core.display.HTML object>"
      ]
     },
     "metadata": {},
     "output_type": "display_data"
    },
    {
     "name": "stdout",
     "output_type": "stream",
     "text": [
      "invoke_claude_judge_consultant :: transcript_filename >>>> /home/ec2-user/SageMaker/improve-factual-consistency-with-llm-debate-technique/transcripts/full_transcript_consultancy_CNN-239067_flipped_.log\n"
     ]
    },
    {
     "data": {
      "text/html": [
       "<table border=\"1\" class=\"dataframe\">\n",
       "  <thead>\n",
       "    <tr style=\"text-align: right;\">\n",
       "      <th></th>\n",
       "      <th>Debate ID</th>\n",
       "      <th>Round #</th>\n",
       "      <th>Task Question</th>\n",
       "      <th>Judge Response</th>\n",
       "    </tr>\n",
       "  </thead>\n",
       "  <tbody>\n",
       "    <tr>\n",
       "      <th>0</th>\n",
       "      <td>CNN-239067</td>\n",
       "      <td>1</td>\n",
       "      <td>Which one of these summaries is the most factually consistent one?<br> Answer A:Currency uncertainty would be a major issue in the event of a yes vote in the Scotland referendum on independence.<br> Answer B:Currency uncertainty would arise in the event of a yes vote in the Scottish referendum, with questions about what currency would be used and how long it would take to establish credibility.</td>\n",
       "      <td>&lt;thinking&gt;<br>1. The consultant's arguments rely heavily on quotes to support their position that \"Currency uncertainty would be a major issue in the event of a yes vote in the Scotland referendum on independence\" is the most factually consistent summary. However, none of the quotes are verified, so I cannot fully trust them as direct evidence from the story.<br><br>2. That said, the consultant makes a compelling case that the currency issue would be a critical concern and major unknown if Scotland voted for independence, based on the quotes attributed to the Harvard economist Kenneth Rogoff and the anchor's framing of the issue as having widespread implications beyond just Scotland.<br><br>If these quotes are accurate representations from the story, then Answer A (\"Currency uncertainty would be a major issue in the event of a yes vote in the Scotland referendum on independence\") does seem to better capture the gravity and significance of the currency issue compared to Answer B (\"Currency uncertainty would arise in the event of a yes vote in the Scottish referendum, with questions about what currency would be used and how long it would take to establish credibility\"), which frames it as just one question among many.<br><br>However, without verified quotes to confirm the accuracy of the consultant's arguments, I cannot say with full confidence that Answer A is correct. Answer B is still a plausible summary if the story did not emphasize the currency issue as a paramount concern to the extent suggested by the consultant.<br><br>3. Based on the evidence presented, I would lean towards Answer A as being more likely to be correct, but I cannot rule out Answer B entirely due to the lack of verified quotes.<br><br>4. Final Answer: &lt;A&gt;<br>&lt;/thinking&gt;</td>\n",
       "    </tr>\n",
       "  </tbody>\n",
       "</table>"
      ],
      "text/plain": [
       "<IPython.core.display.HTML object>"
      ]
     },
     "metadata": {},
     "output_type": "display_data"
    },
    {
     "name": "stdout",
     "output_type": "stream",
     "text": [
      "CPU times: user 114 ms, sys: 22.7 ms, total: 137 ms\n",
      "Wall time: 4min 21s\n"
     ]
    }
   ],
   "source": [
    "%%time\n",
    "\n",
    "\n",
    "consultancy_judge_flipped_answers = list()\n",
    "for index, row in final_dataset.iterrows():\n",
    "    time.sleep(10) # avoid throttling exceptions\n",
    "    debate_id = row['doc_id']\n",
    "    answer_a = row['summ_sent_correct_manual']\n",
    "    answer_b = row['summ_sent_incorrect_original']\n",
    "    complete_interview_transcript = row['source']\n",
    "    logger.info(f\"-------------CONSULTANCY Flipped JUDGE Debate_id {debate_id}-------------------\")\n",
    "\n",
    "    time.sleep(4) # sleep 4 seconds to fix timeout errors\n",
    "    judge_response = invoke_claude_judge_consultant(debate_id = debate_id + FLIPPED_FILE_SUFFIX,\n",
    "                                  question = question, \n",
    "                                  answer_a = answer_a,\n",
    "                                  answer_b = answer_b)\n",
    "\n",
    "    logger.info(f\" >>>>> Flipped invoke_titan_judge_consultant - judge_response  >>>>> {judge_response}\")\n",
    "    consultancy_judge_flipped_answers.append(extract_final_answer(judge_response, flipped=False))\n",
    "    \n",
    "    # Print the final response \n",
    "    format_final_response(debate_id, \n",
    "                          round_num=1, \n",
    "                          question=question, \n",
    "                          answer_a=answer_a, \n",
    "                          answer_b=answer_b, \n",
    "                          judge_response=judge_response)"
   ]
  },
  {
   "cell_type": "markdown",
   "id": "c8d4dd10-f4f2-4d9f-b439-6e07c26833a7",
   "metadata": {},
   "source": [
    "### <a name=\"8\">Accuracy of LLM Consultancy</a>\n",
    "(<a href=\"#0\">Go to top</a>)"
   ]
  },
  {
   "cell_type": "code",
   "execution_count": null,
   "id": "0caf50eb-f514-4d70-86f6-e6fa8eb50cb7",
   "metadata": {
    "tags": []
   },
   "outputs": [
    {
     "data": {
      "text/plain": [
       "[False, True, False, False, False, False, None, False, False, False]"
      ]
     },
     "execution_count": 12,
     "metadata": {},
     "output_type": "execute_result"
    }
   ],
   "source": [
    "consultancy_judge_regular_answers"
   ]
  },
  {
   "cell_type": "code",
   "execution_count": null,
   "id": "917a81b7-4feb-4243-a62e-153d14121b6e",
   "metadata": {
    "tags": []
   },
   "outputs": [
    {
     "data": {
      "text/plain": [
       "[False, True, True, True, True, True, True, True, True, True]"
      ]
     },
     "execution_count": 13,
     "metadata": {},
     "output_type": "execute_result"
    }
   ],
   "source": [
    "consultancy_judge_flipped_answers"
   ]
  },
  {
   "cell_type": "code",
   "execution_count": null,
   "id": "f9c28c3b-fa91-458b-a0d6-b70b8d22f6b1",
   "metadata": {
    "tags": []
   },
   "outputs": [],
   "source": [
    "accuracy_consultant_judge = find_num_matching_elements(consultancy_judge_regular_answers, consultancy_judge_flipped_answers)/total_data_points"
   ]
  },
  {
   "cell_type": "code",
   "execution_count": null,
   "id": "276b2914-3dcd-438c-b63c-919f58464d14",
   "metadata": {
    "tags": []
   },
   "outputs": [
    {
     "data": {
      "text/plain": [
       "0.2"
      ]
     },
     "execution_count": 15,
     "metadata": {},
     "output_type": "execute_result"
    }
   ],
   "source": [
    "accuracy_consultant_judge"
   ]
  },
  {
   "cell_type": "code",
   "execution_count": null,
   "id": "d335b912-7541-43be-9e9c-186d5100dc64",
   "metadata": {},
   "outputs": [
    {
     "name": "stdout",
     "output_type": "stream",
     "text": [
      "{'accuracy_naive_judge': 0.2, 'accuracy_expert_judge': 0.4, 'accuracy_consultant_judge': 0.2}\n",
      "notebook results saved in results folder\n"
     ]
    }
   ],
   "source": [
    "# save the results\n",
    "results_dict = {\"accuracy_consultant_judge\" : accuracy_consultant_judge}\n",
    "save_each_experiment_result(results_dict)\n",
    "print(\"notebook results saved in results folder\")"
   ]
  },
  {
   "cell_type": "markdown",
   "id": "50fbd255-a593-438f-a44f-fce489056f26",
   "metadata": {},
   "source": [
    "## <a name=\"14\">Compare Accuracies across experiments/methods.</a>\n",
    "(<a href=\"#0\">Go to top</a>)"
   ]
  },
  {
   "cell_type": "markdown",
   "id": "ff97c205-fa79-4c09-b115-0cd3e9cae864",
   "metadata": {},
   "source": [
    "Here we compare the accuracies of each method/experiment to understand"
   ]
  },
  {
   "cell_type": "code",
   "execution_count": null,
   "id": "39472b99-25dc-4d47-8242-450df4c13559",
   "metadata": {
    "tags": []
   },
   "outputs": [
    {
     "name": "stdout",
     "output_type": "stream",
     "text": [
      "{'accuracy_naive_judge': 0.2, 'accuracy_expert_judge': 0.4, 'accuracy_consultant_judge': 0.2}\n",
      "{'accuracy_naive_judge': 0.2, 'accuracy_expert_judge': 0.4, 'accuracy_consultant_judge': 0.2}\n"
     ]
    },
    {
     "data": {
      "text/html": [
       "<table border=\"1\" class=\"dataframe\">\n",
       "  <thead>\n",
       "    <tr style=\"text-align: right;\">\n",
       "      <th></th>\n",
       "      <th>Naive Judge</th>\n",
       "      <th>Expert Judge</th>\n",
       "      <th>LLM Consultancy</th>\n",
       "    </tr>\n",
       "  </thead>\n",
       "  <tbody>\n",
       "    <tr>\n",
       "      <th>0</th>\n",
       "      <td>0.2</td>\n",
       "      <td>0.4</td>\n",
       "      <td>0.2</td>\n",
       "    </tr>\n",
       "  </tbody>\n",
       "</table>"
      ],
      "text/plain": [
       "<IPython.core.display.HTML object>"
      ]
     },
     "metadata": {},
     "output_type": "display_data"
    }
   ],
   "source": [
    "accuracy_naive_judge = get_each_experiment_result(\"accuracy_naive_judge\")\n",
    "accuracy_expert_judge = get_each_experiment_result(\"accuracy_expert_judge\")\n",
    "\n",
    "final_accuracy_comparison_judge_and_consultant(\n",
    "    accuracy_naive_judge = accuracy_naive_judge,\n",
    "    accuracy_expert_judge = accuracy_expert_judge,\n",
    "    accuracy_consultant_judge = accuracy_consultant_judge\n",
    ")"
   ]
  },
  {
   "cell_type": "code",
   "execution_count": null,
   "id": "3e751a8d-fd46-4192-b100-655e8342ffe1",
   "metadata": {
    "tags": []
   },
   "outputs": [
    {
     "data": {
      "image/png": "[encoded data removed]",
      "text/plain": [
       "<Figure size 640x480 with 1 Axes>"
      ]
     },
     "metadata": {},
     "output_type": "display_data"
    }
   ],
   "source": [
    "# Build the plot\n",
    "%matplotlib inline\n",
    "x_values = [ \"Naive Judge\", \"Expert Judge\", \"LLM Consultant\"]\n",
    "y_values = [ accuracy_naive_judge, accuracy_expert_judge, accuracy_consultant_judge]\n",
    "plt.bar(x_values, y_values)\n",
    "plt.title('Compare Accuracies across experiments')\n",
    "plt.xlabel('Experiment Type')\n",
    "plt.ylabel('Accuracy')\n",
    " \n",
    "plt.show()"
   ]
  }
 ],
 "metadata": {
  "kernelspec": {
   "display_name": "conda_python3",
   "language": "python",
   "name": "conda_python3"
  },
  "language_info": {
   "codemirror_mode": {
    "name": "ipython",
    "version": 3
   },
   "file_extension": ".py",
   "mimetype": "text/x-python",
   "name": "python",
   "nbconvert_exporter": "python",
   "pygments_lexer": "ipython3",
   "version": "3.10.14"
  }
 },
 "nbformat": 4,
 "nbformat_minor": 5
}
