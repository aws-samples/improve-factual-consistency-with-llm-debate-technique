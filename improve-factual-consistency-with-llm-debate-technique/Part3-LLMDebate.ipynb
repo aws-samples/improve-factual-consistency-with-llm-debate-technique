{
 "cells": [
  {
   "cell_type": "markdown",
   "id": "604ee77c-0e19-4a36-9f70-e8ab02cfaf54",
   "metadata": {},
   "source": [
    "<center><img src=\"images/MLU-NEW-logo.png\" alt=\"drawing\" width=\"400\" style=\"background-color:white; padding:1em;\" /></center> <br/>\n",
    "\n",
    "\n",
    "# <a name=\"0\">Improve Factual Consistency Part 3 </a>\n",
    "## <a name=\"0\">Improving Factual Consistency and Explainability using LLM Debates </a>\n",
    "\n",
    "### Glossary of Terms\n",
    "- Naive Judge : This LLM has **no** access to transcript but only question and two summaries. Measure the baseline performance.\n",
    "- Expert Judge : This LLM has access to transcript along with question and two summaries\n",
    "- Question asked to LLM (in all experiments): It is always the same: `Which one of these summaries is the most factually consistent one?`\n",
    "\n",
    "## Dataset\n",
    "Our dataset is distilled from the Amazon Science evaluation benchmark dataset called <a href=\"https://github.com/amazon-science/tofueval\">TofuEval</a>. 10 summaries have been curated from the [MediaSum documents](https://github.com/zcgzcgzcg1/MediaSum) inside the tofueval dataset for this notebook. \n",
    "\n",
    "MediaSum is a large-scale media interview dataset contains 463.6K transcripts with abstractive summaries, collected from interview transcripts and overview / topic descriptions from NPR and CNN.\n",
    "\n",
    "\n",
    "## Notebook Overview\n",
    "\n",
    "In this notebook, we navigate the LLM debating technique with more persuasive LLMs having two expert debater LLMs (Claude and Mixtral) and one judge (using Claude - we can use others like Mistral/Mixtral, Titan Premier) to measure, compare and contrast its performance against other techniques like self-consistency (with naive and expert judges) and LLM consultancy. This notebook is an adapted and partial implementation of one of the ICML 2024 best papers, <a href=\"https://arxiv.org/pdf/2402.06782\"> Debating with More Persuasive LLMs Leads to More Truthful Answers </a> on a new and different Amazon Science evaluation dataset <a href=\"https://github.com/amazon-science/tofueval\">TofuEval</a>. \n",
    "\n",
    "\n",
    "- Part 1.  Demonstrate typical Standalone LLM approach\n",
    "\n",
    "- Part 2.  Demonstrate the LLM Consultancy approach and compare with Part 1.\n",
    "\n",
    "- Part 3.  **[THIS notebook]**  Demonstrate the LLM Debate approach and compare with other methods.\n",
    "\n",
    "\n",
    "<div style=\"border: 4px solid coral; text-align: left; margin: auto; padding-left: 20px; padding-right: 20px\">\n",
    "    While this notebook(part 1, 2 and 3) compares various methods and demonstrates the efficacy of LLM Debates in notebook part 3 with a supervised dataset, the greater benefit is possible in unsupervised scenarios where ground truth is unknown and ground truth alignment and/or curation is required. Human annotation can be expensive plus slow and agreement amongst human annotators adds another level of intricacy. A possible `scalable oversight direction could be this LLM debating technique to align on the ground truth options` via this debating and critique mechanism by establishing factual consistency(veracity). This alignment and curation of ground truth for unsupervised data could be a possible win direction for the debating technique in terms of cost versus benefit analysis.\n",
    "</div>\n",
    "<br/>\n",
    "\n",
    "\n",
    "#### Notebook Kernel\n",
    "Please choose `conda_python3` as the kernel type of the top right corner of the notebook if that does not appear by default.\n",
    "\n",
    "\n",
    "## LLM Access\n",
    "\n",
    "We will need access to Anthropic Claude v3 Sonnet, Mistral 7b and  Mixtral 8x7b LLMs for this notebook.\n",
    "\n",
    "[Anthropic Claude v3(Sonnet)](https://www.anthropic.com/news/claude-3-family) , [Mixtral 8X7B](https://mistral.ai/news/mixtral-of-experts/), [Mistral 7B](https://mistral.ai/news/announcing-mistral-7b/) - all of them pre-trained on general text summarization tasks.\n",
    "\n",
    "## Use-Case Overview\n",
    "\n",
    "To demonstrate the measurement and improvement of factual consistency (veracity) with explainability in this notebook, we conduct a series of experiments to choose the best summary for each transcript. In each experiment, we measure the veracity and correctness of the summaries generated from transcripts and improve upon the decision to choose the correct one via methods like LLM consultancy and LLM debates.\n",
    "\n",
    "The <b>overall task in this notebook</b> is choose which one of the two summaries is most appropriate for a given transcript. There are a total of 10 transcripts and each transcript has 2 summaries - one correct and other incorrect. The incorrect summaries have various classes of errors like `Nuanced Meaning Shift`, `Extrinsic Information` and  `Reasoning errors`. \n",
    "\n",
    "In this notebook we will conduct the following set of experiment combinations to measure, compare and contrast LLM debating techniques with others.\n",
    "\n",
    "\n",
    "## Experiments\n",
    "For each of these experiments we flip the side of the argument the LLM takes to account for `position bias` and `verbosity bias` and re-run each experiment.\n",
    "\n",
    "**Note** We always use the same Judge LLM (Mistral 7B) across all the experiments in this notebook\n",
    "\n",
    "<div style=\"border: 4px solid coral; text-align: left; margin: auto; padding-left: 20px; padding-right: 20px\">\n",
    "    If you see throttling exception, please increase timeout from 10 seconds in `time.sleep(10)` to say 20 and retry\n",
    "</div>\n",
    "<br/>\n",
    "\n",
    "---\n",
    "\n",
    "### Experiment 4: (LLM Debate) \n",
    "<center><img src=\"images/veracitylab01-llm-debate.png\" alt=\"In this image, we depict the flow of LLM Debate. First Debater LLMs like Claude and Mixtral argue their side\n",
    "based on transcript contents. Next each argument is saved to a file and\n",
    "the next debater picks up the entire argument history before posting their next argument. Finally, once all 3 rounds of arguments are over, the Judge LLM reads all the arguments and decides which summary is the most factually consistent answer.\"  height=\"700\" width=\"700\" style=\"background-color:white; padding:1em;\" /></center> <br/>\n",
    "\n",
    "We use Claude 3 as first debater and Mixtral as second debater with Claude as Judge. We let the debater argue their sides and finally let the judge decide which argument is better. This continues for N(=3 in this notebook) rounds. We flip Claude and Mistral argument sides in experiments 4a and 4b and take average of the experiment results as final accuracy. This accounts for errors due to position (choosing an answer due to its order/position) and verbosity bias (one answer longer than the other)\n",
    "\n",
    "##### Experiment 4a: (Claude v3 argues for answer A, Mixtral argues for Answer B): \n",
    "Claude v3(Sonnet) argues for answer A(Ground Truth:False Answer) and generates rationale why that answer is correct. Mixtral 8X7B argues for answer B(Ground Truth:True Answer) and generates rationale why that answer is correct. This continues for N(=3 in this notebook) rounds. At the end of the debate, Claude as a judge adjudicates whether Claude's or Mixtral's rationale is correct and chooses a side to give the final answer.\n",
    "\n",
    "#####  Experiment 4b: (Claude v3 argues for answer B, Mixtral argues for Answer A): \n",
    "Claude v3(Sonnet) argues for answer B(Ground Truth:True Answer) and generates rationale why that answer is correct. Mixtral 8X7B argues for answer A(Ground Truth:False Answer) and generates rationale why that answer is correct. This continues for N(=3 in this notebook) rounds. At the end of the debate, Claude as a judge adjudicates whether Claude's or Mixtral's rationale is correct and chooses a side to give the final answer.\n",
    "\n",
    "---\n",
    "## Evaluation Metrics\n",
    "For each type of experiment we evaluate the accuracy of the answers for that experiment/method type to compare and contrast each method at the end.\n",
    "\n",
    "For the final experiment on LLM Debate, we also calculate the `win rate` of the LLM debaters to evaluate which of the LLMs actually got most of the answers right as adjudicated by the judge. This can be considered a mechanism to choose one LLM over the other given this use-case.\n",
    "\n",
    "---\n",
    "\n",
    "\n",
    "This notebook notebook has the following sections:\n",
    "\n",
    "1. <a href=\"#1\">Dataset exploration</a>\n",
    "2. <a href=\"#2\">Accuracy of LLM Debate</a>\n",
    "3. <a href=\"#3\">Compare Accuracies across experiments</a>\n",
    "4. <a href=\"#4\">Choose expert LLM using Win Rate measured during LLM Debate (Experiment 4) </a>\n",
    "5. <a href=\"#5\">Challenge exercise and notebook quiz</a>\n",
    "    \n",
    "Please work top to bottom of this notebook and don't skip sections as this could lead to error messages due to missing code.\n",
    "\n",
    "---"
   ]
  },
  {
   "cell_type": "code",
   "execution_count": 1,
   "id": "7190cc0d-ec7d-42c4-bd87-f301e6db48b0",
   "metadata": {},
   "outputs": [],
   "source": [
    "%%capture\n",
    "!pip3 install setuptools==70.0.0"
   ]
  },
  {
   "cell_type": "code",
   "execution_count": 2,
   "id": "3e2ad2f4-b720-48b9-bb5a-7b99bcafce8d",
   "metadata": {
    "tags": []
   },
   "outputs": [],
   "source": [
    "%%capture\n",
    "!pip install -q -U pip --root-user-action=ignore\n",
    "!pip3 install -q -r requirements.txt --root-user-action=ignore"
   ]
  },
  {
   "cell_type": "code",
   "execution_count": 3,
   "id": "7f8e6507-fc9a-4f1f-8535-7e2deb20a9a6",
   "metadata": {
    "tags": []
   },
   "outputs": [
    {
     "name": "stdout",
     "output_type": "stream",
     "text": [
      "The autoreload extension is already loaded. To reload it, use:\n",
      "  %reload_ext autoreload\n"
     ]
    }
   ],
   "source": [
    "# We load all prompts from a separate file prompts.py\n",
    "%load_ext autoreload\n",
    "%autoreload 2\n",
    "from prompts import *\n",
    "\n",
    "%load_ext autoreload\n",
    "%autoreload 2\n",
    "from mlu_utils.veracity_utils import *"
   ]
  },
  {
   "cell_type": "code",
   "execution_count": 4,
   "id": "f573ddc8-9290-484c-86f9-f16531648cac",
   "metadata": {
    "tags": []
   },
   "outputs": [
    {
     "name": "stdout",
     "output_type": "stream",
     "text": [
      "clear_file_contents dir :: <built-in function dir>\n"
     ]
    }
   ],
   "source": [
    "clean_up_files_in_dir(\"./transcripts\")\n",
    "clear_file_contents(\"./log_files/notebook_run_logs.log\")"
   ]
  },
  {
   "cell_type": "code",
   "execution_count": 5,
   "id": "a3c84b37-369c-405c-ac08-23be8dbb61a1",
   "metadata": {
    "tags": []
   },
   "outputs": [],
   "source": [
    "import boto3\n",
    "import re, time\n",
    "import random\n",
    "import numpy as np\n",
    "from collections import Counter\n",
    "import matplotlib.pyplot as plt\n",
    "%matplotlib inline\n",
    "\n",
    "from langchain.llms.bedrock import Bedrock\n",
    "from langchain.prompts import PromptTemplate\n",
    "from IPython.display import Markdown\n",
    "from collections import Counter\n",
    "\n",
    "from IPython.display import Markdown, display\n",
    "import logging\n",
    "import boto3, warnings\n",
    "import pandas as pd\n",
    "# Supress warnings\n",
    "warnings.filterwarnings(\"ignore\")\n",
    "logging.basicConfig(filename='log_files/notebook_run_logs.log', encoding='utf-8', level=logging.INFO)\n",
    "logger = logging.getLogger(__name__)\n",
    "logger.info(\"----- Test logging setup -----\")\n"
   ]
  },
  {
   "cell_type": "markdown",
   "id": "19bd02d8-4595-48de-b0cd-394002cbc17a",
   "metadata": {},
   "source": [
    "### Bedrock Model Access check"
   ]
  },
  {
   "cell_type": "code",
   "execution_count": 6,
   "id": "b42bd90d-9cee-4534-90a4-c41bd2c07b1d",
   "metadata": {},
   "outputs": [
    {
     "name": "stdout",
     "output_type": "stream",
     "text": [
      "Claude v3 sonnet looks good\n",
      "Mixtral 8X7B looks good\n",
      "Mistral 7B looks good\n",
      "All required model access look good\n"
     ]
    }
   ],
   "source": [
    "#test if all bedrock model access has been enabled \n",
    "test_llm_calls()"
   ]
  },
  {
   "cell_type": "markdown",
   "id": "8a9c14a1-7d5b-48dc-a4a0-5c5e0a205f57",
   "metadata": {},
   "source": [
    "### Constants used in this notebook"
   ]
  },
  {
   "cell_type": "code",
   "execution_count": 7,
   "id": "dcf134bf-7fbd-4c70-a84c-4b077f79f2a6",
   "metadata": {
    "tags": []
   },
   "outputs": [],
   "source": [
    "number_of_rounds = 3\n",
    "question = \"Which one of these summaries is the most factually consistent one?\"\n",
    "total_data_points = 10"
   ]
  },
  {
   "cell_type": "markdown",
   "id": "7829f829-7d19-420c-85ea-0e5c370304e0",
   "metadata": {
    "tags": []
   },
   "source": [
    "### <a name=\"1\">Dataset Exploration</a>\n",
    "(<a href=\"#0\">Go to top</a>)\n"
   ]
  },
  {
   "cell_type": "code",
   "execution_count": 8,
   "id": "b67d79c9-c30d-4daa-9d25-4dac7de60e2b",
   "metadata": {
    "tags": []
   },
   "outputs": [
    {
     "data": {
      "text/html": [
       "<div>\n",
       "<style scoped>\n",
       "    .dataframe tbody tr th:only-of-type {\n",
       "        vertical-align: middle;\n",
       "    }\n",
       "\n",
       "    .dataframe tbody tr th {\n",
       "        vertical-align: top;\n",
       "    }\n",
       "\n",
       "    .dataframe thead th {\n",
       "        text-align: right;\n",
       "    }\n",
       "</style>\n",
       "<table border=\"1\" class=\"dataframe\">\n",
       "  <thead>\n",
       "    <tr style=\"text-align: right;\">\n",
       "      <th></th>\n",
       "      <th>doc_id</th>\n",
       "      <th>topic</th>\n",
       "      <th>summ_sent_incorrect_original</th>\n",
       "      <th>summ_sent_correct_manual</th>\n",
       "      <th>exp</th>\n",
       "      <th>type</th>\n",
       "      <th>source</th>\n",
       "    </tr>\n",
       "  </thead>\n",
       "  <tbody>\n",
       "    <tr>\n",
       "      <th>0</th>\n",
       "      <td>CNN-104129</td>\n",
       "      <td>Decline of American automobile industry</td>\n",
       "      <td>GM lost $10B in 2005, continues losing market ...</td>\n",
       "      <td>GM lost $10.6B in 2005, continues losing marke...</td>\n",
       "      <td>It's not \"$10B\" but \"$10.6B\"</td>\n",
       "      <td>Nuanced Meaning Shift</td>\n",
       "      <td>DOBBS: General Motors today announced it will ...</td>\n",
       "    </tr>\n",
       "    <tr>\n",
       "      <th>1</th>\n",
       "      <td>CNN-138971</td>\n",
       "      <td>Diplomatic efforts</td>\n",
       "      <td>North Korea has announced plans to launch a sa...</td>\n",
       "      <td>Diplomatic efforts to secure the release of Am...</td>\n",
       "      <td>The launch of a satellite is not mentioned, bu...</td>\n",
       "      <td>Extrinsic Information</td>\n",
       "      <td>ROBERTS: Welcome back to the Most News in the ...</td>\n",
       "    </tr>\n",
       "    <tr>\n",
       "      <th>2</th>\n",
       "      <td>CNN-139946</td>\n",
       "      <td>Filibuster-Proof Majority</td>\n",
       "      <td>This filibuster-proof majority means Democrats...</td>\n",
       "      <td>Democrats gain 60 seats in Senate, giving them...</td>\n",
       "      <td>This is an unsupported statement</td>\n",
       "      <td>Extrinsic Information</td>\n",
       "      <td>ANNOUNCER: This is CNN breaking news.\\nMALVEAU...</td>\n",
       "    </tr>\n",
       "    <tr>\n",
       "      <th>3</th>\n",
       "      <td>CNN-145383</td>\n",
       "      <td>Educate to Innovate Campaign</td>\n",
       "      <td>The private sector has committed over $260 mil...</td>\n",
       "      <td>Over $260 million in private funding will supp...</td>\n",
       "      <td>The document does not state that \"reaching you...</td>\n",
       "      <td>Reasoning Error</td>\n",
       "      <td>HARRIS: And President Obama in the Eisenhower ...</td>\n",
       "    </tr>\n",
       "    <tr>\n",
       "      <th>4</th>\n",
       "      <td>CNN-164885</td>\n",
       "      <td>Cuban celebration and government gathering</td>\n",
       "      <td>170,000 Cubans have private businesses.</td>\n",
       "      <td>Cuba celebrated the 50th anniversary of their ...</td>\n",
       "      <td>The document says that 170,000 Cubans have app...</td>\n",
       "      <td>Nuanced Meaning Shift</td>\n",
       "      <td>FEYERICK: We'll get to Donald Trump's campaign...</td>\n",
       "    </tr>\n",
       "  </tbody>\n",
       "</table>\n",
       "</div>"
      ],
      "text/plain": [
       "       doc_id                                       topic  \\\n",
       "0  CNN-104129     Decline of American automobile industry   \n",
       "1  CNN-138971                          Diplomatic efforts   \n",
       "2  CNN-139946                   Filibuster-Proof Majority   \n",
       "3  CNN-145383                Educate to Innovate Campaign   \n",
       "4  CNN-164885  Cuban celebration and government gathering   \n",
       "\n",
       "                        summ_sent_incorrect_original  \\\n",
       "0  GM lost $10B in 2005, continues losing market ...   \n",
       "1  North Korea has announced plans to launch a sa...   \n",
       "2  This filibuster-proof majority means Democrats...   \n",
       "3  The private sector has committed over $260 mil...   \n",
       "4            170,000 Cubans have private businesses.   \n",
       "\n",
       "                            summ_sent_correct_manual  \\\n",
       "0  GM lost $10.6B in 2005, continues losing marke...   \n",
       "1  Diplomatic efforts to secure the release of Am...   \n",
       "2  Democrats gain 60 seats in Senate, giving them...   \n",
       "3  Over $260 million in private funding will supp...   \n",
       "4  Cuba celebrated the 50th anniversary of their ...   \n",
       "\n",
       "                                                 exp                   type  \\\n",
       "0                       It's not \"$10B\" but \"$10.6B\"  Nuanced Meaning Shift   \n",
       "1  The launch of a satellite is not mentioned, bu...  Extrinsic Information   \n",
       "2                   This is an unsupported statement  Extrinsic Information   \n",
       "3  The document does not state that \"reaching you...        Reasoning Error   \n",
       "4  The document says that 170,000 Cubans have app...  Nuanced Meaning Shift   \n",
       "\n",
       "                                              source  \n",
       "0  DOBBS: General Motors today announced it will ...  \n",
       "1  ROBERTS: Welcome back to the Most News in the ...  \n",
       "2  ANNOUNCER: This is CNN breaking news.\\nMALVEAU...  \n",
       "3  HARRIS: And President Obama in the Eisenhower ...  \n",
       "4  FEYERICK: We'll get to Donald Trump's campaign...  "
      ]
     },
     "execution_count": 8,
     "metadata": {},
     "output_type": "execute_result"
    }
   ],
   "source": [
    "# pre-process the dataset\n",
    "answers_df = pd.read_csv(\"./tofueval_dataset/mediasum_dev_doc_id_group_final_dual_summaries_manual_final_dataset.csv\")\n",
    "#answers_df.head()\n",
    "interview_df = pd.read_csv(\"./tofueval_dataset/mediasum_dev_doc_complete_final.csv\")\n",
    "#interview_df.head()\n",
    "\n",
    "result = pd.merge(answers_df, interview_df, on=\"doc_id\")\n",
    "final_dataset = result[[\"doc_id\", \"topic\", \"summ_sent_incorrect_original\", \"summ_sent_correct_manual\", \"exp\", \"type\", \"source\"]]\n",
    "final_dataset.head()"
   ]
  },
  {
   "cell_type": "markdown",
   "id": "a3a89423-9733-498e-807c-ef7c28e3de1a",
   "metadata": {},
   "source": [
    "### <a name=\"2\">LLM Debate: 2 expert LLMs, 1 naive judge - LLM-1 arguing for 1st summary</a>\n",
    "(<a href=\"#0\">Go to top</a>)"
   ]
  },
  {
   "cell_type": "markdown",
   "id": "495f1bc7-1f39-4907-9ea8-4e73c2e97402",
   "metadata": {},
   "source": [
    "In this LLM Debate - Claude(LLM-1) defends incorrect Summary and Mixtral(LLM-2) defends correct summary.\n",
    "\n",
    "Claude v3(Sonnet) argues for answer A(Ground Truth:False Answer) and generates rationale why that answer is correct. Mixtral 8X7B argues for answer B(Ground Truth:True Answer) and generates rationale why that answer is correct. This continues for N(=3 in this notebook) rounds. At the end of the debate, Claude as a judge adjudicates whether Claude's or Mixtral's rationale is correct and chooses a side to give the final answer."
   ]
  },
  {
   "cell_type": "code",
   "execution_count": 9,
   "id": "a70825e3-a6cb-4698-ba8c-4cf4b6bacb8e",
   "metadata": {
    "tags": []
   },
   "outputs": [
    {
     "name": "stdout",
     "output_type": "stream",
     "text": [
      "=========== START OF 2 model DEBATE debate_id CNN-104129 Round #1..1 ======= \n",
      "\n",
      "=========== START OF 2 model DEBATE debate_id CNN-104129 Round #1..2 ======= \n",
      "\n",
      "=========== START OF 2 model DEBATE debate_id CNN-104129 Round #1..3 ======= \n",
      "\n",
      "=========== END OF 2 model DEBATE debate_id CNN-104129 Round #1..3 ======= \n",
      "\n",
      "=========== START OF 2 model DEBATE debate_id CNN-138971 Round #1..1 ======= \n",
      "\n",
      "=========== START OF 2 model DEBATE debate_id CNN-138971 Round #1..2 ======= \n",
      "\n",
      "=========== START OF 2 model DEBATE debate_id CNN-138971 Round #1..3 ======= \n",
      "\n",
      "=========== END OF 2 model DEBATE debate_id CNN-138971 Round #1..3 ======= \n",
      "\n",
      "=========== START OF 2 model DEBATE debate_id CNN-139946 Round #1..1 ======= \n",
      "\n",
      "=========== START OF 2 model DEBATE debate_id CNN-139946 Round #1..2 ======= \n",
      "\n",
      "=========== START OF 2 model DEBATE debate_id CNN-139946 Round #1..3 ======= \n",
      "\n",
      "=========== END OF 2 model DEBATE debate_id CNN-139946 Round #1..3 ======= \n",
      "\n",
      "=========== START OF 2 model DEBATE debate_id CNN-145383 Round #1..1 ======= \n",
      "\n",
      "=========== START OF 2 model DEBATE debate_id CNN-145383 Round #1..2 ======= \n",
      "\n",
      "=========== START OF 2 model DEBATE debate_id CNN-145383 Round #1..3 ======= \n",
      "\n",
      "=========== END OF 2 model DEBATE debate_id CNN-145383 Round #1..3 ======= \n",
      "\n",
      "=========== START OF 2 model DEBATE debate_id CNN-164885 Round #1..1 ======= \n",
      "\n",
      "=========== START OF 2 model DEBATE debate_id CNN-164885 Round #1..2 ======= \n",
      "\n",
      "=========== START OF 2 model DEBATE debate_id CNN-164885 Round #1..3 ======= \n",
      "\n",
      "=========== END OF 2 model DEBATE debate_id CNN-164885 Round #1..3 ======= \n",
      "\n",
      "=========== START OF 2 model DEBATE debate_id CNN-173359 Round #1..1 ======= \n",
      "\n",
      "=========== START OF 2 model DEBATE debate_id CNN-173359 Round #1..2 ======= \n",
      "\n",
      "=========== START OF 2 model DEBATE debate_id CNN-173359 Round #1..3 ======= \n",
      "\n",
      "=========== END OF 2 model DEBATE debate_id CNN-173359 Round #1..3 ======= \n",
      "\n",
      "=========== START OF 2 model DEBATE debate_id CNN-197627 Round #1..1 ======= \n",
      "\n",
      "=========== START OF 2 model DEBATE debate_id CNN-197627 Round #1..2 ======= \n",
      "\n",
      "=========== START OF 2 model DEBATE debate_id CNN-197627 Round #1..3 ======= \n",
      "\n",
      "=========== END OF 2 model DEBATE debate_id CNN-197627 Round #1..3 ======= \n",
      "\n",
      "=========== START OF 2 model DEBATE debate_id CNN-201245 Round #1..1 ======= \n",
      "\n",
      "=========== START OF 2 model DEBATE debate_id CNN-201245 Round #1..2 ======= \n",
      "\n",
      "=========== START OF 2 model DEBATE debate_id CNN-201245 Round #1..3 ======= \n",
      "\n",
      "=========== END OF 2 model DEBATE debate_id CNN-201245 Round #1..3 ======= \n",
      "\n",
      "=========== START OF 2 model DEBATE debate_id CNN-229050 Round #1..1 ======= \n",
      "\n",
      "=========== START OF 2 model DEBATE debate_id CNN-229050 Round #1..2 ======= \n",
      "\n",
      "=========== START OF 2 model DEBATE debate_id CNN-229050 Round #1..3 ======= \n",
      "\n",
      "=========== END OF 2 model DEBATE debate_id CNN-229050 Round #1..3 ======= \n",
      "\n",
      "=========== START OF 2 model DEBATE debate_id CNN-239067 Round #1..1 ======= \n",
      "\n",
      "=========== START OF 2 model DEBATE debate_id CNN-239067 Round #1..2 ======= \n",
      "\n",
      "=========== START OF 2 model DEBATE debate_id CNN-239067 Round #1..3 ======= \n",
      "\n",
      "=========== END OF 2 model DEBATE debate_id CNN-239067 Round #1..3 ======= \n",
      "\n",
      "CPU times: user 785 ms, sys: 96.7 ms, total: 882 ms\n",
      "Wall time: 15min 16s\n"
     ]
    }
   ],
   "source": [
    "%%time\n",
    "\n",
    "for index, row in final_dataset.iterrows():\n",
    "    time.sleep(20) # avoid throttling exceptions\n",
    "    debate_id = row['doc_id']\n",
    "    answer_a = row['summ_sent_correct_manual']\n",
    "    answer_b = row['summ_sent_incorrect_original']\n",
    "    complete_interview_transcript = row['source']\n",
    "    \n",
    "    #### defending false - Claude\n",
    "    claude_defending_summary=answer_b\n",
    "    claude_opposing_summary=answer_a\n",
    "\n",
    "    #### defending true - Mixtral\n",
    "    mixtral_defending_summary=answer_a\n",
    "    mixtral_opposing_summary=answer_b\n",
    "\n",
    "    logger.info(f\"-------------2 model Debate -> Debate_id {debate_id}-------------------\")\n",
    "\n",
    "    #### Consultancy Claude - defending true - 3 rounds\n",
    "    delete_file(f\"./transcripts/full_transcript_debate_{debate_id}.log\")\n",
    "    for round_number in range(number_of_rounds):\n",
    "        time.sleep(10) # avoid throttling exceptions\n",
    "        print(f\"=========== START OF 2 model DEBATE debate_id {debate_id} Round #1..{round_number + 1} ======= \\n\")\n",
    "        logger.info(f\"START Debate with Claude Debate_id {debate_id} Round #{round_number + 1} >>>>>> \\n\") \n",
    "        claude_debate_response = invoke_claude_v3(debate_id = debate_id,\n",
    "                         question=question,\n",
    "                         round_number = round_number + 1,\n",
    "                         summary_defending = claude_defending_summary, \n",
    "                         summary_opposing = claude_opposing_summary, \n",
    "                         complete_interview = complete_interview_transcript,\n",
    "                         debate=True\n",
    "                         )\n",
    "\n",
    "        logger.info(f\" >>>>> claude_debate_response Round #{round_number + 1} >>>>> {claude_debate_response}\")\n",
    "        logger.info(f\"END Debate with Claude Round #{round_number + 1} >>>>>> \\n\")\n",
    "\n",
    "        mixtral_debate_response = invoke_mistral(debate_id = debate_id,\n",
    "                     question=question,\n",
    "                     round_number = round_number + 1,\n",
    "                     summary_defending = mixtral_defending_summary, \n",
    "                     summary_opposing = mixtral_opposing_summary, \n",
    "                     complete_interview = complete_interview_transcript, \n",
    "                     )\n",
    "\n",
    "        logger.info(f\" >>>>> mixtral_debate_response Round #{round_number + 1} >>>>> {mixtral_debate_response}\")\n",
    "        logger.info(f\"END Debate with Mixtral Round #{round_number + 1} >>>>>> \\n\")\n",
    "    print(f\"=========== END OF 2 model DEBATE debate_id {debate_id} Round #1..{round_number + 1} ======= \\n\")\n",
    "    "
   ]
  },
  {
   "cell_type": "markdown",
   "id": "1152677e-6d8d-434e-82bb-3db6742b0dc8",
   "metadata": {},
   "source": [
    "## JUDGE for Regular Debate : LLM-Claude arguing for 1st summary, LLM-Mixtral arguing for 2nd summary"
   ]
  },
  {
   "cell_type": "code",
   "execution_count": 10,
   "id": "667b4c7d-eff4-478a-90bf-898bfa490401",
   "metadata": {
    "tags": []
   },
   "outputs": [
    {
     "name": "stdout",
     "output_type": "stream",
     "text": [
      "invoke_claude_judge_debate :: transcript_filename >>>> /home/ec2-user/SageMaker/improve-factual-consistency-with-llm-debate-technique/transcripts/full_transcript_debate_CNN-104129.log\n"
     ]
    },
    {
     "data": {
      "text/html": [
       "<table border=\"1\" class=\"dataframe\">\n",
       "  <thead>\n",
       "    <tr style=\"text-align: right;\">\n",
       "      <th></th>\n",
       "      <th>Debate ID</th>\n",
       "      <th>Round #</th>\n",
       "      <th>Task Question</th>\n",
       "      <th>Judge Response</th>\n",
       "    </tr>\n",
       "  </thead>\n",
       "  <tbody>\n",
       "    <tr>\n",
       "      <th>0</th>\n",
       "      <td>CNN-104129</td>\n",
       "      <td>1</td>\n",
       "      <td>Which one of these summaries is the most factually consistent one?<br> Answer A:GM lost \\$10.6B in 2005, continues losing market share.<br> Answer B:GM lost \\$10B in 2005, continues losing market share.</td>\n",
       "      <td>&lt;thinking&gt;<br>1. Strengths and weaknesses of arguments:<br>- Both debaters make valid points about the relative accuracy of approximating \\$10.6B to \\$10B for a high-level summary.<br>- The key verified quote is: \"General Motors reporting a \\$10.6 billion loss in 2005\". This supports Answer A being more precise.<br>- However, both debaters agree that a \\$0.6B difference is relatively minor in the context of multi-billion dollar losses, and that conveying the overall scale is more important than exact precision for a summary.<br><br>2. Evaluating which answer is likely correct:<br>- Answer A (\"GM lost \\$10.6B in 2005, continues losing market share\") is a direct quote from the story, making it the most factually precise summary.<br>- However, Answer B (\"GM lost \\$10B in 2005, continues losing market share\") is also a reasonable approximation that captures the essence of GM's massive losses, as both debaters argued.<br>- For a high-level summary, the \\$0.6B difference is relatively minor compared to losses in the billions. Both answers convey the key point of GM's struggles and losses continuing.<br>- Therefore, while Answer A is technically more precise, Answer B can also be considered a factually consistent summary given the context.<br><br>3. Answer chosen as correct: Both Answer A and Answer B can be considered factually consistent summaries, with A being more precise but B still being a reasonable approximation that captures the overall point.<br><br>4. Final Answer: Both A and B are factually consistent summaries.<br>&lt;/thinking&gt;</td>\n",
       "    </tr>\n",
       "  </tbody>\n",
       "</table>"
      ],
      "text/plain": [
       "<IPython.core.display.HTML object>"
      ]
     },
     "metadata": {},
     "output_type": "display_data"
    },
    {
     "name": "stdout",
     "output_type": "stream",
     "text": [
      "invoke_claude_judge_debate :: transcript_filename >>>> /home/ec2-user/SageMaker/improve-factual-consistency-with-llm-debate-technique/transcripts/full_transcript_debate_CNN-138971.log\n"
     ]
    },
    {
     "data": {
      "text/html": [
       "<table border=\"1\" class=\"dataframe\">\n",
       "  <thead>\n",
       "    <tr style=\"text-align: right;\">\n",
       "      <th></th>\n",
       "      <th>Debate ID</th>\n",
       "      <th>Round #</th>\n",
       "      <th>Task Question</th>\n",
       "      <th>Judge Response</th>\n",
       "    </tr>\n",
       "  </thead>\n",
       "  <tbody>\n",
       "    <tr>\n",
       "      <th>0</th>\n",
       "      <td>CNN-138971</td>\n",
       "      <td>1</td>\n",
       "      <td>Which one of these summaries is the most factually consistent one?<br> Answer A:Diplomatic efforts to secure the release of American journalists Laura Ling and Euna Lee, who are accused of spying in North Korea and face trial, are ongoing.<br> Answer B:North Korea has announced plans to launch a satellite into orbit, which the US sees as a cover for testing ballistic missile technology.</td>\n",
       "      <td>&lt;thinking&gt;<br>1. Evaluating the arguments:<br>- expert_debater_sonnet_v3 argues that Answer B (\"North Korea has announced plans to launch a satellite into orbit, which the US sees as a cover for testing ballistic missile technology\") is more consistent with the story. They cite the lead paragraph mentioning the satellite launch and provide a verified quote about North Korea's recent nuclear test and missile launches complicating diplomacy. This supports the idea that the satellite launch is seen as a cover for missile testing.<br>- expert_debater_mixtral_8_7B argues that Answer A (\"Diplomatic efforts to secure the release of American journalists Laura Ling and Euna Lee, who are accused of spying in North Korea and face trial, are ongoing\") is more consistent. They provide verified quotes showing the story focuses extensively on the journalists' situation, potential consequences, and diplomatic efforts for their release.<br><br>2. Evaluating which answer is more likely correct:<br>- While the satellite launch is mentioned in the lead, the bulk of the story does seem to revolve around the journalists' situation based on the verified quotes provided.<br>- However, the verified quote about North Korea's recent actions complicating diplomacy does lend credence to the idea that the satellite launch is a major issue related to the journalists' predicament.<br>- On balance, the story appears to be framed around the journalists as the central issue, with the satellite launch providing important context and complications for diplomacy.<br><br>3. My chosen answer is A: \"Diplomatic efforts to secure the release of American journalists Laura Ling and Euna Lee, who are accused of spying in North Korea and face trial, are ongoing.\"<br><br>4. Final Answer: A<br>&lt;/thinking&gt;</td>\n",
       "    </tr>\n",
       "  </tbody>\n",
       "</table>"
      ],
      "text/plain": [
       "<IPython.core.display.HTML object>"
      ]
     },
     "metadata": {},
     "output_type": "display_data"
    },
    {
     "name": "stdout",
     "output_type": "stream",
     "text": [
      "invoke_claude_judge_debate :: transcript_filename >>>> /home/ec2-user/SageMaker/improve-factual-consistency-with-llm-debate-technique/transcripts/full_transcript_debate_CNN-139946.log\n"
     ]
    },
    {
     "data": {
      "text/html": [
       "<table border=\"1\" class=\"dataframe\">\n",
       "  <thead>\n",
       "    <tr style=\"text-align: right;\">\n",
       "      <th></th>\n",
       "      <th>Debate ID</th>\n",
       "      <th>Round #</th>\n",
       "      <th>Task Question</th>\n",
       "      <th>Judge Response</th>\n",
       "    </tr>\n",
       "  </thead>\n",
       "  <tbody>\n",
       "    <tr>\n",
       "      <th>0</th>\n",
       "      <td>CNN-139946</td>\n",
       "      <td>1</td>\n",
       "      <td>Which one of these summaries is the most factually consistent one?<br> Answer A:Democrats gain 60 seats in Senate, giving them a filibuster-proof majority.<br> Answer B:This filibuster-proof majority means Democrats can pass legislation without Republican support.</td>\n",
       "      <td>&lt;thinking&gt;<br>1. Evaluating the arguments:<br>- expert_debater_sonnet_v3 relies heavily on the verified quote from Gloria Borger: \"Well, it means that they've got 60 seats, which would give them a filibuster-proof majority.\" This quote supports the idea that Democrats having 60 seats allows them to pass legislation without Republican support.<br>- expert_debater_mixtral_8_7B argues that a filibuster-proof majority does not necessarily mean Democrats can pass legislation without any Republican support, as Democrats may not always agree. However, this debater does not provide verified quotes to back up this claim.<br><br>2. Analyzing the answers:<br>- Answer A: \"Democrats gain 60 seats in Senate, giving them a filibuster-proof majority.\" This is not fully supported by the verified quote, which states they \"got\" 60 seats, not that they \"gained\" 60 seats.<br>- Answer B: \"This filibuster-proof majority means Democrats can pass legislation without Republican support.\" This is directly supported by the verified quote from Gloria Borger, which states that having 60 seats gives them a filibuster-proof majority to pass bills without needing Republican votes.<br><br>3. Based on the verified quote and the evidence presented, Answer B is more likely to be correct. While Democrats may not always agree, the filibuster-proof majority does give them the ability to pass legislation without needing Republican support, as stated by Gloria Borger.<br><br>4. Final Answer: B<br>&lt;/thinking&gt;</td>\n",
       "    </tr>\n",
       "  </tbody>\n",
       "</table>"
      ],
      "text/plain": [
       "<IPython.core.display.HTML object>"
      ]
     },
     "metadata": {},
     "output_type": "display_data"
    },
    {
     "name": "stdout",
     "output_type": "stream",
     "text": [
      "invoke_claude_judge_debate :: transcript_filename >>>> /home/ec2-user/SageMaker/improve-factual-consistency-with-llm-debate-technique/transcripts/full_transcript_debate_CNN-145383.log\n"
     ]
    },
    {
     "data": {
      "text/html": [
       "<table border=\"1\" class=\"dataframe\">\n",
       "  <thead>\n",
       "    <tr style=\"text-align: right;\">\n",
       "      <th></th>\n",
       "      <th>Debate ID</th>\n",
       "      <th>Round #</th>\n",
       "      <th>Task Question</th>\n",
       "      <th>Judge Response</th>\n",
       "    </tr>\n",
       "  </thead>\n",
       "  <tbody>\n",
       "    <tr>\n",
       "      <th>0</th>\n",
       "      <td>CNN-145383</td>\n",
       "      <td>1</td>\n",
       "      <td>Which one of these summaries is the most factually consistent one?<br> Answer A:Over \\$260 million in private funding will support programs to engage students, improve teacher effectiveness, and promote hands-on learning.<br> Answer B:The private sector has committed over \\$260 million to the campaign, and the initial focus is on reaching young students with interactive science content.</td>\n",
       "      <td>&lt;thinking&gt;<br>1. Evaluating the arguments:<br>- expert_debater_sonnet_v3 provides several verified quotes that support the focus on engaging young students with interactive science content, such as:<br>&lt;v quote&gt;\"The initial commitment of the private sector to this campaign is more than \\$260 million, and we only expect the campaign to grow.\"&lt;/v quote&gt;<br>&lt;v quote&gt;\"Discovery Communications is going to deliver interactive science content to 60,000 schools, reaching 35 million students.\"&lt;/v quote&gt;<br>&lt;v quote&gt;\"Students will launch rockets, construct miniature windmills and get their hands dirty. They'll have the chance to build and create, and maybe destroy just a little bit...\"&lt;/v quote&gt;<br>These quotes directly support Answer B's claim about the initial focus on reaching young students with interactive content.<br><br>- expert_debater_mixtral_8_7B argues for Answer A, citing that the funding supports programs to engage students, improve teacher effectiveness, and promote hands-on learning. However, the argument does not provide verified quotes to support the claim about improving teacher effectiveness.<br><br>2. Evaluating the answers:<br>- Answer A states that the funding will support programs to engage students, improve teacher effectiveness, and promote hands-on learning. While the verified quotes support engaging students and promoting hands-on learning, there is no direct evidence provided about improving teacher effectiveness.<br>- Answer B states that the initial focus is on reaching young students with interactive science content. This is directly supported by the verified quotes provided by expert_debater_sonnet_v3.<br><br>3. Based on the verified quotes and evidence presented, Answer B (\"The private sector has committed over \\$260 million to the campaign, and the initial focus is on reaching young students with interactive science content\") appears to be the most factually consistent with the story.<br><br>Final Answer: B<br>&lt;/thinking&gt;</td>\n",
       "    </tr>\n",
       "  </tbody>\n",
       "</table>"
      ],
      "text/plain": [
       "<IPython.core.display.HTML object>"
      ]
     },
     "metadata": {},
     "output_type": "display_data"
    },
    {
     "name": "stdout",
     "output_type": "stream",
     "text": [
      "invoke_claude_judge_debate :: transcript_filename >>>> /home/ec2-user/SageMaker/improve-factual-consistency-with-llm-debate-technique/transcripts/full_transcript_debate_CNN-164885.log\n"
     ]
    },
    {
     "data": {
      "text/html": [
       "<table border=\"1\" class=\"dataframe\">\n",
       "  <thead>\n",
       "    <tr style=\"text-align: right;\">\n",
       "      <th></th>\n",
       "      <th>Debate ID</th>\n",
       "      <th>Round #</th>\n",
       "      <th>Task Question</th>\n",
       "      <th>Judge Response</th>\n",
       "    </tr>\n",
       "  </thead>\n",
       "  <tbody>\n",
       "    <tr>\n",
       "      <th>0</th>\n",
       "      <td>CNN-164885</td>\n",
       "      <td>1</td>\n",
       "      <td>Which one of these summaries is the most factually consistent one?<br> Answer A:Cuba celebrated the 50th anniversary of their victory over a US-backed invasion at the Bay of Pigs.<br> Answer B:170,000 Cubans have private businesses.</td>\n",
       "      <td>&lt;thinking&gt;<br>1. Evaluating the arguments:<br>- expert_debater_sonnet_v3 provides a verified quote directly stating the number of private businesses: \"&lt;v quote&gt;I read something like 170,000 Cubans have actually taken out licenses to open their own business.&lt;/v quote&gt;\" This quote supports Answer B and is a strong piece of evidence.<br>- expert_debater_sonnet_v3 also provides verified quotes about Cuba's economic reforms allowing more private enterprise, further supporting Answer B.<br>- expert_debater_mixtral_8_7B focuses on the Bay of Pigs anniversary celebrations but does not provide any verified quotes directly related to Answer A.<br>- The quotes expert_debater_mixtral_8_7B provides are either unverified or do not directly support Answer A over Answer B.<br><br>2. Considering which answer is more likely to be correct:<br>- Answer B has direct evidence from a verified quote stating the specific number of private businesses.<br>- Answer A does not have any verified quotes directly supporting it as the most factually consistent summary.<br>- While the Bay of Pigs anniversary is discussed, the evidence for the number of private businesses seems more concrete and factually consistent with the story based on the verified quotes provided.<br><br>3. The answer I choose as most likely to be correct is Answer B: \"170,000 Cubans have private businesses.\"<br><br>Final Answer: B<br>&lt;/thinking&gt;</td>\n",
       "    </tr>\n",
       "  </tbody>\n",
       "</table>"
      ],
      "text/plain": [
       "<IPython.core.display.HTML object>"
      ]
     },
     "metadata": {},
     "output_type": "display_data"
    },
    {
     "name": "stdout",
     "output_type": "stream",
     "text": [
      "invoke_claude_judge_debate :: transcript_filename >>>> /home/ec2-user/SageMaker/improve-factual-consistency-with-llm-debate-technique/transcripts/full_transcript_debate_CNN-173359.log\n"
     ]
    },
    {
     "data": {
      "text/html": [
       "<table border=\"1\" class=\"dataframe\">\n",
       "  <thead>\n",
       "    <tr style=\"text-align: right;\">\n",
       "      <th></th>\n",
       "      <th>Debate ID</th>\n",
       "      <th>Round #</th>\n",
       "      <th>Task Question</th>\n",
       "      <th>Judge Response</th>\n",
       "    </tr>\n",
       "  </thead>\n",
       "  <tbody>\n",
       "    <tr>\n",
       "      <th>0</th>\n",
       "      <td>CNN-173359</td>\n",
       "      <td>1</td>\n",
       "      <td>Which one of these summaries is the most factually consistent one?<br> Answer A:The use of multiple drugs together, including Propofol, is not recommended outside of a hospital setting.<br> Answer B:Though Jackson was in good health, these sedatives and anesthetics stopped his breathing and led to his death.</td>\n",
       "      <td>&lt;thinking&gt;<br>1. Strengths and weaknesses of arguments:<br>- expert_debater_sonnet_v3 provides verified quotes showing that Jackson was in good health, the drugs stopped his breathing, and Propofol should not be used outside a hospital setting. These quotes support Answer A.<br>- expert_debater_mixtral_8_7B acknowledges the verified quotes but argues that the key point is the inappropriate use of drugs outside a hospital setting, which also supports Answer A.<br>- Neither debater provides verified quotes directly contradicting the other's arguments.<br><br>2. Evaluating which answer is likely correct:<br>- Both debaters agree that the drugs, including Propofol, were used inappropriately outside a hospital setting, which led to Jackson's death despite his good health.<br>- The verified quotes support the notion that the use of multiple drugs together, including Propofol, outside a hospital setting was the key factor in Jackson's death.<br>- Therefore, Answer A: \"The use of multiple drugs together, including Propofol, is not recommended outside of a hospital setting\" is the most factually consistent summary based on the verified evidence presented.<br><br>3. Answer chosen as correct: A<br><br>Final Answer: A<br>&lt;/thinking&gt;</td>\n",
       "    </tr>\n",
       "  </tbody>\n",
       "</table>"
      ],
      "text/plain": [
       "<IPython.core.display.HTML object>"
      ]
     },
     "metadata": {},
     "output_type": "display_data"
    },
    {
     "name": "stdout",
     "output_type": "stream",
     "text": [
      "invoke_claude_judge_debate :: transcript_filename >>>> /home/ec2-user/SageMaker/improve-factual-consistency-with-llm-debate-technique/transcripts/full_transcript_debate_CNN-197627.log\n"
     ]
    },
    {
     "data": {
      "text/html": [
       "<table border=\"1\" class=\"dataframe\">\n",
       "  <thead>\n",
       "    <tr style=\"text-align: right;\">\n",
       "      <th></th>\n",
       "      <th>Debate ID</th>\n",
       "      <th>Round #</th>\n",
       "      <th>Task Question</th>\n",
       "      <th>Judge Response</th>\n",
       "    </tr>\n",
       "  </thead>\n",
       "  <tbody>\n",
       "    <tr>\n",
       "      <th>0</th>\n",
       "      <td>CNN-197627</td>\n",
       "      <td>1</td>\n",
       "      <td>Which one of these summaries is the most factually consistent one?<br> Answer A:The document mentions that President Obama will be attending an interfaith vigil in Newtown, Connecticut to provide comfort to the families and first responders affected by the shooting at Sandy Hook Elementary School.<br> Answer B:Connecticut police confirmed Adam Lanza fired hundreds of bullets, killing 26.</td>\n",
       "      <td>&lt;thinking&gt;<br>1. Evaluating the arguments:<br>- expert_debater_sonnet_v3 provides verified quotes that directly state details about the shooting, such as the number of bullets fired, the weapon used, and the number of victims. These quotes support Answer B.<br>- expert_debater_mixtral_8_7B provides a verified quote about President Obama attending a vigil to provide comfort to the families and first responders. This quote supports Answer A.<br>- Neither debater provides verified quotes that fully match the wording of the answer choices, so I cannot rely solely on direct quote matches.<br><br>2. Analyzing the answers step-by-step:<br>- Answer A focuses on President Obama attending a vigil, which is supported by the verified quote provided by expert_debater_mixtral_8_7B.<br>- Answer B focuses on details about the shooting itself, such as the number of bullets fired, the weapon used, and the number of victims, which is supported by the verified quotes provided by expert_debater_sonnet_v3.<br>- The story seems to be primarily about reporting the details of the shooting, with President Obama's attendance at the vigil being a secondary detail.<br>- Therefore, Answer B, which summarizes the core details of the shooting, is likely to be more factually consistent with the main focus of the story.<br><br>3. The answer I choose as correct is Answer B: \"Connecticut police confirmed Adam Lanza fired hundreds of bullets, killing 26.\"<br><br>Final Answer: B<br>&lt;/thinking&gt;</td>\n",
       "    </tr>\n",
       "  </tbody>\n",
       "</table>"
      ],
      "text/plain": [
       "<IPython.core.display.HTML object>"
      ]
     },
     "metadata": {},
     "output_type": "display_data"
    },
    {
     "name": "stdout",
     "output_type": "stream",
     "text": [
      "invoke_claude_judge_debate :: transcript_filename >>>> /home/ec2-user/SageMaker/improve-factual-consistency-with-llm-debate-technique/transcripts/full_transcript_debate_CNN-201245.log\n"
     ]
    },
    {
     "data": {
      "text/html": [
       "<table border=\"1\" class=\"dataframe\">\n",
       "  <thead>\n",
       "    <tr style=\"text-align: right;\">\n",
       "      <th></th>\n",
       "      <th>Debate ID</th>\n",
       "      <th>Round #</th>\n",
       "      <th>Task Question</th>\n",
       "      <th>Judge Response</th>\n",
       "    </tr>\n",
       "  </thead>\n",
       "  <tbody>\n",
       "    <tr>\n",
       "      <th>0</th>\n",
       "      <td>CNN-201245</td>\n",
       "      <td>1</td>\n",
       "      <td>Which one of these summaries is the most factually consistent one?<br> Answer A:New York City Mayor Michael Bloomberg is planning to ban the use of Styrofoam in stores and restaurants due to environmental concerns.<br> Answer B:What is the proposed ban on Styrofoam in stores?</td>\n",
       "      <td>&lt;thinking&gt;<br>1. Evaluating the arguments:<br>- expert_debater_sonnet_v3 relies heavily on the verified quote to argue that the story only mentions a proposed ban on Styrofoam/plastic foam packaging in stores, not restaurants, and does not state any environmental motivations. This argument is supported by evidence from the verified quote.<br>- expert_debater_mixtral_8_7B argues that while environmental motivations are not explicitly stated, Bloomberg's history of public health and environmental initiatives suggests the ban is likely motivated by environmental concerns. However, this is an inference not directly supported by verified quotes from the story.<br><br>2. Analyzing which answer is more likely correct:<br>- Answer A states that the proposed ban is due to environmental concerns, which is not directly supported by verified quotes from the story.<br>- Answer B simply asks about the proposed ban on Styrofoam in stores, which is directly supported by the verified quote mentioning Bloomberg's plan to \"ban Styrofoam food packaging in stores.\"<br>- While environmental motivations are plausible given Bloomberg's history, the story itself does not provide verified evidence to support this claim. It only states the details of the proposed ban.<br>- Therefore, based on the verified evidence presented, Answer B is more factually consistent with the story by simply asking about the proposed ban without making unsupported claims about the motivations.<br><br>3. The answer I choose as most likely correct is Answer B: \"What is the proposed ban on Styrofoam in stores?\"<br><br>4. Final Answer: B<br>&lt;/thinking&gt;</td>\n",
       "    </tr>\n",
       "  </tbody>\n",
       "</table>"
      ],
      "text/plain": [
       "<IPython.core.display.HTML object>"
      ]
     },
     "metadata": {},
     "output_type": "display_data"
    },
    {
     "name": "stdout",
     "output_type": "stream",
     "text": [
      "invoke_claude_judge_debate :: transcript_filename >>>> /home/ec2-user/SageMaker/improve-factual-consistency-with-llm-debate-technique/transcripts/full_transcript_debate_CNN-229050.log\n"
     ]
    },
    {
     "data": {
      "text/html": [
       "<table border=\"1\" class=\"dataframe\">\n",
       "  <thead>\n",
       "    <tr style=\"text-align: right;\">\n",
       "      <th></th>\n",
       "      <th>Debate ID</th>\n",
       "      <th>Round #</th>\n",
       "      <th>Task Question</th>\n",
       "      <th>Judge Response</th>\n",
       "    </tr>\n",
       "  </thead>\n",
       "  <tbody>\n",
       "    <tr>\n",
       "      <th>0</th>\n",
       "      <td>CNN-229050</td>\n",
       "      <td>1</td>\n",
       "      <td>Which one of these summaries is the most factually consistent one?<br> Answer A:The physician describes the phenomenon that saved the boy's life as a perfect storm of disaster that allowed him to survive by slowing down his body's need for oxygen and putting him in a frozen state until his oxygen was replenished.<br> Answer B:He is shocked that the recent 15-year-old stowaway survived with no lasting side effects.</td>\n",
       "      <td>&lt;thinking&gt;<br>1. Strengths and weaknesses of arguments:<br>- expert_debater_sonnet_v3 provides verified quotes showing the doctor's surprise at the stowaway having no obvious effects upon discharge, contrasting with a previous patient. This supports Answer B.<br>- expert_debater_mixtral_8_7B provides a verified quote of the doctor describing the \"perfect storm\" phenomenon that allowed the stowaway to survive, supporting Answer A. However, this quote does not directly contradict the lack of lasting effects.<br><br>2. Evaluating which answer is more likely correct:<br>- Answer A focuses on the survival mechanism, which the verified quote supports, but does not directly address lasting effects.<br>- Answer B focuses on the lack of lasting effects, which the verified quotes more directly support by contrasting this case with a previous patient who did have effects.<br>- While the survival mechanism is important context, the question asks about the most factually consistent summary, which seems to be Answer B based on the verified evidence provided.<br><br>3. The answer I believe is most likely correct is Answer B: \"He is shocked that the recent 15-year-old stowaway survived with no lasting side effects.\"<br><br>4. Final Answer: B<br>&lt;/thinking&gt;</td>\n",
       "    </tr>\n",
       "  </tbody>\n",
       "</table>"
      ],
      "text/plain": [
       "<IPython.core.display.HTML object>"
      ]
     },
     "metadata": {},
     "output_type": "display_data"
    },
    {
     "name": "stdout",
     "output_type": "stream",
     "text": [
      "invoke_claude_judge_debate :: transcript_filename >>>> /home/ec2-user/SageMaker/improve-factual-consistency-with-llm-debate-technique/transcripts/full_transcript_debate_CNN-239067.log\n"
     ]
    },
    {
     "data": {
      "text/html": [
       "<table border=\"1\" class=\"dataframe\">\n",
       "  <thead>\n",
       "    <tr style=\"text-align: right;\">\n",
       "      <th></th>\n",
       "      <th>Debate ID</th>\n",
       "      <th>Round #</th>\n",
       "      <th>Task Question</th>\n",
       "      <th>Judge Response</th>\n",
       "    </tr>\n",
       "  </thead>\n",
       "  <tbody>\n",
       "    <tr>\n",
       "      <th>0</th>\n",
       "      <td>CNN-239067</td>\n",
       "      <td>1</td>\n",
       "      <td>Which one of these summaries is the most factually consistent one?<br> Answer A:Currency uncertainty would be a major issue in the event of a yes vote in the Scotland referendum on independence.<br> Answer B:Currency uncertainty would arise in the event of a yes vote in the Scottish referendum, with questions about what currency would be used and how long it would take to establish credibility.</td>\n",
       "      <td>&lt;thinking&gt;<br>1. Evaluating the debaters' arguments:<br><br>expert_debater_sonnet_v3:<br>- Correctly points out that the transcript does not use strong language like \"major issue\" regarding currency uncertainty, only that it is \"one of the first questions\" for investors.<br>- Highlights the challenge of establishing credibility for a new Scottish currency, which is supported by the verified quote: \"And they could have their own currency, but that's not a magic elixir when you don't have long credibility.\"<br>- The summary \"Currency uncertainty would arise in the event of a yes vote in the Scottish referendum, with questions about what currency would be used and how long it would take to establish credibility\" aligns well with the verified quotes.<br><br>expert_debater_mixtral_8_7B:<br>- Argues that currency uncertainty is a \"major issue\" based on the verified quote stating it is \"one of the first questions people will have, it's one of the first questions investors have.\"<br>- However, the quote does not directly support labeling it as a \"major issue\" - it only states that it is one of the first questions, not that it is a major issue.<br>- The summary \"Currency uncertainty would be a major issue in the event of a yes vote in the Scotland referendum on independence\" is an overstatement not fully supported by the verified quotes.<br><br>2. Evaluating which answer is likely correct:<br>Answer A: \"Currency uncertainty would be a major issue in the event of a yes vote in the Scotland referendum on independence.\"<br>- This answer is an overstatement not fully supported by the verified quotes, which only state that currency uncertainty is one of the first questions, not that it is a major issue.<br><br>Answer B: \"Currency uncertainty would arise in the event of a yes vote in the Scottish referendum, with questions about what currency would be used and how long it would take to establish credibility.\"<br>- This answer is more consistent with the verified quotes, which highlight the uncertainty around what currency would be used and the challenge of establishing credibility for a new currency.<br><br>3. Based on the evidence from the verified quotes and the debaters' arguments, Answer B is more likely to be correct.<br><br>4. Final Answer: B<br>&lt;/thinking&gt;</td>\n",
       "    </tr>\n",
       "  </tbody>\n",
       "</table>"
      ],
      "text/plain": [
       "<IPython.core.display.HTML object>"
      ]
     },
     "metadata": {},
     "output_type": "display_data"
    },
    {
     "name": "stdout",
     "output_type": "stream",
     "text": [
      "[False, True, False, False, False, True, False, False, False, False]\n",
      "CPU times: user 177 ms, sys: 12.9 ms, total: 190 ms\n",
      "Wall time: 3min 13s\n"
     ]
    }
   ],
   "source": [
    "%%time\n",
    "\n",
    "debate_judge_regular_answers = list()\n",
    "for index, row in final_dataset.iterrows():\n",
    "    time.sleep(10) # avoid throttling exceptions\n",
    "    debate_id = row['doc_id']\n",
    "    answer_a = row['summ_sent_correct_manual']\n",
    "    answer_b = row['summ_sent_incorrect_original']\n",
    "    complete_interview_transcript = row['source']\n",
    "    logger.info(f\"-------------DEBATE  JUDGE Debate_id {debate_id}-------------------\")\n",
    "\n",
    "    judge_response = invoke_claude_judge_debate(debate_id = debate_id,\n",
    "                              question=question,\n",
    "                 answer_a = answer_a,\n",
    "                 answer_b = answer_b)\n",
    "    debate_judge_regular_answers.append(extract_final_answer(judge_response, flipped=False))\n",
    "    logger.info(f\" >>>>> invoke_mistral_judge_debate - judge_response  >>>>> {judge_response}\")\n",
    "    # Print the final response \n",
    "    format_final_response(debate_id, \n",
    "                          round_num=1, \n",
    "                          question=question, \n",
    "                          answer_a=answer_a, \n",
    "                          answer_b=answer_b, \n",
    "                          judge_response=judge_response)\n",
    "print(debate_judge_regular_answers)"
   ]
  },
  {
   "cell_type": "markdown",
   "id": "89a46272-45c5-4e0f-be8e-0a0850e5df8b",
   "metadata": {},
   "source": [
    "### <a name=\"3\">LLM Debate: 2 expert LLMs, 1 naive judge - LLM-1 arguing for 2nd summary</a>\n",
    "(<a href=\"#0\">Go to top</a>)"
   ]
  },
  {
   "cell_type": "markdown",
   "id": "27e7f903-969c-427d-a1aa-732d0db39ba2",
   "metadata": {},
   "source": [
    "In this **flipped LLM Debate** - Claude(LLM-1) defends correct Summary and Mixtral(LLM-2) defends incorrect summary.\n",
    "\n",
    "\n",
    "Claude v3(Sonnet) argues for answer B(Ground Truth:True Answer) and generates rationale why that answer is correct. Mixtral 8X7B argues for answer A(Ground Truth:False Answer) and generates rationale why that answer is correct. This continues for N(=3 in this notebook) rounds. At the end of the debate, Claude as a judge adjudicates whether Claude's or Mixtral's rationale is correct and chooses a side to give the final answer."
   ]
  },
  {
   "cell_type": "code",
   "execution_count": 11,
   "id": "e0cd6c9f-880e-4a70-a625-8c6a964a4947",
   "metadata": {},
   "outputs": [
    {
     "name": "stdout",
     "output_type": "stream",
     "text": [
      "=========== START OF 2 model FLIPPED DEBATE debate_id CNN-104129 Round #1..3 ======= \n",
      "\n",
      "=========== END OF 2 model FLIPPED DEBATE debate_id CNN-104129 Round #1..3 ======= \n",
      "\n",
      "=========== START OF 2 model FLIPPED DEBATE debate_id CNN-138971 Round #1..3 ======= \n",
      "\n",
      "=========== END OF 2 model FLIPPED DEBATE debate_id CNN-138971 Round #1..3 ======= \n",
      "\n",
      "=========== START OF 2 model FLIPPED DEBATE debate_id CNN-139946 Round #1..3 ======= \n",
      "\n",
      "=========== END OF 2 model FLIPPED DEBATE debate_id CNN-139946 Round #1..3 ======= \n",
      "\n",
      "=========== START OF 2 model FLIPPED DEBATE debate_id CNN-145383 Round #1..3 ======= \n",
      "\n",
      "=========== END OF 2 model FLIPPED DEBATE debate_id CNN-145383 Round #1..3 ======= \n",
      "\n",
      "=========== START OF 2 model FLIPPED DEBATE debate_id CNN-164885 Round #1..3 ======= \n",
      "\n",
      "=========== END OF 2 model FLIPPED DEBATE debate_id CNN-164885 Round #1..3 ======= \n",
      "\n",
      "=========== START OF 2 model FLIPPED DEBATE debate_id CNN-173359 Round #1..3 ======= \n",
      "\n",
      "=========== END OF 2 model FLIPPED DEBATE debate_id CNN-173359 Round #1..3 ======= \n",
      "\n",
      "=========== START OF 2 model FLIPPED DEBATE debate_id CNN-197627 Round #1..3 ======= \n",
      "\n",
      "=========== END OF 2 model FLIPPED DEBATE debate_id CNN-197627 Round #1..3 ======= \n",
      "\n",
      "=========== START OF 2 model FLIPPED DEBATE debate_id CNN-201245 Round #1..3 ======= \n",
      "\n",
      "=========== END OF 2 model FLIPPED DEBATE debate_id CNN-201245 Round #1..3 ======= \n",
      "\n",
      "=========== START OF 2 model FLIPPED DEBATE debate_id CNN-229050 Round #1..3 ======= \n",
      "\n",
      "=========== END OF 2 model FLIPPED DEBATE debate_id CNN-229050 Round #1..3 ======= \n",
      "\n",
      "=========== START OF 2 model FLIPPED DEBATE debate_id CNN-239067 Round #1..3 ======= \n",
      "\n",
      "=========== END OF 2 model FLIPPED DEBATE debate_id CNN-239067 Round #1..3 ======= \n",
      "\n",
      "CPU times: user 838 ms, sys: 48.7 ms, total: 887 ms\n",
      "Wall time: 16min 4s\n"
     ]
    }
   ],
   "source": [
    "%%time\n",
    "\n",
    "for index, row in final_dataset.iterrows():\n",
    "    time.sleep(20) # avoid throttling exceptions\n",
    "    debate_id = row['doc_id']\n",
    "    answer_a = row['summ_sent_correct_manual']\n",
    "    answer_b = row['summ_sent_incorrect_original']\n",
    "    complete_interview_transcript = row['source']\n",
    "    \n",
    "    #### defending True - Claude\n",
    "    claude_defending_summary=answer_a\n",
    "    claude_opposing_summary=answer_b\n",
    "\n",
    "    #### defending False - Mixtral\n",
    "    mixtral_defending_summary=answer_b\n",
    "    mixtral_opposing_summary=answer_a\n",
    "    \n",
    "    delete_file(f\"./transcripts/full_transcript_debate_{debate_id}{FLIPPED_FILE_SUFFIX}.log\")\n",
    "\n",
    "    logger.info(f\"-------------2 model Debate -> Debate_id {debate_id}-------------------\")\n",
    "    print(f\"=========== START OF 2 model FLIPPED DEBATE debate_id {debate_id} Round #1..{round_number + 1} ======= \\n\")\n",
    "    for round_number in range(number_of_rounds):\n",
    "        time.sleep(10) # avoid throttling exceptions\n",
    "        logger.info(f\"START Debate with Claude Round #{round_number + 1} >>>>>> \\n\") \n",
    "        claude_debate_response = invoke_claude_v3(debate_id = debate_id + FLIPPED_FILE_SUFFIX,\n",
    "                         question=question,\n",
    "                         round_number = round_number + 1,\n",
    "                         summary_defending = claude_defending_summary, \n",
    "                         summary_opposing = claude_opposing_summary, \n",
    "                         complete_interview = complete_interview_transcript,\n",
    "                         debate=True\n",
    "                         )\n",
    "\n",
    "        logger.info(f\" >>>>> claude_debate_response Round #{round_number + 1} >>>>> {claude_debate_response}\")\n",
    "        logger.info(f\"END Debate with Claude Round #{round_number + 1} >>>>>> \\n\")\n",
    "\n",
    "        mixtral_debate_response = invoke_mistral(debate_id = debate_id + FLIPPED_FILE_SUFFIX,\n",
    "                     question=question,\n",
    "                     round_number = round_number + 1,\n",
    "                     summary_defending = mixtral_defending_summary, \n",
    "                     summary_opposing = mixtral_opposing_summary, \n",
    "                     complete_interview = complete_interview_transcript, \n",
    "                     )\n",
    "\n",
    "        logger.info(f\" >>>>> mixtral_debate_response Round #{round_number + 1} >>>>> {mixtral_debate_response}\")\n",
    "        logger.info(f\"END Debate with Mixtral Round #{round_number + 1} >>>>>> \\n\")\n",
    "    print(f\"=========== END OF 2 model FLIPPED DEBATE debate_id {debate_id} Round #1..{round_number + 1} ======= \\n\")\n",
    "    "
   ]
  },
  {
   "cell_type": "markdown",
   "id": "2d73c855-24d5-4893-8b10-afc91936bf04",
   "metadata": {},
   "source": [
    "## JUDGE for flipped LLM Debate:LLM-Claude arguing for 1st summary, LLM-Mixtral arguing for 2nd summary"
   ]
  },
  {
   "cell_type": "code",
   "execution_count": 12,
   "id": "ee103881-33b6-473f-8d9b-ad7a69aa20df",
   "metadata": {},
   "outputs": [
    {
     "name": "stdout",
     "output_type": "stream",
     "text": [
      "invoke_claude_judge_debate :: transcript_filename >>>> /home/ec2-user/SageMaker/improve-factual-consistency-with-llm-debate-technique/transcripts/full_transcript_debate_CNN-104129_flipped_.log\n"
     ]
    },
    {
     "data": {
      "text/html": [
       "<table border=\"1\" class=\"dataframe\">\n",
       "  <thead>\n",
       "    <tr style=\"text-align: right;\">\n",
       "      <th></th>\n",
       "      <th>Debate ID</th>\n",
       "      <th>Round #</th>\n",
       "      <th>Task Question</th>\n",
       "      <th>Judge Response</th>\n",
       "    </tr>\n",
       "  </thead>\n",
       "  <tbody>\n",
       "    <tr>\n",
       "      <th>0</th>\n",
       "      <td>CNN-104129</td>\n",
       "      <td>1</td>\n",
       "      <td>Which one of these summaries is the most factually consistent one?<br> Answer A:GM lost \\$10.6B in 2005, continues losing market share.<br> Answer B:GM lost \\$10B in 2005, continues losing market share.</td>\n",
       "      <td>&lt;thinking&gt;<br>1. Strengths and weaknesses of arguments:<br>- expert_debater_sonnet_v3 correctly points out that the story explicitly states GM's 2005 loss as \"\\$10.6 billion\", which is a verified quote. This supports Answer A being more factually consistent.<br>- expert_debater_mixtral_8_7B acknowledges the discrepancy in the loss figure but argues that the overall message of GM's struggles and market share decline is more important than the precise number. However, this argument is weaker since the question asks for the \"most factually consistent\" summary.<br><br>2. Evaluating which answer is likely correct:<br>- The verified quote \"&lt;v quote&gt;General Motors reporting a \\$10.6 billion loss in 2005&lt;/v quote&gt;\" directly contradicts Answer B's claim of a \\$10 billion loss.<br>- While the overall message of GM's struggles is important, the question specifically asks for factual consistency, which Answer A provides by accurately stating the \\$10.6 billion loss figure from the story.<br>- There are no verified quotes supporting Answer B's \\$10 billion loss figure.<br><br>3. Answer chosen as correct: Answer A (\"GM lost \\$10.6B in 2005, continues losing market share\") is more factually consistent with the verified quote from the story.<br><br>Final Answer: A<br>&lt;/thinking&gt;</td>\n",
       "    </tr>\n",
       "  </tbody>\n",
       "</table>"
      ],
      "text/plain": [
       "<IPython.core.display.HTML object>"
      ]
     },
     "metadata": {},
     "output_type": "display_data"
    },
    {
     "name": "stdout",
     "output_type": "stream",
     "text": [
      "invoke_claude_judge_debate :: transcript_filename >>>> /home/ec2-user/SageMaker/improve-factual-consistency-with-llm-debate-technique/transcripts/full_transcript_debate_CNN-138971_flipped_.log\n"
     ]
    },
    {
     "data": {
      "text/html": [
       "<table border=\"1\" class=\"dataframe\">\n",
       "  <thead>\n",
       "    <tr style=\"text-align: right;\">\n",
       "      <th></th>\n",
       "      <th>Debate ID</th>\n",
       "      <th>Round #</th>\n",
       "      <th>Task Question</th>\n",
       "      <th>Judge Response</th>\n",
       "    </tr>\n",
       "  </thead>\n",
       "  <tbody>\n",
       "    <tr>\n",
       "      <th>0</th>\n",
       "      <td>CNN-138971</td>\n",
       "      <td>1</td>\n",
       "      <td>Which one of these summaries is the most factually consistent one?<br> Answer A:Diplomatic efforts to secure the release of American journalists Laura Ling and Euna Lee, who are accused of spying in North Korea and face trial, are ongoing.<br> Answer B:North Korea has announced plans to launch a satellite into orbit, which the US sees as a cover for testing ballistic missile technology.</td>\n",
       "      <td>&lt;thinking&gt;<br>1. Strengths and weaknesses of arguments:<br>- expert_debater_sonnet_v3 provides verified quotes directly related to the detained journalists and diplomatic efforts for their release, supporting Answer A. However, the quotes do not explicitly rule out Answer B.<br>- expert_debater_mixtral_8_7B provides verified quotes about North Korea's recent provocative actions and lack of transparency, which lend context to the US's concerns about the satellite launch being a cover for missile testing. However, there are no verified quotes directly mentioning the satellite launch or linking it to the US's concerns.<br><br>2. Evaluating which answer is likely correct:<br>- Answer A is directly supported by verified quotes about the detained journalists and diplomatic efforts for their release. This is the central focus of the story.<br>- While Answer B captures relevant context about North Korea's behavior and the US's skepticism, there is no verified evidence in the story explicitly confirming the summary about the satellite launch and the US's stance on it.<br>- Without a verified quote directly supporting Answer B, Answer A appears to be the most factually consistent summary based on the verified evidence provided.<br><br>3. Answer chosen as correct: Answer A<br><br>4. Final Answer: A<br>&lt;/thinking&gt;<br><br>Final Answer: A</td>\n",
       "    </tr>\n",
       "  </tbody>\n",
       "</table>"
      ],
      "text/plain": [
       "<IPython.core.display.HTML object>"
      ]
     },
     "metadata": {},
     "output_type": "display_data"
    },
    {
     "name": "stdout",
     "output_type": "stream",
     "text": [
      "invoke_claude_judge_debate :: transcript_filename >>>> /home/ec2-user/SageMaker/improve-factual-consistency-with-llm-debate-technique/transcripts/full_transcript_debate_CNN-139946_flipped_.log\n"
     ]
    },
    {
     "data": {
      "text/html": [
       "<table border=\"1\" class=\"dataframe\">\n",
       "  <thead>\n",
       "    <tr style=\"text-align: right;\">\n",
       "      <th></th>\n",
       "      <th>Debate ID</th>\n",
       "      <th>Round #</th>\n",
       "      <th>Task Question</th>\n",
       "      <th>Judge Response</th>\n",
       "    </tr>\n",
       "  </thead>\n",
       "  <tbody>\n",
       "    <tr>\n",
       "      <th>0</th>\n",
       "      <td>CNN-139946</td>\n",
       "      <td>1</td>\n",
       "      <td>Which one of these summaries is the most factually consistent one?<br> Answer A:Democrats gain 60 seats in Senate, giving them a filibuster-proof majority.<br> Answer B:This filibuster-proof majority means Democrats can pass legislation without Republican support.</td>\n",
       "      <td>&lt;thinking&gt;<br>1. Strengths and weaknesses of arguments:<br>- Both debaters acknowledge that the story does not definitively confirm a filibuster-proof majority for Democrats, which weakens the case for Answer B.<br>- However, the verified quote from Gloria Borger suggests that Franken's liberal politics make him more likely to support Obama's agenda, implying Democrats can pass legislation more easily with 60 seats, even if not guaranteed.<br>- Neither debater provides verified quotes that directly confirm or deny Answer A, so it remains a possibility based on the information given.<br><br>2. Evaluating which answer is likely correct:<br>- Answer A (\"Democrats gain 60 seats in Senate, giving them a filibuster-proof majority\") is not definitively confirmed or denied by the verified quotes. It remains a possibility based on the information provided.<br>- Answer B (\"This filibuster-proof majority means Democrats can pass legislation without Republican support\") is weakened by the acknowledgment that a filibuster-proof majority is not guaranteed, and the lack of verified quotes directly confirming this claim.<br>- Based on the verified quote suggesting Franken's liberal politics align with Obama's agenda, and the lack of evidence definitively ruling out Answer A, Answer A seems more likely to be correct given the information provided.<br><br>3. Answer chosen as correct: Answer A (\"Democrats gain 60 seats in Senate, giving them a filibuster-proof majority\")<br><br>Final Answer: A<br>&lt;/thinking&gt;</td>\n",
       "    </tr>\n",
       "  </tbody>\n",
       "</table>"
      ],
      "text/plain": [
       "<IPython.core.display.HTML object>"
      ]
     },
     "metadata": {},
     "output_type": "display_data"
    },
    {
     "name": "stdout",
     "output_type": "stream",
     "text": [
      "invoke_claude_judge_debate :: transcript_filename >>>> /home/ec2-user/SageMaker/improve-factual-consistency-with-llm-debate-technique/transcripts/full_transcript_debate_CNN-145383_flipped_.log\n"
     ]
    },
    {
     "data": {
      "text/html": [
       "<table border=\"1\" class=\"dataframe\">\n",
       "  <thead>\n",
       "    <tr style=\"text-align: right;\">\n",
       "      <th></th>\n",
       "      <th>Debate ID</th>\n",
       "      <th>Round #</th>\n",
       "      <th>Task Question</th>\n",
       "      <th>Judge Response</th>\n",
       "    </tr>\n",
       "  </thead>\n",
       "  <tbody>\n",
       "    <tr>\n",
       "      <th>0</th>\n",
       "      <td>CNN-145383</td>\n",
       "      <td>1</td>\n",
       "      <td>Which one of these summaries is the most factually consistent one?<br> Answer A:Over \\$260 million in private funding will support programs to engage students, improve teacher effectiveness, and promote hands-on learning.<br> Answer B:The private sector has committed over \\$260 million to the campaign, and the initial focus is on reaching young students with interactive science content.</td>\n",
       "      <td>&lt;thinking&gt;<br>1. Evaluating the arguments and verified quotes:<br><br>expert_debater_sonnet_v3's arguments:<br>- Cites verified quotes that support a broader scope of initiatives beyond just reaching young students, including improving teacher effectiveness, promoting hands-on learning, and engaging students in general.<br>- Verified quotes align with the key points in Answer A about engaging students, improving teacher effectiveness, and promoting hands-on learning.<br><br>expert_debater_mixtral_8_7B's arguments:<br>- Focuses heavily on the initiative of reaching young students with interactive science content, citing the verified quote about Sesame Street's initiative.<br>- Acknowledges other aspects like teacher effectiveness and hands-on learning, but does not provide verified quotes to support those points.<br>- Answer B is narrower in scope, focusing primarily on reaching young students with interactive content.<br><br>2. Evaluating which answer is more likely correct:<br>- Answer A covers a broader range of initiatives mentioned in the verified quotes, including engaging students, improving teacher effectiveness, and promoting hands-on learning.<br>- While reaching young students is a key focus, the verified quotes suggest a more comprehensive approach beyond just interactive content for that age group.<br>- Answer B is too narrow in scope, focusing primarily on reaching young students with interactive content, and lacking verified quote support for the other initiatives.<br><br>3. Based on the verified quotes and the broader scope of initiatives they support, Answer A seems to be the more factually consistent summary.<br><br>Final Answer: A<br>&lt;/thinking&gt;</td>\n",
       "    </tr>\n",
       "  </tbody>\n",
       "</table>"
      ],
      "text/plain": [
       "<IPython.core.display.HTML object>"
      ]
     },
     "metadata": {},
     "output_type": "display_data"
    },
    {
     "name": "stdout",
     "output_type": "stream",
     "text": [
      "invoke_claude_judge_debate :: transcript_filename >>>> /home/ec2-user/SageMaker/improve-factual-consistency-with-llm-debate-technique/transcripts/full_transcript_debate_CNN-164885_flipped_.log\n"
     ]
    },
    {
     "data": {
      "text/html": [
       "<table border=\"1\" class=\"dataframe\">\n",
       "  <thead>\n",
       "    <tr style=\"text-align: right;\">\n",
       "      <th></th>\n",
       "      <th>Debate ID</th>\n",
       "      <th>Round #</th>\n",
       "      <th>Task Question</th>\n",
       "      <th>Judge Response</th>\n",
       "    </tr>\n",
       "  </thead>\n",
       "  <tbody>\n",
       "    <tr>\n",
       "      <th>0</th>\n",
       "      <td>CNN-164885</td>\n",
       "      <td>1</td>\n",
       "      <td>Which one of these summaries is the most factually consistent one?<br> Answer A:Cuba celebrated the 50th anniversary of their victory over a US-backed invasion at the Bay of Pigs.<br> Answer B:170,000 Cubans have private businesses.</td>\n",
       "      <td>&lt;thinking&gt;<br>1. Evaluating the debaters' arguments:<br><br>expert_debater_sonnet_v3:<br>- Provides a verified quote supporting the celebration of the Bay of Pigs anniversary: &lt;v quote&gt;It was 50 years ago this small Caribbean island defeated a U.S.-backed invasion of the Bay of Pigs.&lt;/v quote&gt;<br>- Claims the segment focuses on the anniversary celebration, making Answer A more factually consistent.<br>- Later acknowledges the mention of private businesses but argues it is speculative and limited compared to the extensive coverage of the anniversary.<br><br>expert_debater_mixtral_8_7B:<br>- Initially argues correctly that the segment supports Answer A about the Bay of Pigs anniversary celebration.<br>- However, in round 3, makes an incorrect claim that the story is about a NATO bombing in Afghanistan, which is not supported by any verified quotes.<br>- In round 4, contradicts their previous argument by claiming Answer A is more factually consistent, despite earlier arguing for Answer B.<br><br>2. Evaluating which answer is more likely correct:<br>- Answer A is supported by a verified quote directly mentioning the celebration of the Bay of Pigs anniversary victory.<br>- While the segment mentions private businesses, this appears to be a secondary focus compared to the extensive coverage of the anniversary celebration.<br>- There are no verified quotes directly supporting the specific claim of \"170,000 Cubans have private businesses\" in Answer B.<br><br>3. Based on the verified evidence presented, Answer A seems more factually consistent with the overall content described in the segment.<br><br>4. Final Answer: A<br>&lt;/thinking&gt;</td>\n",
       "    </tr>\n",
       "  </tbody>\n",
       "</table>"
      ],
      "text/plain": [
       "<IPython.core.display.HTML object>"
      ]
     },
     "metadata": {},
     "output_type": "display_data"
    },
    {
     "name": "stdout",
     "output_type": "stream",
     "text": [
      "invoke_claude_judge_debate :: transcript_filename >>>> /home/ec2-user/SageMaker/improve-factual-consistency-with-llm-debate-technique/transcripts/full_transcript_debate_CNN-173359_flipped_.log\n"
     ]
    },
    {
     "data": {
      "text/html": [
       "<table border=\"1\" class=\"dataframe\">\n",
       "  <thead>\n",
       "    <tr style=\"text-align: right;\">\n",
       "      <th></th>\n",
       "      <th>Debate ID</th>\n",
       "      <th>Round #</th>\n",
       "      <th>Task Question</th>\n",
       "      <th>Judge Response</th>\n",
       "    </tr>\n",
       "  </thead>\n",
       "  <tbody>\n",
       "    <tr>\n",
       "      <th>0</th>\n",
       "      <td>CNN-173359</td>\n",
       "      <td>1</td>\n",
       "      <td>Which one of these summaries is the most factually consistent one?<br> Answer A:The use of multiple drugs together, including Propofol, is not recommended outside of a hospital setting.<br> Answer B:Though Jackson was in good health, these sedatives and anesthetics stopped his breathing and led to his death.</td>\n",
       "      <td>&lt;thinking&gt;<br>1. Evaluating the arguments and verified quotes:<br><br>expert_debater_sonnet_v3's arguments:<br>- Relies heavily on the verified quote from Dr. Cain: &lt;v quote&gt;\"Propofol should not be used in home settings\"&lt;/v quote&gt;<br>- Emphasizes that the key issue was using Propofol and other sedatives together outside of a hospital setting, which is not recommended.<br>- Supports Answer A: \"The use of multiple drugs together, including Propofol, is not recommended outside of a hospital setting.\"<br><br>expert_debater_mixtral_8_7B's arguments:<br>- Cites the verified quote from Dr. Cain confirming the drugs found in Jackson's system, including Propofol.<br>- Highlights the large quantity of Propofol found, enough for \"500 people\" or \"almost two months\" of use.<br>- Argues that Jackson died due to an overdose of these drugs, supporting Answer B: \"Though Jackson was in good health, these sedatives and anesthetics stopped his breathing and led to his death.\"<br><br>2. Evaluating which answer is more likely correct:<br>- Both debaters provide valid points based on verified quotes from the expert, Dr. Cain.<br>- However, expert_debater_sonnet_v3's arguments focus more directly on Dr. Cain's central warning about the inappropriate use of Propofol and other sedatives outside of a hospital setting, which aligns closely with Answer A.<br>- While expert_debater_mixtral_8_7B highlights the role of the drug overdose in Jackson's death, the verified quotes do not explicitly state that Jackson was in good health, as mentioned in Answer B.<br><br>3. Based on the evidence presented and the verified quotes, Answer A seems to be the more factually consistent summary of Dr. Cain's statements.<br><br>Final Answer: A<br>&lt;/thinking&gt;</td>\n",
       "    </tr>\n",
       "  </tbody>\n",
       "</table>"
      ],
      "text/plain": [
       "<IPython.core.display.HTML object>"
      ]
     },
     "metadata": {},
     "output_type": "display_data"
    },
    {
     "name": "stdout",
     "output_type": "stream",
     "text": [
      "invoke_claude_judge_debate :: transcript_filename >>>> /home/ec2-user/SageMaker/improve-factual-consistency-with-llm-debate-technique/transcripts/full_transcript_debate_CNN-197627_flipped_.log\n"
     ]
    },
    {
     "data": {
      "text/html": [
       "<table border=\"1\" class=\"dataframe\">\n",
       "  <thead>\n",
       "    <tr style=\"text-align: right;\">\n",
       "      <th></th>\n",
       "      <th>Debate ID</th>\n",
       "      <th>Round #</th>\n",
       "      <th>Task Question</th>\n",
       "      <th>Judge Response</th>\n",
       "    </tr>\n",
       "  </thead>\n",
       "  <tbody>\n",
       "    <tr>\n",
       "      <th>0</th>\n",
       "      <td>CNN-197627</td>\n",
       "      <td>1</td>\n",
       "      <td>Which one of these summaries is the most factually consistent one?<br> Answer A:The document mentions that President Obama will be attending an interfaith vigil in Newtown, Connecticut to provide comfort to the families and first responders affected by the shooting at Sandy Hook Elementary School.<br> Answer B:Connecticut police confirmed Adam Lanza fired hundreds of bullets, killing 26.</td>\n",
       "      <td>&lt;thinking&gt;<br>1. Evaluating the arguments:<br>- expert_debater_sonnet_v3 provides verified quotes that directly support Answer A about President Obama attending an interfaith vigil in Newtown to comfort families affected by the Sandy Hook shooting. These quotes seem trustworthy and relevant to the question.<br>- expert_debater_mixtral_8_7B provides one verified quote that directly supports Answer B about Adam Lanza firing hundreds of bullets and killing 26 people. This quote is factually accurate but narrowly focused on shooting details.<br><br>2. Considering which answer is more likely correct:<br>- Answer A captures a key aspect of the story - President Obama's visit and the interfaith vigil, which the verified quotes suggest is a central focus of the narrative.<br>- Answer B is factually accurate based on the verified quote but seems to miss the broader context and focus of the story on Obama's visit and the vigil.<br>- The question asks for the \"most factually consistent\" summary, not necessarily the most significant or newsworthy detail.<br>- However, a summary that captures the overall narrative and key focus is likely to be more factually consistent with the story as a whole.<br><br>3. Based on the verified evidence presented, Answer A seems to provide a more complete and factually consistent summary of the story by capturing its central focus on President Obama's upcoming visit and the interfaith vigil, while also being consistent with the shooting details mentioned in Answer B.<br><br>Final Answer: A<br>&lt;/thinking&gt;</td>\n",
       "    </tr>\n",
       "  </tbody>\n",
       "</table>"
      ],
      "text/plain": [
       "<IPython.core.display.HTML object>"
      ]
     },
     "metadata": {},
     "output_type": "display_data"
    },
    {
     "name": "stdout",
     "output_type": "stream",
     "text": [
      "invoke_claude_judge_debate :: transcript_filename >>>> /home/ec2-user/SageMaker/improve-factual-consistency-with-llm-debate-technique/transcripts/full_transcript_debate_CNN-201245_flipped_.log\n"
     ]
    },
    {
     "data": {
      "text/html": [
       "<table border=\"1\" class=\"dataframe\">\n",
       "  <thead>\n",
       "    <tr style=\"text-align: right;\">\n",
       "      <th></th>\n",
       "      <th>Debate ID</th>\n",
       "      <th>Round #</th>\n",
       "      <th>Task Question</th>\n",
       "      <th>Judge Response</th>\n",
       "    </tr>\n",
       "  </thead>\n",
       "  <tbody>\n",
       "    <tr>\n",
       "      <th>0</th>\n",
       "      <td>CNN-201245</td>\n",
       "      <td>1</td>\n",
       "      <td>Which one of these summaries is the most factually consistent one?<br> Answer A:New York City Mayor Michael Bloomberg is planning to ban the use of Styrofoam in stores and restaurants due to environmental concerns.<br> Answer B:What is the proposed ban on Styrofoam in stores?</td>\n",
       "      <td>&lt;thinking&gt;<br>1. Evaluating the arguments and verified quotes:<br>- The only verified quote is: &lt;v quote&gt;\"Now, Mayor Michael Bloomberg is out to ban Styrofoam food packaging in stores. It's actually not Styrofoam technically, it's plastic foam. He's looking to ban that in stores and food restaurants.\"&lt;/v quote&gt;<br>- This quote directly supports Answer B (\"What is the proposed ban on Styrofoam in stores?\") by stating that Bloomberg is proposing to ban plastic foam packaging in stores.<br>- The quote also mentions restaurants, but Answer B does not explicitly contradict this by saying the ban is only for stores.<br>- Answer A (\"New York City Mayor Michael Bloomberg is planning to ban the use of Styrofoam in stores and restaurants due to environmental concerns.\") goes beyond the verified quote by specifying the reason as environmental concerns, which is not stated in the quote.<br><br>2. Thinking step-by-step about the correct answer:<br>- The verified quote provides factual evidence about the proposed ban on plastic foam packaging in stores.<br>- While the quote also mentions restaurants, Answer B does not definitively exclude restaurants from the proposed ban.<br>- Answer A makes an additional claim about the reason being environmental concerns, which is not supported by the verified quote.<br>- Therefore, based on the verified quote, Answer B is more factually consistent as it accurately reflects the proposed ban in stores without making unsupported claims about the reason or including restaurants.<br><br>3. The answer I choose as correct is Answer B: \"What is the proposed ban on Styrofoam in stores?\"<br><br>4. Final Answer: B<br>&lt;/thinking&gt;</td>\n",
       "    </tr>\n",
       "  </tbody>\n",
       "</table>"
      ],
      "text/plain": [
       "<IPython.core.display.HTML object>"
      ]
     },
     "metadata": {},
     "output_type": "display_data"
    },
    {
     "name": "stdout",
     "output_type": "stream",
     "text": [
      "invoke_claude_judge_debate :: transcript_filename >>>> /home/ec2-user/SageMaker/improve-factual-consistency-with-llm-debate-technique/transcripts/full_transcript_debate_CNN-229050_flipped_.log\n"
     ]
    },
    {
     "data": {
      "text/html": [
       "<table border=\"1\" class=\"dataframe\">\n",
       "  <thead>\n",
       "    <tr style=\"text-align: right;\">\n",
       "      <th></th>\n",
       "      <th>Debate ID</th>\n",
       "      <th>Round #</th>\n",
       "      <th>Task Question</th>\n",
       "      <th>Judge Response</th>\n",
       "    </tr>\n",
       "  </thead>\n",
       "  <tbody>\n",
       "    <tr>\n",
       "      <th>0</th>\n",
       "      <td>CNN-229050</td>\n",
       "      <td>1</td>\n",
       "      <td>Which one of these summaries is the most factually consistent one?<br> Answer A:The physician describes the phenomenon that saved the boy's life as a perfect storm of disaster that allowed him to survive by slowing down his body's need for oxygen and putting him in a frozen state until his oxygen was replenished.<br> Answer B:He is shocked that the recent 15-year-old stowaway survived with no lasting side effects.</td>\n",
       "      <td>&lt;thinking&gt;<br>1. Evaluating the arguments and verified quotes:<br><br>expert_debater_sonnet_v3's arguments:<br>- Relies heavily on unverified quotes like \"perfect storm of disaster\", \"slowing down your body's need for oxygen\", and \"suspended in time until your oxygen is replenished\". These cannot be fully trusted without verification.<br>- The only verified quote is: &lt;v quote&gt;\"puts you in a frozen or some people termed it as a suspended state\"&lt;/v quote&gt;. This supports the idea of the boy entering a suspended state, but does not fully confirm Answer A's description of the phenomenon.<br><br>expert_debater_mixtral_8_7B's arguments:<br>- Uses the verified quote: &lt;v quote&gt;\"I thought in my lifetime I would never even hear of another case like this, let alone hear of a case where the gentleman who was a stowaway walks away from the incident.\"&lt;/v quote&gt; This directly supports the doctor's shock at the stowaway surviving without lasting side effects, as stated in Answer B.<br>- Also cites the verified quote: &lt;v quote&gt;\"Back in 2000, the patient that rolled in by paramedics was not in the same state as this young boy this year. He was literally frozen, almost cartoonishly frozen.\"&lt;/v quote&gt; This contrasts the 2000 case with the recent one, further supporting the remarkable nature of the 15-year-old's survival without side effects.<br><br>2. Evaluating which answer is more likely correct:<br>Answer A provides a detailed physiological explanation, but relies heavily on unverified quotes that cannot be fully trusted. The one verified quote supports the idea of a suspended state, but does not confirm all the specifics described in Answer A.<br><br>Answer B is more directly supported by the verified quotes, which clearly show the doctor's shock at the stowaway surviving without lasting side effects, and contrast this case with the 2000 one where the stowaway was in critical condition.<br><br>3. Based on the evidence presented and the verified quotes, Answer B seems more likely to be the correct, factually consistent summary.<br><br>4. Final Answer: B<br>&lt;/thinking&gt;</td>\n",
       "    </tr>\n",
       "  </tbody>\n",
       "</table>"
      ],
      "text/plain": [
       "<IPython.core.display.HTML object>"
      ]
     },
     "metadata": {},
     "output_type": "display_data"
    },
    {
     "name": "stdout",
     "output_type": "stream",
     "text": [
      "invoke_claude_judge_debate :: transcript_filename >>>> /home/ec2-user/SageMaker/improve-factual-consistency-with-llm-debate-technique/transcripts/full_transcript_debate_CNN-239067_flipped_.log\n"
     ]
    },
    {
     "data": {
      "text/html": [
       "<table border=\"1\" class=\"dataframe\">\n",
       "  <thead>\n",
       "    <tr style=\"text-align: right;\">\n",
       "      <th></th>\n",
       "      <th>Debate ID</th>\n",
       "      <th>Round #</th>\n",
       "      <th>Task Question</th>\n",
       "      <th>Judge Response</th>\n",
       "    </tr>\n",
       "  </thead>\n",
       "  <tbody>\n",
       "    <tr>\n",
       "      <th>0</th>\n",
       "      <td>CNN-239067</td>\n",
       "      <td>1</td>\n",
       "      <td>Which one of these summaries is the most factually consistent one?<br> Answer A:Currency uncertainty would be a major issue in the event of a yes vote in the Scotland referendum on independence.<br> Answer B:Currency uncertainty would arise in the event of a yes vote in the Scottish referendum, with questions about what currency would be used and how long it would take to establish credibility.</td>\n",
       "      <td>&lt;thinking&gt;<br>1. Evaluating the arguments:<br>- expert_debater_sonnet_v3 relies on the verified quote from Kenneth Rogoff: &lt;v quote&gt;When you got through with this divorce, suddenly you don\\'t have the currency. What currency do you have? That\\'s one of the first questions people will have, it\\'s one of the first questions investors have.&lt;/v quote&gt; This quote supports the idea that currency uncertainty would be a major issue for an independent Scotland.<br>- expert_debater_mixtral_8_7B also uses the same verified quote from Rogoff, but argues that it shows there are specific questions about what currency would be used and how to establish credibility, which Answer B captures.<br>- Both debaters use unverified quotes that cannot be fully trusted.<br><br>2. Analyzing the answers:<br>- Answer A: \"Currency uncertainty would be a major issue in the event of a yes vote in the Scotland referendum on independence.\" This answer is supported by Rogoff's verified quote, which highlights the uncertainty around currency as a major issue.<br>- Answer B: \"Currency uncertainty would arise in the event of a yes vote in the Scottish referendum, with questions about what currency would be used and how long it would take to establish credibility.\" This answer is also supported by Rogoff's quote, as it raises specific questions about the currency and establishing credibility.<br><br>However, Rogoff's quote seems to emphasize the overall currency uncertainty as the major issue, rather than just the specific questions raised. Answer A captures this core point more directly.<br><br>3. Answer chosen as correct: Answer A<br><br>4. Final Answer: A<br>&lt;/thinking&gt;</td>\n",
       "    </tr>\n",
       "  </tbody>\n",
       "</table>"
      ],
      "text/plain": [
       "<IPython.core.display.HTML object>"
      ]
     },
     "metadata": {},
     "output_type": "display_data"
    },
    {
     "name": "stdout",
     "output_type": "stream",
     "text": [
      "[True, True, True, True, True, True, True, False, False, True]\n",
      "CPU times: user 130 ms, sys: 9.11 ms, total: 139 ms\n",
      "Wall time: 3min 6s\n"
     ]
    }
   ],
   "source": [
    "%%time\n",
    "\n",
    "debate_judge_flipped_answers = list()\n",
    "for index, row in final_dataset.iterrows():\n",
    "    time.sleep(10) # avoid throttling exceptions\n",
    "    debate_id = row['doc_id']\n",
    "    answer_a = row['summ_sent_correct_manual']\n",
    "    answer_b = row['summ_sent_incorrect_original']\n",
    "    complete_interview_transcript = row['source']\n",
    "    logger.info(f\"-------------DEBATE FLIPPED JUDGE Debate_id {debate_id}-------------------\")\n",
    "\n",
    "    judge_response = invoke_claude_judge_debate(debate_id = debate_id + FLIPPED_FILE_SUFFIX,\n",
    "                              question=question,\n",
    "                              answer_a = answer_a,\n",
    "                              answer_b = answer_b)\n",
    "    debate_judge_flipped_answers.append(extract_final_answer(judge_response, flipped=False))\n",
    "    logger.info(f\" >>>>> Flipped invoke_mistral_judge_debate - judge_response  >>>>> {judge_response}\")\n",
    "    \n",
    "    # Print the final response \n",
    "    format_final_response(debate_id, \n",
    "                          round_num=1, \n",
    "                          question=question, \n",
    "                          answer_a=answer_a, \n",
    "                          answer_b=answer_b, \n",
    "                          judge_response=judge_response)\n",
    "print(debate_judge_flipped_answers)"
   ]
  },
  {
   "cell_type": "markdown",
   "id": "bafd391f-2c5b-4385-84d9-38da4515699f",
   "metadata": {},
   "source": [
    "## <a name=\"4\">Accuracy of LLM Debate</a>\n",
    "(<a href=\"#0\">Go to top</a>)"
   ]
  },
  {
   "cell_type": "code",
   "execution_count": 13,
   "id": "3dee9e72-42c2-4963-a68c-60941c472e29",
   "metadata": {
    "tags": []
   },
   "outputs": [
    {
     "data": {
      "text/plain": [
       "[False, True, False, False, False, True, False, False, False, False]"
      ]
     },
     "execution_count": 13,
     "metadata": {},
     "output_type": "execute_result"
    }
   ],
   "source": [
    "debate_judge_regular_answers"
   ]
  },
  {
   "cell_type": "code",
   "execution_count": 14,
   "id": "26b689ae-7377-41db-afce-c80bf65fc1f9",
   "metadata": {
    "tags": []
   },
   "outputs": [
    {
     "data": {
      "text/plain": [
       "[True, True, True, True, True, True, True, False, False, True]"
      ]
     },
     "execution_count": 14,
     "metadata": {},
     "output_type": "execute_result"
    }
   ],
   "source": [
    "debate_judge_flipped_answers"
   ]
  },
  {
   "cell_type": "code",
   "execution_count": 15,
   "id": "c47c3faa-1ddd-4f7b-864f-efac1c23a155",
   "metadata": {
    "tags": []
   },
   "outputs": [],
   "source": [
    "accuracy_debate_judge = find_num_matching_elements(debate_judge_regular_answers, debate_judge_flipped_answers)/total_data_points"
   ]
  },
  {
   "cell_type": "code",
   "execution_count": 16,
   "id": "6f13e301-ce93-49d5-ab48-430245eff5b2",
   "metadata": {
    "tags": []
   },
   "outputs": [
    {
     "data": {
      "text/plain": [
       "0.4"
      ]
     },
     "execution_count": 16,
     "metadata": {},
     "output_type": "execute_result"
    }
   ],
   "source": [
    "accuracy_debate_judge"
   ]
  },
  {
   "cell_type": "code",
   "execution_count": 17,
   "id": "ab6f33fc-52aa-442a-bc76-ed55f15d560f",
   "metadata": {},
   "outputs": [
    {
     "name": "stdout",
     "output_type": "stream",
     "text": [
      "{'accuracy_naive_judge': 0.2, 'accuracy_expert_judge': 0.4, 'accuracy_consultant_judge': 0.4, 'accuracy_debate_judge': 0.4}\n",
      "notebook results saved in results folder\n"
     ]
    }
   ],
   "source": [
    "# save the results\n",
    "results_dict = {\"accuracy_debate_judge\" : accuracy_debate_judge}\n",
    "save_each_experiment_result(results_dict)\n",
    "print(\"notebook results saved in results folder\")"
   ]
  },
  {
   "cell_type": "markdown",
   "id": "50fbd255-a593-438f-a44f-fce489056f26",
   "metadata": {},
   "source": [
    "## <a name=\"5\">Compare Accuracies across experiments/methods.</a>\n",
    "(<a href=\"#0\">Go to top</a>)"
   ]
  },
  {
   "cell_type": "markdown",
   "id": "ff97c205-fa79-4c09-b115-0cd3e9cae864",
   "metadata": {},
   "source": [
    "Here we compare the accuracies of each method/experiment to understand"
   ]
  },
  {
   "cell_type": "code",
   "execution_count": 18,
   "id": "39472b99-25dc-4d47-8242-450df4c13559",
   "metadata": {
    "tags": []
   },
   "outputs": [
    {
     "name": "stdout",
     "output_type": "stream",
     "text": [
      "{'accuracy_naive_judge': 0.2, 'accuracy_expert_judge': 0.4, 'accuracy_consultant_judge': 0.4, 'accuracy_debate_judge': 0.4}\n",
      "{'accuracy_naive_judge': 0.2, 'accuracy_expert_judge': 0.4, 'accuracy_consultant_judge': 0.4, 'accuracy_debate_judge': 0.4}\n",
      "{'accuracy_naive_judge': 0.2, 'accuracy_expert_judge': 0.4, 'accuracy_consultant_judge': 0.4, 'accuracy_debate_judge': 0.4}\n"
     ]
    },
    {
     "data": {
      "text/html": [
       "<table border=\"1\" class=\"dataframe\">\n",
       "  <thead>\n",
       "    <tr style=\"text-align: right;\">\n",
       "      <th></th>\n",
       "      <th>Naive Judge</th>\n",
       "      <th>Expert Judge</th>\n",
       "      <th>LLM Consultancy</th>\n",
       "      <th>LLM Debate</th>\n",
       "    </tr>\n",
       "  </thead>\n",
       "  <tbody>\n",
       "    <tr>\n",
       "      <th>0</th>\n",
       "      <td>0.2</td>\n",
       "      <td>0.4</td>\n",
       "      <td>0.4</td>\n",
       "      <td>0.4</td>\n",
       "    </tr>\n",
       "  </tbody>\n",
       "</table>"
      ],
      "text/plain": [
       "<IPython.core.display.HTML object>"
      ]
     },
     "metadata": {},
     "output_type": "display_data"
    }
   ],
   "source": [
    "accuracy_naive_judge = get_each_experiment_result(\"accuracy_naive_judge\")\n",
    "accuracy_expert_judge = get_each_experiment_result(\"accuracy_expert_judge\")\n",
    "accuracy_consultant_judge = get_each_experiment_result(\"accuracy_consultant_judge\")\n",
    "\n",
    "final_accuracy_comparison(\n",
    "    accuracy_naive_judge = accuracy_naive_judge,\n",
    "    accuracy_expert_judge = accuracy_expert_judge,\n",
    "    accuracy_consultant_judge = accuracy_consultant_judge,\n",
    "    accuracy_debate_judge = accuracy_debate_judge\n",
    ")"
   ]
  },
  {
   "cell_type": "code",
   "execution_count": 19,
   "id": "3e751a8d-fd46-4192-b100-655e8342ffe1",
   "metadata": {
    "tags": []
   },
   "outputs": [
    {
     "data": {
      "image/png": "[encoded data removed]",
      "text/plain": [
       "<Figure size 640x480 with 1 Axes>"
      ]
     },
     "metadata": {},
     "output_type": "display_data"
    }
   ],
   "source": [
    "# Build the plot\n",
    "x_values = [ \"Naive Judge\", \"Expert Judge\", \"LLM Consultant\", \"LLM Debate\"]\n",
    "y_values = [ accuracy_naive_judge, accuracy_expert_judge, accuracy_consultant_judge, accuracy_debate_judge]\n",
    "plt.bar(x_values, y_values)\n",
    "plt.title('Compare Accuracies across experiments')\n",
    "plt.xlabel('Experiment Type')\n",
    "plt.ylabel('Accuracy')\n",
    " \n",
    "plt.show()"
   ]
  },
  {
   "cell_type": "markdown",
   "id": "19b11eae-cb6b-4196-a91e-56b2f3c4b076",
   "metadata": {},
   "source": [
    "### <a name=\"6\">Choose expert LLM using Win Rate measured during LLM Debate (Experiment 4) </a>\n",
    "(<a href=\"#0\">Go to top</a>)"
   ]
  },
  {
   "cell_type": "markdown",
   "id": "e0682b92-dcda-4949-b9ac-49c027e18226",
   "metadata": {},
   "source": [
    "With this win rate of expert models, we emprically understand which LLM as a debater is more successful than the other."
   ]
  },
  {
   "cell_type": "code",
   "execution_count": 20,
   "id": "2cc2b8aa-0335-4d8a-811d-9da60dd69826",
   "metadata": {
    "tags": []
   },
   "outputs": [
    {
     "name": "stdout",
     "output_type": "stream",
     "text": [
      "most_common_regular_value =False , regular_count = 8\n",
      "most_common_flipped_value =True , flipped_count = 8\n",
      "\n",
      " claude_regular_win_rate :: 0.8 \n",
      "                \n",
      " mistral_regular_win_rate :: 0.19999999999999996 \n",
      "                \n",
      " claude_flipped_win_rate :: 0.8\n",
      "                \n",
      " mistral_flipped_win_rate :: 0.19999999999999996 \n"
     ]
    }
   ],
   "source": [
    "claude_avg_win_rate, mixtral_avg_win_rate = get_win_rate_per_model(\n",
    "    debate_judge_regular_answers, \n",
    "    debate_judge_flipped_answers)"
   ]
  },
  {
   "cell_type": "code",
   "execution_count": 21,
   "id": "d719aa86-ca8b-436a-8b6d-9ca1a3ba08db",
   "metadata": {
    "tags": []
   },
   "outputs": [
    {
     "data": {
      "text/html": [
       "<table border=\"1\" class=\"dataframe\">\n",
       "  <thead>\n",
       "    <tr style=\"text-align: right;\">\n",
       "      <th></th>\n",
       "      <th>Claude Win Rate</th>\n",
       "      <th>Mixtral Win Rate</th>\n",
       "    </tr>\n",
       "  </thead>\n",
       "  <tbody>\n",
       "    <tr>\n",
       "      <th>0</th>\n",
       "      <td>0.8</td>\n",
       "      <td>0.2</td>\n",
       "    </tr>\n",
       "  </tbody>\n",
       "</table>"
      ],
      "text/plain": [
       "<IPython.core.display.HTML object>"
      ]
     },
     "metadata": {},
     "output_type": "display_data"
    }
   ],
   "source": [
    "win_rate_comparison(claude_avg_win_rate, mixtral_avg_win_rate)"
   ]
  },
  {
   "cell_type": "code",
   "execution_count": 22,
   "id": "cc1319a9-e85c-4d29-92d7-60acd1a21e51",
   "metadata": {
    "tags": []
   },
   "outputs": [
    {
     "data": {
      "image/png": "[encoded data removed]",
      "text/plain": [
       "<Figure size 640x480 with 1 Axes>"
      ]
     },
     "metadata": {},
     "output_type": "display_data"
    }
   ],
   "source": [
    "# Build the plot\n",
    "%matplotlib inline\n",
    "x_values = [ \"Claude v3 Sonnet\", \"Mixtral\"]\n",
    "y_values = [claude_avg_win_rate, mixtral_avg_win_rate]\n",
    "plt.bar(x_values, y_values)\n",
    "plt.title('Compare average win-rate across expert LLMs')\n",
    "plt.xlabel('average win-rate')\n",
    "plt.ylabel('win-rate')\n",
    " \n",
    "plt.show()"
   ]
  }
 ],
 "metadata": {
  "kernelspec": {
   "display_name": "conda_python3",
   "language": "python",
   "name": "conda_python3"
  },
  "language_info": {
   "codemirror_mode": {
    "name": "ipython",
    "version": 3
   },
   "file_extension": ".py",
   "mimetype": "text/x-python",
   "name": "python",
   "nbconvert_exporter": "python",
   "pygments_lexer": "ipython3",
   "version": "3.10.15"
  }
 },
 "nbformat": 4,
 "nbformat_minor": 5
}
