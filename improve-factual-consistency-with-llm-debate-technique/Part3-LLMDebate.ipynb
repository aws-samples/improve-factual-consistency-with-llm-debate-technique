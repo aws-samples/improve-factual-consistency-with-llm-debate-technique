{
 "cells": [
  {
   "cell_type": "markdown",
   "id": "604ee77c-0e19-4a36-9f70-e8ab02cfaf54",
   "metadata": {},
   "source": [
    "<center><img src=\"images/MLU-NEW-logo.png\" alt=\"drawing\" width=\"400\" style=\"background-color:white; padding:1em;\" /></center> <br/>\n",
    "\n",
    "\n",
    "# <a name=\"0\">Improve Factual Consistency Part 3 </a>\n",
    "## <a name=\"0\">Improving Factual Consistency and Explainability using LLM Debates </a>\n",
    "\n",
    "### Glossary of Terms\n",
    "- Naive Judge : This LLM has **no** access to transcript but only question and two summaries. Measure the baseline performance.\n",
    "- Expert Judge : This LLM has access to transcript along with question and two summaries\n",
    "- Question asked to LLM (in all experiments): It is always the same: `Which one of these summaries is the most factually consistent one?`\n",
    "\n",
    "## Dataset\n",
    "Our dataset is distilled from the Amazon Science evaluation benchmark dataset called <a href=\"https://github.com/amazon-science/tofueval\">TofuEval</a>. 10 summaries have been curated from the [MediaSum documents](https://github.com/zcgzcgzcg1/MediaSum) inside the tofueval dataset for this notebook. \n",
    "\n",
    "MediaSum is a large-scale media interview dataset contains 463.6K transcripts with abstractive summaries, collected from interview transcripts and overview / topic descriptions from NPR and CNN.\n",
    "\n",
    "\n",
    "## Notebook Overview\n",
    "\n",
    "In this notebook, we navigate the LLM debating technique with more persuasive LLMs having two expert debater LLMs (Claude and Mixtral) and one judge (using Claude - we can use others like Mistral/Mixtral, Titan Premier) to measure, compare and contrast its performance against other techniques like self-consistency (with naive and expert judges) and LLM consultancy. This notebook is an adapted and partial implementation of one of the ICML 2024 best papers, <a href=\"https://arxiv.org/pdf/2402.06782\"> Debating with More Persuasive LLMs Leads to More Truthful Answers </a> on a new and different Amazon Science evaluation dataset <a href=\"https://github.com/amazon-science/tofueval\">TofuEval</a>. \n",
    "\n",
    "\n",
    "- Part 1.  Demonstrate typical Standalone LLM approach\n",
    "\n",
    "- Part 2.  Demonstrate the LLM Consultancy approach and compare with Part 1.\n",
    "\n",
    "- Part 3.  **[THIS notebook]**  Demonstrate the LLM Debate approach and compare with other methods.\n",
    "\n",
    "\n",
    "<div style=\"border: 4px solid coral; text-align: left; margin: auto; padding-left: 20px; padding-right: 20px\">\n",
    "    While this notebook(part 1, 2 and 3) compares various methods and demonstrates the efficacy of LLM Debates in notebook part 3 with a supervised dataset, the greater benefit is possible in unsupervised scenarios where ground truth is unknown and ground truth alignment and/or curation is required. Human annotation can be expensive plus slow and agreement amongst human annotators adds another level of intricacy. A possible `scalable oversight direction could be this LLM debating technique to align on the ground truth options` via this debating and critique mechanism by establishing factual consistency(veracity). This alignment and curation of ground truth for unsupervised data could be a possible win direction for the debating technique in terms of cost versus benefit analysis.\n",
    "</div>\n",
    "<br/>\n",
    "\n",
    "\n",
    "#### Notebook Kernel\n",
    "Please choose `conda_python3` as the kernel type of the top right corner of the notebook if that does not appear by default.\n",
    "\n",
    "\n",
    "## LLM Access\n",
    "\n",
    "We will need access to Anthropic Claude v3 Sonnet, Mistral 7b and  Mixtral 8x7b LLMs for this notebook.\n",
    "\n",
    "[Anthropic Claude v3(Sonnet)](https://www.anthropic.com/news/claude-3-family) , [Mixtral 8X7B](https://mistral.ai/news/mixtral-of-experts/), [Mistral 7B](https://mistral.ai/news/announcing-mistral-7b/) - all of them pre-trained on general text summarization tasks.\n",
    "\n",
    "## Use-Case Overview\n",
    "\n",
    "To demonstrate the measurement and improvement of factual consistency (veracity) with explainability in this notebook, we conduct a series of experiments to choose the best summary for each transcript. In each experiment, we measure the veracity and correctness of the summaries generated from transcripts and improve upon the decision to choose the correct one via methods like LLM consultancy and LLM debates.\n",
    "\n",
    "The <b>overall task in this notebook</b> is choose which one of the two summaries is most appropriate for a given transcript. There are a total of 10 transcripts and each transcript has 2 summaries - one correct and other incorrect. The incorrect summaries have various classes of errors like `Nuanced Meaning Shift`, `Extrinsic Information` and  `Reasoning errors`. \n",
    "\n",
    "In this notebook we will conduct the following set of experiment combinations to measure, compare and contrast LLM debating techniques with others.\n",
    "\n",
    "\n",
    "## Experiments\n",
    "For each of these experiments we flip the side of the argument the LLM takes to account for `position bias` and `verbosity bias` and re-run each experiment.\n",
    "\n",
    "**Note** We always use the same Judge LLM (Mistral 7B) across all the experiments in this notebook\n",
    "\n",
    "\n",
    "---\n",
    "\n",
    "### Experiment 4: (LLM Debate) \n",
    "<center><img src=\"images/veracitylab01-llm-debate.png\" alt=\"In this image, we depict the flow of LLM Debate. First Debater LLMs like Claude and Mixtral argue their side\n",
    "based on transcript contents. Next each argument is saved to a file and\n",
    "the next debater picks up the entire argument history before posting their next argument. Finally, once all 3 rounds of arguments are over, the Judge LLM reads all the arguments and decides which summary is the most factually consistent answer.\"  height=\"700\" width=\"700\" style=\"background-color:white; padding:1em;\" /></center> <br/>\n",
    "\n",
    "We use Claude 3 as first debater and Mixtral as second debater with Claude as Judge. We let the debater argue their sides and finally let the judge decide which argument is better. This continues for N(=3 in this notebook) rounds. We flip Claude and Mistral argument sides in experiments 4a and 4b and take average of the experiment results as final accuracy. This accounts for errors due to position (choosing an answer due to its order/position) and verbosity bias (one answer longer than the other)\n",
    "\n",
    "##### Experiment 4a: (Claude v3 argues for answer A, Mixtral argues for Answer B): \n",
    "Claude v3(Sonnet) argues for answer A(Ground Truth:False Answer) and generates rationale why that answer is correct. Mixtral 8X7B argues for answer B(Ground Truth:True Answer) and generates rationale why that answer is correct. This continues for N(=3 in this notebook) rounds. At the end of the debate, Claude as a judge adjudicates whether Claude's or Mixtral's rationale is correct and chooses a side to give the final answer.\n",
    "\n",
    "#####  Experiment 4b: (Claude v3 argues for answer B, Mixtral argues for Answer A): \n",
    "Claude v3(Sonnet) argues for answer B(Ground Truth:True Answer) and generates rationale why that answer is correct. Mixtral 8X7B argues for answer A(Ground Truth:False Answer) and generates rationale why that answer is correct. This continues for N(=3 in this notebook) rounds. At the end of the debate, Claude as a judge adjudicates whether Claude's or Mixtral's rationale is correct and chooses a side to give the final answer.\n",
    "\n",
    "---\n",
    "## Evaluation Metrics\n",
    "For each type of experiment we evaluate the accuracy of the answers for that experiment/method type to compare and contrast each method at the end.\n",
    "\n",
    "For the final experiment on LLM Debate, we also calculate the `win rate` of the LLM debaters to evaluate which of the LLMs actually got most of the answers right as adjudicated by the judge. This can be considered a mechanism to choose one LLM over the other given this use-case.\n",
    "\n",
    "---\n",
    "\n",
    "\n",
    "This notebook notebook has the following sections:\n",
    "\n",
    "1. <a href=\"#1\">Dataset exploration</a>\n",
    "2. <a href=\"#2\">Accuracy of LLM Debate</a>\n",
    "3. <a href=\"#3\">Compare Accuracies across experiments</a>\n",
    "4. <a href=\"#4\">Choose expert LLM using Win Rate measured during LLM Debate (Experiment 4) </a>\n",
    "5. <a href=\"#5\">Challenge exercise and notebook quiz</a>\n",
    "    \n",
    "Please work top to bottom of this notebook and don't skip sections as this could lead to error messages due to missing code.\n",
    "\n",
    "---"
   ]
  },
  {
   "cell_type": "code",
   "execution_count": 1,
   "id": "7190cc0d-ec7d-42c4-bd87-f301e6db48b0",
   "metadata": {},
   "outputs": [],
   "source": [
    "%%capture\n",
    "!pip3 install setuptools==70.0.0"
   ]
  },
  {
   "cell_type": "code",
   "execution_count": 2,
   "id": "3e2ad2f4-b720-48b9-bb5a-7b99bcafce8d",
   "metadata": {
    "tags": []
   },
   "outputs": [],
   "source": [
    "%%capture\n",
    "!pip install -q -U pip --root-user-action=ignore\n",
    "!pip3 install -q -r requirements.txt --root-user-action=ignore"
   ]
  },
  {
   "cell_type": "code",
   "execution_count": 3,
   "id": "7f8e6507-fc9a-4f1f-8535-7e2deb20a9a6",
   "metadata": {
    "tags": []
   },
   "outputs": [
    {
     "name": "stdout",
     "output_type": "stream",
     "text": [
      "The autoreload extension is already loaded. To reload it, use:\n",
      "  %reload_ext autoreload\n"
     ]
    }
   ],
   "source": [
    "# We load all prompts from a separate file prompts.py\n",
    "%load_ext autoreload\n",
    "%autoreload 2\n",
    "from prompts import *\n",
    "\n",
    "%load_ext autoreload\n",
    "%autoreload 2\n",
    "from mlu_utils.veracity_utils import *"
   ]
  },
  {
   "cell_type": "code",
   "execution_count": 4,
   "id": "f573ddc8-9290-484c-86f9-f16531648cac",
   "metadata": {
    "tags": []
   },
   "outputs": [
    {
     "name": "stdout",
     "output_type": "stream",
     "text": [
      "clear_file_contents dir :: <built-in function dir>\n"
     ]
    }
   ],
   "source": [
    "clean_up_files_in_dir(\"./transcripts\")\n",
    "clear_file_contents(\"./log_files/notebook_run_logs.log\")"
   ]
  },
  {
   "cell_type": "code",
   "execution_count": 5,
   "id": "a3c84b37-369c-405c-ac08-23be8dbb61a1",
   "metadata": {
    "tags": []
   },
   "outputs": [],
   "source": [
    "import boto3\n",
    "import re, time\n",
    "import random\n",
    "import numpy as np\n",
    "from collections import Counter\n",
    "import matplotlib.pyplot as plt\n",
    "%matplotlib inline\n",
    "\n",
    "from langchain.llms.bedrock import Bedrock\n",
    "from langchain.prompts import PromptTemplate\n",
    "from IPython.display import Markdown\n",
    "from collections import Counter\n",
    "\n",
    "from IPython.display import Markdown, display\n",
    "import logging\n",
    "import boto3, warnings\n",
    "import pandas as pd\n",
    "# Supress warnings\n",
    "warnings.filterwarnings(\"ignore\")\n",
    "logging.basicConfig(filename='log_files/notebook_run_logs.log', encoding='utf-8', level=logging.INFO)\n",
    "logger = logging.getLogger(__name__)\n",
    "logger.info(\"----- Test logging setup -----\")\n"
   ]
  },
  {
   "cell_type": "markdown",
   "id": "19bd02d8-4595-48de-b0cd-394002cbc17a",
   "metadata": {},
   "source": [
    "### Bedrock Model Access check"
   ]
  },
  {
   "cell_type": "code",
   "execution_count": null,
   "id": "b42bd90d-9cee-4534-90a4-c41bd2c07b1d",
   "metadata": {},
   "outputs": [],
   "source": [
    "#test if all bedrock model access has been enabled \n",
    "test_llm_calls()"
   ]
  },
  {
   "cell_type": "markdown",
   "id": "8a9c14a1-7d5b-48dc-a4a0-5c5e0a205f57",
   "metadata": {},
   "source": [
    "### Constants used in this notebook"
   ]
  },
  {
   "cell_type": "code",
   "execution_count": 6,
   "id": "dcf134bf-7fbd-4c70-a84c-4b077f79f2a6",
   "metadata": {
    "tags": []
   },
   "outputs": [],
   "source": [
    "number_of_rounds = 3\n",
    "question = \"Which one of these summaries is the most factually consistent one?\"\n",
    "total_data_points = 10"
   ]
  },
  {
   "cell_type": "markdown",
   "id": "7829f829-7d19-420c-85ea-0e5c370304e0",
   "metadata": {
    "tags": []
   },
   "source": [
    "### <a name=\"1\">Dataset Exploration</a>\n",
    "(<a href=\"#0\">Go to top</a>)\n"
   ]
  },
  {
   "cell_type": "code",
   "execution_count": 7,
   "id": "b67d79c9-c30d-4daa-9d25-4dac7de60e2b",
   "metadata": {
    "tags": []
   },
   "outputs": [
    {
     "data": {
      "text/html": [
       "<div>\n",
       "<style scoped>\n",
       "    .dataframe tbody tr th:only-of-type {\n",
       "        vertical-align: middle;\n",
       "    }\n",
       "\n",
       "    .dataframe tbody tr th {\n",
       "        vertical-align: top;\n",
       "    }\n",
       "\n",
       "    .dataframe thead th {\n",
       "        text-align: right;\n",
       "    }\n",
       "</style>\n",
       "<table border=\"1\" class=\"dataframe\">\n",
       "  <thead>\n",
       "    <tr style=\"text-align: right;\">\n",
       "      <th></th>\n",
       "      <th>doc_id</th>\n",
       "      <th>topic</th>\n",
       "      <th>summ_sent_incorrect_original</th>\n",
       "      <th>summ_sent_correct_manual</th>\n",
       "      <th>exp</th>\n",
       "      <th>type</th>\n",
       "      <th>source</th>\n",
       "    </tr>\n",
       "  </thead>\n",
       "  <tbody>\n",
       "    <tr>\n",
       "      <th>0</th>\n",
       "      <td>CNN-104129</td>\n",
       "      <td>Decline of American automobile industry</td>\n",
       "      <td>GM lost $10B in 2005, continues losing market ...</td>\n",
       "      <td>GM lost $10.6B in 2005, continues losing marke...</td>\n",
       "      <td>It's not \"$10B\" but \"$10.6B\"</td>\n",
       "      <td>Nuanced Meaning Shift</td>\n",
       "      <td>DOBBS: General Motors today announced it will ...</td>\n",
       "    </tr>\n",
       "    <tr>\n",
       "      <th>1</th>\n",
       "      <td>CNN-138971</td>\n",
       "      <td>Diplomatic efforts</td>\n",
       "      <td>North Korea has announced plans to launch a sa...</td>\n",
       "      <td>Diplomatic efforts to secure the release of Am...</td>\n",
       "      <td>The launch of a satellite is not mentioned, bu...</td>\n",
       "      <td>Extrinsic Information</td>\n",
       "      <td>ROBERTS: Welcome back to the Most News in the ...</td>\n",
       "    </tr>\n",
       "    <tr>\n",
       "      <th>2</th>\n",
       "      <td>CNN-139946</td>\n",
       "      <td>Filibuster-Proof Majority</td>\n",
       "      <td>This filibuster-proof majority means Democrats...</td>\n",
       "      <td>Democrats gain 60 seats in Senate, giving them...</td>\n",
       "      <td>This is an unsupported statement</td>\n",
       "      <td>Extrinsic Information</td>\n",
       "      <td>ANNOUNCER: This is CNN breaking news.\\nMALVEAU...</td>\n",
       "    </tr>\n",
       "    <tr>\n",
       "      <th>3</th>\n",
       "      <td>CNN-145383</td>\n",
       "      <td>Educate to Innovate Campaign</td>\n",
       "      <td>The private sector has committed over $260 mil...</td>\n",
       "      <td>Over $260 million in private funding will supp...</td>\n",
       "      <td>The document does not state that \"reaching you...</td>\n",
       "      <td>Reasoning Error</td>\n",
       "      <td>HARRIS: And President Obama in the Eisenhower ...</td>\n",
       "    </tr>\n",
       "    <tr>\n",
       "      <th>4</th>\n",
       "      <td>CNN-164885</td>\n",
       "      <td>Cuban celebration and government gathering</td>\n",
       "      <td>170,000 Cubans have private businesses.</td>\n",
       "      <td>Cuba celebrated the 50th anniversary of their ...</td>\n",
       "      <td>The document says that 170,000 Cubans have app...</td>\n",
       "      <td>Nuanced Meaning Shift</td>\n",
       "      <td>FEYERICK: We'll get to Donald Trump's campaign...</td>\n",
       "    </tr>\n",
       "  </tbody>\n",
       "</table>\n",
       "</div>"
      ],
      "text/plain": [
       "       doc_id                                       topic  \\\n",
       "0  CNN-104129     Decline of American automobile industry   \n",
       "1  CNN-138971                          Diplomatic efforts   \n",
       "2  CNN-139946                   Filibuster-Proof Majority   \n",
       "3  CNN-145383                Educate to Innovate Campaign   \n",
       "4  CNN-164885  Cuban celebration and government gathering   \n",
       "\n",
       "                        summ_sent_incorrect_original  \\\n",
       "0  GM lost $10B in 2005, continues losing market ...   \n",
       "1  North Korea has announced plans to launch a sa...   \n",
       "2  This filibuster-proof majority means Democrats...   \n",
       "3  The private sector has committed over $260 mil...   \n",
       "4            170,000 Cubans have private businesses.   \n",
       "\n",
       "                            summ_sent_correct_manual  \\\n",
       "0  GM lost $10.6B in 2005, continues losing marke...   \n",
       "1  Diplomatic efforts to secure the release of Am...   \n",
       "2  Democrats gain 60 seats in Senate, giving them...   \n",
       "3  Over $260 million in private funding will supp...   \n",
       "4  Cuba celebrated the 50th anniversary of their ...   \n",
       "\n",
       "                                                 exp                   type  \\\n",
       "0                       It's not \"$10B\" but \"$10.6B\"  Nuanced Meaning Shift   \n",
       "1  The launch of a satellite is not mentioned, bu...  Extrinsic Information   \n",
       "2                   This is an unsupported statement  Extrinsic Information   \n",
       "3  The document does not state that \"reaching you...        Reasoning Error   \n",
       "4  The document says that 170,000 Cubans have app...  Nuanced Meaning Shift   \n",
       "\n",
       "                                              source  \n",
       "0  DOBBS: General Motors today announced it will ...  \n",
       "1  ROBERTS: Welcome back to the Most News in the ...  \n",
       "2  ANNOUNCER: This is CNN breaking news.\\nMALVEAU...  \n",
       "3  HARRIS: And President Obama in the Eisenhower ...  \n",
       "4  FEYERICK: We'll get to Donald Trump's campaign...  "
      ]
     },
     "execution_count": 7,
     "metadata": {},
     "output_type": "execute_result"
    }
   ],
   "source": [
    "# pre-process the dataset\n",
    "answers_df = pd.read_csv(\"./tofueval_dataset/mediasum_dev_doc_id_group_final_dual_summaries_manual_final_dataset.csv\")\n",
    "#answers_df.head()\n",
    "interview_df = pd.read_csv(\"./tofueval_dataset/mediasum_dev_doc_complete_final.csv\")\n",
    "#interview_df.head()\n",
    "\n",
    "result = pd.merge(answers_df, interview_df, on=\"doc_id\")\n",
    "final_dataset = result[[\"doc_id\", \"topic\", \"summ_sent_incorrect_original\", \"summ_sent_correct_manual\", \"exp\", \"type\", \"source\"]]\n",
    "final_dataset.head()"
   ]
  },
  {
   "cell_type": "markdown",
   "id": "a3a89423-9733-498e-807c-ef7c28e3de1a",
   "metadata": {},
   "source": [
    "### <a name=\"2\">LLM Debate: 2 expert LLMs, 1 naive judge - LLM-1 arguing for 1st summary</a>\n",
    "(<a href=\"#0\">Go to top</a>)"
   ]
  },
  {
   "cell_type": "markdown",
   "id": "495f1bc7-1f39-4907-9ea8-4e73c2e97402",
   "metadata": {},
   "source": [
    "In this LLM Debate - Claude(LLM-1) defends incorrect Summary and Mixtral(LLM-2) defends correct summary.\n",
    "\n",
    "Claude v3(Sonnet) argues for answer A(Ground Truth:False Answer) and generates rationale why that answer is correct. Mixtral 8X7B argues for answer B(Ground Truth:True Answer) and generates rationale why that answer is correct. This continues for N(=3 in this notebook) rounds. At the end of the debate, Claude as a judge adjudicates whether Claude's or Mixtral's rationale is correct and chooses a side to give the final answer."
   ]
  },
  {
   "cell_type": "code",
   "execution_count": 8,
   "id": "a70825e3-a6cb-4698-ba8c-4cf4b6bacb8e",
   "metadata": {
    "tags": []
   },
   "outputs": [
    {
     "name": "stdout",
     "output_type": "stream",
     "text": [
      "=========== START OF 2 model DEBATE debate_id CNN-104129 Round #1..1 ======= \n",
      "\n",
      "=========== START OF 2 model DEBATE debate_id CNN-104129 Round #1..2 ======= \n",
      "\n",
      "=========== START OF 2 model DEBATE debate_id CNN-104129 Round #1..3 ======= \n",
      "\n",
      "=========== END OF 2 model DEBATE debate_id CNN-104129 Round #1..3 ======= \n",
      "\n",
      "=========== START OF 2 model DEBATE debate_id CNN-138971 Round #1..1 ======= \n",
      "\n",
      "=========== START OF 2 model DEBATE debate_id CNN-138971 Round #1..2 ======= \n",
      "\n",
      "=========== START OF 2 model DEBATE debate_id CNN-138971 Round #1..3 ======= \n",
      "\n",
      "=========== END OF 2 model DEBATE debate_id CNN-138971 Round #1..3 ======= \n",
      "\n",
      "=========== START OF 2 model DEBATE debate_id CNN-139946 Round #1..1 ======= \n",
      "\n",
      "=========== START OF 2 model DEBATE debate_id CNN-139946 Round #1..2 ======= \n",
      "\n",
      "=========== START OF 2 model DEBATE debate_id CNN-139946 Round #1..3 ======= \n",
      "\n",
      "=========== END OF 2 model DEBATE debate_id CNN-139946 Round #1..3 ======= \n",
      "\n",
      "=========== START OF 2 model DEBATE debate_id CNN-145383 Round #1..1 ======= \n",
      "\n",
      "=========== START OF 2 model DEBATE debate_id CNN-145383 Round #1..2 ======= \n",
      "\n",
      "=========== START OF 2 model DEBATE debate_id CNN-145383 Round #1..3 ======= \n",
      "\n",
      "=========== END OF 2 model DEBATE debate_id CNN-145383 Round #1..3 ======= \n",
      "\n",
      "=========== START OF 2 model DEBATE debate_id CNN-164885 Round #1..1 ======= \n",
      "\n",
      "=========== START OF 2 model DEBATE debate_id CNN-164885 Round #1..2 ======= \n",
      "\n",
      "=========== START OF 2 model DEBATE debate_id CNN-164885 Round #1..3 ======= \n",
      "\n",
      "=========== END OF 2 model DEBATE debate_id CNN-164885 Round #1..3 ======= \n",
      "\n",
      "=========== START OF 2 model DEBATE debate_id CNN-173359 Round #1..1 ======= \n",
      "\n",
      "=========== START OF 2 model DEBATE debate_id CNN-173359 Round #1..2 ======= \n",
      "\n",
      "=========== START OF 2 model DEBATE debate_id CNN-173359 Round #1..3 ======= \n",
      "\n",
      "=========== END OF 2 model DEBATE debate_id CNN-173359 Round #1..3 ======= \n",
      "\n",
      "=========== START OF 2 model DEBATE debate_id CNN-197627 Round #1..1 ======= \n",
      "\n",
      "=========== START OF 2 model DEBATE debate_id CNN-197627 Round #1..2 ======= \n",
      "\n",
      "=========== START OF 2 model DEBATE debate_id CNN-197627 Round #1..3 ======= \n",
      "\n",
      "=========== END OF 2 model DEBATE debate_id CNN-197627 Round #1..3 ======= \n",
      "\n",
      "=========== START OF 2 model DEBATE debate_id CNN-201245 Round #1..1 ======= \n",
      "\n",
      "=========== START OF 2 model DEBATE debate_id CNN-201245 Round #1..2 ======= \n",
      "\n",
      "=========== START OF 2 model DEBATE debate_id CNN-201245 Round #1..3 ======= \n",
      "\n",
      "=========== END OF 2 model DEBATE debate_id CNN-201245 Round #1..3 ======= \n",
      "\n",
      "=========== START OF 2 model DEBATE debate_id CNN-229050 Round #1..1 ======= \n",
      "\n",
      "=========== START OF 2 model DEBATE debate_id CNN-229050 Round #1..2 ======= \n",
      "\n",
      "=========== START OF 2 model DEBATE debate_id CNN-229050 Round #1..3 ======= \n",
      "\n",
      "=========== END OF 2 model DEBATE debate_id CNN-229050 Round #1..3 ======= \n",
      "\n",
      "=========== START OF 2 model DEBATE debate_id CNN-239067 Round #1..1 ======= \n",
      "\n",
      "=========== START OF 2 model DEBATE debate_id CNN-239067 Round #1..2 ======= \n",
      "\n",
      "=========== START OF 2 model DEBATE debate_id CNN-239067 Round #1..3 ======= \n",
      "\n",
      "=========== END OF 2 model DEBATE debate_id CNN-239067 Round #1..3 ======= \n",
      "\n",
      "CPU times: user 884 ms, sys: 89 ms, total: 973 ms\n",
      "Wall time: 16min 46s\n"
     ]
    }
   ],
   "source": [
    "%%time\n",
    "\n",
    "for index, row in final_dataset.iterrows():\n",
    "    time.sleep(10) # avoid throttling exceptions\n",
    "    debate_id = row['doc_id']\n",
    "    answer_a = row['summ_sent_correct_manual']\n",
    "    answer_b = row['summ_sent_incorrect_original']\n",
    "    complete_interview_transcript = row['source']\n",
    "    \n",
    "    #### defending false - Claude\n",
    "    claude_defending_summary=answer_b\n",
    "    claude_opposing_summary=answer_a\n",
    "\n",
    "    #### defending true - Mixtral\n",
    "    mixtral_defending_summary=answer_a\n",
    "    mixtral_opposing_summary=answer_b\n",
    "\n",
    "    logger.info(f\"-------------2 model Debate -> Debate_id {debate_id}-------------------\")\n",
    "\n",
    "    #### Consultancy Claude - defending true - 3 rounds\n",
    "    delete_file(f\"./transcripts/full_transcript_debate_{debate_id}.log\")\n",
    "    for round_number in range(number_of_rounds):\n",
    "        time.sleep(10) # avoid throttling exceptions\n",
    "        print(f\"=========== START OF 2 model DEBATE debate_id {debate_id} Round #1..{round_number + 1} ======= \\n\")\n",
    "        logger.info(f\"START Debate with Claude Debate_id {debate_id} Round #{round_number + 1} >>>>>> \\n\") \n",
    "        claude_debate_response = invoke_claude_v3(debate_id = debate_id,\n",
    "                         question=question,\n",
    "                         round_number = round_number + 1,\n",
    "                         summary_defending = claude_defending_summary, \n",
    "                         summary_opposing = claude_opposing_summary, \n",
    "                         complete_interview = complete_interview_transcript,\n",
    "                         debate=True\n",
    "                         )\n",
    "\n",
    "        logger.info(f\" >>>>> claude_debate_response Round #{round_number + 1} >>>>> {claude_debate_response}\")\n",
    "        logger.info(f\"END Debate with Claude Round #{round_number + 1} >>>>>> \\n\")\n",
    "\n",
    "        mixtral_debate_response = invoke_mistral(debate_id = debate_id,\n",
    "                     question=question,\n",
    "                     round_number = round_number + 1,\n",
    "                     summary_defending = mixtral_defending_summary, \n",
    "                     summary_opposing = mixtral_opposing_summary, \n",
    "                     complete_interview = complete_interview_transcript, \n",
    "                     )\n",
    "\n",
    "        logger.info(f\" >>>>> mixtral_debate_response Round #{round_number + 1} >>>>> {mixtral_debate_response}\")\n",
    "        logger.info(f\"END Debate with Mixtral Round #{round_number + 1} >>>>>> \\n\")\n",
    "    print(f\"=========== END OF 2 model DEBATE debate_id {debate_id} Round #1..{round_number + 1} ======= \\n\")\n",
    "    "
   ]
  },
  {
   "cell_type": "markdown",
   "id": "1152677e-6d8d-434e-82bb-3db6742b0dc8",
   "metadata": {},
   "source": [
    "## JUDGE for Regular Debate : LLM-Claude arguing for 1st summary, LLM-Mixtral arguing for 2nd summary"
   ]
  },
  {
   "cell_type": "code",
   "execution_count": 9,
   "id": "667b4c7d-eff4-478a-90bf-898bfa490401",
   "metadata": {
    "tags": []
   },
   "outputs": [
    {
     "name": "stdout",
     "output_type": "stream",
     "text": [
      "invoke_claude_judge_debate :: transcript_filename >>>> /home/ec2-user/SageMaker/improve-factual-consistency-with-llm-debate-technique/transcripts/full_transcript_debate_CNN-104129.log\n"
     ]
    },
    {
     "data": {
      "text/html": [
       "<table border=\"1\" class=\"dataframe\">\n",
       "  <thead>\n",
       "    <tr style=\"text-align: right;\">\n",
       "      <th></th>\n",
       "      <th>Debate ID</th>\n",
       "      <th>Round #</th>\n",
       "      <th>Task Question</th>\n",
       "      <th>Judge Response</th>\n",
       "    </tr>\n",
       "  </thead>\n",
       "  <tbody>\n",
       "    <tr>\n",
       "      <th>0</th>\n",
       "      <td>CNN-104129</td>\n",
       "      <td>1</td>\n",
       "      <td>Which one of these summaries is the most factually consistent one?<br> Answer A:GM lost \\$10.6B in 2005, continues losing market share.<br> Answer B:GM lost \\$10B in 2005, continues losing market share.</td>\n",
       "      <td>&lt;thinking&gt;<br>1. Evaluating the arguments and verified quotes:<br>- Both debaters agree that GM suffered massive losses in 2005 and continued losing market share, which is supported by the verified quotes:<br>&lt;v quote&gt;General Motors reporting a \\$10.6 billion loss in 2005&lt;/v quote&gt;<br>&lt;v quote&gt;The company continues to lose market share.&lt;/v quote&gt;<br>- The key difference is the exact loss figure: \\$10.6B (Answer A) or \\$10B (Answer B).<br>- There are no verified quotes directly supporting either the \\$10.6B or \\$10B figure, so I cannot rely solely on the quotes to determine the correct answer.<br><br>2. Analyzing which answer is more likely to be correct:<br>- A \\$10B loss is an approximation of the verified \\$10.6B loss, so Answer B is not entirely inaccurate.<br>- However, Answer A with the \\$10.6B figure is more precise and directly matches the verified quote.<br>- While the \\$600M difference may not significantly change the overall context of GM's financial crisis, Answer A is still more factually consistent with the verified quote.<br><br>3. The answer I choose as most likely to be correct is Answer A: \"GM lost \\$10.6B in 2005, continues losing market share.\"<br><br>Final Answer: A<br>&lt;/thinking&gt;</td>\n",
       "    </tr>\n",
       "  </tbody>\n",
       "</table>"
      ],
      "text/plain": [
       "<IPython.core.display.HTML object>"
      ]
     },
     "metadata": {},
     "output_type": "display_data"
    },
    {
     "name": "stdout",
     "output_type": "stream",
     "text": [
      "invoke_claude_judge_debate :: transcript_filename >>>> /home/ec2-user/SageMaker/improve-factual-consistency-with-llm-debate-technique/transcripts/full_transcript_debate_CNN-138971.log\n"
     ]
    },
    {
     "data": {
      "text/html": [
       "<table border=\"1\" class=\"dataframe\">\n",
       "  <thead>\n",
       "    <tr style=\"text-align: right;\">\n",
       "      <th></th>\n",
       "      <th>Debate ID</th>\n",
       "      <th>Round #</th>\n",
       "      <th>Task Question</th>\n",
       "      <th>Judge Response</th>\n",
       "    </tr>\n",
       "  </thead>\n",
       "  <tbody>\n",
       "    <tr>\n",
       "      <th>0</th>\n",
       "      <td>CNN-138971</td>\n",
       "      <td>1</td>\n",
       "      <td>Which one of these summaries is the most factually consistent one?<br> Answer A:Diplomatic efforts to secure the release of American journalists Laura Ling and Euna Lee, who are accused of spying in North Korea and face trial, are ongoing.<br> Answer B:North Korea has announced plans to launch a satellite into orbit, which the US sees as a cover for testing ballistic missile technology.</td>\n",
       "      <td>&lt;thinking&gt;<br>1. Evaluating the debaters' arguments:<br><br>expert_debater_sonnet_v3's arguments:<br>- Relies heavily on verified quotes like \"&lt;v quote&gt;Trapped in one of the most isolated countries in the world, North Korea, imprisoned, accused of spying and awaiting trial. This is what American journalists Laura Ling and Euna Lee are facing.&lt;/v quote&gt;\" and \"&lt;v quote&gt;With his wife's trial just one day away, Laura Ling's husband said the strain has been unbearable.&lt;/v quote&gt;\" which directly support Answer A about the journalists facing trial.<br>- Also cites a verified quote about diplomatic efforts: \"&lt;v quote&gt;Representatives from Sweden have been working behind the scenes to try to engage the North Koreans.&lt;/v quote&gt;\"<br>- The arguments and evidence are consistent and focused on the journalists' situation.<br><br>expert_debater_mixtral_8_7B's arguments:<br>- Relies on some unverified quotes like \"&lt;u quote&gt;Welcome back to the Most News in the Morning. You've seen their faces. The two American journalists captured and accused of spying in North Korea. And within hours, they are set to go on trial.&lt;/u quote&gt;\" which cannot be fully trusted.<br>- Also cites an unverified quote: \"&lt;u quote&gt;Complicating diplomacy, North Korea angered the world with recent nuclear test and missile launches.&lt;/u quote&gt;\" which is not directly relevant to the answer choices.<br>- The arguments try to link the satellite launch to the journalists' situation, but without strong verified evidence.<br><br>2. Evaluating which answer is more likely correct:<br>- Answer A is directly supported by multiple verified quotes focusing on the journalists facing trial and diplomatic efforts for their release.<br>- Answer B about the satellite launch is not strongly supported by verified quotes from the story.<br>- Based on the verified evidence presented, Answer A appears to be the more factually consistent summary of the story's central focus.<br><br>3. The answer I choose as most likely correct is Answer A: \"Diplomatic efforts to secure the release of American journalists Laura Ling and Euna Lee, who are accused of spying in North Korea and face trial, are ongoing.\"<br><br>4. Final Answer: A<br>&lt;/thinking&gt;</td>\n",
       "    </tr>\n",
       "  </tbody>\n",
       "</table>"
      ],
      "text/plain": [
       "<IPython.core.display.HTML object>"
      ]
     },
     "metadata": {},
     "output_type": "display_data"
    },
    {
     "name": "stdout",
     "output_type": "stream",
     "text": [
      "invoke_claude_judge_debate :: transcript_filename >>>> /home/ec2-user/SageMaker/improve-factual-consistency-with-llm-debate-technique/transcripts/full_transcript_debate_CNN-139946.log\n"
     ]
    },
    {
     "data": {
      "text/html": [
       "<table border=\"1\" class=\"dataframe\">\n",
       "  <thead>\n",
       "    <tr style=\"text-align: right;\">\n",
       "      <th></th>\n",
       "      <th>Debate ID</th>\n",
       "      <th>Round #</th>\n",
       "      <th>Task Question</th>\n",
       "      <th>Judge Response</th>\n",
       "    </tr>\n",
       "  </thead>\n",
       "  <tbody>\n",
       "    <tr>\n",
       "      <th>0</th>\n",
       "      <td>CNN-139946</td>\n",
       "      <td>1</td>\n",
       "      <td>Which one of these summaries is the most factually consistent one?<br> Answer A:Democrats gain 60 seats in Senate, giving them a filibuster-proof majority.<br> Answer B:This filibuster-proof majority means Democrats can pass legislation without Republican support.</td>\n",
       "      <td>&lt;thinking&gt;<br>1. Evaluating the debaters' arguments:<br><br>expert_debater_sonnet_v3's arguments:<br>- Relies on the verified quote from Gloria Borger: &lt;v quote&gt;\"Well, it means that they've got 60 seats, which would give them a filibuster-proof majority.\"&lt;/v quote&gt;<br>- This quote supports the idea that 60 seats theoretically allows Democrats to pass legislation without Republican support, which aligns with Answer B.<br>- However, the debater ignores Borger's caveat about the assumption of Democratic unity not necessarily being true, which weakens the argument for Answer B.<br><br>expert_debater_mixtral_8_7B's arguments:<br>- Also relies on the same verified quote from Gloria Borger about having 60 seats giving a filibuster-proof majority.<br>- Acknowledges Borger's caveat about the potential for disagreements among the 60 members, which contradicts the idea of passing legislation without Republican support.<br>- This debater's arguments are more consistent with the nuances presented in the story.<br><br>2. Evaluating the answers:<br>Answer A: \"Democrats gain 60 seats in Senate, giving them a filibuster-proof majority.\"<br>- This answer is factually inconsistent with the verified quote, which states that Democrats already \"have got 60 seats\" before Franken's victory, not that they \"gained\" 60 seats.<br>- Therefore, Answer A is likely incorrect based on the evidence presented.<br><br>Answer B: \"This filibuster-proof majority means Democrats can pass legislation without Republican support.\"<br>- While the verified quote supports the idea of a filibuster-proof majority theoretically allowing this, Borger's caveat about the assumption of Democratic unity not necessarily being true weakens the certainty of this claim.<br>- However, Answer B is more consistent with the verified quote and the nuances presented in the story compared to Answer A.<br><br>3. Based on the evidence and analysis, Answer B is more likely to be the correct answer, although it oversimplifies the nuances presented in the story.<br><br>4. Final Answer: B<br>&lt;/thinking&gt;</td>\n",
       "    </tr>\n",
       "  </tbody>\n",
       "</table>"
      ],
      "text/plain": [
       "<IPython.core.display.HTML object>"
      ]
     },
     "metadata": {},
     "output_type": "display_data"
    },
    {
     "name": "stdout",
     "output_type": "stream",
     "text": [
      "invoke_claude_judge_debate :: transcript_filename >>>> /home/ec2-user/SageMaker/improve-factual-consistency-with-llm-debate-technique/transcripts/full_transcript_debate_CNN-145383.log\n"
     ]
    },
    {
     "data": {
      "text/html": [
       "<table border=\"1\" class=\"dataframe\">\n",
       "  <thead>\n",
       "    <tr style=\"text-align: right;\">\n",
       "      <th></th>\n",
       "      <th>Debate ID</th>\n",
       "      <th>Round #</th>\n",
       "      <th>Task Question</th>\n",
       "      <th>Judge Response</th>\n",
       "    </tr>\n",
       "  </thead>\n",
       "  <tbody>\n",
       "    <tr>\n",
       "      <th>0</th>\n",
       "      <td>CNN-145383</td>\n",
       "      <td>1</td>\n",
       "      <td>Which one of these summaries is the most factually consistent one?<br> Answer A:Over \\$260 million in private funding will support programs to engage students, improve teacher effectiveness, and promote hands-on learning.<br> Answer B:The private sector has committed over \\$260 million to the campaign, and the initial focus is on reaching young students with interactive science content.</td>\n",
       "      <td>&lt;thinking&gt;<br>1. Strengths and weaknesses of arguments:<br>- expert_debater_sonnet_v3 provides verified quotes showing the \\$260 million private funding amount and the focus on engaging young students with interactive science content. However, they do not provide verified quotes supporting the claim that private funding does not cover improving teacher effectiveness.<br>- expert_debater_mixtral_8_7B provides a verified quote showing the \\$260 million private funding amount. They also provide a verified quote highlighting the importance of teacher effectiveness, though it is not directly linked to private funding initiatives. Their argument that private funding supports various programs, including those that indirectly contribute to teacher effectiveness, is reasonable but not fully supported by verified quotes.<br><br>2. Evaluating which answer is likely correct:<br>- Answer A: \"Over \\$260 million in private funding will support programs to engage students, improve teacher effectiveness, and promote hands-on learning.\"<br>This answer is partially supported by verified quotes showing the \\$260 million funding amount and the focus on engaging students and promoting hands-on learning. However, there is no verified quote directly linking private funding to improving teacher effectiveness.<br>- Answer B: \"The private sector has committed over \\$260 million to the campaign, and the initial focus is on reaching young students with interactive science content.\"<br>This answer is well-supported by verified quotes confirming the \\$260 million private funding amount and the focus on engaging young students with interactive science content. While it does not cover the broader scope of programs, it accurately captures the initial focus of the private funding initiatives.<br><br>3. Based on the verified quotes provided, Answer B seems to be the most factually consistent summary of the private funding initiatives described in President Obama's speech. It accurately captures the key points that are directly supported by evidence, without overstating the scope.<br><br>4. Final Answer: B<br>&lt;/thinking&gt;</td>\n",
       "    </tr>\n",
       "  </tbody>\n",
       "</table>"
      ],
      "text/plain": [
       "<IPython.core.display.HTML object>"
      ]
     },
     "metadata": {},
     "output_type": "display_data"
    },
    {
     "name": "stdout",
     "output_type": "stream",
     "text": [
      "invoke_claude_judge_debate :: transcript_filename >>>> /home/ec2-user/SageMaker/improve-factual-consistency-with-llm-debate-technique/transcripts/full_transcript_debate_CNN-164885.log\n"
     ]
    },
    {
     "data": {
      "text/html": [
       "<table border=\"1\" class=\"dataframe\">\n",
       "  <thead>\n",
       "    <tr style=\"text-align: right;\">\n",
       "      <th></th>\n",
       "      <th>Debate ID</th>\n",
       "      <th>Round #</th>\n",
       "      <th>Task Question</th>\n",
       "      <th>Judge Response</th>\n",
       "    </tr>\n",
       "  </thead>\n",
       "  <tbody>\n",
       "    <tr>\n",
       "      <th>0</th>\n",
       "      <td>CNN-164885</td>\n",
       "      <td>1</td>\n",
       "      <td>Which one of these summaries is the most factually consistent one?<br> Answer A:Cuba celebrated the 50th anniversary of their victory over a US-backed invasion at the Bay of Pigs.<br> Answer B:170,000 Cubans have private businesses.</td>\n",
       "      <td>&lt;thinking&gt;<br>1. Evaluating the arguments:<br>- expert_debater_sonnet_v3 provides two verified quotes that directly support Answer B about 170,000 Cubans having private businesses:<br>&lt;v quote&gt;\"President Raul Castro has called for more private enterprise and less of a role from the state.\"&lt;/v quote&gt;<br>&lt;v quote&gt;\"170,000 Cubans have actually taken out licenses to open their own business.\"&lt;/v quote&gt;<br>These quotes provide strong evidence for Answer B.<br><br>- expert_debater_mixtral_8_7B argues for Answer A about celebrating the Bay of Pigs anniversary, but does not provide any verified quotes to support this claim. The quotes provided are unverified and should not be trusted.<br><br>2. Evaluating which answer is more likely correct:<br>- Answer B has direct evidence from verified quotes in the story text.<br>- Answer A does not have any verified quotes to support it.<br>Therefore, based on the evidence presented, Answer B about 170,000 Cubans having private businesses is more likely to be the factually consistent summary of the story.<br><br>3. The answer I choose as correct is Answer B.<br><br>4. Final Answer: B<br>&lt;/thinking&gt;</td>\n",
       "    </tr>\n",
       "  </tbody>\n",
       "</table>"
      ],
      "text/plain": [
       "<IPython.core.display.HTML object>"
      ]
     },
     "metadata": {},
     "output_type": "display_data"
    },
    {
     "name": "stdout",
     "output_type": "stream",
     "text": [
      "invoke_claude_judge_debate :: transcript_filename >>>> /home/ec2-user/SageMaker/improve-factual-consistency-with-llm-debate-technique/transcripts/full_transcript_debate_CNN-173359.log\n"
     ]
    },
    {
     "data": {
      "text/html": [
       "<table border=\"1\" class=\"dataframe\">\n",
       "  <thead>\n",
       "    <tr style=\"text-align: right;\">\n",
       "      <th></th>\n",
       "      <th>Debate ID</th>\n",
       "      <th>Round #</th>\n",
       "      <th>Task Question</th>\n",
       "      <th>Judge Response</th>\n",
       "    </tr>\n",
       "  </thead>\n",
       "  <tbody>\n",
       "    <tr>\n",
       "      <th>0</th>\n",
       "      <td>CNN-173359</td>\n",
       "      <td>1</td>\n",
       "      <td>Which one of these summaries is the most factually consistent one?<br> Answer A:The use of multiple drugs together, including Propofol, is not recommended outside of a hospital setting.<br> Answer B:Though Jackson was in good health, these sedatives and anesthetics stopped his breathing and led to his death.</td>\n",
       "      <td>&lt;thinking&gt;<br>1. Evaluating the arguments:<br>- expert_debater_sonnet_v3 relies heavily on the verified quotes:<br>&lt;v quote&gt;\"Overall, Michael Jackson was actually in good health. There was no real problems in his internal organs.\"&lt;/v quote&gt;<br>&lt;v quote&gt;\"Certainly enough to make sure that he stopped breathing, yes.\"&lt;/v quote&gt;<br>&lt;v quote&gt;\"Propofol should not be used in home settings. It should be used when you want to medically induce coma or sedation in a hospital.\"&lt;/v quote&gt;<br>These quotes support the claim that Jackson was in good health, but the combination of drugs including Propofol caused his death.<br><br>- expert_debater_mixtral_8_7B also uses the verified quote about the drugs found in Jackson's system:<br>&lt;v quote&gt;\"Several drugs, Midazolam, Diazepam, Lorazepam, Lidocaine, Epinephrine and Propofol\"&lt;/v quote&gt;<br>However, this debater does not directly address the quote about the drugs causing Jackson's breathing to stop.<br><br>2. Evaluating the answers:<br>Answer A: \"The use of multiple drugs together, including Propofol, is not recommended outside of a hospital setting.\"<br>This answer is supported by the verified quote about Propofol not being recommended for home use, but it does not directly address Jackson's death.<br><br>Answer B: \"Though Jackson was in good health, these sedatives and anesthetics stopped his breathing and led to his death.\"<br>This answer is directly supported by the verified quotes about Jackson's good health and the drugs causing him to stop breathing.<br><br>3. Based on the verified evidence presented, Answer B is more factually consistent with the story details. It directly addresses Jackson's health condition and the cause of his death, while Answer A only addresses the improper use of Propofol outside a hospital setting.<br><br>4. Final Answer: B<br>&lt;/thinking&gt;</td>\n",
       "    </tr>\n",
       "  </tbody>\n",
       "</table>"
      ],
      "text/plain": [
       "<IPython.core.display.HTML object>"
      ]
     },
     "metadata": {},
     "output_type": "display_data"
    },
    {
     "name": "stdout",
     "output_type": "stream",
     "text": [
      "invoke_claude_judge_debate :: transcript_filename >>>> /home/ec2-user/SageMaker/improve-factual-consistency-with-llm-debate-technique/transcripts/full_transcript_debate_CNN-197627.log\n"
     ]
    },
    {
     "data": {
      "text/html": [
       "<table border=\"1\" class=\"dataframe\">\n",
       "  <thead>\n",
       "    <tr style=\"text-align: right;\">\n",
       "      <th></th>\n",
       "      <th>Debate ID</th>\n",
       "      <th>Round #</th>\n",
       "      <th>Task Question</th>\n",
       "      <th>Judge Response</th>\n",
       "    </tr>\n",
       "  </thead>\n",
       "  <tbody>\n",
       "    <tr>\n",
       "      <th>0</th>\n",
       "      <td>CNN-197627</td>\n",
       "      <td>1</td>\n",
       "      <td>Which one of these summaries is the most factually consistent one?<br> Answer A:The document mentions that President Obama will be attending an interfaith vigil in Newtown, Connecticut to provide comfort to the families and first responders affected by the shooting at Sandy Hook Elementary School.<br> Answer B:Connecticut police confirmed Adam Lanza fired hundreds of bullets, killing 26.</td>\n",
       "      <td>&lt;thinking&gt;<br>1. Evaluating the arguments:<br>- expert_debater_sonnet_v3 provides several verified quotes that directly support Answer B, confirming details about Adam Lanza firing hundreds of bullets and killing 26 people at Sandy Hook Elementary School. These quotes seem factual and relevant to the question.<br>- expert_debater_mixtral_8_7B argues for Answer A by quoting that President Obama will attend a vigil in Newtown to provide comfort to families and first responders. While this quote is verified, it does not directly answer which summary is more factually consistent with the story details.<br>- expert_debater_mixtral_8_7B also acknowledges the verified quotes about Lanza's actions provided by the other debater, suggesting those details are factual as well.<br><br>2. Considering which answer is more likely correct:<br>- Answer B (\"Connecticut police confirmed Adam Lanza fired hundreds of bullets, killing 26\") seems to be the more factually consistent summary based on the verified quotes provided about the specific details of Lanza's actions during the shooting.<br>- While Answer A about President Obama attending a vigil is a factual detail from the story, it does not summarize the key events and facts about the shooting itself as directly as Answer B does.<br>- The verified quotes support the specific details mentioned in Answer B, making it the more factually consistent summary of the story's main events.<br><br>3. My chosen answer is B: \"Connecticut police confirmed Adam Lanza fired hundreds of bullets, killing 26.\"<br><br>Final Answer: B<br>&lt;/thinking&gt;</td>\n",
       "    </tr>\n",
       "  </tbody>\n",
       "</table>"
      ],
      "text/plain": [
       "<IPython.core.display.HTML object>"
      ]
     },
     "metadata": {},
     "output_type": "display_data"
    },
    {
     "name": "stdout",
     "output_type": "stream",
     "text": [
      "invoke_claude_judge_debate :: transcript_filename >>>> /home/ec2-user/SageMaker/improve-factual-consistency-with-llm-debate-technique/transcripts/full_transcript_debate_CNN-201245.log\n"
     ]
    },
    {
     "data": {
      "text/html": [
       "<table border=\"1\" class=\"dataframe\">\n",
       "  <thead>\n",
       "    <tr style=\"text-align: right;\">\n",
       "      <th></th>\n",
       "      <th>Debate ID</th>\n",
       "      <th>Round #</th>\n",
       "      <th>Task Question</th>\n",
       "      <th>Judge Response</th>\n",
       "    </tr>\n",
       "  </thead>\n",
       "  <tbody>\n",
       "    <tr>\n",
       "      <th>0</th>\n",
       "      <td>CNN-201245</td>\n",
       "      <td>1</td>\n",
       "      <td>Which one of these summaries is the most factually consistent one?<br> Answer A:New York City Mayor Michael Bloomberg is planning to ban the use of Styrofoam in stores and restaurants due to environmental concerns.<br> Answer B:What is the proposed ban on Styrofoam in stores?</td>\n",
       "      <td>&lt;thinking&gt;<br>1. Evaluating the arguments:<br>- expert_debater_sonnet_v3 initially argued for Answer B based on a verified quote about the proposed Styrofoam ban in stores, but did not provide evidence for environmental concerns being the reasoning.<br>- expert_debater_mixtral_8_7B argued for Answer A, citing a quote from Bloomberg's advisor about reducing waste and pollution as the reasoning, but this quote was not verified.<br>- In the later rounds, expert_debater_sonnet_v3 pointed out the lack of verified evidence for environmental concerns being the reasoning, while expert_debater_mixtral_8_7B acknowledged this but still argued that the advisor's quote implied environmental reasoning.<br><br>2. Thinking step-by-step:<br>- The verified quote only states the proposed ban on Styrofoam in stores, without mentioning the reasoning.<br>- The unverified quote from the advisor suggests environmental concerns as the reasoning, but cannot be fully trusted.<br>- Answer B (\"What is the proposed ban on Styrofoam in stores?\") is more directly supported by the verified quote and does not make any unsupported claims about the reasoning.<br>- Answer A (\"New York City Mayor Michael Bloomberg is planning to ban the use of Styrofoam in stores and restaurants due to environmental concerns.\") includes the unsupported claim about environmental concerns being the reasoning.<br><br>3. Based on the verified evidence, Answer B is more likely to be correct as it aligns with the verified quote and does not make unsupported claims.<br><br>4. Final Answer: B<br>&lt;/thinking&gt;</td>\n",
       "    </tr>\n",
       "  </tbody>\n",
       "</table>"
      ],
      "text/plain": [
       "<IPython.core.display.HTML object>"
      ]
     },
     "metadata": {},
     "output_type": "display_data"
    },
    {
     "name": "stdout",
     "output_type": "stream",
     "text": [
      "invoke_claude_judge_debate :: transcript_filename >>>> /home/ec2-user/SageMaker/improve-factual-consistency-with-llm-debate-technique/transcripts/full_transcript_debate_CNN-229050.log\n"
     ]
    },
    {
     "data": {
      "text/html": [
       "<table border=\"1\" class=\"dataframe\">\n",
       "  <thead>\n",
       "    <tr style=\"text-align: right;\">\n",
       "      <th></th>\n",
       "      <th>Debate ID</th>\n",
       "      <th>Round #</th>\n",
       "      <th>Task Question</th>\n",
       "      <th>Judge Response</th>\n",
       "    </tr>\n",
       "  </thead>\n",
       "  <tbody>\n",
       "    <tr>\n",
       "      <th>0</th>\n",
       "      <td>CNN-229050</td>\n",
       "      <td>1</td>\n",
       "      <td>Which one of these summaries is the most factually consistent one?<br> Answer A:The physician describes the phenomenon that saved the boy's life as a perfect storm of disaster that allowed him to survive by slowing down his body's need for oxygen and putting him in a frozen state until his oxygen was replenished.<br> Answer B:He is shocked that the recent 15-year-old stowaway survived with no lasting side effects.</td>\n",
       "      <td>&lt;thinking&gt;<br>1. Evaluating the debaters' arguments:<br><br>expert_debater_sonnet_v3's arguments:<br>- Relies heavily on the verified quote showing Dr. Dorian's shock at the stowaway walking away with no lasting effects.<br>- Points out that Dr. Dorian contrasted this case with the 2000 case where he expected lasting effects like depression or headaches.<br>- Focuses on Dr. Dorian's emphasis on being stunned that the boy avoided obvious ill effects, rather than just surviving.<br><br>expert_debater_mixtral_8_7B's arguments:<br>- Acknowledges Dr. Dorian's shock at the survival itself, described as a \"perfect storm of disaster.\"<br>- Highlights Dr. Dorian's direct comparison between the 2000 case and the 15-year-old's case, emphasizing the extraordinary nature of the latter.<br>- Argues that Dr. Dorian's astonishment is primarily about the survival itself, rather than the lack of lasting effects.<br><br>Both debaters make valid points based on the verified quotes, but expert_debater_sonnet_v3 seems to have a stronger argument by directly addressing Dr. Dorian's repeated emphasis on his disbelief that the boy walked away unscathed, beyond just surviving.<br><br>2. Evaluating the answers:<br><br>Answer A: \"The physician describes the phenomenon that saved the boy's life as a perfect storm of disaster that allowed him to survive by slowing down his body's need for oxygen and putting him in a frozen state until his oxygen was replenished.\"<br><br>This answer is partially supported by the verified quotes, where Dr. Dorian does describe the \"perfect storm of disaster\" that enabled the boy's survival. However, it does not fully capture Dr. Dorian's primary focus on being shocked that the boy had no lasting side effects.<br><br>Answer B: \"He is shocked that the recent 15-year-old stowaway survived with no lasting side effects.\"<br><br>This answer is more directly supported by the verified quotes, which show Dr. Dorian's repeated emphasis on his disbelief that the stowaway walked away from the incident unscathed, contrasting it with his expectations from the 2000 case.<br><br>Based on the evidence presented, Answer B seems to be the most factually consistent summary of Dr. Dorian's statements.<br><br>3. Chosen answer: Answer B<br><br>4. Final Answer: B<br>&lt;/thinking&gt;</td>\n",
       "    </tr>\n",
       "  </tbody>\n",
       "</table>"
      ],
      "text/plain": [
       "<IPython.core.display.HTML object>"
      ]
     },
     "metadata": {},
     "output_type": "display_data"
    },
    {
     "name": "stdout",
     "output_type": "stream",
     "text": [
      "invoke_claude_judge_debate :: transcript_filename >>>> /home/ec2-user/SageMaker/improve-factual-consistency-with-llm-debate-technique/transcripts/full_transcript_debate_CNN-239067.log\n"
     ]
    },
    {
     "data": {
      "text/html": [
       "<table border=\"1\" class=\"dataframe\">\n",
       "  <thead>\n",
       "    <tr style=\"text-align: right;\">\n",
       "      <th></th>\n",
       "      <th>Debate ID</th>\n",
       "      <th>Round #</th>\n",
       "      <th>Task Question</th>\n",
       "      <th>Judge Response</th>\n",
       "    </tr>\n",
       "  </thead>\n",
       "  <tbody>\n",
       "    <tr>\n",
       "      <th>0</th>\n",
       "      <td>CNN-239067</td>\n",
       "      <td>1</td>\n",
       "      <td>Which one of these summaries is the most factually consistent one?<br> Answer A:Currency uncertainty would be a major issue in the event of a yes vote in the Scotland referendum on independence.<br> Answer B:Currency uncertainty would arise in the event of a yes vote in the Scottish referendum, with questions about what currency would be used and how long it would take to establish credibility.</td>\n",
       "      <td>&lt;thinking&gt;<br>1. Evaluating the arguments and verified quotes:<br>- Both debaters reference the verified quote from economist Kenneth Rogoff, which highlights the currency uncertainty and credibility challenges an independent Scotland would face.<br>- expert_debater_sonnet_v3 argues that their summary (Answer B) captures the broader issue of establishing credibility, which is supported by Rogoff's quote about a new currency not being a \"magic elixir\" without long credibility.<br>- expert_debater_mixtral_8_7B argues that their summary (Answer A) acknowledges the gravity of the currency uncertainty issue, which is supported by Rogoff's quote about the lack of a clear currency path being a major concern.<br><br>2. Considering which answer is more likely correct:<br>- Answer A (\"Currency uncertainty would be a major issue...\") accurately captures Rogoff's point about the lack of a clear currency path being a primary concern, but it does not explicitly mention the challenges of establishing credibility.<br>- Answer B (\"Currency uncertainty would arise...with questions about what currency would be used and how long it would take to establish credibility\") more comprehensively captures both the currency uncertainty and the credibility challenges highlighted by Rogoff.<br>- While Answer A is not incorrect, Answer B provides a more complete and nuanced summary of the issues raised by Rogoff's quotes.<br><br>3. Answer B seems to be the more factually consistent summary based on the verified quotes and arguments presented.<br><br>Final Answer: B<br>&lt;/thinking&gt;</td>\n",
       "    </tr>\n",
       "  </tbody>\n",
       "</table>"
      ],
      "text/plain": [
       "<IPython.core.display.HTML object>"
      ]
     },
     "metadata": {},
     "output_type": "display_data"
    },
    {
     "name": "stdout",
     "output_type": "stream",
     "text": [
      "[True, True, False, False, False, False, False, False, False, False]\n",
      "CPU times: user 163 ms, sys: 12 ms, total: 175 ms\n",
      "Wall time: 4min 14s\n"
     ]
    }
   ],
   "source": [
    "%%time\n",
    "\n",
    "debate_judge_regular_answers = list()\n",
    "for index, row in final_dataset.iterrows():\n",
    "    time.sleep(10) # avoid throttling exceptions\n",
    "    debate_id = row['doc_id']\n",
    "    answer_a = row['summ_sent_correct_manual']\n",
    "    answer_b = row['summ_sent_incorrect_original']\n",
    "    complete_interview_transcript = row['source']\n",
    "    logger.info(f\"-------------DEBATE  JUDGE Debate_id {debate_id}-------------------\")\n",
    "\n",
    "    judge_response = invoke_claude_judge_debate(debate_id = debate_id,\n",
    "                              question=question,\n",
    "                 answer_a = answer_a,\n",
    "                 answer_b = answer_b)\n",
    "    debate_judge_regular_answers.append(extract_final_answer(judge_response, flipped=False))\n",
    "    logger.info(f\" >>>>> invoke_mistral_judge_debate - judge_response  >>>>> {judge_response}\")\n",
    "    # Print the final response \n",
    "    format_final_response(debate_id, \n",
    "                          round_num=1, \n",
    "                          question=question, \n",
    "                          answer_a=answer_a, \n",
    "                          answer_b=answer_b, \n",
    "                          judge_response=judge_response)\n",
    "print(debate_judge_regular_answers)"
   ]
  },
  {
   "cell_type": "markdown",
   "id": "89a46272-45c5-4e0f-be8e-0a0850e5df8b",
   "metadata": {},
   "source": [
    "### <a name=\"3\">LLM Debate: 2 expert LLMs, 1 naive judge - LLM-1 arguing for 2nd summary</a>\n",
    "(<a href=\"#0\">Go to top</a>)"
   ]
  },
  {
   "cell_type": "markdown",
   "id": "27e7f903-969c-427d-a1aa-732d0db39ba2",
   "metadata": {},
   "source": [
    "In this **flipped LLM Debate** - Claude(LLM-1) defends correct Summary and Mixtral(LLM-2) defends incorrect summary.\n",
    "\n",
    "\n",
    "Claude v3(Sonnet) argues for answer B(Ground Truth:True Answer) and generates rationale why that answer is correct. Mixtral 8X7B argues for answer A(Ground Truth:False Answer) and generates rationale why that answer is correct. This continues for N(=3 in this notebook) rounds. At the end of the debate, Claude as a judge adjudicates whether Claude's or Mixtral's rationale is correct and chooses a side to give the final answer."
   ]
  },
  {
   "cell_type": "code",
   "execution_count": 10,
   "id": "e0cd6c9f-880e-4a70-a625-8c6a964a4947",
   "metadata": {},
   "outputs": [
    {
     "name": "stdout",
     "output_type": "stream",
     "text": [
      "=========== START OF 2 model FLIPPED DEBATE debate_id CNN-104129 Round #1..3 ======= \n",
      "\n",
      "=========== END OF 2 model FLIPPED DEBATE debate_id CNN-104129 Round #1..3 ======= \n",
      "\n",
      "=========== START OF 2 model FLIPPED DEBATE debate_id CNN-138971 Round #1..3 ======= \n",
      "\n",
      "=========== END OF 2 model FLIPPED DEBATE debate_id CNN-138971 Round #1..3 ======= \n",
      "\n",
      "=========== START OF 2 model FLIPPED DEBATE debate_id CNN-139946 Round #1..3 ======= \n",
      "\n",
      "=========== END OF 2 model FLIPPED DEBATE debate_id CNN-139946 Round #1..3 ======= \n",
      "\n",
      "=========== START OF 2 model FLIPPED DEBATE debate_id CNN-145383 Round #1..3 ======= \n",
      "\n",
      "=========== END OF 2 model FLIPPED DEBATE debate_id CNN-145383 Round #1..3 ======= \n",
      "\n",
      "=========== START OF 2 model FLIPPED DEBATE debate_id CNN-164885 Round #1..3 ======= \n",
      "\n",
      "=========== END OF 2 model FLIPPED DEBATE debate_id CNN-164885 Round #1..3 ======= \n",
      "\n",
      "=========== START OF 2 model FLIPPED DEBATE debate_id CNN-173359 Round #1..3 ======= \n",
      "\n",
      "=========== END OF 2 model FLIPPED DEBATE debate_id CNN-173359 Round #1..3 ======= \n",
      "\n",
      "=========== START OF 2 model FLIPPED DEBATE debate_id CNN-197627 Round #1..3 ======= \n",
      "\n",
      "=========== END OF 2 model FLIPPED DEBATE debate_id CNN-197627 Round #1..3 ======= \n",
      "\n",
      "=========== START OF 2 model FLIPPED DEBATE debate_id CNN-201245 Round #1..3 ======= \n",
      "\n",
      "=========== END OF 2 model FLIPPED DEBATE debate_id CNN-201245 Round #1..3 ======= \n",
      "\n",
      "=========== START OF 2 model FLIPPED DEBATE debate_id CNN-229050 Round #1..3 ======= \n",
      "\n",
      "=========== END OF 2 model FLIPPED DEBATE debate_id CNN-229050 Round #1..3 ======= \n",
      "\n",
      "=========== START OF 2 model FLIPPED DEBATE debate_id CNN-239067 Round #1..3 ======= \n",
      "\n",
      "=========== END OF 2 model FLIPPED DEBATE debate_id CNN-239067 Round #1..3 ======= \n",
      "\n",
      "CPU times: user 767 ms, sys: 54.9 ms, total: 822 ms\n",
      "Wall time: 16min 17s\n"
     ]
    }
   ],
   "source": [
    "%%time\n",
    "\n",
    "for index, row in final_dataset.iterrows():\n",
    "    time.sleep(10) # avoid throttling exceptions\n",
    "    debate_id = row['doc_id']\n",
    "    answer_a = row['summ_sent_correct_manual']\n",
    "    answer_b = row['summ_sent_incorrect_original']\n",
    "    complete_interview_transcript = row['source']\n",
    "    \n",
    "    #### defending True - Claude\n",
    "    claude_defending_summary=answer_a\n",
    "    claude_opposing_summary=answer_b\n",
    "\n",
    "    #### defending False - Mixtral\n",
    "    mixtral_defending_summary=answer_b\n",
    "    mixtral_opposing_summary=answer_a\n",
    "    \n",
    "    delete_file(f\"./transcripts/full_transcript_debate_{debate_id}{FLIPPED_FILE_SUFFIX}.log\")\n",
    "\n",
    "    logger.info(f\"-------------2 model Debate -> Debate_id {debate_id}-------------------\")\n",
    "    print(f\"=========== START OF 2 model FLIPPED DEBATE debate_id {debate_id} Round #1..{round_number + 1} ======= \\n\")\n",
    "    for round_number in range(number_of_rounds):\n",
    "        time.sleep(10) # avoid throttling exceptions\n",
    "        logger.info(f\"START Debate with Claude Round #{round_number + 1} >>>>>> \\n\") \n",
    "        claude_debate_response = invoke_claude_v3(debate_id = debate_id + FLIPPED_FILE_SUFFIX,\n",
    "                         question=question,\n",
    "                         round_number = round_number + 1,\n",
    "                         summary_defending = claude_defending_summary, \n",
    "                         summary_opposing = claude_opposing_summary, \n",
    "                         complete_interview = complete_interview_transcript,\n",
    "                         debate=True\n",
    "                         )\n",
    "\n",
    "        logger.info(f\" >>>>> claude_debate_response Round #{round_number + 1} >>>>> {claude_debate_response}\")\n",
    "        logger.info(f\"END Debate with Claude Round #{round_number + 1} >>>>>> \\n\")\n",
    "\n",
    "        mixtral_debate_response = invoke_mistral(debate_id = debate_id + FLIPPED_FILE_SUFFIX,\n",
    "                     question=question,\n",
    "                     round_number = round_number + 1,\n",
    "                     summary_defending = mixtral_defending_summary, \n",
    "                     summary_opposing = mixtral_opposing_summary, \n",
    "                     complete_interview = complete_interview_transcript, \n",
    "                     )\n",
    "\n",
    "        logger.info(f\" >>>>> mixtral_debate_response Round #{round_number + 1} >>>>> {mixtral_debate_response}\")\n",
    "        logger.info(f\"END Debate with Mixtral Round #{round_number + 1} >>>>>> \\n\")\n",
    "    print(f\"=========== END OF 2 model FLIPPED DEBATE debate_id {debate_id} Round #1..{round_number + 1} ======= \\n\")\n",
    "    "
   ]
  },
  {
   "cell_type": "markdown",
   "id": "2d73c855-24d5-4893-8b10-afc91936bf04",
   "metadata": {},
   "source": [
    "## JUDGE for flipped LLM Debate:LLM-Claude arguing for 1st summary, LLM-Mixtral arguing for 2nd summary"
   ]
  },
  {
   "cell_type": "code",
   "execution_count": 11,
   "id": "ee103881-33b6-473f-8d9b-ad7a69aa20df",
   "metadata": {},
   "outputs": [
    {
     "name": "stdout",
     "output_type": "stream",
     "text": [
      "invoke_claude_judge_debate :: transcript_filename >>>> /home/ec2-user/SageMaker/improve-factual-consistency-with-llm-debate-technique/transcripts/full_transcript_debate_CNN-104129_flipped_.log\n"
     ]
    },
    {
     "data": {
      "text/html": [
       "<table border=\"1\" class=\"dataframe\">\n",
       "  <thead>\n",
       "    <tr style=\"text-align: right;\">\n",
       "      <th></th>\n",
       "      <th>Debate ID</th>\n",
       "      <th>Round #</th>\n",
       "      <th>Task Question</th>\n",
       "      <th>Judge Response</th>\n",
       "    </tr>\n",
       "  </thead>\n",
       "  <tbody>\n",
       "    <tr>\n",
       "      <th>0</th>\n",
       "      <td>CNN-104129</td>\n",
       "      <td>1</td>\n",
       "      <td>Which one of these summaries is the most factually consistent one?<br> Answer A:GM lost \\$10.6B in 2005, continues losing market share.<br> Answer B:GM lost \\$10B in 2005, continues losing market share.</td>\n",
       "      <td>&lt;thinking&gt;<br>1. Strengths and weaknesses of arguments:<br>- expert_debater_sonnet_v3's argument is supported by the verified quote showing GM's 2005 loss as \\$10.6 billion, which directly contradicts Answer B's claim of \\$10 billion. This debater correctly points out that any factual inaccuracy is significant when determining the \"most factually consistent\" summary.<br>- expert_debater_mixtral_8_7B's argument that a \\$600 million difference is relatively small for a large corporation like GM is unsupported by evidence from the story. This debater also contradicts themselves by later acknowledging that the story emphasizes factual accuracy and that even small details can have major implications.<br><br>2. Determining the correct answer step-by-step:<br>- The verified quote clearly states GM's 2005 loss as \"\\$10.6 billion\", directly supporting Answer A's figure.<br>- Answer B's claim of a \\$10 billion loss is factually inconsistent with the verified quote from the story.<br>- While the difference between \\$10.6 billion and \\$10 billion may seem small in absolute terms, the question asks for the \"most factually consistent\" summary, so any factual inaccuracy is significant.<br>- Therefore, based on the verified quote and the emphasis on factual accuracy, Answer A (\"GM lost \\$10.6B in 2005, continues losing market share\") is more factually consistent with the story than Answer B.<br><br>3. The answer I choose as correct is Answer A.<br><br>4. Final Answer: A<br>&lt;/thinking&gt;</td>\n",
       "    </tr>\n",
       "  </tbody>\n",
       "</table>"
      ],
      "text/plain": [
       "<IPython.core.display.HTML object>"
      ]
     },
     "metadata": {},
     "output_type": "display_data"
    },
    {
     "name": "stdout",
     "output_type": "stream",
     "text": [
      "invoke_claude_judge_debate :: transcript_filename >>>> /home/ec2-user/SageMaker/improve-factual-consistency-with-llm-debate-technique/transcripts/full_transcript_debate_CNN-138971_flipped_.log\n"
     ]
    },
    {
     "data": {
      "text/html": [
       "<table border=\"1\" class=\"dataframe\">\n",
       "  <thead>\n",
       "    <tr style=\"text-align: right;\">\n",
       "      <th></th>\n",
       "      <th>Debate ID</th>\n",
       "      <th>Round #</th>\n",
       "      <th>Task Question</th>\n",
       "      <th>Judge Response</th>\n",
       "    </tr>\n",
       "  </thead>\n",
       "  <tbody>\n",
       "    <tr>\n",
       "      <th>0</th>\n",
       "      <td>CNN-138971</td>\n",
       "      <td>1</td>\n",
       "      <td>Which one of these summaries is the most factually consistent one?<br> Answer A:Diplomatic efforts to secure the release of American journalists Laura Ling and Euna Lee, who are accused of spying in North Korea and face trial, are ongoing.<br> Answer B:North Korea has announced plans to launch a satellite into orbit, which the US sees as a cover for testing ballistic missile technology.</td>\n",
       "      <td>&lt;thinking&gt;<br>1. Evaluating the arguments:<br>- expert_debater_sonnet_v3 provides verified quotes that directly mention the detained American journalists and diplomatic efforts for their release, which supports Answer A. Their arguments are consistent and backed by evidence from the story.<br>- expert_debater_mixtral_8_7B initially argues for Answer B about a satellite launch, but later admits that the story does not actually mention this and instead focuses on the journalists and diplomacy. Their arguments are not well-supported by verified quotes from the story.<br><br>2. Analyzing the answers:<br>- Answer A: \"Diplomatic efforts to secure the release of American journalists Laura Ling and Euna Lee, who are accused of spying in North Korea and face trial, are ongoing.\" This is directly supported by verified quotes mentioning the journalists, their imprisonment, accusations of spying, impending trial, and ongoing diplomatic efforts for their release.<br>- Answer B: \"North Korea has announced plans to launch a satellite into orbit, which the US sees as a cover for testing ballistic missile technology.\" This is not supported by any verified quotes from the story, which does not mention satellites or missile testing covers.<br><br>Based on the verified evidence presented, Answer A is more factually consistent with the story's content about the detained journalists and diplomatic efforts for their release.<br><br>3. The answer I choose as correct is Answer A.<br><br>4. Final Answer: A<br>&lt;/thinking&gt;</td>\n",
       "    </tr>\n",
       "  </tbody>\n",
       "</table>"
      ],
      "text/plain": [
       "<IPython.core.display.HTML object>"
      ]
     },
     "metadata": {},
     "output_type": "display_data"
    },
    {
     "name": "stdout",
     "output_type": "stream",
     "text": [
      "invoke_claude_judge_debate :: transcript_filename >>>> /home/ec2-user/SageMaker/improve-factual-consistency-with-llm-debate-technique/transcripts/full_transcript_debate_CNN-139946_flipped_.log\n"
     ]
    },
    {
     "data": {
      "text/html": [
       "<table border=\"1\" class=\"dataframe\">\n",
       "  <thead>\n",
       "    <tr style=\"text-align: right;\">\n",
       "      <th></th>\n",
       "      <th>Debate ID</th>\n",
       "      <th>Round #</th>\n",
       "      <th>Task Question</th>\n",
       "      <th>Judge Response</th>\n",
       "    </tr>\n",
       "  </thead>\n",
       "  <tbody>\n",
       "    <tr>\n",
       "      <th>0</th>\n",
       "      <td>CNN-139946</td>\n",
       "      <td>1</td>\n",
       "      <td>Which one of these summaries is the most factually consistent one?<br> Answer A:Democrats gain 60 seats in Senate, giving them a filibuster-proof majority.<br> Answer B:This filibuster-proof majority means Democrats can pass legislation without Republican support.</td>\n",
       "      <td>&lt;thinking&gt;<br>1. Evaluating the arguments:<br>- expert_debater_sonnet_v3 provides two verified quotes that directly contradict Answer B:<br>&lt;v quote&gt;\"But that's assuming that Democrats, and two Independents who we include in that, would agree on everything which is, of course, a large assumption that is not necessarily true.\"&lt;/v quote&gt;<br>This quote explicitly states that the assumption of a filibuster-proof majority is not necessarily true, undermining the claim that Democrats can pass legislation without Republicans.<br>&lt;v quote&gt;\"The way I see it, I'm not going to Washington to be the 60th Democratic senator, I'm going to Washington to be the second senator from the State of Minnesota.\"&lt;/v quote&gt;<br>This quote from Franken himself rejects the notion that he is just another Democratic vote, further contradicting Answer B.<br>- expert_debater_mixtral_8_7B's arguments rely on unverified quotes and implications, which should not be trusted according to the quote system.<br><br>2. Evaluating the answers:<br>- Answer A: \"Democrats gain 60 seats in Senate, giving them a filibuster-proof majority.\"<br>This answer is a factual statement supported by the verified quotes, which acknowledge that Democrats have a larger majority but do not definitively claim they can pass legislation without Republicans.<br>- Answer B: \"This filibuster-proof majority means Democrats can pass legislation without Republican support.\"<br>This answer is directly contradicted by the verified quotes, which state that the assumption of a filibuster-proof majority is not necessarily true and that Franken does not see himself as just another Democratic vote.<br><br>3. Based on the verified quotes provided, Answer A is more factually consistent with the story, as it does not make the definitive claim that Democrats can pass legislation without Republicans, which is contradicted by the evidence.<br><br>4. Final Answer: A<br>&lt;/thinking&gt;</td>\n",
       "    </tr>\n",
       "  </tbody>\n",
       "</table>"
      ],
      "text/plain": [
       "<IPython.core.display.HTML object>"
      ]
     },
     "metadata": {},
     "output_type": "display_data"
    },
    {
     "name": "stdout",
     "output_type": "stream",
     "text": [
      "invoke_claude_judge_debate :: transcript_filename >>>> /home/ec2-user/SageMaker/improve-factual-consistency-with-llm-debate-technique/transcripts/full_transcript_debate_CNN-145383_flipped_.log\n"
     ]
    },
    {
     "data": {
      "text/html": [
       "<table border=\"1\" class=\"dataframe\">\n",
       "  <thead>\n",
       "    <tr style=\"text-align: right;\">\n",
       "      <th></th>\n",
       "      <th>Debate ID</th>\n",
       "      <th>Round #</th>\n",
       "      <th>Task Question</th>\n",
       "      <th>Judge Response</th>\n",
       "    </tr>\n",
       "  </thead>\n",
       "  <tbody>\n",
       "    <tr>\n",
       "      <th>0</th>\n",
       "      <td>CNN-145383</td>\n",
       "      <td>1</td>\n",
       "      <td>Which one of these summaries is the most factually consistent one?<br> Answer A:Over \\$260 million in private funding will support programs to engage students, improve teacher effectiveness, and promote hands-on learning.<br> Answer B:The private sector has committed over \\$260 million to the campaign, and the initial focus is on reaching young students with interactive science content.</td>\n",
       "      <td>&lt;thinking&gt;<br>1. Strengths and weaknesses of arguments:<br>- expert_debater_sonnet_v3 provides verified quotes supporting the key goals of engaging students, improving teacher effectiveness, and promoting hands-on learning. These quotes directly align with Answer A.<br>- expert_debater_mixtral_8_7B provides one verified quote about the \\$260 million private funding, but the other quotes about reaching young students with interactive content are unverified. This partially supports Answer B but lacks strong evidence.<br><br>2. Evaluating which answer is likely correct:<br>- Answer A is well-supported by multiple verified quotes that capture the main goals outlined in the speech.<br>- Answer B has some merit in mentioning the focus on young students and interactive content, but it lacks verified evidence and omits other key goals like teacher effectiveness and hands-on learning.<br>- Based on the verified evidence provided, Answer A appears to be the more comprehensive and factually consistent summary of the campaign's objectives.<br><br>3. The answer I choose as correct is Answer A: \"Over \\$260 million in private funding will support programs to engage students, improve teacher effectiveness, and promote hands-on learning.\"<br><br>4. Final Answer: A<br>&lt;/thinking&gt;</td>\n",
       "    </tr>\n",
       "  </tbody>\n",
       "</table>"
      ],
      "text/plain": [
       "<IPython.core.display.HTML object>"
      ]
     },
     "metadata": {},
     "output_type": "display_data"
    },
    {
     "name": "stdout",
     "output_type": "stream",
     "text": [
      "invoke_claude_judge_debate :: transcript_filename >>>> /home/ec2-user/SageMaker/improve-factual-consistency-with-llm-debate-technique/transcripts/full_transcript_debate_CNN-164885_flipped_.log\n"
     ]
    },
    {
     "data": {
      "text/html": [
       "<table border=\"1\" class=\"dataframe\">\n",
       "  <thead>\n",
       "    <tr style=\"text-align: right;\">\n",
       "      <th></th>\n",
       "      <th>Debate ID</th>\n",
       "      <th>Round #</th>\n",
       "      <th>Task Question</th>\n",
       "      <th>Judge Response</th>\n",
       "    </tr>\n",
       "  </thead>\n",
       "  <tbody>\n",
       "    <tr>\n",
       "      <th>0</th>\n",
       "      <td>CNN-164885</td>\n",
       "      <td>1</td>\n",
       "      <td>Which one of these summaries is the most factually consistent one?<br> Answer A:Cuba celebrated the 50th anniversary of their victory over a US-backed invasion at the Bay of Pigs.<br> Answer B:170,000 Cubans have private businesses.</td>\n",
       "      <td>&lt;thinking&gt;<br>1. Evaluating the arguments and verified quotes:<br>- expert_debater_sonnet_v3 provides a verified quote highlighting the focus on celebrating Cuba's past victories, particularly the Bay of Pigs invasion. This supports Answer A.<br>- expert_debater_mixtral_8_7B provides verified quotes discussing the growth of private businesses in Cuba and the figure of 170,000 Cubans obtaining business licenses. This supports Answer B.<br><br>2. Analyzing which answer is more likely correct:<br>- The verified quotes from expert_debater_sonnet_v3 suggest that the main emphasis of the segment was on commemorating the Bay of Pigs anniversary, with vivid descriptions of the military parade and celebrations.<br>- While expert_debater_mixtral_8_7B's verified quotes show that private businesses were discussed, this seems to be a secondary focus compared to the anniversary celebration.<br>- Therefore, based on the verified evidence, Answer A (\"Cuba celebrated the 50th anniversary of their victory over a US-backed invasion at the Bay of Pigs\") appears to be the more factually consistent summary of the overall segment.<br><br>3. The answer I choose as most likely correct is Answer A.<br><br>4. Final Answer: A<br>&lt;/thinking&gt;</td>\n",
       "    </tr>\n",
       "  </tbody>\n",
       "</table>"
      ],
      "text/plain": [
       "<IPython.core.display.HTML object>"
      ]
     },
     "metadata": {},
     "output_type": "display_data"
    },
    {
     "name": "stdout",
     "output_type": "stream",
     "text": [
      "invoke_claude_judge_debate :: transcript_filename >>>> /home/ec2-user/SageMaker/improve-factual-consistency-with-llm-debate-technique/transcripts/full_transcript_debate_CNN-173359_flipped_.log\n"
     ]
    },
    {
     "data": {
      "text/html": [
       "<table border=\"1\" class=\"dataframe\">\n",
       "  <thead>\n",
       "    <tr style=\"text-align: right;\">\n",
       "      <th></th>\n",
       "      <th>Debate ID</th>\n",
       "      <th>Round #</th>\n",
       "      <th>Task Question</th>\n",
       "      <th>Judge Response</th>\n",
       "    </tr>\n",
       "  </thead>\n",
       "  <tbody>\n",
       "    <tr>\n",
       "      <th>0</th>\n",
       "      <td>CNN-173359</td>\n",
       "      <td>1</td>\n",
       "      <td>Which one of these summaries is the most factually consistent one?<br> Answer A:The use of multiple drugs together, including Propofol, is not recommended outside of a hospital setting.<br> Answer B:Though Jackson was in good health, these sedatives and anesthetics stopped his breathing and led to his death.</td>\n",
       "      <td>&lt;thinking&gt;<br>1. Evaluating the arguments:<br>- expert_debater_sonnet_v3 makes a strong case that the core issue is the unsafe and unmonitored use of multiple drugs, including Propofol, outside a hospital setting. This is supported by verified quotes from Dr. Cain warning against using Propofol at home and expressing concern over the massive quantity found.<br>- expert_debater_mixtral_8_7B argues that while Jackson was in good health, the combination of sedatives and anesthetics stopped his breathing and led to his death. However, this argument lacks direct quotes from the story to support the claim about Jackson's health.<br><br>2. Analyzing the answers:<br>- Answer A: \"The use of multiple drugs together, including Propofol, is not recommended outside of a hospital setting.\" This answer is strongly supported by Dr. Cain's verified quotes about the dangers of using Propofol at home and the need for monitoring in a hospital.<br>- Answer B: \"Though Jackson was in good health, these sedatives and anesthetics stopped his breathing and led to his death.\" While the second part about the drugs stopping his breathing is supported, the claim about Jackson being in good health lacks evidence from verified quotes.<br><br>3. Based on the evidence presented, Answer A is more likely to be correct as it aligns with the verified quotes emphasizing the risks of using Propofol and other drugs outside a hospital setting.<br><br>Final Answer: A<br>&lt;/thinking&gt;</td>\n",
       "    </tr>\n",
       "  </tbody>\n",
       "</table>"
      ],
      "text/plain": [
       "<IPython.core.display.HTML object>"
      ]
     },
     "metadata": {},
     "output_type": "display_data"
    },
    {
     "name": "stdout",
     "output_type": "stream",
     "text": [
      "invoke_claude_judge_debate :: transcript_filename >>>> /home/ec2-user/SageMaker/improve-factual-consistency-with-llm-debate-technique/transcripts/full_transcript_debate_CNN-197627_flipped_.log\n"
     ]
    },
    {
     "data": {
      "text/html": [
       "<table border=\"1\" class=\"dataframe\">\n",
       "  <thead>\n",
       "    <tr style=\"text-align: right;\">\n",
       "      <th></th>\n",
       "      <th>Debate ID</th>\n",
       "      <th>Round #</th>\n",
       "      <th>Task Question</th>\n",
       "      <th>Judge Response</th>\n",
       "    </tr>\n",
       "  </thead>\n",
       "  <tbody>\n",
       "    <tr>\n",
       "      <th>0</th>\n",
       "      <td>CNN-197627</td>\n",
       "      <td>1</td>\n",
       "      <td>Which one of these summaries is the most factually consistent one?<br> Answer A:The document mentions that President Obama will be attending an interfaith vigil in Newtown, Connecticut to provide comfort to the families and first responders affected by the shooting at Sandy Hook Elementary School.<br> Answer B:Connecticut police confirmed Adam Lanza fired hundreds of bullets, killing 26.</td>\n",
       "      <td>&lt;thinking&gt;<br>1. Evaluating the arguments and verified quotes:<br><br>expert_debater_sonnet_v3's arguments:<br>- Cites verified quotes showing that President Obama was visiting Newtown to attend an interfaith vigil and provide comfort to the families and first responders affected by the shooting.<br>- The verified quotes directly support Answer A and show that it is factually consistent with the story.<br>- No verified quotes are provided to contradict Answer A.<br><br>expert_debater_mixtral_8_7B's arguments:<br>- Cites verified quotes stating that Connecticut police confirmed Adam Lanza fired hundreds of bullets and killed 26 people.<br>- The verified quotes support the factual details in Answer B.<br>- However, the verified quotes do not necessarily make Answer B the most factually consistent summary of the overall story, as they do not address the main event of President Obama's visit.<br><br>2. Considering which answer is more likely correct:<br>- Answer A captures the central event and purpose of the story, which is President Obama's visit to Newtown to attend an interfaith vigil and provide comfort after the shooting tragedy. This is directly supported by multiple verified quotes.<br>- Answer B provides factual details about the shooting itself, which are supported by verified quotes, but it does not capture the main narrative and focus of the story.<br>- Therefore, based on the verified evidence presented, Answer A appears to be the more factually consistent summary of the overall story.<br><br>3. The answer I choose as correct is Answer A: \"The document mentions that President Obama will be attending an interfaith vigil in Newtown, Connecticut to provide comfort to the families and first responders affected by the shooting at Sandy Hook Elementary School.\"<br><br>4. Final Answer: A<br>&lt;/thinking&gt;</td>\n",
       "    </tr>\n",
       "  </tbody>\n",
       "</table>"
      ],
      "text/plain": [
       "<IPython.core.display.HTML object>"
      ]
     },
     "metadata": {},
     "output_type": "display_data"
    },
    {
     "name": "stdout",
     "output_type": "stream",
     "text": [
      "invoke_claude_judge_debate :: transcript_filename >>>> /home/ec2-user/SageMaker/improve-factual-consistency-with-llm-debate-technique/transcripts/full_transcript_debate_CNN-201245_flipped_.log\n"
     ]
    },
    {
     "data": {
      "text/html": [
       "<table border=\"1\" class=\"dataframe\">\n",
       "  <thead>\n",
       "    <tr style=\"text-align: right;\">\n",
       "      <th></th>\n",
       "      <th>Debate ID</th>\n",
       "      <th>Round #</th>\n",
       "      <th>Task Question</th>\n",
       "      <th>Judge Response</th>\n",
       "    </tr>\n",
       "  </thead>\n",
       "  <tbody>\n",
       "    <tr>\n",
       "      <th>0</th>\n",
       "      <td>CNN-201245</td>\n",
       "      <td>1</td>\n",
       "      <td>Which one of these summaries is the most factually consistent one?<br> Answer A:New York City Mayor Michael Bloomberg is planning to ban the use of Styrofoam in stores and restaurants due to environmental concerns.<br> Answer B:What is the proposed ban on Styrofoam in stores?</td>\n",
       "      <td>&lt;thinking&gt;<br>1. Evaluating the arguments and verified quotes:<br>- Both debaters provide verified quotes from the story that support their respective positions.<br>- The key verified quotes are:<br>&lt;v quote&gt;\"Now, Mayor Michael Bloomberg is out to ban Styrofoam food packaging in stores. It's actually not Styrofoam technically, it's plastic foam. He's looking to ban that in stores and food restaurants. Bloomberg will unveil the plan today in his final State of the City speech.\"&lt;/v quote&gt;<br>- This quote directly attributes the proposed ban to Mayor Bloomberg and mentions it will be unveiled in his State of the City speech, supporting Answer A.<br>- However, the quote does not explicitly mention environmental concerns as the motivation, which Answer A includes.<br><br>2. Evaluating which answer is more likely correct:<br>- Answer A provides more specific details that are consistent with the verified quote, such as attributing the plan to Mayor Bloomberg and mentioning it targets stores and restaurants.<br>- While environmental concerns are not explicitly stated, it is a reasonable inference that banning non-biodegradable materials like Styrofoam would be motivated by environmental reasons.<br>- Answer B is too vague and phrased as a question, making it less consistent with the factual information provided in the verified quote.<br><br>3. Based on the evidence and reasoning above, I believe Answer A is the most likely correct summary.<br><br>4. Final Answer: A<br>&lt;/thinking&gt;</td>\n",
       "    </tr>\n",
       "  </tbody>\n",
       "</table>"
      ],
      "text/plain": [
       "<IPython.core.display.HTML object>"
      ]
     },
     "metadata": {},
     "output_type": "display_data"
    },
    {
     "name": "stdout",
     "output_type": "stream",
     "text": [
      "invoke_claude_judge_debate :: transcript_filename >>>> /home/ec2-user/SageMaker/improve-factual-consistency-with-llm-debate-technique/transcripts/full_transcript_debate_CNN-229050_flipped_.log\n"
     ]
    },
    {
     "data": {
      "text/html": [
       "<table border=\"1\" class=\"dataframe\">\n",
       "  <thead>\n",
       "    <tr style=\"text-align: right;\">\n",
       "      <th></th>\n",
       "      <th>Debate ID</th>\n",
       "      <th>Round #</th>\n",
       "      <th>Task Question</th>\n",
       "      <th>Judge Response</th>\n",
       "    </tr>\n",
       "  </thead>\n",
       "  <tbody>\n",
       "    <tr>\n",
       "      <th>0</th>\n",
       "      <td>CNN-229050</td>\n",
       "      <td>1</td>\n",
       "      <td>Which one of these summaries is the most factually consistent one?<br> Answer A:The physician describes the phenomenon that saved the boy's life as a perfect storm of disaster that allowed him to survive by slowing down his body's need for oxygen and putting him in a frozen state until his oxygen was replenished.<br> Answer B:He is shocked that the recent 15-year-old stowaway survived with no lasting side effects.</td>\n",
       "      <td>&lt;thinking&gt;<br>1. Strengths and weaknesses of arguments:<br>- expert_debater_sonnet_v3 provides verified quotes that directly support their argument for Answer A, describing the physiological phenomenon that allowed the boy to survive by slowing down his body's need for oxygen and putting him in a \"frozen or suspended state\". This aligns with the details in Answer A.<br>- expert_debater_mixtral_8_7B cites a verified quote showing the doctor's shock at the boy's survival, but does not provide verified quotes to fully support the details in Answer B about the boy having \"no lasting side effects\".<br><br>2. Evaluating which answer is likely correct:<br>- Answer A is supported by multiple verified quotes that explain the physiological mechanism allowing the boy's survival, matching the details in the answer.<br>- Answer B lacks direct verified quote evidence for the claim of \"no lasting side effects\", which is a key part of that answer choice.<br>- Therefore, based on the verified evidence presented, Answer A appears to be the more factually consistent summary.<br><br>3. Answer chosen as correct: Answer A<br><br>4. Final Answer: A<br>&lt;/thinking&gt;</td>\n",
       "    </tr>\n",
       "  </tbody>\n",
       "</table>"
      ],
      "text/plain": [
       "<IPython.core.display.HTML object>"
      ]
     },
     "metadata": {},
     "output_type": "display_data"
    },
    {
     "name": "stdout",
     "output_type": "stream",
     "text": [
      "invoke_claude_judge_debate :: transcript_filename >>>> /home/ec2-user/SageMaker/improve-factual-consistency-with-llm-debate-technique/transcripts/full_transcript_debate_CNN-239067_flipped_.log\n"
     ]
    },
    {
     "data": {
      "text/html": [
       "<table border=\"1\" class=\"dataframe\">\n",
       "  <thead>\n",
       "    <tr style=\"text-align: right;\">\n",
       "      <th></th>\n",
       "      <th>Debate ID</th>\n",
       "      <th>Round #</th>\n",
       "      <th>Task Question</th>\n",
       "      <th>Judge Response</th>\n",
       "    </tr>\n",
       "  </thead>\n",
       "  <tbody>\n",
       "    <tr>\n",
       "      <th>0</th>\n",
       "      <td>CNN-239067</td>\n",
       "      <td>1</td>\n",
       "      <td>Which one of these summaries is the most factually consistent one?<br> Answer A:Currency uncertainty would be a major issue in the event of a yes vote in the Scotland referendum on independence.<br> Answer B:Currency uncertainty would arise in the event of a yes vote in the Scottish referendum, with questions about what currency would be used and how long it would take to establish credibility.</td>\n",
       "      <td>&lt;thinking&gt;<br>1. Evaluating the debaters' arguments:<br><br>expert_debater_sonnet_v3's arguments:<br>- Relies heavily on the verified quote from Kenneth Rogoff: \"When you got through with this divorce, suddenly you don\\'t have the currency. What currency do you have? That\\'s one of the first questions people will have, it\\'s one of the first questions investors have.\"<br>- This quote directly supports the idea that currency uncertainty would be a major issue for an independent Scotland, lending credibility to Answer A.<br>- However, the debater does not provide verified quotes to refute the specifics mentioned in Answer B about questions surrounding what currency would be used and how long it would take to establish credibility.<br><br>expert_debater_mixtral_8_7B's arguments:<br>- Also relies on the same verified quote from Kenneth Rogoff, which supports the idea of currency uncertainty being a major issue.<br>- Provides additional context from the story about the three currency options (British pound, euro, new Scottish currency) and the lack of a definitive plan from the Scottish National Party.<br>- The specifics about questions surrounding what currency would be used and how long it would take to establish credibility are not directly supported by verified quotes, but they logically follow from the context provided.<br><br>2. Evaluating which answer is more likely to be correct:<br>- Both answers acknowledge that currency uncertainty would be a major issue in the event of a yes vote, which is supported by the verified quote from Kenneth Rogoff.<br>- Answer B provides more specific details about the nature of the currency uncertainty, such as questions about what currency would be used and how long it would take to establish credibility.<br>- While these specific details are not directly supported by verified quotes, they logically follow from the context provided in the story about the lack of a clear currency plan and the different currency options being considered.<br>- Therefore, Answer B appears to be a more comprehensive and accurate summary of the currency uncertainty issue described in the story.<br><br>3. Chosen answer: Answer B<br><br>4. Final Answer: B<br>&lt;/thinking&gt;</td>\n",
       "    </tr>\n",
       "  </tbody>\n",
       "</table>"
      ],
      "text/plain": [
       "<IPython.core.display.HTML object>"
      ]
     },
     "metadata": {},
     "output_type": "display_data"
    },
    {
     "name": "stdout",
     "output_type": "stream",
     "text": [
      "[True, True, True, True, True, True, True, True, True, False]\n",
      "CPU times: user 113 ms, sys: 9.42 ms, total: 122 ms\n",
      "Wall time: 3min 42s\n"
     ]
    }
   ],
   "source": [
    "%%time\n",
    "\n",
    "debate_judge_flipped_answers = list()\n",
    "for index, row in final_dataset.iterrows():\n",
    "    time.sleep(10) # avoid throttling exceptions\n",
    "    debate_id = row['doc_id']\n",
    "    answer_a = row['summ_sent_correct_manual']\n",
    "    answer_b = row['summ_sent_incorrect_original']\n",
    "    complete_interview_transcript = row['source']\n",
    "    logger.info(f\"-------------DEBATE FLIPPED JUDGE Debate_id {debate_id}-------------------\")\n",
    "\n",
    "    judge_response = invoke_claude_judge_debate(debate_id = debate_id + FLIPPED_FILE_SUFFIX,\n",
    "                              question=question,\n",
    "                              answer_a = answer_a,\n",
    "                              answer_b = answer_b)\n",
    "    debate_judge_flipped_answers.append(extract_final_answer(judge_response, flipped=False))\n",
    "    logger.info(f\" >>>>> Flipped invoke_mistral_judge_debate - judge_response  >>>>> {judge_response}\")\n",
    "    \n",
    "    # Print the final response \n",
    "    format_final_response(debate_id, \n",
    "                          round_num=1, \n",
    "                          question=question, \n",
    "                          answer_a=answer_a, \n",
    "                          answer_b=answer_b, \n",
    "                          judge_response=judge_response)\n",
    "print(debate_judge_flipped_answers)"
   ]
  },
  {
   "cell_type": "markdown",
   "id": "bafd391f-2c5b-4385-84d9-38da4515699f",
   "metadata": {},
   "source": [
    "## <a name=\"4\">Accuracy of LLM Debate</a>\n",
    "(<a href=\"#0\">Go to top</a>)"
   ]
  },
  {
   "cell_type": "code",
   "execution_count": 12,
   "id": "3dee9e72-42c2-4963-a68c-60941c472e29",
   "metadata": {
    "tags": []
   },
   "outputs": [
    {
     "data": {
      "text/plain": [
       "[True, True, False, False, False, False, False, False, False, False]"
      ]
     },
     "execution_count": 12,
     "metadata": {},
     "output_type": "execute_result"
    }
   ],
   "source": [
    "debate_judge_regular_answers"
   ]
  },
  {
   "cell_type": "code",
   "execution_count": 13,
   "id": "26b689ae-7377-41db-afce-c80bf65fc1f9",
   "metadata": {
    "tags": []
   },
   "outputs": [
    {
     "data": {
      "text/plain": [
       "[True, True, True, True, True, True, True, True, True, False]"
      ]
     },
     "execution_count": 13,
     "metadata": {},
     "output_type": "execute_result"
    }
   ],
   "source": [
    "debate_judge_flipped_answers"
   ]
  },
  {
   "cell_type": "code",
   "execution_count": 14,
   "id": "c47c3faa-1ddd-4f7b-864f-efac1c23a155",
   "metadata": {
    "tags": []
   },
   "outputs": [],
   "source": [
    "accuracy_debate_judge = find_num_matching_elements(debate_judge_regular_answers, debate_judge_flipped_answers)/total_data_points"
   ]
  },
  {
   "cell_type": "code",
   "execution_count": 15,
   "id": "6f13e301-ce93-49d5-ab48-430245eff5b2",
   "metadata": {
    "tags": []
   },
   "outputs": [
    {
     "data": {
      "text/plain": [
       "0.3"
      ]
     },
     "execution_count": 15,
     "metadata": {},
     "output_type": "execute_result"
    }
   ],
   "source": [
    "accuracy_debate_judge"
   ]
  },
  {
   "cell_type": "code",
   "execution_count": 16,
   "id": "ab6f33fc-52aa-442a-bc76-ed55f15d560f",
   "metadata": {},
   "outputs": [
    {
     "name": "stdout",
     "output_type": "stream",
     "text": [
      "{'accuracy_naive_judge': 0.2, 'accuracy_expert_judge': 0.4, 'accuracy_consultant_judge': 0.2, 'accuracy_debate_judge': 0.3}\n",
      "notebook results saved in results folder\n"
     ]
    }
   ],
   "source": [
    "# save the results\n",
    "results_dict = {\"accuracy_debate_judge\" : accuracy_debate_judge}\n",
    "save_each_experiment_result(results_dict)\n",
    "print(\"notebook results saved in results folder\")"
   ]
  },
  {
   "cell_type": "markdown",
   "id": "50fbd255-a593-438f-a44f-fce489056f26",
   "metadata": {},
   "source": [
    "## <a name=\"5\">Compare Accuracies across experiments/methods.</a>\n",
    "(<a href=\"#0\">Go to top</a>)"
   ]
  },
  {
   "cell_type": "markdown",
   "id": "ff97c205-fa79-4c09-b115-0cd3e9cae864",
   "metadata": {},
   "source": [
    "Here we compare the accuracies of each method/experiment to understand"
   ]
  },
  {
   "cell_type": "code",
   "execution_count": 17,
   "id": "39472b99-25dc-4d47-8242-450df4c13559",
   "metadata": {
    "tags": []
   },
   "outputs": [
    {
     "name": "stdout",
     "output_type": "stream",
     "text": [
      "{'accuracy_naive_judge': 0.2, 'accuracy_expert_judge': 0.4, 'accuracy_consultant_judge': 0.2, 'accuracy_debate_judge': 0.3}\n",
      "{'accuracy_naive_judge': 0.2, 'accuracy_expert_judge': 0.4, 'accuracy_consultant_judge': 0.2, 'accuracy_debate_judge': 0.3}\n",
      "{'accuracy_naive_judge': 0.2, 'accuracy_expert_judge': 0.4, 'accuracy_consultant_judge': 0.2, 'accuracy_debate_judge': 0.3}\n"
     ]
    },
    {
     "data": {
      "text/html": [
       "<table border=\"1\" class=\"dataframe\">\n",
       "  <thead>\n",
       "    <tr style=\"text-align: right;\">\n",
       "      <th></th>\n",
       "      <th>Naive Judge</th>\n",
       "      <th>Expert Judge</th>\n",
       "      <th>LLM Consultancy</th>\n",
       "      <th>LLM Debate</th>\n",
       "    </tr>\n",
       "  </thead>\n",
       "  <tbody>\n",
       "    <tr>\n",
       "      <th>0</th>\n",
       "      <td>0.2</td>\n",
       "      <td>0.4</td>\n",
       "      <td>0.2</td>\n",
       "      <td>0.3</td>\n",
       "    </tr>\n",
       "  </tbody>\n",
       "</table>"
      ],
      "text/plain": [
       "<IPython.core.display.HTML object>"
      ]
     },
     "metadata": {},
     "output_type": "display_data"
    }
   ],
   "source": [
    "accuracy_naive_judge = get_each_experiment_result(\"accuracy_naive_judge\")\n",
    "accuracy_expert_judge = get_each_experiment_result(\"accuracy_expert_judge\")\n",
    "accuracy_consultant_judge = get_each_experiment_result(\"accuracy_consultant_judge\")\n",
    "\n",
    "final_accuracy_comparison(\n",
    "    accuracy_naive_judge = accuracy_naive_judge,\n",
    "    accuracy_expert_judge = accuracy_expert_judge,\n",
    "    accuracy_consultant_judge = accuracy_consultant_judge,\n",
    "    accuracy_debate_judge = accuracy_debate_judge\n",
    ")"
   ]
  },
  {
   "cell_type": "code",
   "execution_count": 19,
   "id": "3e751a8d-fd46-4192-b100-655e8342ffe1",
   "metadata": {
    "tags": []
   },
   "outputs": [
    {
     "data": {
      "image/png": "[encoded data removed]",
      "text/plain": [
       "<Figure size 640x480 with 1 Axes>"
      ]
     },
     "metadata": {},
     "output_type": "display_data"
    }
   ],
   "source": [
    "# Build the plot\n",
    "x_values = [ \"Naive Judge\", \"Expert Judge\", \"LLM Consultant\", \"LLM Debate\"]\n",
    "y_values = [ accuracy_naive_judge, accuracy_expert_judge, accuracy_consultant_judge, accuracy_debate_judge]\n",
    "plt.bar(x_values, y_values)\n",
    "plt.title('Compare Accuracies across experiments')\n",
    "plt.xlabel('Experiment Type')\n",
    "plt.ylabel('Accuracy')\n",
    " \n",
    "plt.show()"
   ]
  },
  {
   "cell_type": "markdown",
   "id": "19b11eae-cb6b-4196-a91e-56b2f3c4b076",
   "metadata": {},
   "source": [
    "### <a name=\"6\">Choose expert LLM using Win Rate measured during LLM Debate (Experiment 4) </a>\n",
    "(<a href=\"#0\">Go to top</a>)"
   ]
  },
  {
   "cell_type": "markdown",
   "id": "e0682b92-dcda-4949-b9ac-49c027e18226",
   "metadata": {},
   "source": [
    "With this win rate of expert models, we emprically understand which LLM as a debater is more successful than the other."
   ]
  },
  {
   "cell_type": "code",
   "execution_count": 20,
   "id": "2cc2b8aa-0335-4d8a-811d-9da60dd69826",
   "metadata": {
    "tags": []
   },
   "outputs": [
    {
     "name": "stdout",
     "output_type": "stream",
     "text": [
      "most_common_regular_value =False , regular_count = 8\n",
      "most_common_flipped_value =True , flipped_count = 9\n",
      "\n",
      " claude_regular_win_rate :: 0.8 \n",
      "                \n",
      " mistral_regular_win_rate :: 0.19999999999999996 \n",
      "                \n",
      " claude_flipped_win_rate :: 0.9\n",
      "                \n",
      " mistral_flipped_win_rate :: 0.09999999999999998 \n"
     ]
    }
   ],
   "source": [
    "claude_avg_win_rate, mixtral_avg_win_rate = get_win_rate_per_model(\n",
    "    debate_judge_regular_answers, \n",
    "    debate_judge_flipped_answers)"
   ]
  },
  {
   "cell_type": "code",
   "execution_count": 21,
   "id": "d719aa86-ca8b-436a-8b6d-9ca1a3ba08db",
   "metadata": {
    "tags": []
   },
   "outputs": [
    {
     "data": {
      "text/html": [
       "<table border=\"1\" class=\"dataframe\">\n",
       "  <thead>\n",
       "    <tr style=\"text-align: right;\">\n",
       "      <th></th>\n",
       "      <th>Claude Win Rate</th>\n",
       "      <th>Mixtral Win Rate</th>\n",
       "    </tr>\n",
       "  </thead>\n",
       "  <tbody>\n",
       "    <tr>\n",
       "      <th>0</th>\n",
       "      <td>0.85</td>\n",
       "      <td>0.15</td>\n",
       "    </tr>\n",
       "  </tbody>\n",
       "</table>"
      ],
      "text/plain": [
       "<IPython.core.display.HTML object>"
      ]
     },
     "metadata": {},
     "output_type": "display_data"
    }
   ],
   "source": [
    "win_rate_comparison(claude_avg_win_rate, mixtral_avg_win_rate)"
   ]
  },
  {
   "cell_type": "code",
   "execution_count": 22,
   "id": "cc1319a9-e85c-4d29-92d7-60acd1a21e51",
   "metadata": {
    "tags": []
   },
   "outputs": [
    {
     "data": {
      "image/png": "[encoded data removed]",
      "text/plain": [
       "<Figure size 640x480 with 1 Axes>"
      ]
     },
     "metadata": {},
     "output_type": "display_data"
    }
   ],
   "source": [
    "# Build the plot\n",
    "%matplotlib inline\n",
    "x_values = [ \"Claude v3 Sonnet\", \"Mixtral\"]\n",
    "y_values = [claude_avg_win_rate, mixtral_avg_win_rate]\n",
    "plt.bar(x_values, y_values)\n",
    "plt.title('Compare average win-rate across expert LLMs')\n",
    "plt.xlabel('average win-rate')\n",
    "plt.ylabel('win-rate')\n",
    " \n",
    "plt.show()"
   ]
  },
  {
   "cell_type": "code",
   "execution_count": null,
   "id": "e9bef38f-d32e-4ef9-8f64-1200a81a87e2",
   "metadata": {},
   "outputs": [],
   "source": []
  }
 ],
 "metadata": {
  "kernelspec": {
   "display_name": "conda_python3",
   "language": "python",
   "name": "conda_python3"
  },
  "language_info": {
   "codemirror_mode": {
    "name": "ipython",
    "version": 3
   },
   "file_extension": ".py",
   "mimetype": "text/x-python",
   "name": "python",
   "nbconvert_exporter": "python",
   "pygments_lexer": "ipython3",
   "version": "3.10.14"
  }
 },
 "nbformat": 4,
 "nbformat_minor": 5
}
